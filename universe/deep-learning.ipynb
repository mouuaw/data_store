{
 "nbformat": 4,
 "nbformat_minor": 2,
 "metadata": {
  "language_info": {
   "name": "python",
   "codemirror_mode": {
    "name": "ipython",
    "version": 3
   },
   "version": "3.7.3-final"
  },
  "orig_nbformat": 2,
  "file_extension": ".py",
  "mimetype": "text/x-python",
  "name": "python",
  "npconvert_exporter": "python",
  "pygments_lexer": "ipython3",
  "version": 3,
  "kernelspec": {
   "name": "python37364bitbaseconda3e8d1efd23e942ffb39a1c2f774bdc3f",
   "display_name": "Python 3.7.3 64-bit ('base': conda)"
  }
 },
 "cells": [
  {
   "cell_type": "code",
   "execution_count": 20,
   "metadata": {},
   "outputs": [],
   "source": [
    "import numpy as np\n",
    "import pandas as pd\n",
    "import math\n",
    "\n",
    "import seaborn as sns\n",
    "from sklearn.model_selection import train_test_split\n",
    "from matplotlib import pyplot as plt\n",
    "from scipy.stats import chi2_contingency\n",
    "from sklearn.preprocessing import StandardScaler\n",
    "from sklearn import preprocessing\n",
    "\n",
    "from keras.layers import BatchNormalization\n",
    "\n",
    "from keras.optimizers import Adam\n",
    "from keras.optimizers import SGD\n",
    "\n",
    "import warnings\n",
    "warnings.filterwarnings('ignore')\n",
    "\n",
    "%matplotlib inline"
   ]
  },
  {
   "cell_type": "code",
   "execution_count": 2,
   "metadata": {},
   "outputs": [],
   "source": [
    "from sklearn.ensemble import RandomForestClassifier\n",
    "rfc = RandomForestClassifier()"
   ]
  },
  {
   "cell_type": "code",
   "execution_count": 3,
   "metadata": {},
   "outputs": [],
   "source": [
    "train = pd.read_csv('./data/train.csv', index_col='id')"
   ]
  },
  {
   "cell_type": "code",
   "execution_count": 58,
   "metadata": {},
   "outputs": [
    {
     "data": {
      "text/plain": "19"
     },
     "execution_count": 58,
     "metadata": {},
     "output_type": "execute_result"
    }
   ],
   "source": [
    "len(train['type'].unique())"
   ]
  },
  {
   "cell_type": "code",
   "execution_count": 4,
   "metadata": {},
   "outputs": [],
   "source": [
    "# keras 머신러닝 분류 예제\n",
    "# https://imasoftwareengineer.tistory.com/26?category=771295\n",
    "# https://talkingaboutme.tistory.com/entry/DL-%ED%95%B4%EB%B3%B4%EB%A9%B4%EC%84%9C-%EB%B0%B0%EC%9A%B0%EB%8A%94-%EB%94%A5%EB%9F%AC%EB%8B%9D-ANN-%EA%B5%AC%ED%98%84-2\n",
    "# optimizer\n",
    "# https://sacko.tistory.com/42"
   ]
  },
  {
   "cell_type": "code",
   "execution_count": 5,
   "metadata": {},
   "outputs": [
    {
     "data": {
      "text/html": "<div>\n<style scoped>\n    .dataframe tbody tr th:only-of-type {\n        vertical-align: middle;\n    }\n\n    .dataframe tbody tr th {\n        vertical-align: top;\n    }\n\n    .dataframe thead th {\n        text-align: right;\n    }\n</style>\n<table border=\"1\" class=\"dataframe\">\n  <thead>\n    <tr style=\"text-align: right;\">\n      <th></th>\n      <th>type</th>\n      <th>fiberID</th>\n      <th>psfMag_u</th>\n      <th>psfMag_g</th>\n      <th>psfMag_r</th>\n      <th>psfMag_i</th>\n      <th>psfMag_z</th>\n      <th>fiberMag_u</th>\n      <th>fiberMag_g</th>\n      <th>fiberMag_r</th>\n      <th>...</th>\n      <th>petroMag_u</th>\n      <th>petroMag_g</th>\n      <th>petroMag_r</th>\n      <th>petroMag_i</th>\n      <th>petroMag_z</th>\n      <th>modelMag_u</th>\n      <th>modelMag_g</th>\n      <th>modelMag_r</th>\n      <th>modelMag_i</th>\n      <th>modelMag_z</th>\n    </tr>\n    <tr>\n      <th>id</th>\n      <th></th>\n      <th></th>\n      <th></th>\n      <th></th>\n      <th></th>\n      <th></th>\n      <th></th>\n      <th></th>\n      <th></th>\n      <th></th>\n      <th></th>\n      <th></th>\n      <th></th>\n      <th></th>\n      <th></th>\n      <th></th>\n      <th></th>\n      <th></th>\n      <th></th>\n      <th></th>\n      <th></th>\n    </tr>\n  </thead>\n  <tbody>\n    <tr>\n      <th>0</th>\n      <td>QSO</td>\n      <td>601</td>\n      <td>23.198224</td>\n      <td>21.431953</td>\n      <td>21.314148</td>\n      <td>21.176553</td>\n      <td>21.171444</td>\n      <td>22.581309</td>\n      <td>21.644453</td>\n      <td>21.657571</td>\n      <td>...</td>\n      <td>22.504317</td>\n      <td>21.431636</td>\n      <td>21.478312</td>\n      <td>21.145409</td>\n      <td>20.422446</td>\n      <td>22.749241</td>\n      <td>21.465534</td>\n      <td>21.364187</td>\n      <td>21.020605</td>\n      <td>21.147340</td>\n    </tr>\n    <tr>\n      <th>1</th>\n      <td>QSO</td>\n      <td>788</td>\n      <td>21.431355</td>\n      <td>20.708104</td>\n      <td>20.678850</td>\n      <td>20.703420</td>\n      <td>20.473229</td>\n      <td>21.868797</td>\n      <td>21.029773</td>\n      <td>20.967054</td>\n      <td>...</td>\n      <td>21.360701</td>\n      <td>20.778968</td>\n      <td>20.889705</td>\n      <td>20.639812</td>\n      <td>20.646660</td>\n      <td>21.492955</td>\n      <td>20.758527</td>\n      <td>20.753925</td>\n      <td>20.693389</td>\n      <td>20.512314</td>\n    </tr>\n    <tr>\n      <th>2</th>\n      <td>QSO</td>\n      <td>427</td>\n      <td>17.851451</td>\n      <td>16.727898</td>\n      <td>16.679677</td>\n      <td>16.694640</td>\n      <td>16.641788</td>\n      <td>18.171890</td>\n      <td>17.033098</td>\n      <td>16.999682</td>\n      <td>...</td>\n      <td>17.867253</td>\n      <td>16.738784</td>\n      <td>16.688874</td>\n      <td>16.744210</td>\n      <td>16.808006</td>\n      <td>17.818063</td>\n      <td>16.697434</td>\n      <td>16.641249</td>\n      <td>16.660177</td>\n      <td>16.688928</td>\n    </tr>\n    <tr>\n      <th>3</th>\n      <td>QSO</td>\n      <td>864</td>\n      <td>20.789900</td>\n      <td>20.040371</td>\n      <td>19.926909</td>\n      <td>19.843840</td>\n      <td>19.463270</td>\n      <td>21.039030</td>\n      <td>20.317165</td>\n      <td>20.217898</td>\n      <td>...</td>\n      <td>20.433907</td>\n      <td>19.993727</td>\n      <td>19.985531</td>\n      <td>19.750917</td>\n      <td>19.455117</td>\n      <td>20.770711</td>\n      <td>20.001699</td>\n      <td>19.889798</td>\n      <td>19.758113</td>\n      <td>19.552855</td>\n    </tr>\n    <tr>\n      <th>4</th>\n      <td>STAR_RED_DWARF</td>\n      <td>612</td>\n      <td>26.454969</td>\n      <td>23.058767</td>\n      <td>21.471406</td>\n      <td>19.504961</td>\n      <td>18.389096</td>\n      <td>25.700632</td>\n      <td>23.629122</td>\n      <td>21.742750</td>\n      <td>...</td>\n      <td>25.859229</td>\n      <td>22.426929</td>\n      <td>21.673551</td>\n      <td>19.610012</td>\n      <td>18.376141</td>\n      <td>24.877052</td>\n      <td>23.147993</td>\n      <td>21.475342</td>\n      <td>19.487330</td>\n      <td>18.375655</td>\n    </tr>\n  </tbody>\n</table>\n<p>5 rows × 22 columns</p>\n</div>",
      "text/plain": "              type  fiberID   psfMag_u   psfMag_g   psfMag_r   psfMag_i  \\\nid                                                                        \n0              QSO      601  23.198224  21.431953  21.314148  21.176553   \n1              QSO      788  21.431355  20.708104  20.678850  20.703420   \n2              QSO      427  17.851451  16.727898  16.679677  16.694640   \n3              QSO      864  20.789900  20.040371  19.926909  19.843840   \n4   STAR_RED_DWARF      612  26.454969  23.058767  21.471406  19.504961   \n\n     psfMag_z  fiberMag_u  fiberMag_g  fiberMag_r  ...  petroMag_u  \\\nid                                                 ...               \n0   21.171444   22.581309   21.644453   21.657571  ...   22.504317   \n1   20.473229   21.868797   21.029773   20.967054  ...   21.360701   \n2   16.641788   18.171890   17.033098   16.999682  ...   17.867253   \n3   19.463270   21.039030   20.317165   20.217898  ...   20.433907   \n4   18.389096   25.700632   23.629122   21.742750  ...   25.859229   \n\n    petroMag_g  petroMag_r  petroMag_i  petroMag_z  modelMag_u  modelMag_g  \\\nid                                                                           \n0    21.431636   21.478312   21.145409   20.422446   22.749241   21.465534   \n1    20.778968   20.889705   20.639812   20.646660   21.492955   20.758527   \n2    16.738784   16.688874   16.744210   16.808006   17.818063   16.697434   \n3    19.993727   19.985531   19.750917   19.455117   20.770711   20.001699   \n4    22.426929   21.673551   19.610012   18.376141   24.877052   23.147993   \n\n    modelMag_r  modelMag_i  modelMag_z  \nid                                      \n0    21.364187   21.020605   21.147340  \n1    20.753925   20.693389   20.512314  \n2    16.641249   16.660177   16.688928  \n3    19.889798   19.758113   19.552855  \n4    21.475342   19.487330   18.375655  \n\n[5 rows x 22 columns]"
     },
     "execution_count": 5,
     "metadata": {},
     "output_type": "execute_result"
    }
   ],
   "source": [
    "train.head()"
   ]
  },
  {
   "cell_type": "code",
   "execution_count": 6,
   "metadata": {},
   "outputs": [],
   "source": [
    "scaler = preprocessing.StandardScaler()"
   ]
  },
  {
   "cell_type": "code",
   "execution_count": 7,
   "metadata": {},
   "outputs": [
    {
     "data": {
      "text/plain": "21"
     },
     "execution_count": 7,
     "metadata": {},
     "output_type": "execute_result"
    }
   ],
   "source": [
    "# train columns 가져오는 작업\n",
    "columns = list(train.columns)\n",
    "columns = list(filter(lambda x:x != 'type', columns))\n",
    "len(columns)"
   ]
  },
  {
   "cell_type": "code",
   "execution_count": 8,
   "metadata": {},
   "outputs": [],
   "source": [
    "# 스케일 작업\n",
    "# 평균과 표준편차를 0 ,1 로 맞춰주는 작업을 한다.\n",
    "trainDrop = train[columns]\n",
    "scaled = scaler.fit_transform(trainDrop)"
   ]
  },
  {
   "cell_type": "code",
   "execution_count": 9,
   "metadata": {},
   "outputs": [
    {
     "data": {
      "text/html": "<div>\n<style scoped>\n    .dataframe tbody tr th:only-of-type {\n        vertical-align: middle;\n    }\n\n    .dataframe tbody tr th {\n        vertical-align: top;\n    }\n\n    .dataframe thead th {\n        text-align: right;\n    }\n</style>\n<table border=\"1\" class=\"dataframe\">\n  <thead>\n    <tr style=\"text-align: right;\">\n      <th></th>\n      <th>fiberID</th>\n      <th>psfMag_u</th>\n      <th>psfMag_g</th>\n      <th>psfMag_r</th>\n      <th>psfMag_i</th>\n      <th>psfMag_z</th>\n      <th>fiberMag_u</th>\n      <th>fiberMag_g</th>\n      <th>fiberMag_r</th>\n      <th>fiberMag_i</th>\n      <th>...</th>\n      <th>petroMag_g</th>\n      <th>petroMag_r</th>\n      <th>petroMag_i</th>\n      <th>petroMag_z</th>\n      <th>modelMag_u</th>\n      <th>modelMag_g</th>\n      <th>modelMag_r</th>\n      <th>modelMag_i</th>\n      <th>modelMag_z</th>\n      <th>type</th>\n    </tr>\n    <tr>\n      <th>id</th>\n      <th></th>\n      <th></th>\n      <th></th>\n      <th></th>\n      <th></th>\n      <th></th>\n      <th></th>\n      <th></th>\n      <th></th>\n      <th></th>\n      <th></th>\n      <th></th>\n      <th></th>\n      <th></th>\n      <th></th>\n      <th></th>\n      <th></th>\n      <th></th>\n      <th></th>\n      <th></th>\n      <th></th>\n    </tr>\n  </thead>\n  <tbody>\n    <tr>\n      <th>0</th>\n      <td>1.065975</td>\n      <td>0.002522</td>\n      <td>0.017736</td>\n      <td>0.022913</td>\n      <td>0.026865</td>\n      <td>0.028350</td>\n      <td>0.002812</td>\n      <td>0.003432</td>\n      <td>0.028019</td>\n      <td>0.026184</td>\n      <td>...</td>\n      <td>0.019287</td>\n      <td>0.030818</td>\n      <td>0.023734</td>\n      <td>0.019085</td>\n      <td>0.021572</td>\n      <td>0.018062</td>\n      <td>0.023754</td>\n      <td>0.025371</td>\n      <td>0.029607</td>\n      <td>QSO</td>\n    </tr>\n    <tr>\n      <th>1</th>\n      <td>1.895960</td>\n      <td>0.002373</td>\n      <td>0.013079</td>\n      <td>0.017916</td>\n      <td>0.022808</td>\n      <td>0.022707</td>\n      <td>0.002641</td>\n      <td>0.002612</td>\n      <td>0.020351</td>\n      <td>0.022507</td>\n      <td>...</td>\n      <td>0.015060</td>\n      <td>0.024765</td>\n      <td>0.020265</td>\n      <td>0.020656</td>\n      <td>0.011300</td>\n      <td>0.013691</td>\n      <td>0.019199</td>\n      <td>0.022876</td>\n      <td>0.024857</td>\n      <td>QSO</td>\n    </tr>\n    <tr>\n      <th>2</th>\n      <td>0.293690</td>\n      <td>0.002071</td>\n      <td>-0.012530</td>\n      <td>-0.013542</td>\n      <td>-0.011566</td>\n      <td>-0.008257</td>\n      <td>0.001755</td>\n      <td>-0.002722</td>\n      <td>-0.023707</td>\n      <td>-0.008885</td>\n      <td>...</td>\n      <td>-0.011112</td>\n      <td>-0.018435</td>\n      <td>-0.006467</td>\n      <td>-0.006246</td>\n      <td>-0.018749</td>\n      <td>-0.011420</td>\n      <td>-0.011496</td>\n      <td>-0.007869</td>\n      <td>-0.003743</td>\n      <td>QSO</td>\n    </tr>\n    <tr>\n      <th>3</th>\n      <td>2.233280</td>\n      <td>0.002319</td>\n      <td>0.008782</td>\n      <td>0.012001</td>\n      <td>0.015437</td>\n      <td>0.014545</td>\n      <td>0.002442</td>\n      <td>0.001661</td>\n      <td>0.012031</td>\n      <td>0.015448</td>\n      <td>...</td>\n      <td>0.009973</td>\n      <td>0.015467</td>\n      <td>0.014165</td>\n      <td>0.012306</td>\n      <td>0.005394</td>\n      <td>0.009011</td>\n      <td>0.012750</td>\n      <td>0.015747</td>\n      <td>0.017680</td>\n      <td>QSO</td>\n    </tr>\n    <tr>\n      <th>4</th>\n      <td>1.114798</td>\n      <td>0.002796</td>\n      <td>0.028203</td>\n      <td>0.024150</td>\n      <td>0.012532</td>\n      <td>0.005864</td>\n      <td>0.003560</td>\n      <td>0.006081</td>\n      <td>0.028965</td>\n      <td>0.013715</td>\n      <td>...</td>\n      <td>0.025735</td>\n      <td>0.032826</td>\n      <td>0.013198</td>\n      <td>0.004744</td>\n      <td>0.038971</td>\n      <td>0.028465</td>\n      <td>0.024583</td>\n      <td>0.013683</td>\n      <td>0.008874</td>\n      <td>STAR_RED_DWARF</td>\n    </tr>\n  </tbody>\n</table>\n<p>5 rows × 22 columns</p>\n</div>",
      "text/plain": "     fiberID  psfMag_u  psfMag_g  psfMag_r  psfMag_i  psfMag_z  fiberMag_u  \\\nid                                                                           \n0   1.065975  0.002522  0.017736  0.022913  0.026865  0.028350    0.002812   \n1   1.895960  0.002373  0.013079  0.017916  0.022808  0.022707    0.002641   \n2   0.293690  0.002071 -0.012530 -0.013542 -0.011566 -0.008257    0.001755   \n3   2.233280  0.002319  0.008782  0.012001  0.015437  0.014545    0.002442   \n4   1.114798  0.002796  0.028203  0.024150  0.012532  0.005864    0.003560   \n\n    fiberMag_g  fiberMag_r  fiberMag_i  ...  petroMag_g  petroMag_r  \\\nid                                      ...                           \n0     0.003432    0.028019    0.026184  ...    0.019287    0.030818   \n1     0.002612    0.020351    0.022507  ...    0.015060    0.024765   \n2    -0.002722   -0.023707   -0.008885  ...   -0.011112   -0.018435   \n3     0.001661    0.012031    0.015448  ...    0.009973    0.015467   \n4     0.006081    0.028965    0.013715  ...    0.025735    0.032826   \n\n    petroMag_i  petroMag_z  modelMag_u  modelMag_g  modelMag_r  modelMag_i  \\\nid                                                                           \n0     0.023734    0.019085    0.021572    0.018062    0.023754    0.025371   \n1     0.020265    0.020656    0.011300    0.013691    0.019199    0.022876   \n2    -0.006467   -0.006246   -0.018749   -0.011420   -0.011496   -0.007869   \n3     0.014165    0.012306    0.005394    0.009011    0.012750    0.015747   \n4     0.013198    0.004744    0.038971    0.028465    0.024583    0.013683   \n\n    modelMag_z            type  \nid                              \n0     0.029607             QSO  \n1     0.024857             QSO  \n2    -0.003743             QSO  \n3     0.017680             QSO  \n4     0.008874  STAR_RED_DWARF  \n\n[5 rows x 22 columns]"
     },
     "execution_count": 9,
     "metadata": {},
     "output_type": "execute_result"
    }
   ],
   "source": [
    "trainScaled = pd.DataFrame(scaled, columns=columns, index=trainDrop.index)\n",
    "trainScaled['type'] = train['type']\n",
    "trainScaled.head()"
   ]
  },
  {
   "cell_type": "code",
   "execution_count": 10,
   "metadata": {},
   "outputs": [],
   "source": [
    "unique_labels = train['type'].unique()\n",
    "label_dict = {val: i for i, val in enumerate(unique_labels)}\n",
    "i2lb = {v:k for k, v in label_dict.items()}\n",
    "labels = train['type']"
   ]
  },
  {
   "cell_type": "code",
   "execution_count": 11,
   "metadata": {},
   "outputs": [
    {
     "data": {
      "text/plain": "array(['QSO', 'STAR_RED_DWARF', 'SERENDIPITY_BLUE', 'STAR_BHB',\n       'STAR_CATY_VAR', 'SERENDIPITY_DISTANT', 'GALAXY',\n       'SPECTROPHOTO_STD', 'REDDEN_STD', 'ROSAT_D', 'STAR_WHITE_DWARF',\n       'SERENDIPITY_RED', 'STAR_CARBON', 'SERENDIPITY_FIRST',\n       'STAR_BROWN_DWARF', 'STAR_SUB_DWARF', 'SKY', 'SERENDIPITY_MANUAL',\n       'STAR_PN'], dtype=object)"
     },
     "execution_count": 11,
     "metadata": {},
     "output_type": "execute_result"
    }
   ],
   "source": [
    "unique_labels"
   ]
  },
  {
   "cell_type": "code",
   "execution_count": 45,
   "metadata": {},
   "outputs": [
    {
     "data": {
      "text/html": "<div>\n<style scoped>\n    .dataframe tbody tr th:only-of-type {\n        vertical-align: middle;\n    }\n\n    .dataframe tbody tr th {\n        vertical-align: top;\n    }\n\n    .dataframe thead th {\n        text-align: right;\n    }\n</style>\n<table border=\"1\" class=\"dataframe\">\n  <thead>\n    <tr style=\"text-align: right;\">\n      <th></th>\n      <th>fiberID</th>\n      <th>psfMag_u</th>\n      <th>psfMag_g</th>\n      <th>psfMag_r</th>\n      <th>psfMag_i</th>\n      <th>psfMag_z</th>\n      <th>fiberMag_u</th>\n      <th>fiberMag_g</th>\n      <th>fiberMag_r</th>\n      <th>fiberMag_i</th>\n      <th>...</th>\n      <th>petroMag_g</th>\n      <th>petroMag_r</th>\n      <th>petroMag_i</th>\n      <th>petroMag_z</th>\n      <th>modelMag_u</th>\n      <th>modelMag_g</th>\n      <th>modelMag_r</th>\n      <th>modelMag_i</th>\n      <th>modelMag_z</th>\n      <th>type</th>\n    </tr>\n    <tr>\n      <th>id</th>\n      <th></th>\n      <th></th>\n      <th></th>\n      <th></th>\n      <th></th>\n      <th></th>\n      <th></th>\n      <th></th>\n      <th></th>\n      <th></th>\n      <th></th>\n      <th></th>\n      <th></th>\n      <th></th>\n      <th></th>\n      <th></th>\n      <th></th>\n      <th></th>\n      <th></th>\n      <th></th>\n      <th></th>\n    </tr>\n  </thead>\n  <tbody>\n    <tr>\n      <th>0</th>\n      <td>1.065975</td>\n      <td>0.002522</td>\n      <td>0.017736</td>\n      <td>0.022913</td>\n      <td>0.026865</td>\n      <td>0.028350</td>\n      <td>0.002812</td>\n      <td>0.003432</td>\n      <td>0.028019</td>\n      <td>0.026184</td>\n      <td>...</td>\n      <td>0.019287</td>\n      <td>0.030818</td>\n      <td>0.023734</td>\n      <td>0.019085</td>\n      <td>0.021572</td>\n      <td>0.018062</td>\n      <td>0.023754</td>\n      <td>0.025371</td>\n      <td>0.029607</td>\n      <td>0</td>\n    </tr>\n    <tr>\n      <th>1</th>\n      <td>1.895960</td>\n      <td>0.002373</td>\n      <td>0.013079</td>\n      <td>0.017916</td>\n      <td>0.022808</td>\n      <td>0.022707</td>\n      <td>0.002641</td>\n      <td>0.002612</td>\n      <td>0.020351</td>\n      <td>0.022507</td>\n      <td>...</td>\n      <td>0.015060</td>\n      <td>0.024765</td>\n      <td>0.020265</td>\n      <td>0.020656</td>\n      <td>0.011300</td>\n      <td>0.013691</td>\n      <td>0.019199</td>\n      <td>0.022876</td>\n      <td>0.024857</td>\n      <td>0</td>\n    </tr>\n    <tr>\n      <th>2</th>\n      <td>0.293690</td>\n      <td>0.002071</td>\n      <td>-0.012530</td>\n      <td>-0.013542</td>\n      <td>-0.011566</td>\n      <td>-0.008257</td>\n      <td>0.001755</td>\n      <td>-0.002722</td>\n      <td>-0.023707</td>\n      <td>-0.008885</td>\n      <td>...</td>\n      <td>-0.011112</td>\n      <td>-0.018435</td>\n      <td>-0.006467</td>\n      <td>-0.006246</td>\n      <td>-0.018749</td>\n      <td>-0.011420</td>\n      <td>-0.011496</td>\n      <td>-0.007869</td>\n      <td>-0.003743</td>\n      <td>0</td>\n    </tr>\n    <tr>\n      <th>3</th>\n      <td>2.233280</td>\n      <td>0.002319</td>\n      <td>0.008782</td>\n      <td>0.012001</td>\n      <td>0.015437</td>\n      <td>0.014545</td>\n      <td>0.002442</td>\n      <td>0.001661</td>\n      <td>0.012031</td>\n      <td>0.015448</td>\n      <td>...</td>\n      <td>0.009973</td>\n      <td>0.015467</td>\n      <td>0.014165</td>\n      <td>0.012306</td>\n      <td>0.005394</td>\n      <td>0.009011</td>\n      <td>0.012750</td>\n      <td>0.015747</td>\n      <td>0.017680</td>\n      <td>0</td>\n    </tr>\n    <tr>\n      <th>4</th>\n      <td>1.114798</td>\n      <td>0.002796</td>\n      <td>0.028203</td>\n      <td>0.024150</td>\n      <td>0.012532</td>\n      <td>0.005864</td>\n      <td>0.003560</td>\n      <td>0.006081</td>\n      <td>0.028965</td>\n      <td>0.013715</td>\n      <td>...</td>\n      <td>0.025735</td>\n      <td>0.032826</td>\n      <td>0.013198</td>\n      <td>0.004744</td>\n      <td>0.038971</td>\n      <td>0.028465</td>\n      <td>0.024583</td>\n      <td>0.013683</td>\n      <td>0.008874</td>\n      <td>1</td>\n    </tr>\n  </tbody>\n</table>\n<p>5 rows × 22 columns</p>\n</div>",
      "text/plain": "     fiberID  psfMag_u  psfMag_g  psfMag_r  psfMag_i  psfMag_z  fiberMag_u  \\\nid                                                                           \n0   1.065975  0.002522  0.017736  0.022913  0.026865  0.028350    0.002812   \n1   1.895960  0.002373  0.013079  0.017916  0.022808  0.022707    0.002641   \n2   0.293690  0.002071 -0.012530 -0.013542 -0.011566 -0.008257    0.001755   \n3   2.233280  0.002319  0.008782  0.012001  0.015437  0.014545    0.002442   \n4   1.114798  0.002796  0.028203  0.024150  0.012532  0.005864    0.003560   \n\n    fiberMag_g  fiberMag_r  fiberMag_i  ...  petroMag_g  petroMag_r  \\\nid                                      ...                           \n0     0.003432    0.028019    0.026184  ...    0.019287    0.030818   \n1     0.002612    0.020351    0.022507  ...    0.015060    0.024765   \n2    -0.002722   -0.023707   -0.008885  ...   -0.011112   -0.018435   \n3     0.001661    0.012031    0.015448  ...    0.009973    0.015467   \n4     0.006081    0.028965    0.013715  ...    0.025735    0.032826   \n\n    petroMag_i  petroMag_z  modelMag_u  modelMag_g  modelMag_r  modelMag_i  \\\nid                                                                           \n0     0.023734    0.019085    0.021572    0.018062    0.023754    0.025371   \n1     0.020265    0.020656    0.011300    0.013691    0.019199    0.022876   \n2    -0.006467   -0.006246   -0.018749   -0.011420   -0.011496   -0.007869   \n3     0.014165    0.012306    0.005394    0.009011    0.012750    0.015747   \n4     0.013198    0.004744    0.038971    0.028465    0.024583    0.013683   \n\n    modelMag_z  type  \nid                    \n0     0.029607     0  \n1     0.024857     0  \n2    -0.003743     0  \n3     0.017680     0  \n4     0.008874     1  \n\n[5 rows x 22 columns]"
     },
     "execution_count": 45,
     "metadata": {},
     "output_type": "execute_result"
    }
   ],
   "source": [
    "trainScaled['type'] = train['type']\n",
    "trainScaled['type'] = trainScaled['type'].replace(label_dict)\n",
    "trainScaled.head()"
   ]
  },
  {
   "cell_type": "code",
   "execution_count": 37,
   "metadata": {},
   "outputs": [
    {
     "data": {
      "text/html": "<div>\n<style scoped>\n    .dataframe tbody tr th:only-of-type {\n        vertical-align: middle;\n    }\n\n    .dataframe tbody tr th {\n        vertical-align: top;\n    }\n\n    .dataframe thead th {\n        text-align: right;\n    }\n</style>\n<table border=\"1\" class=\"dataframe\">\n  <thead>\n    <tr style=\"text-align: right;\">\n      <th></th>\n      <th>fiberID</th>\n      <th>psfMag_u</th>\n      <th>psfMag_g</th>\n      <th>psfMag_r</th>\n      <th>psfMag_i</th>\n      <th>psfMag_z</th>\n      <th>fiberMag_u</th>\n      <th>fiberMag_g</th>\n      <th>fiberMag_r</th>\n      <th>fiberMag_i</th>\n      <th>...</th>\n      <th>petroMag_g</th>\n      <th>petroMag_r</th>\n      <th>petroMag_i</th>\n      <th>petroMag_z</th>\n      <th>modelMag_u</th>\n      <th>modelMag_g</th>\n      <th>modelMag_r</th>\n      <th>modelMag_i</th>\n      <th>modelMag_z</th>\n      <th>type</th>\n    </tr>\n    <tr>\n      <th>id</th>\n      <th></th>\n      <th></th>\n      <th></th>\n      <th></th>\n      <th></th>\n      <th></th>\n      <th></th>\n      <th></th>\n      <th></th>\n      <th></th>\n      <th></th>\n      <th></th>\n      <th></th>\n      <th></th>\n      <th></th>\n      <th></th>\n      <th></th>\n      <th></th>\n      <th></th>\n      <th></th>\n      <th></th>\n    </tr>\n  </thead>\n  <tbody>\n    <tr>\n      <th>0</th>\n      <td>1.065975</td>\n      <td>0.002522</td>\n      <td>0.017736</td>\n      <td>0.022913</td>\n      <td>0.026865</td>\n      <td>0.028350</td>\n      <td>0.002812</td>\n      <td>0.003432</td>\n      <td>0.028019</td>\n      <td>0.026184</td>\n      <td>...</td>\n      <td>0.019287</td>\n      <td>0.030818</td>\n      <td>0.023734</td>\n      <td>0.019085</td>\n      <td>0.021572</td>\n      <td>0.018062</td>\n      <td>0.023754</td>\n      <td>0.025371</td>\n      <td>0.029607</td>\n      <td>QSO</td>\n    </tr>\n    <tr>\n      <th>1</th>\n      <td>1.895960</td>\n      <td>0.002373</td>\n      <td>0.013079</td>\n      <td>0.017916</td>\n      <td>0.022808</td>\n      <td>0.022707</td>\n      <td>0.002641</td>\n      <td>0.002612</td>\n      <td>0.020351</td>\n      <td>0.022507</td>\n      <td>...</td>\n      <td>0.015060</td>\n      <td>0.024765</td>\n      <td>0.020265</td>\n      <td>0.020656</td>\n      <td>0.011300</td>\n      <td>0.013691</td>\n      <td>0.019199</td>\n      <td>0.022876</td>\n      <td>0.024857</td>\n      <td>QSO</td>\n    </tr>\n    <tr>\n      <th>2</th>\n      <td>0.293690</td>\n      <td>0.002071</td>\n      <td>-0.012530</td>\n      <td>-0.013542</td>\n      <td>-0.011566</td>\n      <td>-0.008257</td>\n      <td>0.001755</td>\n      <td>-0.002722</td>\n      <td>-0.023707</td>\n      <td>-0.008885</td>\n      <td>...</td>\n      <td>-0.011112</td>\n      <td>-0.018435</td>\n      <td>-0.006467</td>\n      <td>-0.006246</td>\n      <td>-0.018749</td>\n      <td>-0.011420</td>\n      <td>-0.011496</td>\n      <td>-0.007869</td>\n      <td>-0.003743</td>\n      <td>QSO</td>\n    </tr>\n    <tr>\n      <th>3</th>\n      <td>2.233280</td>\n      <td>0.002319</td>\n      <td>0.008782</td>\n      <td>0.012001</td>\n      <td>0.015437</td>\n      <td>0.014545</td>\n      <td>0.002442</td>\n      <td>0.001661</td>\n      <td>0.012031</td>\n      <td>0.015448</td>\n      <td>...</td>\n      <td>0.009973</td>\n      <td>0.015467</td>\n      <td>0.014165</td>\n      <td>0.012306</td>\n      <td>0.005394</td>\n      <td>0.009011</td>\n      <td>0.012750</td>\n      <td>0.015747</td>\n      <td>0.017680</td>\n      <td>QSO</td>\n    </tr>\n    <tr>\n      <th>4</th>\n      <td>1.114798</td>\n      <td>0.002796</td>\n      <td>0.028203</td>\n      <td>0.024150</td>\n      <td>0.012532</td>\n      <td>0.005864</td>\n      <td>0.003560</td>\n      <td>0.006081</td>\n      <td>0.028965</td>\n      <td>0.013715</td>\n      <td>...</td>\n      <td>0.025735</td>\n      <td>0.032826</td>\n      <td>0.013198</td>\n      <td>0.004744</td>\n      <td>0.038971</td>\n      <td>0.028465</td>\n      <td>0.024583</td>\n      <td>0.013683</td>\n      <td>0.008874</td>\n      <td>STAR_RED_DWARF</td>\n    </tr>\n  </tbody>\n</table>\n<p>5 rows × 22 columns</p>\n</div>",
      "text/plain": "     fiberID  psfMag_u  psfMag_g  psfMag_r  psfMag_i  psfMag_z  fiberMag_u  \\\nid                                                                           \n0   1.065975  0.002522  0.017736  0.022913  0.026865  0.028350    0.002812   \n1   1.895960  0.002373  0.013079  0.017916  0.022808  0.022707    0.002641   \n2   0.293690  0.002071 -0.012530 -0.013542 -0.011566 -0.008257    0.001755   \n3   2.233280  0.002319  0.008782  0.012001  0.015437  0.014545    0.002442   \n4   1.114798  0.002796  0.028203  0.024150  0.012532  0.005864    0.003560   \n\n    fiberMag_g  fiberMag_r  fiberMag_i  ...  petroMag_g  petroMag_r  \\\nid                                      ...                           \n0     0.003432    0.028019    0.026184  ...    0.019287    0.030818   \n1     0.002612    0.020351    0.022507  ...    0.015060    0.024765   \n2    -0.002722   -0.023707   -0.008885  ...   -0.011112   -0.018435   \n3     0.001661    0.012031    0.015448  ...    0.009973    0.015467   \n4     0.006081    0.028965    0.013715  ...    0.025735    0.032826   \n\n    petroMag_i  petroMag_z  modelMag_u  modelMag_g  modelMag_r  modelMag_i  \\\nid                                                                           \n0     0.023734    0.019085    0.021572    0.018062    0.023754    0.025371   \n1     0.020265    0.020656    0.011300    0.013691    0.019199    0.022876   \n2    -0.006467   -0.006246   -0.018749   -0.011420   -0.011496   -0.007869   \n3     0.014165    0.012306    0.005394    0.009011    0.012750    0.015747   \n4     0.013198    0.004744    0.038971    0.028465    0.024583    0.013683   \n\n    modelMag_z            type  \nid                              \n0     0.029607             QSO  \n1     0.024857             QSO  \n2    -0.003743             QSO  \n3     0.017680             QSO  \n4     0.008874  STAR_RED_DWARF  \n\n[5 rows x 22 columns]"
     },
     "execution_count": 37,
     "metadata": {},
     "output_type": "execute_result"
    }
   ],
   "source": [
    "# trainScaled['type'] = trainScaled['type'].replace(i2lb)\n",
    "# trainScaled.head()"
   ]
  },
  {
   "cell_type": "code",
   "execution_count": 46,
   "metadata": {},
   "outputs": [],
   "source": [
    "from keras import models\n",
    "from keras import layers"
   ]
  },
  {
   "cell_type": "code",
   "execution_count": 47,
   "metadata": {},
   "outputs": [],
   "source": [
    "features_train = columns\n",
    "target_train = ['type']"
   ]
  },
  {
   "cell_type": "code",
   "execution_count": 48,
   "metadata": {},
   "outputs": [],
   "source": [
    "X = trainScaled[features_train]\n",
    "y = trainScaled[target_train]"
   ]
  },
  {
   "cell_type": "code",
   "execution_count": 49,
   "metadata": {},
   "outputs": [],
   "source": [
    "X_train, X_test, y_train, y_test = train_test_split(X, y, test_size=0.3, random_state=1111)"
   ]
  },
  {
   "cell_type": "code",
   "execution_count": 50,
   "metadata": {},
   "outputs": [
    {
     "data": {
      "text/plain": "(139993, 21)"
     },
     "execution_count": 50,
     "metadata": {},
     "output_type": "execute_result"
    }
   ],
   "source": [
    "# X_train, X_test, y_train, y_test\n",
    "X_train.shape"
   ]
  },
  {
   "cell_type": "code",
   "execution_count": 92,
   "metadata": {},
   "outputs": [],
   "source": [
    "network=models.Sequential()\n",
    "network.add(layers.Dense(units=16, kernel_initializer='he_normal', activation='relu', input_shape=(21,)))\n",
    "network.add(layers.Dense(units=1, kernel_initializer='he_normal', activation='sigmoid'))\n",
    "# network.add(layers.Dense(units=16, kernel_initializer='he_normal', activation='relu', input_shape=(21,)))\n",
    "# network.add(layers.Dense(units=1, kernel_initializer='he_normal', activation='softmax'))\n",
    "\n",
    "\n",
    "network.compile(\n",
    "    loss='binary_crossentropy',\n",
    "    optimizer='Adam',\n",
    "    metrics=['accuracy']\n",
    ")"
   ]
  },
  {
   "cell_type": "code",
   "execution_count": 93,
   "metadata": {},
   "outputs": [
    {
     "name": "stdout",
     "output_type": "stream",
     "text": "Epoch 1/100\n139993/139993 [==============================] - 2s 17us/step - loss: -68.0807 - accuracy: 0.0722\nEpoch 2/100\n139993/139993 [==============================] - 2s 17us/step - loss: -488.6348 - accuracy: 0.0698\nEpoch 3/100\n139993/139993 [==============================] - 2s 17us/step - loss: -1232.8551 - accuracy: 0.0987\nEpoch 4/100\n139993/139993 [==============================] - 2s 17us/step - loss: -2229.3720 - accuracy: 0.1128\nEpoch 5/100\n139993/139993 [==============================] - 2s 17us/step - loss: -3455.6934 - accuracy: 0.1157\nEpoch 6/100\n139993/139993 [==============================] - 2s 17us/step - loss: -4898.5874 - accuracy: 0.1177\nEpoch 7/100\n139993/139993 [==============================] - 2s 17us/step - loss: -6556.2682 - accuracy: 0.1192\nEpoch 8/100\n139993/139993 [==============================] - 2s 16us/step - loss: -8427.7490 - accuracy: 0.1205\nEpoch 9/100\n139993/139993 [==============================] - 2s 16us/step - loss: -10509.6839 - accuracy: 0.1216\nEpoch 10/100\n139993/139993 [==============================] - 2s 16us/step - loss: -12799.8488 - accuracy: 0.1225\nEpoch 11/100\n139993/139993 [==============================] - 2s 16us/step - loss: -15298.6333 - accuracy: 0.1232\nEpoch 12/100\n127300/139993 [==========================>...] - ETA: 0s - loss: -17874.3611 - accuracy: 0.1239"
    },
    {
     "ename": "KeyboardInterrupt",
     "evalue": "",
     "output_type": "error",
     "traceback": [
      "\u001b[1;31m---------------------------------------------------------------------------\u001b[0m",
      "\u001b[1;31mKeyboardInterrupt\u001b[0m                         Traceback (most recent call last)",
      "\u001b[1;32m<ipython-input-93-f9b8af36ad19>\u001b[0m in \u001b[0;36m<module>\u001b[1;34m\u001b[0m\n\u001b[0;32m      4\u001b[0m     \u001b[0mepochs\u001b[0m\u001b[1;33m=\u001b[0m\u001b[1;36m100\u001b[0m\u001b[1;33m,\u001b[0m \u001b[1;31m# 에폭 횟수\u001b[0m\u001b[1;33m\u001b[0m\u001b[1;33m\u001b[0m\u001b[0m\n\u001b[0;32m      5\u001b[0m     \u001b[0mverbose\u001b[0m\u001b[1;33m=\u001b[0m\u001b[1;36m1\u001b[0m\u001b[1;33m,\u001b[0m \u001b[1;31m# 에폭 과정을 출력합니다.\u001b[0m\u001b[1;33m\u001b[0m\u001b[1;33m\u001b[0m\u001b[0m\n\u001b[1;32m----> 6\u001b[1;33m     \u001b[0mbatch_size\u001b[0m\u001b[1;33m=\u001b[0m\u001b[1;36m100\u001b[0m\u001b[1;33m,\u001b[0m \u001b[1;31m# 배치의 샘플 개수\u001b[0m\u001b[1;33m\u001b[0m\u001b[1;33m\u001b[0m\u001b[0m\n\u001b[0m\u001b[0;32m      7\u001b[0m )\n",
      "\u001b[1;32m~\\Anaconda3\\lib\\site-packages\\keras\\engine\\training.py\u001b[0m in \u001b[0;36mfit\u001b[1;34m(self, x, y, batch_size, epochs, verbose, callbacks, validation_split, validation_data, shuffle, class_weight, sample_weight, initial_epoch, steps_per_epoch, validation_steps, validation_freq, max_queue_size, workers, use_multiprocessing, **kwargs)\u001b[0m\n\u001b[0;32m   1237\u001b[0m                                         \u001b[0msteps_per_epoch\u001b[0m\u001b[1;33m=\u001b[0m\u001b[0msteps_per_epoch\u001b[0m\u001b[1;33m,\u001b[0m\u001b[1;33m\u001b[0m\u001b[1;33m\u001b[0m\u001b[0m\n\u001b[0;32m   1238\u001b[0m                                         \u001b[0mvalidation_steps\u001b[0m\u001b[1;33m=\u001b[0m\u001b[0mvalidation_steps\u001b[0m\u001b[1;33m,\u001b[0m\u001b[1;33m\u001b[0m\u001b[1;33m\u001b[0m\u001b[0m\n\u001b[1;32m-> 1239\u001b[1;33m                                         validation_freq=validation_freq)\n\u001b[0m\u001b[0;32m   1240\u001b[0m \u001b[1;33m\u001b[0m\u001b[0m\n\u001b[0;32m   1241\u001b[0m     def evaluate(self,\n",
      "\u001b[1;32m~\\Anaconda3\\lib\\site-packages\\keras\\engine\\training_arrays.py\u001b[0m in \u001b[0;36mfit_loop\u001b[1;34m(model, fit_function, fit_inputs, out_labels, batch_size, epochs, verbose, callbacks, val_function, val_inputs, shuffle, initial_epoch, steps_per_epoch, validation_steps, validation_freq)\u001b[0m\n\u001b[0;32m    194\u001b[0m                     \u001b[0mins_batch\u001b[0m\u001b[1;33m[\u001b[0m\u001b[0mi\u001b[0m\u001b[1;33m]\u001b[0m \u001b[1;33m=\u001b[0m \u001b[0mins_batch\u001b[0m\u001b[1;33m[\u001b[0m\u001b[0mi\u001b[0m\u001b[1;33m]\u001b[0m\u001b[1;33m.\u001b[0m\u001b[0mtoarray\u001b[0m\u001b[1;33m(\u001b[0m\u001b[1;33m)\u001b[0m\u001b[1;33m\u001b[0m\u001b[1;33m\u001b[0m\u001b[0m\n\u001b[0;32m    195\u001b[0m \u001b[1;33m\u001b[0m\u001b[0m\n\u001b[1;32m--> 196\u001b[1;33m                 \u001b[0mouts\u001b[0m \u001b[1;33m=\u001b[0m \u001b[0mfit_function\u001b[0m\u001b[1;33m(\u001b[0m\u001b[0mins_batch\u001b[0m\u001b[1;33m)\u001b[0m\u001b[1;33m\u001b[0m\u001b[1;33m\u001b[0m\u001b[0m\n\u001b[0m\u001b[0;32m    197\u001b[0m                 \u001b[0mouts\u001b[0m \u001b[1;33m=\u001b[0m \u001b[0mto_list\u001b[0m\u001b[1;33m(\u001b[0m\u001b[0mouts\u001b[0m\u001b[1;33m)\u001b[0m\u001b[1;33m\u001b[0m\u001b[1;33m\u001b[0m\u001b[0m\n\u001b[0;32m    198\u001b[0m                 \u001b[1;32mfor\u001b[0m \u001b[0ml\u001b[0m\u001b[1;33m,\u001b[0m \u001b[0mo\u001b[0m \u001b[1;32min\u001b[0m \u001b[0mzip\u001b[0m\u001b[1;33m(\u001b[0m\u001b[0mout_labels\u001b[0m\u001b[1;33m,\u001b[0m \u001b[0mouts\u001b[0m\u001b[1;33m)\u001b[0m\u001b[1;33m:\u001b[0m\u001b[1;33m\u001b[0m\u001b[1;33m\u001b[0m\u001b[0m\n",
      "\u001b[1;32m~\\Anaconda3\\lib\\site-packages\\tensorflow\\python\\keras\\backend.py\u001b[0m in \u001b[0;36m__call__\u001b[1;34m(self, inputs)\u001b[0m\n\u001b[0;32m   3290\u001b[0m \u001b[1;33m\u001b[0m\u001b[0m\n\u001b[0;32m   3291\u001b[0m     fetched = self._callable_fn(*array_vals,\n\u001b[1;32m-> 3292\u001b[1;33m                                 run_metadata=self.run_metadata)\n\u001b[0m\u001b[0;32m   3293\u001b[0m     \u001b[0mself\u001b[0m\u001b[1;33m.\u001b[0m\u001b[0m_call_fetch_callbacks\u001b[0m\u001b[1;33m(\u001b[0m\u001b[0mfetched\u001b[0m\u001b[1;33m[\u001b[0m\u001b[1;33m-\u001b[0m\u001b[0mlen\u001b[0m\u001b[1;33m(\u001b[0m\u001b[0mself\u001b[0m\u001b[1;33m.\u001b[0m\u001b[0m_fetches\u001b[0m\u001b[1;33m)\u001b[0m\u001b[1;33m:\u001b[0m\u001b[1;33m]\u001b[0m\u001b[1;33m)\u001b[0m\u001b[1;33m\u001b[0m\u001b[1;33m\u001b[0m\u001b[0m\n\u001b[0;32m   3294\u001b[0m     output_structure = nest.pack_sequence_as(\n",
      "\u001b[1;32m~\\Anaconda3\\lib\\site-packages\\tensorflow\\python\\client\\session.py\u001b[0m in \u001b[0;36m__call__\u001b[1;34m(self, *args, **kwargs)\u001b[0m\n\u001b[0;32m   1456\u001b[0m         ret = tf_session.TF_SessionRunCallable(self._session._session,\n\u001b[0;32m   1457\u001b[0m                                                \u001b[0mself\u001b[0m\u001b[1;33m.\u001b[0m\u001b[0m_handle\u001b[0m\u001b[1;33m,\u001b[0m \u001b[0margs\u001b[0m\u001b[1;33m,\u001b[0m\u001b[1;33m\u001b[0m\u001b[1;33m\u001b[0m\u001b[0m\n\u001b[1;32m-> 1458\u001b[1;33m                                                run_metadata_ptr)\n\u001b[0m\u001b[0;32m   1459\u001b[0m         \u001b[1;32mif\u001b[0m \u001b[0mrun_metadata\u001b[0m\u001b[1;33m:\u001b[0m\u001b[1;33m\u001b[0m\u001b[1;33m\u001b[0m\u001b[0m\n\u001b[0;32m   1460\u001b[0m           \u001b[0mproto_data\u001b[0m \u001b[1;33m=\u001b[0m \u001b[0mtf_session\u001b[0m\u001b[1;33m.\u001b[0m\u001b[0mTF_GetBuffer\u001b[0m\u001b[1;33m(\u001b[0m\u001b[0mrun_metadata_ptr\u001b[0m\u001b[1;33m)\u001b[0m\u001b[1;33m\u001b[0m\u001b[1;33m\u001b[0m\u001b[0m\n",
      "\u001b[1;31mKeyboardInterrupt\u001b[0m: "
     ]
    }
   ],
   "source": [
    "history = network.fit(\n",
    "    X_train,\n",
    "    y_train,\n",
    "    epochs=100, # 에폭 횟수\n",
    "    verbose=1, # 에폭 과정을 출력합니다.\n",
    "    batch_size=100, # 배치의 샘플 개수\n",
    ")"
   ]
  },
  {
   "cell_type": "code",
   "execution_count": null,
   "metadata": {},
   "outputs": [],
   "source": []
  },
  {
   "cell_type": "code",
   "execution_count": null,
   "metadata": {},
   "outputs": [],
   "source": []
  },
  {
   "cell_type": "code",
   "execution_count": null,
   "metadata": {},
   "outputs": [],
   "source": []
  },
  {
   "cell_type": "code",
   "execution_count": null,
   "metadata": {},
   "outputs": [],
   "source": []
  },
  {
   "cell_type": "code",
   "execution_count": null,
   "metadata": {},
   "outputs": [],
   "source": []
  },
  {
   "cell_type": "code",
   "execution_count": null,
   "metadata": {},
   "outputs": [],
   "source": []
  },
  {
   "cell_type": "code",
   "execution_count": null,
   "metadata": {},
   "outputs": [],
   "source": []
  },
  {
   "cell_type": "code",
   "execution_count": null,
   "metadata": {},
   "outputs": [],
   "source": []
  },
  {
   "cell_type": "code",
   "execution_count": null,
   "metadata": {},
   "outputs": [],
   "source": []
  },
  {
   "cell_type": "code",
   "execution_count": null,
   "metadata": {},
   "outputs": [],
   "source": []
  },
  {
   "cell_type": "code",
   "execution_count": null,
   "metadata": {},
   "outputs": [],
   "source": []
  },
  {
   "cell_type": "code",
   "execution_count": null,
   "metadata": {},
   "outputs": [],
   "source": []
  },
  {
   "cell_type": "code",
   "execution_count": null,
   "metadata": {},
   "outputs": [],
   "source": []
  },
  {
   "cell_type": "code",
   "execution_count": null,
   "metadata": {},
   "outputs": [],
   "source": []
  },
  {
   "cell_type": "code",
   "execution_count": null,
   "metadata": {},
   "outputs": [],
   "source": []
  },
  {
   "cell_type": "code",
   "execution_count": null,
   "metadata": {},
   "outputs": [],
   "source": []
  },
  {
   "cell_type": "code",
   "execution_count": null,
   "metadata": {},
   "outputs": [],
   "source": []
  },
  {
   "cell_type": "code",
   "execution_count": null,
   "metadata": {},
   "outputs": [],
   "source": []
  },
  {
   "cell_type": "code",
   "execution_count": null,
   "metadata": {},
   "outputs": [],
   "source": []
  },
  {
   "cell_type": "code",
   "execution_count": null,
   "metadata": {},
   "outputs": [],
   "source": []
  },
  {
   "cell_type": "code",
   "execution_count": null,
   "metadata": {},
   "outputs": [],
   "source": []
  },
  {
   "cell_type": "code",
   "execution_count": null,
   "metadata": {},
   "outputs": [],
   "source": []
  }
 ]
}