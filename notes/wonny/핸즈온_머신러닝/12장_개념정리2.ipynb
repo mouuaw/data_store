{
  "nbformat": 4,
  "nbformat_minor": 0,
  "metadata": {
    "colab": {
      "name": "12장_개념정리2.ipynb",
      "provenance": [],
      "collapsed_sections": []
    },
    "kernelspec": {
      "name": "python3",
      "display_name": "Python 3"
    }
  },
  "cells": [
    {
      "cell_type": "code",
      "metadata": {
        "id": "aPNGmi6eB26I"
      },
      "source": [
        "import pandas as pd\n",
        "import numpy as np\n",
        "import tensorflow as tf\n",
        "from tensorflow import keras"
      ],
      "execution_count": null,
      "outputs": []
    },
    {
      "cell_type": "markdown",
      "metadata": {
        "id": "wbR4Ne-v_1J-"
      },
      "source": [
        ""
      ]
    },
    {
      "cell_type": "markdown",
      "metadata": {
        "id": "vFuIidnqMHe_"
      },
      "source": [
        "### 12.3.5 사용자 정의 층\n",
        "\n",
        "가끔 텐서플로에는 없는 특이한 층을 가진 네트워크를 만들어야 할 때가 있습니다.  \n",
        "이런경우 사용자 정의 층을 만듭니다. 동일한 층 블럭이 여러 번 반복되는  \n",
        "네트워크를 만들 경우 각각의 층 블럭을 하나의 층으로 다루는 것이 편리합니다.\n",
        "\n"
      ]
    },
    {
      "cell_type": "code",
      "metadata": {
        "id": "yR6xJ8mGK-2S"
      },
      "source": [
        "class MyDense(keras.layers.Layer):\n",
        "  def __init__(self, units, activation=None, **kwargs):\n",
        "    super().__init__(**kwargs)\n",
        "    self.units = units\n",
        "    self.activation = keras.activations.get(activation)\n",
        "  \n",
        "  def build(self, batch_input_shape):\n",
        "    self.kernel = self.add_weight(\n",
        "        name=\"kernel\", shape=[batch_input_shape[-1], self.units],\n",
        "        initializer=\"glorot_normal\"\n",
        "    )\n",
        "    self.bias = self.add_weight(\n",
        "        name=\"bias\", shape=[self.units], initializer=\"zeros\"\n",
        "    )\n",
        "    super().build(batch_input_shape)\n",
        "\n",
        "  def call(self, X):\n",
        "    return self.activation(X @ self.kernel + self.bias)\n",
        "\n",
        "  def compute_output_shape(self, batch_input_shape):\n",
        "    return tf.TensorShape(batch_input_shape.as_list()[:-1] + [self.units])\n",
        "\n",
        "  def get_config(self):\n",
        "    base_config = super().get_config()\n",
        "    return {**base_config, \"units\": self.units, \"activation\": keras.activations.serialize(self.activation)}"
      ],
      "execution_count": null,
      "outputs": []
    },
    {
      "cell_type": "code",
      "metadata": {
        "id": "wDGWFdby44ve"
      },
      "source": [
        ""
      ],
      "execution_count": null,
      "outputs": []
    },
    {
      "cell_type": "code",
      "metadata": {
        "id": "QeQQgxPlOWDq"
      },
      "source": [
        "class MyMultiLayer(keras.layers.Layer):\n",
        "  def call(self, X):\n",
        "    X1, X2 = X\n",
        "    return [X1 + X2, X1 + X2, X1 / X2]\n",
        "\n",
        "  def compute_output_shape(self, batch_input_shape):\n",
        "    b1, b2 = batch_input_shape\n",
        "    return [b1, b1, b1]"
      ],
      "execution_count": null,
      "outputs": []
    },
    {
      "cell_type": "code",
      "metadata": {
        "id": "S3djuVfgQlmN"
      },
      "source": [
        "class MyGaussianNoise(keras.layers.Layer):\n",
        "  def __init__(self, stddev, **kwargs):\n",
        "    super().__init__(**kwargs)\n",
        "    self.stddev = stddev\n",
        "\n",
        "  def call(self, X, training=None):\n",
        "    if training:\n",
        "      noise = tf.random.normal(tf.shape(X), stddev=self.stddev)\n",
        "      return X + noise\n",
        "    else:\n",
        "      return X\n",
        "  \n",
        "  def compute_output_shape(self, batch_input_shape):\n",
        "    return batch_input_shape"
      ],
      "execution_count": null,
      "outputs": []
    },
    {
      "cell_type": "markdown",
      "metadata": {
        "id": "FqU8bseGTFAT"
      },
      "source": [
        "### 12.3.6 사용자 정의 모델\n",
        "사용자 정의 모델 클래스를 만드는 방법은 간단합니다. keras.Model 클래스를 상속하여 생성자에서 층과 변수를 만들고 모델이 해야 할 작업을 call() 메서드에 구현합니다."
      ]
    },
    {
      "cell_type": "code",
      "metadata": {
        "id": "hjifko9sRF1F"
      },
      "source": [
        "class ResidualBlock(keras.layers.Layer):\n",
        "  def __init__(self, n_layers, n_neurons, **kwargs):\n",
        "    super().__init__(**kwargs)\n",
        "    self.hidden = [keras.layers.Dense(n_neurons, activation=\"elu\", kernel_initializer=\"he_normal\") for _ in range(n_layers)]\n",
        "\n",
        "  def call(self, inputs):\n",
        "    Z = inputs\n",
        "    for layer in self.hidden:\n",
        "      Z = layer(Z)\n",
        "    return inputs + Z"
      ],
      "execution_count": null,
      "outputs": []
    },
    {
      "cell_type": "code",
      "metadata": {
        "id": "cn3VYZNFVjRQ",
        "outputId": "b3f0a2d4-03e3-485f-b4de-41721c002eb1",
        "colab": {
          "base_uri": "https://localhost:8080/",
          "height": 136
        }
      },
      "source": [
        "class ResidualRegressor(keras.Model):\n",
        "  def __init__(self, output_dim, **kwargs):\n",
        "    super().__init__(**kwargs)\n",
        "    self.hidden1 = keras.layers.Dense(30, activation=\"elu\", kernel_initializer=\"he_normal\")\n",
        "    self.block1 = ResidualBlock(2, 30)\n",
        "    self.block2 = ResidualBlock(2. 30)\n",
        "    self.out = keras.layers.Dense(output_dim)\n",
        "\n",
        "  def call(self, inputs):\n",
        "    Z = self.hidden1(input)\n",
        "    for _ in range(1 + 3):\n",
        "      Z = self.block1(Z)\n",
        "    Z = self.block2(Z)\n",
        "    return self.out(Z)"
      ],
      "execution_count": null,
      "outputs": [
        {
          "output_type": "error",
          "ename": "SyntaxError",
          "evalue": "ignored",
          "traceback": [
            "\u001b[0;36m  File \u001b[0;32m\"<ipython-input-10-1719b9b0f0aa>\"\u001b[0;36m, line \u001b[0;32m6\u001b[0m\n\u001b[0;31m    self.block2 = ResidualBlock(2. 30)\u001b[0m\n\u001b[0m                                    ^\u001b[0m\n\u001b[0;31mSyntaxError\u001b[0m\u001b[0;31m:\u001b[0m invalid syntax\n"
          ]
        }
      ]
    },
    {
      "cell_type": "code",
      "metadata": {
        "id": "i-6j82xCWkI-"
      },
      "source": [
        ""
      ],
      "execution_count": null,
      "outputs": []
    }
  ]
}