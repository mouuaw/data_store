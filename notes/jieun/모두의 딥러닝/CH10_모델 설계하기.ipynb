{
 "cells": [
  {
   "cell_type": "markdown",
   "metadata": {},
   "source": [
    "https://github.com/gilbutITbook/006958/blob/master/deeplearning/deep_code/01_My_First_Deeplearning.py"
   ]
  },
  {
   "cell_type": "code",
   "execution_count": 4,
   "metadata": {},
   "outputs": [],
   "source": [
    "# 1. 데이터 분석과 입력\n",
    "\n",
    "# 딥러닝을 구동하는 데 필요한 케라스 함수를 불러옵니다.\n",
    "from keras.models import Sequential\n",
    "from keras.layers import Dense\n",
    "\n",
    "# 필요한 라이브러리를 불러옵니다.\n",
    "import numpy\n",
    "\n",
    "# 실행할 때마다 같은 결과를 출력하기 위해 설정하는 부분입니다.\n",
    "seed = 0\n",
    "numpy.random.seed(seed)\n",
    "\n",
    "# 준비된 수술 환자 데이터를 불러들입니다.\n",
    "# 폐암 수술 환자의 수술 전 진단 데이터와 수술 후 생존 결과를 기록한 데이터\n",
    "Data_set = numpy.loadtxt(\"C:/dataset/gilbut/ThoraricSurgery.csv\", delimiter=\",\")\n"
   ]
  },
  {
   "cell_type": "code",
   "execution_count": 6,
   "metadata": {},
   "outputs": [
    {
     "output_type": "execute_result",
     "data": {
      "text/plain": "array([[293.  ,   1.  ,   3.8 , ...,   0.  ,  62.  ,   0.  ],\n       [  1.  ,   2.  ,   2.88, ...,   0.  ,  60.  ,   0.  ],\n       [  8.  ,   2.  ,   3.19, ...,   0.  ,  66.  ,   1.  ],\n       ...,\n       [406.  ,   6.  ,   5.36, ...,   0.  ,  62.  ,   0.  ],\n       [ 25.  ,   8.  ,   4.32, ...,   0.  ,  58.  ,   1.  ],\n       [447.  ,   8.  ,   5.2 , ...,   0.  ,  49.  ,   0.  ]])"
     },
     "metadata": {},
     "execution_count": 6
    }
   ],
   "source": [
    "Data_set"
   ]
  },
  {
   "cell_type": "code",
   "execution_count": 7,
   "metadata": {},
   "outputs": [],
   "source": [
    "# 환자의 기록과 수술 결과를 X와 Y로 구분하여 저장합니다.\n",
    "X = Data_set[:,0:17]\n",
    "Y = Data_set[:,17]"
   ]
  },
  {
   "cell_type": "code",
   "execution_count": 8,
   "metadata": {
    "tags": []
   },
   "outputs": [
    {
     "output_type": "stream",
     "name": "stdout",
     "text": "Epoch 1/30\n47/47 [==============================] - 0s 2ms/step - loss: 0.1548 - accuracy: 0.8447\nEpoch 2/30\n47/47 [==============================] - 0s 2ms/step - loss: 0.1485 - accuracy: 0.8468\nEpoch 3/30\n47/47 [==============================] - 0s 2ms/step - loss: 0.1478 - accuracy: 0.8511\nEpoch 4/30\n47/47 [==============================] - 0s 2ms/step - loss: 0.1467 - accuracy: 0.8511\nEpoch 5/30\n47/47 [==============================] - 0s 2ms/step - loss: 0.1453 - accuracy: 0.8511\nEpoch 6/30\n47/47 [==============================] - 0s 2ms/step - loss: 0.1463 - accuracy: 0.8511\nEpoch 7/30\n47/47 [==============================] - 0s 2ms/step - loss: 0.1449 - accuracy: 0.8468\nEpoch 8/30\n47/47 [==============================] - 0s 2ms/step - loss: 0.1461 - accuracy: 0.8511\nEpoch 9/30\n47/47 [==============================] - 0s 2ms/step - loss: 0.1431 - accuracy: 0.8532\nEpoch 10/30\n47/47 [==============================] - 0s 2ms/step - loss: 0.1428 - accuracy: 0.8489\nEpoch 11/30\n47/47 [==============================] - 0s 2ms/step - loss: 0.1455 - accuracy: 0.8511\nEpoch 12/30\n47/47 [==============================] - 0s 2ms/step - loss: 0.1458 - accuracy: 0.8511\nEpoch 13/30\n47/47 [==============================] - 0s 2ms/step - loss: 0.1466 - accuracy: 0.8468\nEpoch 14/30\n47/47 [==============================] - 0s 2ms/step - loss: 0.1429 - accuracy: 0.8489\nEpoch 15/30\n47/47 [==============================] - 0s 2ms/step - loss: 0.1400 - accuracy: 0.8468\nEpoch 16/30\n47/47 [==============================] - 0s 3ms/step - loss: 0.1391 - accuracy: 0.8447\nEpoch 17/30\n47/47 [==============================] - 0s 2ms/step - loss: 0.1335 - accuracy: 0.8511\nEpoch 18/30\n47/47 [==============================] - 0s 2ms/step - loss: 0.1353 - accuracy: 0.8468\nEpoch 19/30\n47/47 [==============================] - 0s 2ms/step - loss: 0.1442 - accuracy: 0.8532\nEpoch 20/30\n47/47 [==============================] - 0s 2ms/step - loss: 0.1409 - accuracy: 0.8383\nEpoch 21/30\n47/47 [==============================] - 0s 2ms/step - loss: 0.1400 - accuracy: 0.8468\nEpoch 22/30\n47/47 [==============================] - 0s 2ms/step - loss: 0.1344 - accuracy: 0.8511\nEpoch 23/30\n47/47 [==============================] - 0s 2ms/step - loss: 0.1335 - accuracy: 0.8489\nEpoch 24/30\n47/47 [==============================] - 0s 2ms/step - loss: 0.1360 - accuracy: 0.8468\nEpoch 25/30\n47/47 [==============================] - 0s 2ms/step - loss: 0.1380 - accuracy: 0.8532\nEpoch 26/30\n47/47 [==============================] - 0s 2ms/step - loss: 0.1310 - accuracy: 0.8532\nEpoch 27/30\n47/47 [==============================] - 0s 2ms/step - loss: 0.1306 - accuracy: 0.8447\nEpoch 28/30\n47/47 [==============================] - 0s 2ms/step - loss: 0.1306 - accuracy: 0.8511\nEpoch 29/30\n47/47 [==============================] - 0s 2ms/step - loss: 0.1288 - accuracy: 0.8511\nEpoch 30/30\n47/47 [==============================] - 0s 2ms/step - loss: 0.1285 - accuracy: 0.8532\n"
    },
    {
     "output_type": "execute_result",
     "data": {
      "text/plain": "<tensorflow.python.keras.callbacks.History at 0x18724780148>"
     },
     "metadata": {},
     "execution_count": 8
    }
   ],
   "source": [
    "# 2. 딥러닝 실행\n",
    "\n",
    "# 딥러닝 구조를 결정합니다(모델을 설정하고 실행하는 부분입니다).\n",
    "model = Sequential()\n",
    "model.add(Dense(30, input_dim=17, activation='relu'))\n",
    "model.add(Dense(1, activation='sigmoid'))\n",
    "\n",
    "# 딥러닝을 실행합니다.\n",
    "model.compile(loss='mean_squared_error', optimizer='adam', metrics=['accuracy'])\n",
    "model.fit(X, Y, epochs=30, batch_size=10)"
   ]
  },
  {
   "cell_type": "markdown",
   "metadata": {},
   "source": [
    "model.compile(loss='mean_squared_error', optimizer='adam', metrics=['accuracy'])\n",
    "- activation : 다음 층으로 어떻게 값을 넘길지 결정하는 부분. relu와 sigmoid 함수를 가장 많이 사용\n",
    "- loss : 한번 신경망이 실행될 때마다 오차 값을 추적하는 함수\n",
    "- optimizer : 오차를 어떻게 줄여나갈지 정하는 함수"
   ]
  },
  {
   "cell_type": "markdown",
   "metadata": {},
   "source": [
    "오차 함수에는 평균 제곱 오차 계열의 함수 외에도 교차 엔트로피 계열의 함수가 있음. 평균 제곱 오차는 수렴하기까지 속도가 많이 걸린다는 단점이 있음. \n",
    "### 교차 엔트로피\n",
    "- 교차 엔트로피는 출력 값에 로그를 취해서, 오차가 커지면 수렴 속도가 빨라지고 오차가 작아지면 속도가 감소하게끔 만든 것.\n",
    "- 주로 분류 문제에서 많이 사용됨.\n",
    "- 예측 값이 참과 거짓 둘 중 하나인 형식일 때 -> binary_crossentropy를 사용"
   ]
  },
  {
   "cell_type": "markdown",
   "metadata": {},
   "source": [
    "model.fit(X, Y, epochs=30, batch_size=10)\n",
    "- epochs : 학습 프로세스가 모든 샘플에 대해 한 번 실행되는 단위. 각 샘플이 처음부터 끝까지 30번 재사용될 떄까지 실행을 반복하라는 뜻\n",
    "- batch_size : 샘플을 한 번에 몇 개씩 처리할지를 정하는 부분. 전체 470개의 샘플을 10개씩 끊어서 집어넣으라는 뜻. 배치 사이즈가 너무 크면 학습 속도가 느려지고, 너무 작으면 각 실행 값의 편차가 생겨서 전체 결과값이 불안정해질 수 있음."
   ]
  },
  {
   "cell_type": "code",
   "execution_count": 9,
   "metadata": {
    "tags": []
   },
   "outputs": [
    {
     "output_type": "stream",
     "name": "stdout",
     "text": "15/15 [==============================] - 0s 2ms/step - loss: 0.1280 - accuracy: 0.8532\n\n Accuracy: 0.8532\n"
    }
   ],
   "source": [
    "# 3. 결과 출력\n",
    "\n",
    "## 학습 대상이 되는 기존 환자들의 데이터 중에 일부를 랜덤하게 추출해, 새 환자인 것으로 가정하고 테스트\n",
    "print(\"\\n Accuracy: %.4f\" % (model.evaluate(X, Y)[1]))"
   ]
  },
  {
   "cell_type": "code",
   "execution_count": null,
   "metadata": {},
   "outputs": [],
   "source": []
  }
 ],
 "metadata": {
  "language_info": {
   "codemirror_mode": {
    "name": "ipython",
    "version": 3
   },
   "file_extension": ".py",
   "mimetype": "text/x-python",
   "name": "python",
   "nbconvert_exporter": "python",
   "pygments_lexer": "ipython3",
   "version": "3.7.6-final"
  },
  "orig_nbformat": 2,
  "kernelspec": {
   "name": "python3",
   "display_name": "Python 3"
  }
 },
 "nbformat": 4,
 "nbformat_minor": 2
}