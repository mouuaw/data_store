{
 "cells": [
  {
   "cell_type": "markdown",
   "metadata": {},
   "source": [
    "https://github.com/gilbutITbook/006958/blob/master/deeplearning/deep_code/13_Boston.py"
   ]
  },
  {
   "cell_type": "markdown",
   "metadata": {},
   "source": [
    "보스턴 집 값 예측하기"
   ]
  },
  {
   "cell_type": "code",
   "execution_count": 1,
   "metadata": {},
   "outputs": [],
   "source": [
    "from keras.models import Sequential\n",
    "from keras.layers import Dense\n",
    "from sklearn.model_selection import train_test_split\n",
    "\n",
    "import numpy\n",
    "import pandas as pd\n",
    "\n",
    "# seed 값 설정\n",
    "seed = 0\n",
    "numpy.random.seed(seed)\n",
    "\n",
    "df = pd.read_csv(\"C:/dataset/gilbut/housing.csv\", delim_whitespace=True, header=None)  # delim_whitespace = True : 공백으로 구분된 파일"
   ]
  },
  {
   "cell_type": "code",
   "execution_count": 2,
   "metadata": {},
   "outputs": [
    {
     "output_type": "execute_result",
     "data": {
      "text/plain": "        0     1     2   3      4      5     6       7   8      9     10  \\\n0  0.00632  18.0  2.31   0  0.538  6.575  65.2  4.0900   1  296.0  15.3   \n1  0.02731   0.0  7.07   0  0.469  6.421  78.9  4.9671   2  242.0  17.8   \n2  0.02729   0.0  7.07   0  0.469  7.185  61.1  4.9671   2  242.0  17.8   \n3  0.03237   0.0  2.18   0  0.458  6.998  45.8  6.0622   3  222.0  18.7   \n4  0.06905   0.0  2.18   0  0.458  7.147  54.2  6.0622   3  222.0  18.7   \n\n       11    12    13  \n0  396.90  4.98  24.0  \n1  396.90  9.14  21.6  \n2  392.83  4.03  34.7  \n3  394.63  2.94  33.4  \n4  396.90  5.33  36.2  ",
      "text/html": "<div>\n<style scoped>\n    .dataframe tbody tr th:only-of-type {\n        vertical-align: middle;\n    }\n\n    .dataframe tbody tr th {\n        vertical-align: top;\n    }\n\n    .dataframe thead th {\n        text-align: right;\n    }\n</style>\n<table border=\"1\" class=\"dataframe\">\n  <thead>\n    <tr style=\"text-align: right;\">\n      <th></th>\n      <th>0</th>\n      <th>1</th>\n      <th>2</th>\n      <th>3</th>\n      <th>4</th>\n      <th>5</th>\n      <th>6</th>\n      <th>7</th>\n      <th>8</th>\n      <th>9</th>\n      <th>10</th>\n      <th>11</th>\n      <th>12</th>\n      <th>13</th>\n    </tr>\n  </thead>\n  <tbody>\n    <tr>\n      <th>0</th>\n      <td>0.00632</td>\n      <td>18.0</td>\n      <td>2.31</td>\n      <td>0</td>\n      <td>0.538</td>\n      <td>6.575</td>\n      <td>65.2</td>\n      <td>4.0900</td>\n      <td>1</td>\n      <td>296.0</td>\n      <td>15.3</td>\n      <td>396.90</td>\n      <td>4.98</td>\n      <td>24.0</td>\n    </tr>\n    <tr>\n      <th>1</th>\n      <td>0.02731</td>\n      <td>0.0</td>\n      <td>7.07</td>\n      <td>0</td>\n      <td>0.469</td>\n      <td>6.421</td>\n      <td>78.9</td>\n      <td>4.9671</td>\n      <td>2</td>\n      <td>242.0</td>\n      <td>17.8</td>\n      <td>396.90</td>\n      <td>9.14</td>\n      <td>21.6</td>\n    </tr>\n    <tr>\n      <th>2</th>\n      <td>0.02729</td>\n      <td>0.0</td>\n      <td>7.07</td>\n      <td>0</td>\n      <td>0.469</td>\n      <td>7.185</td>\n      <td>61.1</td>\n      <td>4.9671</td>\n      <td>2</td>\n      <td>242.0</td>\n      <td>17.8</td>\n      <td>392.83</td>\n      <td>4.03</td>\n      <td>34.7</td>\n    </tr>\n    <tr>\n      <th>3</th>\n      <td>0.03237</td>\n      <td>0.0</td>\n      <td>2.18</td>\n      <td>0</td>\n      <td>0.458</td>\n      <td>6.998</td>\n      <td>45.8</td>\n      <td>6.0622</td>\n      <td>3</td>\n      <td>222.0</td>\n      <td>18.7</td>\n      <td>394.63</td>\n      <td>2.94</td>\n      <td>33.4</td>\n    </tr>\n    <tr>\n      <th>4</th>\n      <td>0.06905</td>\n      <td>0.0</td>\n      <td>2.18</td>\n      <td>0</td>\n      <td>0.458</td>\n      <td>7.147</td>\n      <td>54.2</td>\n      <td>6.0622</td>\n      <td>3</td>\n      <td>222.0</td>\n      <td>18.7</td>\n      <td>396.90</td>\n      <td>5.33</td>\n      <td>36.2</td>\n    </tr>\n  </tbody>\n</table>\n</div>"
     },
     "metadata": {},
     "execution_count": 2
    }
   ],
   "source": [
    "df.head()"
   ]
  },
  {
   "cell_type": "code",
   "execution_count": 3,
   "metadata": {
    "tags": []
   },
   "outputs": [
    {
     "output_type": "stream",
     "name": "stdout",
     "text": "<class 'pandas.core.frame.DataFrame'>\nRangeIndex: 506 entries, 0 to 505\nData columns (total 14 columns):\n #   Column  Non-Null Count  Dtype  \n---  ------  --------------  -----  \n 0   0       506 non-null    float64\n 1   1       506 non-null    float64\n 2   2       506 non-null    float64\n 3   3       506 non-null    int64  \n 4   4       506 non-null    float64\n 5   5       506 non-null    float64\n 6   6       506 non-null    float64\n 7   7       506 non-null    float64\n 8   8       506 non-null    int64  \n 9   9       506 non-null    float64\n 10  10      506 non-null    float64\n 11  11      506 non-null    float64\n 12  12      506 non-null    float64\n 13  13      506 non-null    float64\ndtypes: float64(12), int64(2)\nmemory usage: 55.5 KB\n"
    }
   ],
   "source": [
    "df.info()"
   ]
  },
  {
   "cell_type": "code",
   "execution_count": 4,
   "metadata": {},
   "outputs": [],
   "source": [
    "dataset = df.values\n",
    "X = dataset[:,0:13]\n",
    "Y = dataset[:,13]"
   ]
  },
  {
   "cell_type": "code",
   "execution_count": 5,
   "metadata": {},
   "outputs": [],
   "source": [
    "X_train, X_test, Y_train, Y_test = train_test_split(X, Y, test_size=0.3, random_state=seed)"
   ]
  },
  {
   "cell_type": "markdown",
   "metadata": {},
   "source": [
    "## 선형 회귀 실행\n",
    "선형 회귀 데이터는 마지막에 참과 거짓을 구분할 필요가 없음. 출력층에 활성화 함수를 지정할 필요도 없음."
   ]
  },
  {
   "cell_type": "code",
   "execution_count": 6,
   "metadata": {},
   "outputs": [],
   "source": [
    "model = Sequential()\n",
    "model.add(Dense(30, input_dim=13, activation='relu'))\n",
    "model.add(Dense(6, activation='relu'))\n",
    "model.add(Dense(1))"
   ]
  },
  {
   "cell_type": "code",
   "execution_count": 7,
   "metadata": {},
   "outputs": [],
   "source": [
    "model.compile(loss='mean_squared_error',\n",
    "              optimizer='adam')"
   ]
  },
  {
   "cell_type": "code",
   "execution_count": 8,
   "metadata": {
    "tags": []
   },
   "outputs": [
    {
     "output_type": "stream",
     "name": "stdout",
     "text": "Epoch 1/200\n36/36 [==============================] - 0s 2ms/step - loss: 8154.6475\nEpoch 2/200\n36/36 [==============================] - 0s 2ms/step - loss: 223.8750\nEpoch 3/200\n36/36 [==============================] - 0s 2ms/step - loss: 85.9934\nEpoch 4/200\n36/36 [==============================] - 0s 2ms/step - loss: 71.1550\nEpoch 5/200\n36/36 [==============================] - 0s 2ms/step - loss: 68.9456\nEpoch 6/200\n36/36 [==============================] - 0s 2ms/step - loss: 67.0541\nEpoch 7/200\n36/36 [==============================] - 0s 2ms/step - loss: 65.4017\nEpoch 8/200\n36/36 [==============================] - 0s 2ms/step - loss: 64.2923\nEpoch 9/200\n36/36 [==============================] - 0s 2ms/step - loss: 63.7091\nEpoch 10/200\n36/36 [==============================] - 0s 2ms/step - loss: 62.6741\nEpoch 11/200\n36/36 [==============================] - 0s 2ms/step - loss: 62.1945\nEpoch 12/200\n36/36 [==============================] - 0s 2ms/step - loss: 61.4663\nEpoch 13/200\n36/36 [==============================] - 0s 2ms/step - loss: 60.8180\nEpoch 14/200\n36/36 [==============================] - 0s 2ms/step - loss: 60.0695\nEpoch 15/200\n36/36 [==============================] - 0s 2ms/step - loss: 59.4372\nEpoch 16/200\n36/36 [==============================] - 0s 2ms/step - loss: 59.0621\nEpoch 17/200\n36/36 [==============================] - 0s 2ms/step - loss: 58.1056\nEpoch 18/200\n36/36 [==============================] - 0s 2ms/step - loss: 57.6931\nEpoch 19/200\n36/36 [==============================] - 0s 2ms/step - loss: 57.5440\nEpoch 20/200\n36/36 [==============================] - 0s 2ms/step - loss: 56.4322\nEpoch 21/200\n36/36 [==============================] - 0s 2ms/step - loss: 57.2770\nEpoch 22/200\n26/36 [====================>.........] - ETA: 0s - loss: 61.7636/36 [==============================] - 0s 2ms/step - loss: 56.0974\nEpoch 23/200\n36/36 [==============================] - 0s 2ms/step - loss: 55.4416\nEpoch 24/200\n36/36 [==============================] - 0s 2ms/step - loss: 53.8109\nEpoch 25/200\n36/36 [==============================] - 0s 2ms/step - loss: 53.9088\nEpoch 26/200\n36/36 [==============================] - 0s 2ms/step - loss: 52.6703\nEpoch 27/200\n36/36 [==============================] - 0s 2ms/step - loss: 54.1932\nEpoch 28/200\n36/36 [==============================] - 0s 2ms/step - loss: 51.6533\nEpoch 29/200\n36/36 [==============================] - 0s 2ms/step - loss: 52.7437\nEpoch 30/200\n36/36 [==============================] - 0s 2ms/step - loss: 52.0284\nEpoch 31/200\n36/36 [==============================] - 0s 3ms/step - loss: 50.7116\nEpoch 32/200\n36/36 [==============================] - 0s 2ms/step - loss: 50.8861\nEpoch 33/200\n36/36 [==============================] - 0s 2ms/step - loss: 49.8783\nEpoch 34/200\n36/36 [==============================] - 0s 2ms/step - loss: 49.9004\nEpoch 35/200\n36/36 [==============================] - 0s 2ms/step - loss: 49.0653\nEpoch 36/200\n36/36 [==============================] - 0s 2ms/step - loss: 48.7247\nEpoch 37/200\n36/36 [==============================] - 0s 2ms/step - loss: 49.6277\nEpoch 38/200\n36/36 [==============================] - 0s 2ms/step - loss: 47.7560\nEpoch 39/200\n36/36 [==============================] - 0s 2ms/step - loss: 47.7575\nEpoch 40/200\n36/36 [==============================] - 0s 2ms/step - loss: 46.8897\nEpoch 41/200\n36/36 [==============================] - 0s 2ms/step - loss: 47.9995\nEpoch 42/200\n36/36 [==============================] - 0s 2ms/step - loss: 46.3499\nEpoch 43/200\n36/36 [==============================] - 0s 2ms/step - loss: 46.7855\nEpoch 44/200\n36/36 [==============================] - 0s 2ms/step - loss: 47.8508\nEpoch 45/200\n36/36 [==============================] - 0s 2ms/step - loss: 46.5354\nEpoch 46/200\n36/36 [==============================] - 0s 2ms/step - loss: 45.9515\nEpoch 47/200\n36/36 [==============================] - 0s 2ms/step - loss: 44.6504\nEpoch 48/200\n36/36 [==============================] - 0s 2ms/step - loss: 45.3222\nEpoch 49/200\n36/36 [==============================] - 0s 2ms/step - loss: 45.9405\nEpoch 50/200\n36/36 [==============================] - 0s 2ms/step - loss: 46.4895\nEpoch 51/200\n36/36 [==============================] - 0s 2ms/step - loss: 44.6368\nEpoch 52/200\n36/36 [==============================] - 0s 2ms/step - loss: 43.6122\nEpoch 53/200\n36/36 [==============================] - 0s 2ms/step - loss: 48.0263\nEpoch 54/200\n36/36 [==============================] - 0s 2ms/step - loss: 42.7749\nEpoch 55/200\n36/36 [==============================] - 0s 2ms/step - loss: 42.2510\nEpoch 56/200\n36/36 [==============================] - 0s 2ms/step - loss: 43.8187\nEpoch 57/200\n36/36 [==============================] - 0s 2ms/step - loss: 41.4268\nEpoch 58/200\n36/36 [==============================] - 0s 2ms/step - loss: 41.1700\nEpoch 59/200\n36/36 [==============================] - 0s 2ms/step - loss: 40.8710\nEpoch 60/200\n36/36 [==============================] - 0s 2ms/step - loss: 41.1952\nEpoch 61/200\n36/36 [==============================] - 0s 2ms/step - loss: 40.1876\nEpoch 62/200\n36/36 [==============================] - 0s 2ms/step - loss: 39.6227\nEpoch 63/200\n36/36 [==============================] - 0s 2ms/step - loss: 37.5290\nEpoch 64/200\n36/36 [==============================] - 0s 2ms/step - loss: 39.6627\nEpoch 65/200\n36/36 [==============================] - 0s 2ms/step - loss: 39.0301\nEpoch 66/200\n36/36 [==============================] - 0s 2ms/step - loss: 37.1998\nEpoch 67/200\n36/36 [==============================] - 0s 3ms/step - loss: 36.7260\nEpoch 68/200\n36/36 [==============================] - 0s 2ms/step - loss: 36.6396\nEpoch 69/200\n36/36 [==============================] - 0s 2ms/step - loss: 38.4043\nEpoch 70/200\n36/36 [==============================] - 0s 2ms/step - loss: 35.2887\nEpoch 71/200\n36/36 [==============================] - 0s 2ms/step - loss: 35.6290\nEpoch 72/200\n36/36 [==============================] - 0s 2ms/step - loss: 37.5795\nEpoch 73/200\n36/36 [==============================] - 0s 2ms/step - loss: 36.0485\nEpoch 74/200\n36/36 [==============================] - 0s 2ms/step - loss: 35.5894\nEpoch 75/200\n36/36 [==============================] - 0s 2ms/step - loss: 34.9203\nEpoch 76/200\n36/36 [==============================] - 0s 2ms/step - loss: 35.1856\nEpoch 77/200\n36/36 [==============================] - 0s 2ms/step - loss: 35.9117\nEpoch 78/200\n36/36 [==============================] - 0s 2ms/step - loss: 33.7092\nEpoch 79/200\n36/36 [==============================] - 0s 2ms/step - loss: 35.6593\nEpoch 80/200\n36/36 [==============================] - 0s 2ms/step - loss: 34.8518\nEpoch 81/200\n36/36 [==============================] - 0s 2ms/step - loss: 34.0582\nEpoch 82/200\n36/36 [==============================] - 0s 2ms/step - loss: 33.4283\nEpoch 83/200\n36/36 [==============================] - 0s 2ms/step - loss: 32.9804\nEpoch 84/200\n36/36 [==============================] - 0s 2ms/step - loss: 32.6192\nEpoch 85/200\n36/36 [==============================] - 0s 2ms/step - loss: 35.6765\nEpoch 86/200\n36/36 [==============================] - 0s 2ms/step - loss: 32.9679\nEpoch 87/200\n36/36 [==============================] - 0s 2ms/step - loss: 33.7314\nEpoch 88/200\n24/36 [===================>..........] - ETA: 0s - loss: 40.1036/36 [==============================] - 0s 2ms/step - loss: 38.0557\nEpoch 89/200\n36/36 [==============================] - 0s 2ms/step - loss: 32.5594\nEpoch 90/200\n36/36 [==============================] - 0s 2ms/step - loss: 31.9040\nEpoch 91/200\n36/36 [==============================] - 0s 2ms/step - loss: 31.9589\nEpoch 92/200\n36/36 [==============================] - 0s 2ms/step - loss: 31.6772\nEpoch 93/200\n36/36 [==============================] - 0s 2ms/step - loss: 31.2226\nEpoch 94/200\n36/36 [==============================] - 0s 2ms/step - loss: 31.7458\nEpoch 95/200\n36/36 [==============================] - 0s 2ms/step - loss: 30.7126\nEpoch 96/200\n36/36 [==============================] - 0s 2ms/step - loss: 32.2799\nEpoch 97/200\n36/36 [==============================] - 0s 2ms/step - loss: 31.9515\nEpoch 98/200\n36/36 [==============================] - 0s 3ms/step - loss: 34.8877\nEpoch 99/200\n36/36 [==============================] - 0s 4ms/step - loss: 34.4282\nEpoch 100/200\n36/36 [==============================] - 0s 2ms/step - loss: 31.0184\nEpoch 101/200\n36/36 [==============================] - 0s 2ms/step - loss: 33.3547\nEpoch 102/200\n36/36 [==============================] - 0s 2ms/step - loss: 31.5387\nEpoch 103/200\n36/36 [==============================] - 0s 2ms/step - loss: 32.2840\nEpoch 104/200\n36/36 [==============================] - 0s 2ms/step - loss: 31.0790\nEpoch 105/200\n36/36 [==============================] - 0s 2ms/step - loss: 32.8562\nEpoch 106/200\n36/36 [==============================] - 0s 2ms/step - loss: 31.8163\nEpoch 107/200\n36/36 [==============================] - 0s 2ms/step - loss: 31.0325\nEpoch 108/200\n36/36 [==============================] - 0s 2ms/step - loss: 30.2125\nEpoch 109/200\n36/36 [==============================] - 0s 2ms/step - loss: 31.2516\nEpoch 110/200\n36/36 [==============================] - 0s 2ms/step - loss: 30.7209\nEpoch 111/200\n36/36 [==============================] - 0s 2ms/step - loss: 30.3119\nEpoch 112/200\n36/36 [==============================] - 0s 2ms/step - loss: 29.9134\nEpoch 113/200\n36/36 [==============================] - 0s 2ms/step - loss: 32.8767\nEpoch 114/200\n36/36 [==============================] - 0s 2ms/step - loss: 28.9086\nEpoch 115/200\n36/36 [==============================] - 0s 2ms/step - loss: 30.9455\nEpoch 116/200\n36/36 [==============================] - 0s 2ms/step - loss: 29.2701\nEpoch 117/200\n36/36 [==============================] - 0s 2ms/step - loss: 28.9805\nEpoch 118/200\n36/36 [==============================] - 0s 2ms/step - loss: 30.1127\nEpoch 119/200\n36/36 [==============================] - 0s 2ms/step - loss: 30.2372\nEpoch 120/200\n36/36 [==============================] - 0s 2ms/step - loss: 30.4231\nEpoch 121/200\n36/36 [==============================] - 0s 2ms/step - loss: 32.7674\nEpoch 122/200\n36/36 [==============================] - 0s 2ms/step - loss: 28.9188\nEpoch 123/200\n36/36 [==============================] - 0s 2ms/step - loss: 31.3727\nEpoch 124/200\n36/36 [==============================] - 0s 2ms/step - loss: 27.6886\nEpoch 125/200\n36/36 [==============================] - 0s 3ms/step - loss: 28.0673\nEpoch 126/200\n36/36 [==============================] - 0s 3ms/step - loss: 27.3259\nEpoch 127/200\n36/36 [==============================] - 0s 2ms/step - loss: 29.9329\nEpoch 128/200\n36/36 [==============================] - 0s 2ms/step - loss: 26.4406\nEpoch 129/200\n36/36 [==============================] - 0s 2ms/step - loss: 29.2701\nEpoch 130/200\n36/36 [==============================] - 0s 2ms/step - loss: 29.4744\nEpoch 131/200\n36/36 [==============================] - 0s 2ms/step - loss: 26.1620\nEpoch 132/200\n36/36 [==============================] - 0s 2ms/step - loss: 26.2789\nEpoch 133/200\n36/36 [==============================] - 0s 2ms/step - loss: 26.8357\nEpoch 134/200\n36/36 [==============================] - 0s 2ms/step - loss: 25.6258\nEpoch 135/200\n36/36 [==============================] - 0s 2ms/step - loss: 28.3389\nEpoch 136/200\n36/36 [==============================] - 0s 2ms/step - loss: 26.3861\nEpoch 137/200\n36/36 [==============================] - 0s 2ms/step - loss: 26.9165\nEpoch 138/200\n36/36 [==============================] - 0s 2ms/step - loss: 26.6796\nEpoch 139/200\n36/36 [==============================] - 0s 2ms/step - loss: 35.3057\nEpoch 140/200\n36/36 [==============================] - 0s 2ms/step - loss: 29.3473\nEpoch 141/200\n36/36 [==============================] - 0s 2ms/step - loss: 26.2618\nEpoch 142/200\n36/36 [==============================] - 0s 2ms/step - loss: 26.3711\nEpoch 143/200\n36/36 [==============================] - 0s 2ms/step - loss: 26.6949\nEpoch 144/200\n36/36 [==============================] - 0s 2ms/step - loss: 25.9452\nEpoch 145/200\n36/36 [==============================] - 0s 2ms/step - loss: 30.3721\nEpoch 146/200\n36/36 [==============================] - 0s 2ms/step - loss: 26.1506\nEpoch 147/200\n36/36 [==============================] - 0s 2ms/step - loss: 25.3105\nEpoch 148/200\n36/36 [==============================] - 0s 2ms/step - loss: 32.6911\nEpoch 149/200\n36/36 [==============================] - 0s 2ms/step - loss: 25.9385\nEpoch 150/200\n36/36 [==============================] - 0s 3ms/step - loss: 26.6382\nEpoch 151/200\n36/36 [==============================] - 0s 2ms/step - loss: 26.0699\nEpoch 152/200\n36/36 [==============================] - 0s 3ms/step - loss: 30.1109\nEpoch 153/200\n36/36 [==============================] - 0s 2ms/step - loss: 25.5944\nEpoch 154/200\n36/36 [==============================] - 0s 2ms/step - loss: 27.3446\nEpoch 155/200\n36/36 [==============================] - 0s 2ms/step - loss: 24.5865\nEpoch 156/200\n36/36 [==============================] - 0s 2ms/step - loss: 25.8373\nEpoch 157/200\n36/36 [==============================] - 0s 2ms/step - loss: 25.5363\nEpoch 158/200\n36/36 [==============================] - 0s 2ms/step - loss: 26.9601\nEpoch 159/200\n36/36 [==============================] - 0s 2ms/step - loss: 25.1545\nEpoch 160/200\n36/36 [==============================] - 0s 2ms/step - loss: 25.0423\nEpoch 161/200\n36/36 [==============================] - 0s 2ms/step - loss: 26.8765\nEpoch 162/200\n36/36 [==============================] - 0s 2ms/step - loss: 28.7395\nEpoch 163/200\n36/36 [==============================] - 0s 2ms/step - loss: 26.2926\nEpoch 164/200\n36/36 [==============================] - 0s 2ms/step - loss: 26.0823\nEpoch 165/200\n36/36 [==============================] - 0s 2ms/step - loss: 23.7180\nEpoch 166/200\n36/36 [==============================] - 0s 2ms/step - loss: 25.9021\nEpoch 167/200\n36/36 [==============================] - 0s 2ms/step - loss: 24.0220\nEpoch 168/200\n36/36 [==============================] - 0s 2ms/step - loss: 23.9519\nEpoch 169/200\n36/36 [==============================] - 0s 2ms/step - loss: 24.5861\nEpoch 170/200\n36/36 [==============================] - 0s 2ms/step - loss: 25.7962\nEpoch 171/200\n36/36 [==============================] - 0s 2ms/step - loss: 24.1674\nEpoch 172/200\n36/36 [==============================] - 0s 2ms/step - loss: 23.1630\nEpoch 173/200\n36/36 [==============================] - 0s 2ms/step - loss: 23.4944\nEpoch 174/200\n36/36 [==============================] - 0s 2ms/step - loss: 23.6393\nEpoch 175/200\n36/36 [==============================] - 0s 2ms/step - loss: 26.9869\nEpoch 176/200\n36/36 [==============================] - 0s 2ms/step - loss: 24.6108\nEpoch 177/200\n36/36 [==============================] - 0s 2ms/step - loss: 24.1916\nEpoch 178/200\n36/36 [==============================] - 0s 2ms/step - loss: 24.7823\nEpoch 179/200\n36/36 [==============================] - 0s 2ms/step - loss: 24.2100\nEpoch 180/200\n36/36 [==============================] - 0s 2ms/step - loss: 22.7961\nEpoch 181/200\n36/36 [==============================] - 0s 2ms/step - loss: 24.1442\nEpoch 182/200\n36/36 [==============================] - 0s 2ms/step - loss: 25.2136\nEpoch 183/200\n36/36 [==============================] - 0s 2ms/step - loss: 26.2328\nEpoch 184/200\n36/36 [==============================] - 0s 2ms/step - loss: 25.5203\nEpoch 185/200\n36/36 [==============================] - 0s 2ms/step - loss: 27.4261\nEpoch 186/200\n36/36 [==============================] - 0s 2ms/step - loss: 24.2149\nEpoch 187/200\n36/36 [==============================] - 0s 2ms/step - loss: 22.7761\nEpoch 188/200\n36/36 [==============================] - 0s 2ms/step - loss: 22.1464\nEpoch 189/200\n36/36 [==============================] - 0s 2ms/step - loss: 22.3529\nEpoch 190/200\n36/36 [==============================] - 0s 2ms/step - loss: 24.2094\nEpoch 191/200\n36/36 [==============================] - 0s 2ms/step - loss: 24.7250\nEpoch 192/200\n36/36 [==============================] - 0s 2ms/step - loss: 23.1587\nEpoch 193/200\n36/36 [==============================] - 0s 2ms/step - loss: 22.7533\nEpoch 194/200\n36/36 [==============================] - 0s 2ms/step - loss: 22.0672\nEpoch 195/200\n36/36 [==============================] - 0s 2ms/step - loss: 22.7781\nEpoch 196/200\n36/36 [==============================] - 0s 2ms/step - loss: 21.5475\nEpoch 197/200\n36/36 [==============================] - 0s 2ms/step - loss: 21.5875\nEpoch 198/200\n36/36 [==============================] - 0s 2ms/step - loss: 22.0521\nEpoch 199/200\n36/36 [==============================] - 0s 2ms/step - loss: 23.0830\nEpoch 200/200\n36/36 [==============================] - 0s 2ms/step - loss: 24.2443\n"
    },
    {
     "output_type": "execute_result",
     "data": {
      "text/plain": "<tensorflow.python.keras.callbacks.History at 0x1ed3eb62448>"
     },
     "metadata": {},
     "execution_count": 8
    }
   ],
   "source": [
    "model.fit(X_train, Y_train, epochs=200, batch_size=10)"
   ]
  },
  {
   "cell_type": "code",
   "execution_count": 27,
   "metadata": {
    "tags": []
   },
   "outputs": [
    {
     "output_type": "stream",
     "name": "stdout",
     "text": "실제가격: 22.600, 예상가격: 20.895\n실제가격: 50.000, 예상가격: 27.070\n실제가격: 23.000, 예상가격: 28.095\n실제가격: 8.300, 예상가격: 15.048\n실제가격: 21.200, 예상가격: 23.388\n실제가격: 19.900, 예상가격: 25.593\n실제가격: 20.600, 예상가격: 21.454\n실제가격: 18.700, 예상가격: 24.995\n실제가격: 16.100, 예상가격: 22.143\n실제가격: 18.600, 예상가격: 8.962\n"
    }
   ],
   "source": [
    "# 예측 값과 실제 값의 비교\n",
    "Y_prediction = model.predict(X_test).flatten()\n",
    "for i in range(10):\n",
    "    label = Y_test[i]\n",
    "    prediction = Y_prediction[i]\n",
    "    print(\"실제가격: {:.3f}, 예상가격: {:.3f}\".format(label, prediction))"
   ]
  },
  {
   "cell_type": "code",
   "execution_count": null,
   "metadata": {},
   "outputs": [],
   "source": [
    "## flatten() : 데이터 배열이 몇 차원이든 모두 1차원으로 바꿔 읽기 쉽게 해 주는 함수"
   ]
  }
 ],
 "metadata": {
  "language_info": {
   "codemirror_mode": {
    "name": "ipython",
    "version": 3
   },
   "file_extension": ".py",
   "mimetype": "text/x-python",
   "name": "python",
   "nbconvert_exporter": "python",
   "pygments_lexer": "ipython3",
   "version": "3.7.6-final"
  },
  "orig_nbformat": 2,
  "kernelspec": {
   "name": "python3",
   "display_name": "Python 3"
  }
 },
 "nbformat": 4,
 "nbformat_minor": 2
}