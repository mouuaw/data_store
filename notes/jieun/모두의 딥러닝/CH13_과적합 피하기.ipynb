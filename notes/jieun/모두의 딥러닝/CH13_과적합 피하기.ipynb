{
 "cells": [
  {
   "cell_type": "markdown",
   "metadata": {},
   "source": [
    "https://github.com/gilbutITbook/006958/blob/master/deeplearning/deep_code/05_Sonar_Train_Test.py\n",
    "\n",
    "https://github.com/gilbutITbook/006958/blob/master/deeplearning/deep_code/06-Sonar-Save-Model.py\n",
    "\n",
    "https://github.com/gilbutITbook/006958/blob/master/deeplearning/deep_code/07_Sonar-K-fold.py"
   ]
  },
  {
   "cell_type": "markdown",
   "metadata": {},
   "source": [
    "음파 탐지기 데이터 정보를 이용해 광물과 돌을 분류"
   ]
  },
  {
   "cell_type": "code",
   "execution_count": 2,
   "metadata": {},
   "outputs": [],
   "source": [
    "from keras.models import Sequential\n",
    "from keras.layers.core import Dense\n",
    "from sklearn.preprocessing import LabelEncoder\n",
    "from sklearn.model_selection import train_test_split\n",
    "\n",
    "import pandas as pd\n",
    "import numpy\n",
    "\n",
    "# seed 값 설정\n",
    "seed = 0\n",
    "numpy.random.seed(seed)\n",
    "\n",
    "df = pd.read_csv('C:/dataset/gilbut/sonar.csv', header=None)"
   ]
  },
  {
   "cell_type": "code",
   "execution_count": 3,
   "metadata": {},
   "outputs": [
    {
     "output_type": "execute_result",
     "data": {
      "text/plain": "       0       1       2       3       4       5       6       7       8   \\\n0  0.0200  0.0371  0.0428  0.0207  0.0954  0.0986  0.1539  0.1601  0.3109   \n1  0.0453  0.0523  0.0843  0.0689  0.1183  0.2583  0.2156  0.3481  0.3337   \n2  0.0262  0.0582  0.1099  0.1083  0.0974  0.2280  0.2431  0.3771  0.5598   \n3  0.0100  0.0171  0.0623  0.0205  0.0205  0.0368  0.1098  0.1276  0.0598   \n4  0.0762  0.0666  0.0481  0.0394  0.0590  0.0649  0.1209  0.2467  0.3564   \n\n       9   ...      51      52      53      54      55      56      57  \\\n0  0.2111  ...  0.0027  0.0065  0.0159  0.0072  0.0167  0.0180  0.0084   \n1  0.2872  ...  0.0084  0.0089  0.0048  0.0094  0.0191  0.0140  0.0049   \n2  0.6194  ...  0.0232  0.0166  0.0095  0.0180  0.0244  0.0316  0.0164   \n3  0.1264  ...  0.0121  0.0036  0.0150  0.0085  0.0073  0.0050  0.0044   \n4  0.4459  ...  0.0031  0.0054  0.0105  0.0110  0.0015  0.0072  0.0048   \n\n       58      59  60  \n0  0.0090  0.0032   R  \n1  0.0052  0.0044   R  \n2  0.0095  0.0078   R  \n3  0.0040  0.0117   R  \n4  0.0107  0.0094   R  \n\n[5 rows x 61 columns]",
      "text/html": "<div>\n<style scoped>\n    .dataframe tbody tr th:only-of-type {\n        vertical-align: middle;\n    }\n\n    .dataframe tbody tr th {\n        vertical-align: top;\n    }\n\n    .dataframe thead th {\n        text-align: right;\n    }\n</style>\n<table border=\"1\" class=\"dataframe\">\n  <thead>\n    <tr style=\"text-align: right;\">\n      <th></th>\n      <th>0</th>\n      <th>1</th>\n      <th>2</th>\n      <th>3</th>\n      <th>4</th>\n      <th>5</th>\n      <th>6</th>\n      <th>7</th>\n      <th>8</th>\n      <th>9</th>\n      <th>...</th>\n      <th>51</th>\n      <th>52</th>\n      <th>53</th>\n      <th>54</th>\n      <th>55</th>\n      <th>56</th>\n      <th>57</th>\n      <th>58</th>\n      <th>59</th>\n      <th>60</th>\n    </tr>\n  </thead>\n  <tbody>\n    <tr>\n      <th>0</th>\n      <td>0.0200</td>\n      <td>0.0371</td>\n      <td>0.0428</td>\n      <td>0.0207</td>\n      <td>0.0954</td>\n      <td>0.0986</td>\n      <td>0.1539</td>\n      <td>0.1601</td>\n      <td>0.3109</td>\n      <td>0.2111</td>\n      <td>...</td>\n      <td>0.0027</td>\n      <td>0.0065</td>\n      <td>0.0159</td>\n      <td>0.0072</td>\n      <td>0.0167</td>\n      <td>0.0180</td>\n      <td>0.0084</td>\n      <td>0.0090</td>\n      <td>0.0032</td>\n      <td>R</td>\n    </tr>\n    <tr>\n      <th>1</th>\n      <td>0.0453</td>\n      <td>0.0523</td>\n      <td>0.0843</td>\n      <td>0.0689</td>\n      <td>0.1183</td>\n      <td>0.2583</td>\n      <td>0.2156</td>\n      <td>0.3481</td>\n      <td>0.3337</td>\n      <td>0.2872</td>\n      <td>...</td>\n      <td>0.0084</td>\n      <td>0.0089</td>\n      <td>0.0048</td>\n      <td>0.0094</td>\n      <td>0.0191</td>\n      <td>0.0140</td>\n      <td>0.0049</td>\n      <td>0.0052</td>\n      <td>0.0044</td>\n      <td>R</td>\n    </tr>\n    <tr>\n      <th>2</th>\n      <td>0.0262</td>\n      <td>0.0582</td>\n      <td>0.1099</td>\n      <td>0.1083</td>\n      <td>0.0974</td>\n      <td>0.2280</td>\n      <td>0.2431</td>\n      <td>0.3771</td>\n      <td>0.5598</td>\n      <td>0.6194</td>\n      <td>...</td>\n      <td>0.0232</td>\n      <td>0.0166</td>\n      <td>0.0095</td>\n      <td>0.0180</td>\n      <td>0.0244</td>\n      <td>0.0316</td>\n      <td>0.0164</td>\n      <td>0.0095</td>\n      <td>0.0078</td>\n      <td>R</td>\n    </tr>\n    <tr>\n      <th>3</th>\n      <td>0.0100</td>\n      <td>0.0171</td>\n      <td>0.0623</td>\n      <td>0.0205</td>\n      <td>0.0205</td>\n      <td>0.0368</td>\n      <td>0.1098</td>\n      <td>0.1276</td>\n      <td>0.0598</td>\n      <td>0.1264</td>\n      <td>...</td>\n      <td>0.0121</td>\n      <td>0.0036</td>\n      <td>0.0150</td>\n      <td>0.0085</td>\n      <td>0.0073</td>\n      <td>0.0050</td>\n      <td>0.0044</td>\n      <td>0.0040</td>\n      <td>0.0117</td>\n      <td>R</td>\n    </tr>\n    <tr>\n      <th>4</th>\n      <td>0.0762</td>\n      <td>0.0666</td>\n      <td>0.0481</td>\n      <td>0.0394</td>\n      <td>0.0590</td>\n      <td>0.0649</td>\n      <td>0.1209</td>\n      <td>0.2467</td>\n      <td>0.3564</td>\n      <td>0.4459</td>\n      <td>...</td>\n      <td>0.0031</td>\n      <td>0.0054</td>\n      <td>0.0105</td>\n      <td>0.0110</td>\n      <td>0.0015</td>\n      <td>0.0072</td>\n      <td>0.0048</td>\n      <td>0.0107</td>\n      <td>0.0094</td>\n      <td>R</td>\n    </tr>\n  </tbody>\n</table>\n<p>5 rows × 61 columns</p>\n</div>"
     },
     "metadata": {},
     "execution_count": 3
    }
   ],
   "source": [
    "df.head()"
   ]
  },
  {
   "cell_type": "code",
   "execution_count": 4,
   "metadata": {
    "tags": []
   },
   "outputs": [
    {
     "output_type": "stream",
     "name": "stdout",
     "text": "<class 'pandas.core.frame.DataFrame'>\nRangeIndex: 208 entries, 0 to 207\nData columns (total 61 columns):\n #   Column  Non-Null Count  Dtype  \n---  ------  --------------  -----  \n 0   0       208 non-null    float64\n 1   1       208 non-null    float64\n 2   2       208 non-null    float64\n 3   3       208 non-null    float64\n 4   4       208 non-null    float64\n 5   5       208 non-null    float64\n 6   6       208 non-null    float64\n 7   7       208 non-null    float64\n 8   8       208 non-null    float64\n 9   9       208 non-null    float64\n 10  10      208 non-null    float64\n 11  11      208 non-null    float64\n 12  12      208 non-null    float64\n 13  13      208 non-null    float64\n 14  14      208 non-null    float64\n 15  15      208 non-null    float64\n 16  16      208 non-null    float64\n 17  17      208 non-null    float64\n 18  18      208 non-null    float64\n 19  19      208 non-null    float64\n 20  20      208 non-null    float64\n 21  21      208 non-null    float64\n 22  22      208 non-null    float64\n 23  23      208 non-null    float64\n 24  24      208 non-null    float64\n 25  25      208 non-null    float64\n 26  26      208 non-null    float64\n 27  27      208 non-null    float64\n 28  28      208 non-null    float64\n 29  29      208 non-null    float64\n 30  30      208 non-null    float64\n 31  31      208 non-null    float64\n 32  32      208 non-null    float64\n 33  33      208 non-null    float64\n 34  34      208 non-null    float64\n 35  35      208 non-null    float64\n 36  36      208 non-null    float64\n 37  37      208 non-null    float64\n 38  38      208 non-null    float64\n 39  39      208 non-null    float64\n 40  40      208 non-null    float64\n 41  41      208 non-null    float64\n 42  42      208 non-null    float64\n 43  43      208 non-null    float64\n 44  44      208 non-null    float64\n 45  45      208 non-null    float64\n 46  46      208 non-null    float64\n 47  47      208 non-null    float64\n 48  48      208 non-null    float64\n 49  49      208 non-null    float64\n 50  50      208 non-null    float64\n 51  51      208 non-null    float64\n 52  52      208 non-null    float64\n 53  53      208 non-null    float64\n 54  54      208 non-null    float64\n 55  55      208 non-null    float64\n 56  56      208 non-null    float64\n 57  57      208 non-null    float64\n 58  58      208 non-null    float64\n 59  59      208 non-null    float64\n 60  60      208 non-null    object \ndtypes: float64(60), object(1)\nmemory usage: 99.2+ KB\n"
    }
   ],
   "source": [
    "df.info()"
   ]
  },
  {
   "cell_type": "code",
   "execution_count": 5,
   "metadata": {},
   "outputs": [],
   "source": [
    "dataset = df.values\n",
    "X = dataset[:,0:60]\n",
    "Y_obj = dataset[:,60]"
   ]
  },
  {
   "cell_type": "code",
   "execution_count": 6,
   "metadata": {},
   "outputs": [],
   "source": [
    "e = LabelEncoder()\n",
    "e.fit(Y_obj)\n",
    "Y = e.transform(Y_obj)"
   ]
  },
  {
   "cell_type": "code",
   "execution_count": 7,
   "metadata": {},
   "outputs": [],
   "source": [
    "# 학습 셋과 테스트 셋의 구분\n",
    "X_train, X_test, Y_train, Y_test = train_test_split(X, Y, test_size=0.3, random_state=seed)"
   ]
  },
  {
   "cell_type": "code",
   "execution_count": 17,
   "metadata": {},
   "outputs": [],
   "source": [
    "X_train = X_train.astype(numpy.float32)\n",
    "Y_train = Y_train.astype(numpy.float32)\n",
    "X_test = X_test.astype(numpy.float32)\n",
    "Y_test = Y_test.astype(numpy.float32)"
   ]
  },
  {
   "cell_type": "code",
   "execution_count": 8,
   "metadata": {},
   "outputs": [],
   "source": [
    "model = Sequential()\n",
    "model.add(Dense(24,  input_dim=60, activation='relu'))\n",
    "model.add(Dense(10, activation='relu'))\n",
    "model.add(Dense(1, activation='sigmoid'))"
   ]
  },
  {
   "cell_type": "code",
   "execution_count": 16,
   "metadata": {
    "tags": []
   },
   "outputs": [
    {
     "output_type": "stream",
     "name": "stdout",
     "text": "Epoch 1/130\n29/29 [==============================] - 0s 2ms/step - loss: 0.2456 - accuracy: 0.5586\nEpoch 2/130\n29/29 [==============================] - 0s 2ms/step - loss: 0.2372 - accuracy: 0.6000\nEpoch 3/130\n29/29 [==============================] - 0s 2ms/step - loss: 0.2334 - accuracy: 0.6207\nEpoch 4/130\n29/29 [==============================] - 0s 3ms/step - loss: 0.2266 - accuracy: 0.6552\nEpoch 5/130\n29/29 [==============================] - 0s 2ms/step - loss: 0.2200 - accuracy: 0.6759\nEpoch 6/130\n29/29 [==============================] - 0s 2ms/step - loss: 0.2136 - accuracy: 0.7793\nEpoch 7/130\n29/29 [==============================] - 0s 2ms/step - loss: 0.2050 - accuracy: 0.7103\nEpoch 8/130\n29/29 [==============================] - 0s 2ms/step - loss: 0.1974 - accuracy: 0.7793\nEpoch 9/130\n29/29 [==============================] - 0s 2ms/step - loss: 0.1885 - accuracy: 0.7586\nEpoch 10/130\n29/29 [==============================] - 0s 2ms/step - loss: 0.1812 - accuracy: 0.7862\nEpoch 11/130\n29/29 [==============================] - 0s 2ms/step - loss: 0.1760 - accuracy: 0.7655\nEpoch 12/130\n29/29 [==============================] - 0s 2ms/step - loss: 0.1691 - accuracy: 0.7655\nEpoch 13/130\n29/29 [==============================] - 0s 2ms/step - loss: 0.1615 - accuracy: 0.8138\nEpoch 14/130\n29/29 [==============================] - 0s 2ms/step - loss: 0.1553 - accuracy: 0.8345\nEpoch 15/130\n29/29 [==============================] - 0s 2ms/step - loss: 0.1503 - accuracy: 0.8207\nEpoch 16/130\n29/29 [==============================] - 0s 2ms/step - loss: 0.1478 - accuracy: 0.8414\nEpoch 17/130\n29/29 [==============================] - 0s 2ms/step - loss: 0.1452 - accuracy: 0.8345\nEpoch 18/130\n29/29 [==============================] - 0s 2ms/step - loss: 0.1358 - accuracy: 0.8552\nEpoch 19/130\n29/29 [==============================] - 0s 2ms/step - loss: 0.1320 - accuracy: 0.8483\nEpoch 20/130\n29/29 [==============================] - 0s 2ms/step - loss: 0.1302 - accuracy: 0.8483\nEpoch 21/130\n29/29 [==============================] - 0s 3ms/step - loss: 0.1265 - accuracy: 0.8345\nEpoch 22/130\n29/29 [==============================] - 0s 2ms/step - loss: 0.1315 - accuracy: 0.8345\nEpoch 23/130\n29/29 [==============================] - 0s 2ms/step - loss: 0.1191 - accuracy: 0.8621\nEpoch 24/130\n29/29 [==============================] - 0s 2ms/step - loss: 0.1202 - accuracy: 0.8483\nEpoch 25/130\n29/29 [==============================] - 0s 2ms/step - loss: 0.1133 - accuracy: 0.8552\nEpoch 26/130\n29/29 [==============================] - 0s 2ms/step - loss: 0.1110 - accuracy: 0.8621\nEpoch 27/130\n29/29 [==============================] - 0s 2ms/step - loss: 0.1081 - accuracy: 0.8414\nEpoch 28/130\n29/29 [==============================] - 0s 2ms/step - loss: 0.1064 - accuracy: 0.8690\nEpoch 29/130\n29/29 [==============================] - 0s 2ms/step - loss: 0.1022 - accuracy: 0.8828\nEpoch 30/130\n29/29 [==============================] - 0s 2ms/step - loss: 0.1004 - accuracy: 0.8552\nEpoch 31/130\n29/29 [==============================] - 0s 2ms/step - loss: 0.1018 - accuracy: 0.8690\nEpoch 32/130\n29/29 [==============================] - 0s 2ms/step - loss: 0.0967 - accuracy: 0.8690\nEpoch 33/130\n29/29 [==============================] - 0s 2ms/step - loss: 0.0902 - accuracy: 0.8828\nEpoch 34/130\n29/29 [==============================] - 0s 2ms/step - loss: 0.0899 - accuracy: 0.8828\nEpoch 35/130\n29/29 [==============================] - 0s 2ms/step - loss: 0.0907 - accuracy: 0.8897\nEpoch 36/130\n29/29 [==============================] - 0s 2ms/step - loss: 0.0834 - accuracy: 0.9172\nEpoch 37/130\n29/29 [==============================] - 0s 2ms/step - loss: 0.0833 - accuracy: 0.8897\nEpoch 38/130\n29/29 [==============================] - 0s 2ms/step - loss: 0.0770 - accuracy: 0.9034\nEpoch 39/130\n29/29 [==============================] - 0s 2ms/step - loss: 0.0794 - accuracy: 0.8966\nEpoch 40/130\n29/29 [==============================] - 0s 2ms/step - loss: 0.0756 - accuracy: 0.8966\nEpoch 41/130\n29/29 [==============================] - 0s 2ms/step - loss: 0.0743 - accuracy: 0.9103\nEpoch 42/130\n29/29 [==============================] - 0s 2ms/step - loss: 0.0694 - accuracy: 0.9172\nEpoch 43/130\n29/29 [==============================] - 0s 2ms/step - loss: 0.0680 - accuracy: 0.9103\nEpoch 44/130\n29/29 [==============================] - 0s 2ms/step - loss: 0.0663 - accuracy: 0.9448\nEpoch 45/130\n29/29 [==============================] - 0s 2ms/step - loss: 0.0623 - accuracy: 0.9379\nEpoch 46/130\n29/29 [==============================] - 0s 2ms/step - loss: 0.0593 - accuracy: 0.9517\nEpoch 47/130\n29/29 [==============================] - 0s 2ms/step - loss: 0.0584 - accuracy: 0.9310\nEpoch 48/130\n29/29 [==============================] - 0s 2ms/step - loss: 0.0553 - accuracy: 0.9517\nEpoch 49/130\n29/29 [==============================] - 0s 2ms/step - loss: 0.0533 - accuracy: 0.9586\nEpoch 50/130\n29/29 [==============================] - 0s 2ms/step - loss: 0.0534 - accuracy: 0.9517\nEpoch 51/130\n29/29 [==============================] - 0s 3ms/step - loss: 0.0506 - accuracy: 0.9448\nEpoch 52/130\n29/29 [==============================] - 0s 2ms/step - loss: 0.0490 - accuracy: 0.9655\nEpoch 53/130\n29/29 [==============================] - 0s 2ms/step - loss: 0.0478 - accuracy: 0.9586\nEpoch 54/130\n29/29 [==============================] - 0s 2ms/step - loss: 0.0441 - accuracy: 0.9655\nEpoch 55/130\n29/29 [==============================] - 0s 2ms/step - loss: 0.0430 - accuracy: 0.9793\nEpoch 56/130\n29/29 [==============================] - 0s 2ms/step - loss: 0.0436 - accuracy: 0.9724\nEpoch 57/130\n29/29 [==============================] - 0s 2ms/step - loss: 0.0436 - accuracy: 0.9586\nEpoch 58/130\n29/29 [==============================] - 0s 2ms/step - loss: 0.0373 - accuracy: 0.9862\nEpoch 59/130\n29/29 [==============================] - 0s 2ms/step - loss: 0.0448 - accuracy: 0.9586\nEpoch 60/130\n29/29 [==============================] - 0s 2ms/step - loss: 0.0384 - accuracy: 0.9586\nEpoch 61/130\n29/29 [==============================] - 0s 2ms/step - loss: 0.0363 - accuracy: 0.9655\nEpoch 62/130\n29/29 [==============================] - 0s 2ms/step - loss: 0.0330 - accuracy: 0.9724\nEpoch 63/130\n29/29 [==============================] - 0s 2ms/step - loss: 0.0320 - accuracy: 0.9724\nEpoch 64/130\n29/29 [==============================] - 0s 2ms/step - loss: 0.0324 - accuracy: 0.9793\nEpoch 65/130\n 1/29 [>.............................] - ETA: 0s - loss: 0.0125 - accuracy: 1.0029/29 [==============================] - 0s 2ms/step - loss: 0.0272 - accuracy: 0.9793\nEpoch 66/130\n29/29 [==============================] - 0s 2ms/step - loss: 0.0259 - accuracy: 0.9931\nEpoch 67/130\n29/29 [==============================] - 0s 2ms/step - loss: 0.0279 - accuracy: 0.9862\nEpoch 68/130\n29/29 [==============================] - 0s 2ms/step - loss: 0.0257 - accuracy: 0.9931\nEpoch 69/130\n29/29 [==============================] - 0s 2ms/step - loss: 0.0250 - accuracy: 0.9793\nEpoch 70/130\n29/29 [==============================] - 0s 2ms/step - loss: 0.0258 - accuracy: 0.9862\nEpoch 71/130\n29/29 [==============================] - 0s 2ms/step - loss: 0.0233 - accuracy: 0.9931\nEpoch 72/130\n29/29 [==============================] - 0s 2ms/step - loss: 0.0224 - accuracy: 0.9862\nEpoch 73/130\n29/29 [==============================] - 0s 2ms/step - loss: 0.0236 - accuracy: 0.9931\nEpoch 74/130\n29/29 [==============================] - 0s 2ms/step - loss: 0.0185 - accuracy: 0.9931\nEpoch 75/130\n29/29 [==============================] - 0s 2ms/step - loss: 0.0189 - accuracy: 0.9931\nEpoch 76/130\n29/29 [==============================] - 0s 2ms/step - loss: 0.0214 - accuracy: 0.9931\nEpoch 77/130\n29/29 [==============================] - 0s 2ms/step - loss: 0.0184 - accuracy: 0.9931\nEpoch 78/130\n29/29 [==============================] - 0s 2ms/step - loss: 0.0163 - accuracy: 0.9931\nEpoch 79/130\n29/29 [==============================] - 0s 2ms/step - loss: 0.0160 - accuracy: 1.0000\nEpoch 80/130\n29/29 [==============================] - 0s 2ms/step - loss: 0.0149 - accuracy: 1.0000\nEpoch 81/130\n29/29 [==============================] - 0s 2ms/step - loss: 0.0150 - accuracy: 1.0000\nEpoch 82/130\n29/29 [==============================] - 0s 3ms/step - loss: 0.0167 - accuracy: 0.9931\nEpoch 83/130\n29/29 [==============================] - 0s 3ms/step - loss: 0.0139 - accuracy: 1.0000\nEpoch 84/130\n29/29 [==============================] - 0s 2ms/step - loss: 0.0147 - accuracy: 1.0000\nEpoch 85/130\n29/29 [==============================] - 0s 2ms/step - loss: 0.0142 - accuracy: 1.0000\nEpoch 86/130\n29/29 [==============================] - 0s 2ms/step - loss: 0.0129 - accuracy: 1.0000\nEpoch 87/130\n29/29 [==============================] - 0s 2ms/step - loss: 0.0121 - accuracy: 0.9862\nEpoch 88/130\n29/29 [==============================] - 0s 2ms/step - loss: 0.0109 - accuracy: 0.9931\nEpoch 89/130\n29/29 [==============================] - 0s 2ms/step - loss: 0.0108 - accuracy: 1.0000\nEpoch 90/130\n29/29 [==============================] - 0s 2ms/step - loss: 0.0106 - accuracy: 1.0000\nEpoch 91/130\n29/29 [==============================] - 0s 2ms/step - loss: 0.0105 - accuracy: 1.0000\nEpoch 92/130\n29/29 [==============================] - 0s 2ms/step - loss: 0.0091 - accuracy: 1.0000\nEpoch 93/130\n29/29 [==============================] - 0s 2ms/step - loss: 0.0090 - accuracy: 1.0000\nEpoch 94/130\n29/29 [==============================] - 0s 2ms/step - loss: 0.0089 - accuracy: 1.0000\nEpoch 95/130\n29/29 [==============================] - 0s 2ms/step - loss: 0.0086 - accuracy: 1.0000\nEpoch 96/130\n29/29 [==============================] - 0s 2ms/step - loss: 0.0093 - accuracy: 1.0000\nEpoch 97/130\n29/29 [==============================] - 0s 2ms/step - loss: 0.0075 - accuracy: 1.0000\nEpoch 98/130\n29/29 [==============================] - 0s 2ms/step - loss: 0.0083 - accuracy: 1.0000\nEpoch 99/130\n29/29 [==============================] - 0s 2ms/step - loss: 0.0081 - accuracy: 1.0000\nEpoch 100/130\n29/29 [==============================] - 0s 2ms/step - loss: 0.0071 - accuracy: 1.0000\nEpoch 101/130\n29/29 [==============================] - 0s 2ms/step - loss: 0.0073 - accuracy: 1.0000\nEpoch 102/130\n29/29 [==============================] - 0s 2ms/step - loss: 0.0069 - accuracy: 1.0000\nEpoch 103/130\n29/29 [==============================] - 0s 2ms/step - loss: 0.0073 - accuracy: 1.0000\nEpoch 104/130\n29/29 [==============================] - 0s 2ms/step - loss: 0.0058 - accuracy: 1.0000\nEpoch 105/130\n29/29 [==============================] - 0s 2ms/step - loss: 0.0054 - accuracy: 1.0000\nEpoch 106/130\n29/29 [==============================] - 0s 2ms/step - loss: 0.0050 - accuracy: 1.0000\nEpoch 107/130\n29/29 [==============================] - 0s 2ms/step - loss: 0.0047 - accuracy: 1.0000\nEpoch 108/130\n29/29 [==============================] - 0s 2ms/step - loss: 0.0046 - accuracy: 1.0000\nEpoch 109/130\n29/29 [==============================] - 0s 2ms/step - loss: 0.0041 - accuracy: 1.0000\nEpoch 110/130\n29/29 [==============================] - 0s 2ms/step - loss: 0.0054 - accuracy: 1.0000\nEpoch 111/130\n29/29 [==============================] - 0s 2ms/step - loss: 0.0041 - accuracy: 1.0000\nEpoch 112/130\n29/29 [==============================] - 0s 2ms/step - loss: 0.0053 - accuracy: 1.0000\nEpoch 113/130\n29/29 [==============================] - 0s 2ms/step - loss: 0.0043 - accuracy: 1.0000\nEpoch 114/130\n29/29 [==============================] - 0s 2ms/step - loss: 0.0035 - accuracy: 1.0000\nEpoch 115/130\n29/29 [==============================] - 0s 2ms/step - loss: 0.0034 - accuracy: 1.0000\nEpoch 116/130\n29/29 [==============================] - 0s 2ms/step - loss: 0.0032 - accuracy: 1.0000\nEpoch 117/130\n29/29 [==============================] - 0s 2ms/step - loss: 0.0037 - accuracy: 1.0000\nEpoch 118/130\n29/29 [==============================] - 0s 2ms/step - loss: 0.0042 - accuracy: 1.0000\nEpoch 119/130\n29/29 [==============================] - 0s 2ms/step - loss: 0.0037 - accuracy: 1.0000\nEpoch 120/130\n29/29 [==============================] - 0s 2ms/step - loss: 0.0028 - accuracy: 1.0000\nEpoch 121/130\n29/29 [==============================] - 0s 2ms/step - loss: 0.0027 - accuracy: 1.0000\nEpoch 122/130\n29/29 [==============================] - 0s 2ms/step - loss: 0.0027 - accuracy: 1.0000\nEpoch 123/130\n29/29 [==============================] - 0s 3ms/step - loss: 0.0026 - accuracy: 1.0000\nEpoch 124/130\n29/29 [==============================] - 0s 2ms/step - loss: 0.0023 - accuracy: 1.0000\nEpoch 125/130\n29/29 [==============================] - 0s 2ms/step - loss: 0.0023 - accuracy: 1.0000\nEpoch 126/130\n29/29 [==============================] - 0s 2ms/step - loss: 0.0022 - accuracy: 1.0000\nEpoch 127/130\n29/29 [==============================] - 0s 2ms/step - loss: 0.0022 - accuracy: 1.0000\nEpoch 128/130\n29/29 [==============================] - 0s 2ms/step - loss: 0.0020 - accuracy: 1.0000\nEpoch 129/130\n29/29 [==============================] - 0s 2ms/step - loss: 0.0019 - accuracy: 1.0000\nEpoch 130/130\n29/29 [==============================] - 0s 2ms/step - loss: 0.0025 - accuracy: 1.0000\n"
    },
    {
     "output_type": "execute_result",
     "data": {
      "text/plain": "<tensorflow.python.keras.callbacks.History at 0x21de16b3908>"
     },
     "metadata": {},
     "execution_count": 16
    }
   ],
   "source": [
    "model.compile(loss='mean_squared_error',\n",
    "            optimizer='adam',\n",
    "            metrics=['accuracy'])\n",
    "\n",
    "model.fit(X_train, Y_train, epochs=130, batch_size=5)"
   ]
  },
  {
   "cell_type": "code",
   "execution_count": 18,
   "metadata": {
    "tags": []
   },
   "outputs": [
    {
     "output_type": "stream",
     "name": "stdout",
     "text": "2/2 [==============================] - 0s 1ms/step - loss: 0.1540 - accuracy: 0.8254\n\n Test Accuracy: 0.8254\n"
    }
   ],
   "source": [
    "# 테스트셋에 모델 적용\n",
    "print(\"\\n Test Accuracy: %.4f\" % (model.evaluate(X_test, Y_test)[1]))"
   ]
  },
  {
   "cell_type": "code",
   "execution_count": 19,
   "metadata": {},
   "outputs": [],
   "source": [
    "# 모델 저장과 재사용\n",
    "\n",
    "from keras.models import load_model\n",
    "\n",
    "model.save('my_model.h5')  # 모델을 컴퓨터에 저장"
   ]
  },
  {
   "cell_type": "code",
   "execution_count": 20,
   "metadata": {},
   "outputs": [],
   "source": [
    "del model       # 테스트를 위해 메모리 내의 모델을 삭제\n",
    "model = load_model('my_model.h5') # 모델을 새로 불러옴"
   ]
  },
  {
   "cell_type": "code",
   "execution_count": null,
   "metadata": {},
   "outputs": [],
   "source": []
  },
  {
   "cell_type": "markdown",
   "metadata": {},
   "source": [
    "## K-fold 교차 검증"
   ]
  },
  {
   "cell_type": "code",
   "execution_count": 24,
   "metadata": {},
   "outputs": [],
   "source": [
    "from keras.models import Sequential\n",
    "from keras.layers.core import Dense\n",
    "from sklearn.preprocessing import LabelEncoder\n",
    "from sklearn.model_selection import StratifiedKFold\n",
    "\n",
    "import numpy\n",
    "import pandas as pd\n",
    "\n",
    "# seed 값 설정\n",
    "seed = 0\n",
    "numpy.random.seed(seed)\n",
    "\n",
    "df = pd.read_csv('C:/dataset/gilbut/sonar.csv', header=None)\n",
    "\n",
    "dataset = df.values\n",
    "X = dataset[:,0:60]\n",
    "Y_obj = dataset[:,60]\n",
    "\n",
    "e = LabelEncoder()\n",
    "e.fit(Y_obj)\n",
    "Y = e.transform(Y_obj)"
   ]
  },
  {
   "cell_type": "code",
   "execution_count": 28,
   "metadata": {},
   "outputs": [],
   "source": [
    "X = X.astype(numpy.float32)\n",
    "Y = Y.astype(numpy.float32)"
   ]
  },
  {
   "cell_type": "code",
   "execution_count": 25,
   "metadata": {},
   "outputs": [],
   "source": [
    "from sklearn.model_selection import StratifiedKFold\n",
    "\n",
    "# 10개의 파일로 쪼갬\n",
    "n_fold = 10\n",
    "skf = StratifiedKFold(n_splits=n_fold, shuffle=True, random_state=seed)"
   ]
  },
  {
   "cell_type": "code",
   "execution_count": 26,
   "metadata": {},
   "outputs": [],
   "source": [
    "# 빈 accuracy 배열\n",
    "accuracy = []"
   ]
  },
  {
   "cell_type": "code",
   "execution_count": 29,
   "metadata": {
    "tags": [
     "outputPrepend"
    ]
   },
   "outputs": [
    {
     "output_type": "stream",
     "name": "stdout",
     "text": "=========] - 0s 2ms/step - loss: 0.2423 - accuracy: 0.6011\nEpoch 4/100\n38/38 [==============================] - 0s 2ms/step - loss: 0.2385 - accuracy: 0.6330\nEpoch 5/100\n38/38 [==============================] - 0s 2ms/step - loss: 0.2331 - accuracy: 0.6489\nEpoch 6/100\n38/38 [==============================] - 0s 2ms/step - loss: 0.2249 - accuracy: 0.6968\nEpoch 7/100\n38/38 [==============================] - 0s 2ms/step - loss: 0.2142 - accuracy: 0.6862\nEpoch 8/100\n38/38 [==============================] - 0s 2ms/step - loss: 0.2022 - accuracy: 0.7340\nEpoch 9/100\n38/38 [==============================] - 0s 2ms/step - loss: 0.1901 - accuracy: 0.7181\nEpoch 10/100\n38/38 [==============================] - 0s 2ms/step - loss: 0.1815 - accuracy: 0.7394\nEpoch 11/100\n38/38 [==============================] - 0s 2ms/step - loss: 0.1695 - accuracy: 0.7819\nEpoch 12/100\n38/38 [==============================] - 0s 2ms/step - loss: 0.1635 - accuracy: 0.7660\nEpoch 13/100\n38/38 [==============================] - 0s 2ms/step - loss: 0.1586 - accuracy: 0.7979\nEpoch 14/100\n38/38 [==============================] - 0s 2ms/step - loss: 0.1518 - accuracy: 0.8032\nEpoch 15/100\n38/38 [==============================] - 0s 2ms/step - loss: 0.1483 - accuracy: 0.7926\nEpoch 16/100\n38/38 [==============================] - 0s 2ms/step - loss: 0.1468 - accuracy: 0.8085\nEpoch 17/100\n38/38 [==============================] - 0s 2ms/step - loss: 0.1383 - accuracy: 0.8457\nEpoch 18/100\n38/38 [==============================] - 0s 2ms/step - loss: 0.1419 - accuracy: 0.7926\nEpoch 19/100\n38/38 [==============================] - 0s 2ms/step - loss: 0.1430 - accuracy: 0.8032\nEpoch 20/100\n38/38 [==============================] - 0s 2ms/step - loss: 0.1319 - accuracy: 0.8511\nEpoch 21/100\n38/38 [==============================] - 0s 2ms/step - loss: 0.1342 - accuracy: 0.8032\nEpoch 22/100\n38/38 [==============================] - 0s 2ms/step - loss: 0.1280 - accuracy: 0.8404\nEpoch 23/100\n38/38 [==============================] - 0s 2ms/step - loss: 0.1288 - accuracy: 0.8245\nEpoch 24/100\n38/38 [==============================] - 0s 2ms/step - loss: 0.1211 - accuracy: 0.8351\nEpoch 25/100\n38/38 [==============================] - 0s 2ms/step - loss: 0.1219 - accuracy: 0.8564\nEpoch 26/100\n38/38 [==============================] - 0s 3ms/step - loss: 0.1176 - accuracy: 0.8404\nEpoch 27/100\n38/38 [==============================] - 0s 2ms/step - loss: 0.1190 - accuracy: 0.8511\nEpoch 28/100\n38/38 [==============================] - 0s 2ms/step - loss: 0.1153 - accuracy: 0.8617\nEpoch 29/100\n38/38 [==============================] - 0s 2ms/step - loss: 0.1103 - accuracy: 0.8670\nEpoch 30/100\n38/38 [==============================] - 0s 2ms/step - loss: 0.1119 - accuracy: 0.8457\nEpoch 31/100\n38/38 [==============================] - 0s 2ms/step - loss: 0.1099 - accuracy: 0.8404\nEpoch 32/100\n38/38 [==============================] - 0s 2ms/step - loss: 0.1068 - accuracy: 0.8617\nEpoch 33/100\n38/38 [==============================] - 0s 2ms/step - loss: 0.1050 - accuracy: 0.8670\nEpoch 34/100\n38/38 [==============================] - 0s 2ms/step - loss: 0.1024 - accuracy: 0.8830\nEpoch 35/100\n38/38 [==============================] - 0s 2ms/step - loss: 0.1006 - accuracy: 0.8777\nEpoch 36/100\n38/38 [==============================] - 0s 2ms/step - loss: 0.0971 - accuracy: 0.8936\nEpoch 37/100\n38/38 [==============================] - 0s 2ms/step - loss: 0.0987 - accuracy: 0.8989\nEpoch 38/100\n38/38 [==============================] - 0s 2ms/step - loss: 0.0976 - accuracy: 0.8936\nEpoch 39/100\n38/38 [==============================] - 0s 2ms/step - loss: 0.0952 - accuracy: 0.8989\nEpoch 40/100\n38/38 [==============================] - 0s 2ms/step - loss: 0.0910 - accuracy: 0.8989\nEpoch 41/100\n38/38 [==============================] - 0s 2ms/step - loss: 0.0901 - accuracy: 0.8883\nEpoch 42/100\n38/38 [==============================] - 0s 2ms/step - loss: 0.0918 - accuracy: 0.9043\nEpoch 43/100\n38/38 [==============================] - 0s 2ms/step - loss: 0.0846 - accuracy: 0.8883\nEpoch 44/100\n38/38 [==============================] - 0s 2ms/step - loss: 0.0871 - accuracy: 0.8989\nEpoch 45/100\n38/38 [==============================] - 0s 2ms/step - loss: 0.0812 - accuracy: 0.9149\nEpoch 46/100\n38/38 [==============================] - 0s 2ms/step - loss: 0.0840 - accuracy: 0.8989\nEpoch 47/100\n38/38 [==============================] - 0s 2ms/step - loss: 0.0848 - accuracy: 0.9096\nEpoch 48/100\n38/38 [==============================] - 0s 2ms/step - loss: 0.0826 - accuracy: 0.8989\nEpoch 49/100\n38/38 [==============================] - 0s 2ms/step - loss: 0.0807 - accuracy: 0.8936\nEpoch 50/100\n38/38 [==============================] - 0s 2ms/step - loss: 0.0782 - accuracy: 0.9309\nEpoch 51/100\n38/38 [==============================] - 0s 2ms/step - loss: 0.0755 - accuracy: 0.9096\nEpoch 52/100\n38/38 [==============================] - 0s 2ms/step - loss: 0.0711 - accuracy: 0.9415\nEpoch 53/100\n38/38 [==============================] - 0s 2ms/step - loss: 0.0697 - accuracy: 0.9149\nEpoch 54/100\n38/38 [==============================] - 0s 2ms/step - loss: 0.0700 - accuracy: 0.9255\nEpoch 55/100\n38/38 [==============================] - 0s 2ms/step - loss: 0.0690 - accuracy: 0.9202\nEpoch 56/100\n38/38 [==============================] - 0s 2ms/step - loss: 0.0668 - accuracy: 0.9202\nEpoch 57/100\n38/38 [==============================] - 0s 2ms/step - loss: 0.0648 - accuracy: 0.9309\nEpoch 58/100\n38/38 [==============================] - 0s 2ms/step - loss: 0.0632 - accuracy: 0.9362\nEpoch 59/100\n38/38 [==============================] - 0s 2ms/step - loss: 0.0634 - accuracy: 0.9415\nEpoch 60/100\n38/38 [==============================] - 0s 2ms/step - loss: 0.0612 - accuracy: 0.9362\nEpoch 61/100\n38/38 [==============================] - 0s 2ms/step - loss: 0.0648 - accuracy: 0.9255\nEpoch 62/100\n38/38 [==============================] - 0s 2ms/step - loss: 0.0578 - accuracy: 0.9255\nEpoch 63/100\n38/38 [==============================] - 0s 2ms/step - loss: 0.0559 - accuracy: 0.9468\nEpoch 64/100\n38/38 [==============================] - 0s 2ms/step - loss: 0.0569 - accuracy: 0.9362\nEpoch 65/100\n38/38 [==============================] - 0s 2ms/step - loss: 0.0530 - accuracy: 0.9521\nEpoch 66/100\n38/38 [==============================] - 0s 2ms/step - loss: 0.0521 - accuracy: 0.9521\nEpoch 67/100\n38/38 [==============================] - 0s 2ms/step - loss: 0.0488 - accuracy: 0.9574\nEpoch 68/100\n38/38 [==============================] - 0s 2ms/step - loss: 0.0545 - accuracy: 0.9468\nEpoch 69/100\n38/38 [==============================] - 0s 2ms/step - loss: 0.0480 - accuracy: 0.9628\nEpoch 70/100\n38/38 [==============================] - 0s 2ms/step - loss: 0.0479 - accuracy: 0.9468\nEpoch 71/100\n38/38 [==============================] - 0s 2ms/step - loss: 0.0486 - accuracy: 0.9574\nEpoch 72/100\n38/38 [==============================] - 0s 2ms/step - loss: 0.0478 - accuracy: 0.9628\nEpoch 73/100\n38/38 [==============================] - 0s 2ms/step - loss: 0.0446 - accuracy: 0.9628\nEpoch 74/100\n38/38 [==============================] - 0s 2ms/step - loss: 0.0440 - accuracy: 0.9628\nEpoch 75/100\n38/38 [==============================] - 0s 2ms/step - loss: 0.0442 - accuracy: 0.9574\nEpoch 76/100\n38/38 [==============================] - 0s 2ms/step - loss: 0.0415 - accuracy: 0.9628\nEpoch 77/100\n38/38 [==============================] - 0s 2ms/step - loss: 0.0407 - accuracy: 0.9734\nEpoch 78/100\n38/38 [==============================] - 0s 2ms/step - loss: 0.0401 - accuracy: 0.9574\nEpoch 79/100\n38/38 [==============================] - 0s 2ms/step - loss: 0.0431 - accuracy: 0.9681\nEpoch 80/100\n38/38 [==============================] - 0s 2ms/step - loss: 0.0366 - accuracy: 0.9734\nEpoch 81/100\n38/38 [==============================] - 0s 2ms/step - loss: 0.0361 - accuracy: 0.9681\nEpoch 82/100\n38/38 [==============================] - 0s 2ms/step - loss: 0.0384 - accuracy: 0.9734\nEpoch 83/100\n38/38 [==============================] - 0s 2ms/step - loss: 0.0352 - accuracy: 0.9734\nEpoch 84/100\n38/38 [==============================] - 0s 2ms/step - loss: 0.0341 - accuracy: 0.9787\nEpoch 85/100\n38/38 [==============================] - 0s 2ms/step - loss: 0.0332 - accuracy: 0.9734\nEpoch 86/100\n38/38 [==============================] - 0s 2ms/step - loss: 0.0321 - accuracy: 0.9787\nEpoch 87/100\n38/38 [==============================] - 0s 2ms/step - loss: 0.0364 - accuracy: 0.9681\nEpoch 88/100\n38/38 [==============================] - 0s 2ms/step - loss: 0.0348 - accuracy: 0.9681\nEpoch 89/100\n38/38 [==============================] - 0s 2ms/step - loss: 0.0301 - accuracy: 0.9840\nEpoch 90/100\n38/38 [==============================] - 0s 2ms/step - loss: 0.0298 - accuracy: 0.9734\nEpoch 91/100\n38/38 [==============================] - 0s 2ms/step - loss: 0.0276 - accuracy: 0.9787\nEpoch 92/100\n38/38 [==============================] - 0s 2ms/step - loss: 0.0272 - accuracy: 0.9787\nEpoch 93/100\n38/38 [==============================] - 0s 2ms/step - loss: 0.0269 - accuracy: 0.9840\nEpoch 94/100\n38/38 [==============================] - 0s 2ms/step - loss: 0.0250 - accuracy: 0.9840\nEpoch 95/100\n38/38 [==============================] - 0s 2ms/step - loss: 0.0240 - accuracy: 0.9787\nEpoch 96/100\n38/38 [==============================] - 0s 2ms/step - loss: 0.0268 - accuracy: 0.9894\nEpoch 97/100\n38/38 [==============================] - 0s 2ms/step - loss: 0.0223 - accuracy: 0.9894\nEpoch 98/100\n38/38 [==============================] - 0s 2ms/step - loss: 0.0236 - accuracy: 0.9894\nEpoch 99/100\n38/38 [==============================] - 0s 2ms/step - loss: 0.0231 - accuracy: 0.9840\nEpoch 100/100\n38/38 [==============================] - 0s 2ms/step - loss: 0.0235 - accuracy: 0.9787\n1/1 [==============================] - 0s 990us/step - loss: 0.0479 - accuracy: 0.9500\nEpoch 1/100\n38/38 [==============================] - 0s 2ms/step - loss: 0.2464 - accuracy: 0.5319\nEpoch 2/100\n38/38 [==============================] - 0s 2ms/step - loss: 0.2252 - accuracy: 0.6170\nEpoch 3/100\n38/38 [==============================] - 0s 2ms/step - loss: 0.2113 - accuracy: 0.7128\nEpoch 4/100\n38/38 [==============================] - 0s 2ms/step - loss: 0.2014 - accuracy: 0.7181\nEpoch 5/100\n38/38 [==============================] - 0s 2ms/step - loss: 0.1905 - accuracy: 0.7447\nEpoch 6/100\n38/38 [==============================] - 0s 2ms/step - loss: 0.1799 - accuracy: 0.7553\nEpoch 7/100\n38/38 [==============================] - 0s 2ms/step - loss: 0.1750 - accuracy: 0.7553\nEpoch 8/100\n38/38 [==============================] - 0s 2ms/step - loss: 0.1652 - accuracy: 0.7766\nEpoch 9/100\n38/38 [==============================] - 0s 2ms/step - loss: 0.1596 - accuracy: 0.7979\nEpoch 10/100\n38/38 [==============================] - 0s 2ms/step - loss: 0.1616 - accuracy: 0.7926\nEpoch 11/100\n38/38 [==============================] - 0s 2ms/step - loss: 0.1569 - accuracy: 0.7926\nEpoch 12/100\n38/38 [==============================] - 0s 2ms/step - loss: 0.1486 - accuracy: 0.8138\nEpoch 13/100\n38/38 [==============================] - 0s 2ms/step - loss: 0.1430 - accuracy: 0.8085\nEpoch 14/100\n38/38 [==============================] - 0s 2ms/step - loss: 0.1409 - accuracy: 0.8404\nEpoch 15/100\n38/38 [==============================] - 0s 2ms/step - loss: 0.1336 - accuracy: 0.8245\nEpoch 16/100\n38/38 [==============================] - 0s 2ms/step - loss: 0.1318 - accuracy: 0.8298\nEpoch 17/100\n38/38 [==============================] - 0s 2ms/step - loss: 0.1280 - accuracy: 0.8457\nEpoch 18/100\n38/38 [==============================] - 0s 2ms/step - loss: 0.1267 - accuracy: 0.8298\nEpoch 19/100\n38/38 [==============================] - 0s 2ms/step - loss: 0.1249 - accuracy: 0.8298\nEpoch 20/100\n38/38 [==============================] - 0s 2ms/step - loss: 0.1219 - accuracy: 0.8298\nEpoch 21/100\n38/38 [==============================] - 0s 2ms/step - loss: 0.1168 - accuracy: 0.8298\nEpoch 22/100\n38/38 [==============================] - 0s 2ms/step - loss: 0.1154 - accuracy: 0.8564\nEpoch 23/100\n38/38 [==============================] - 0s 2ms/step - loss: 0.1176 - accuracy: 0.8617\nEpoch 24/100\n38/38 [==============================] - 0s 2ms/step - loss: 0.1194 - accuracy: 0.8298\nEpoch 25/100\n38/38 [==============================] - 0s 2ms/step - loss: 0.1097 - accuracy: 0.8670\nEpoch 26/100\n38/38 [==============================] - 0s 2ms/step - loss: 0.1074 - accuracy: 0.8670\nEpoch 27/100\n38/38 [==============================] - 0s 2ms/step - loss: 0.1048 - accuracy: 0.8777\nEpoch 28/100\n38/38 [==============================] - 0s 2ms/step - loss: 0.1033 - accuracy: 0.8777\nEpoch 29/100\n38/38 [==============================] - 0s 2ms/step - loss: 0.1021 - accuracy: 0.8936\nEpoch 30/100\n38/38 [==============================] - 0s 2ms/step - loss: 0.1042 - accuracy: 0.8723\nEpoch 31/100\n38/38 [==============================] - 0s 3ms/step - loss: 0.1020 - accuracy: 0.8670\nEpoch 32/100\n38/38 [==============================] - 0s 2ms/step - loss: 0.0989 - accuracy: 0.8883\nEpoch 33/100\n38/38 [==============================] - 0s 2ms/step - loss: 0.0957 - accuracy: 0.8883\nEpoch 34/100\n29/38 [=====================>........] - ETA: 0s - loss: 0.0960 - accuracy: 0.9138/38 [==============================] - 0s 2ms/step - loss: 0.0946 - accuracy: 0.9096\nEpoch 35/100\n38/38 [==============================] - 0s 2ms/step - loss: 0.0914 - accuracy: 0.9043\nEpoch 36/100\n38/38 [==============================] - 0s 2ms/step - loss: 0.0942 - accuracy: 0.8936\nEpoch 37/100\n38/38 [==============================] - 0s 2ms/step - loss: 0.0900 - accuracy: 0.9043\nEpoch 38/100\n38/38 [==============================] - 0s 2ms/step - loss: 0.0856 - accuracy: 0.9096\nEpoch 39/100\n38/38 [==============================] - 0s 2ms/step - loss: 0.0854 - accuracy: 0.8989\nEpoch 40/100\n38/38 [==============================] - 0s 2ms/step - loss: 0.0825 - accuracy: 0.9096\nEpoch 41/100\n38/38 [==============================] - 0s 2ms/step - loss: 0.0853 - accuracy: 0.8936\nEpoch 42/100\n38/38 [==============================] - 0s 2ms/step - loss: 0.0793 - accuracy: 0.9096\nEpoch 43/100\n38/38 [==============================] - 0s 2ms/step - loss: 0.0773 - accuracy: 0.9149\nEpoch 44/100\n38/38 [==============================] - 0s 2ms/step - loss: 0.0797 - accuracy: 0.9043\nEpoch 45/100\n38/38 [==============================] - 0s 2ms/step - loss: 0.0763 - accuracy: 0.9149\nEpoch 46/100\n38/38 [==============================] - 0s 2ms/step - loss: 0.0764 - accuracy: 0.9149\nEpoch 47/100\n38/38 [==============================] - 0s 2ms/step - loss: 0.0769 - accuracy: 0.9202\nEpoch 48/100\n38/38 [==============================] - 0s 2ms/step - loss: 0.0756 - accuracy: 0.9043\nEpoch 49/100\n38/38 [==============================] - 0s 2ms/step - loss: 0.0677 - accuracy: 0.9362\nEpoch 50/100\n38/38 [==============================] - 0s 2ms/step - loss: 0.0658 - accuracy: 0.9309\nEpoch 51/100\n38/38 [==============================] - 0s 2ms/step - loss: 0.0648 - accuracy: 0.9362\nEpoch 52/100\n38/38 [==============================] - 0s 2ms/step - loss: 0.0674 - accuracy: 0.9202\nEpoch 53/100\n38/38 [==============================] - 0s 2ms/step - loss: 0.0608 - accuracy: 0.9362\nEpoch 54/100\n38/38 [==============================] - 0s 2ms/step - loss: 0.0602 - accuracy: 0.9468\nEpoch 55/100\n38/38 [==============================] - 0s 2ms/step - loss: 0.0585 - accuracy: 0.9468\nEpoch 56/100\n38/38 [==============================] - 0s 2ms/step - loss: 0.0554 - accuracy: 0.9574\nEpoch 57/100\n38/38 [==============================] - 0s 2ms/step - loss: 0.0554 - accuracy: 0.9415\nEpoch 58/100\n38/38 [==============================] - 0s 2ms/step - loss: 0.0549 - accuracy: 0.9468\nEpoch 59/100\n38/38 [==============================] - 0s 2ms/step - loss: 0.0544 - accuracy: 0.9628\nEpoch 60/100\n38/38 [==============================] - 0s 2ms/step - loss: 0.0545 - accuracy: 0.9468\nEpoch 61/100\n38/38 [==============================] - 0s 2ms/step - loss: 0.0524 - accuracy: 0.9468\nEpoch 62/100\n38/38 [==============================] - 0s 2ms/step - loss: 0.0490 - accuracy: 0.9521\nEpoch 63/100\n38/38 [==============================] - 0s 2ms/step - loss: 0.0458 - accuracy: 0.9681\nEpoch 64/100\n38/38 [==============================] - 0s 2ms/step - loss: 0.0455 - accuracy: 0.9521\nEpoch 65/100\n38/38 [==============================] - 0s 2ms/step - loss: 0.0425 - accuracy: 0.9787\nEpoch 66/100\n38/38 [==============================] - 0s 2ms/step - loss: 0.0438 - accuracy: 0.9574\nEpoch 67/100\n38/38 [==============================] - 0s 2ms/step - loss: 0.0428 - accuracy: 0.9628\nEpoch 68/100\n38/38 [==============================] - 0s 2ms/step - loss: 0.0384 - accuracy: 0.9734\nEpoch 69/100\n38/38 [==============================] - 0s 2ms/step - loss: 0.0361 - accuracy: 0.9840\nEpoch 70/100\n38/38 [==============================] - 0s 2ms/step - loss: 0.0369 - accuracy: 0.9734\nEpoch 71/100\n38/38 [==============================] - 0s 2ms/step - loss: 0.0365 - accuracy: 0.9787\nEpoch 72/100\n38/38 [==============================] - 0s 2ms/step - loss: 0.0372 - accuracy: 0.9681\nEpoch 73/100\n38/38 [==============================] - 0s 2ms/step - loss: 0.0364 - accuracy: 0.9840\nEpoch 74/100\n38/38 [==============================] - 0s 2ms/step - loss: 0.0345 - accuracy: 0.9681\nEpoch 75/100\n38/38 [==============================] - 0s 2ms/step - loss: 0.0357 - accuracy: 0.9894\nEpoch 76/100\n38/38 [==============================] - 0s 2ms/step - loss: 0.0330 - accuracy: 0.9787\nEpoch 77/100\n38/38 [==============================] - 0s 2ms/step - loss: 0.0286 - accuracy: 0.9947\nEpoch 78/100\n38/38 [==============================] - 0s 2ms/step - loss: 0.0298 - accuracy: 0.9840\nEpoch 79/100\n38/38 [==============================] - 0s 2ms/step - loss: 0.0268 - accuracy: 0.9840\nEpoch 80/100\n38/38 [==============================] - 0s 2ms/step - loss: 0.0262 - accuracy: 0.9894\nEpoch 81/100\n38/38 [==============================] - 0s 2ms/step - loss: 0.0246 - accuracy: 0.9947\nEpoch 82/100\n38/38 [==============================] - 0s 2ms/step - loss: 0.0270 - accuracy: 0.9787\nEpoch 83/100\n38/38 [==============================] - 0s 2ms/step - loss: 0.0242 - accuracy: 0.9840\nEpoch 84/100\n38/38 [==============================] - 0s 2ms/step - loss: 0.0233 - accuracy: 0.9894\nEpoch 85/100\n38/38 [==============================] - 0s 2ms/step - loss: 0.0203 - accuracy: 0.9947\nEpoch 86/100\n38/38 [==============================] - 0s 2ms/step - loss: 0.0196 - accuracy: 0.9894\nEpoch 87/100\n38/38 [==============================] - 0s 2ms/step - loss: 0.0201 - accuracy: 0.9947\nEpoch 88/100\n38/38 [==============================] - 0s 2ms/step - loss: 0.0199 - accuracy: 0.9894\nEpoch 89/100\n38/38 [==============================] - 0s 2ms/step - loss: 0.0190 - accuracy: 0.9947\nEpoch 90/100\n38/38 [==============================] - 0s 2ms/step - loss: 0.0172 - accuracy: 0.9947\nEpoch 91/100\n38/38 [==============================] - 0s 2ms/step - loss: 0.0168 - accuracy: 0.9947\nEpoch 92/100\n38/38 [==============================] - 0s 2ms/step - loss: 0.0164 - accuracy: 0.9947\nEpoch 93/100\n38/38 [==============================] - 0s 2ms/step - loss: 0.0156 - accuracy: 0.9947\nEpoch 94/100\n38/38 [==============================] - 0s 2ms/step - loss: 0.0150 - accuracy: 0.9947\nEpoch 95/100\n38/38 [==============================] - 0s 2ms/step - loss: 0.0148 - accuracy: 0.9947\nEpoch 96/100\n38/38 [==============================] - 0s 2ms/step - loss: 0.0139 - accuracy: 0.9947\nEpoch 97/100\n38/38 [==============================] - 0s 2ms/step - loss: 0.0137 - accuracy: 1.0000\nEpoch 98/100\n38/38 [==============================] - 0s 2ms/step - loss: 0.0138 - accuracy: 0.9947\nEpoch 99/100\n38/38 [==============================] - 0s 2ms/step - loss: 0.0111 - accuracy: 1.0000\nEpoch 100/100\n38/38 [==============================] - 0s 2ms/step - loss: 0.0126 - accuracy: 0.9947\n1/1 [==============================] - 0s 964us/step - loss: 0.1099 - accuracy: 0.8500\n"
    }
   ],
   "source": [
    "# 모델의 설정, 컴파일, 실행\n",
    "for train, test in skf.split(X, Y):\n",
    "    model = Sequential()\n",
    "    model.add(Dense(24, input_dim=60, activation='relu'))\n",
    "    model.add(Dense(10, activation='relu'))\n",
    "    model.add(Dense(1, activation='sigmoid'))\n",
    "    model.compile(loss='mean_squared_error',\n",
    "                  optimizer='adam',\n",
    "                  metrics=['accuracy'])\n",
    "    model.fit(X[train], Y[train], epochs=100, batch_size=5)\n",
    "    k_accuracy = \"%.4f\" % (model.evaluate(X[test], Y[test])[1])\n",
    "    accuracy.append(k_accuracy)"
   ]
  },
  {
   "cell_type": "code",
   "execution_count": 30,
   "metadata": {
    "tags": []
   },
   "outputs": [
    {
     "output_type": "stream",
     "name": "stdout",
     "text": "\n 10 fold accuracy: ['0.7143', '0.8095', '0.7619', '0.8571', '0.7619', '0.8571', '0.8571', '0.8571', '0.9500', '0.8500']\n"
    }
   ],
   "source": [
    "# 결과 출력\n",
    "print(\"\\n %.f fold accuracy:\" % n_fold, accuracy)"
   ]
  },
  {
   "cell_type": "code",
   "execution_count": null,
   "metadata": {},
   "outputs": [],
   "source": []
  }
 ],
 "metadata": {
  "language_info": {
   "codemirror_mode": {
    "name": "ipython",
    "version": 3
   },
   "file_extension": ".py",
   "mimetype": "text/x-python",
   "name": "python",
   "nbconvert_exporter": "python",
   "pygments_lexer": "ipython3",
   "version": "3.7.6-final"
  },
  "orig_nbformat": 2,
  "kernelspec": {
   "name": "python3",
   "display_name": "Python 3"
  }
 },
 "nbformat": 4,
 "nbformat_minor": 2
}