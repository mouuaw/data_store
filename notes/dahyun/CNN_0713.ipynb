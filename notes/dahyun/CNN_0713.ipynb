{
 "cells": [
  {
   "cell_type": "code",
   "execution_count": null,
   "metadata": {},
   "outputs": [],
   "source": [
    "\"\"\"\n",
    "Cats vs Dogs image classifier \n",
    " - image data generator 이용 : 학습 데이터셋 만들기 \n",
    "\"\"\""
   ]
  },
  {
   "cell_type": "code",
   "execution_count": 1,
   "metadata": {},
   "outputs": [],
   "source": [
    "from tensorflow.keras import Sequential # keras model \n",
    "from tensorflow.keras.layers import Conv2D, MaxPool2D # Convolution layer\n",
    "from tensorflow.keras.layers import Dense, Dropout, Flatten # Affine layer\n",
    "import os"
   ]
  },
  {
   "cell_type": "code",
   "execution_count": 2,
   "metadata": {},
   "outputs": [],
   "source": [
    "base_dir = \"../image/cats_and_dogs\"\n",
    "train_dir = os.path.join(base_dir, 'train_dir')\n",
    "validation_dir = os.path.join(base_dir, 'validation_dir')\n",
    "\n",
    "# Hyper parameters\n",
    "img_h = 150 # height\n",
    "img_w = 150 # width\n",
    "input_shape = (img_h, img_w, 3) "
   ]
  },
  {
   "cell_type": "code",
   "execution_count": 3,
   "metadata": {},
   "outputs": [],
   "source": [
    "# 1. CNN Model layer \n",
    "model = Sequential()\n",
    "\n",
    "# Convolution layer1 \n",
    "model.add(Conv2D(32, kernel_size=(3, 3), activation='relu', input_shape = input_shape))\n",
    "model.add(MaxPool2D(pool_size=(2,2)))\n",
    "\n",
    "# Convolution layer2 \n",
    "model.add(Conv2D(64,kernel_size=(3, 3), activation='relu'))\n",
    "model.add(MaxPool2D(pool_size=(2,2)))\n",
    "\n",
    "# Convolution layer3 \n",
    "model.add(Conv2D(128, kernel_size=(3, 3), activation='relu'))\n",
    "model.add(MaxPool2D(pool_size=(2,2)))\n",
    "\n",
    "# Flatten layer : 3d -> 1d\n",
    "model.add(Flatten()) \n",
    "\n",
    "# DNN hidden layer(Fully connected layer)\n",
    "model.add(Dense(256, activation = 'relu'))\n",
    "\n",
    "# DNN Output layer\n",
    "model.add(Dense(1, activation = 'sigmoid'))"
   ]
  },
  {
   "cell_type": "code",
   "execution_count": 4,
   "metadata": {},
   "outputs": [],
   "source": [
    "# model training set : Adam or RMSprop \n",
    "model.compile(optimizer = 'adam',\n",
    "              loss = 'binary_crossentropy', # one hot encoding\n",
    "              metrics = ['accuracy'])"
   ]
  },
  {
   "cell_type": "code",
   "execution_count": 5,
   "metadata": {},
   "outputs": [
    {
     "name": "stdout",
     "output_type": "stream",
     "text": [
      "Found 2000 images belonging to 2 classes.\n",
      "Found 1000 images belonging to 2 classes.\n"
     ]
    }
   ],
   "source": [
    "# 2. image file preprocessing : image 제너레이터 이용  \n",
    "from tensorflow.keras.preprocessing.image import ImageDataGenerator\n",
    "# https://tykimos.github.io/2017/06/10/CNN_Data_Augmentation/\n",
    "\n",
    "# 특정 폴더의 이미지를 분류하기 위해서 학습시킬 데이터셋 생성\n",
    "train_data = ImageDataGenerator(rescale=1./255)\n",
    "\n",
    "# 검증 데이터 \n",
    "validation_data = ImageDataGenerator(rescale=1./255)\n",
    "\n",
    "\n",
    "train_generator = train_data.flow_from_directory(\n",
    "        train_dir,\n",
    "        target_size=(150,150), # image reshape\n",
    "        batch_size=20, # batch size\n",
    "        class_mode='binary') # binary label\n",
    "# Found 2000 images belonging to 2 classes.\n",
    "\n",
    "validation_generator = validation_data.flow_from_directory(\n",
    "        validation_dir,\n",
    "        target_size=(150,150),\n",
    "        batch_size=20,\n",
    "        class_mode='binary')\n",
    "# Found 1000 images belonging to 2 classes."
   ]
  },
  {
   "cell_type": "code",
   "execution_count": null,
   "metadata": {},
   "outputs": [],
   "source": [
    "'''\n",
    "케라스에서는 모델을 학습시킬 때 주로 fit() 함수를 사용하지만 \n",
    "제네레이터로 생성된 배치로 학습시킬 경우에는 fit_generator() 함수를 사용합니다.\n",
    "\n",
    "- 첫번째 인자 : 훈련데이터셋을 제공할 제네레이터를 지정합니다. \n",
    "- steps_per_epoch : 한 epoch에 사용한 스텝 수를 지정합니다. \n",
    "                    총 2000개의 훈련 샘플이 있고 배치사이즈가 20이므로 100 스텝으로 지정합니다.\n",
    "- epochs : 전체 훈련 데이터셋에 대해 학습 반복 횟수를 지정합니다. \n",
    "- validation_data : 검증데이터셋을 제공할 제네레이터를 지정합니다. \n",
    "- validation_steps : 한 epoch 종료 시 마다 검증할 때 사용되는 검증 스텝 수를 지정합니다. \n",
    "                     총 1000개의 검증 샘플이 있고 배치사이즈가 20이므로 50 스텝으로 지정합니다.\n",
    "'''\n",
    "# https://tykimos.github.io/2017/03/08/CNN_Getting_Started/"
   ]
  },
  {
   "cell_type": "code",
   "execution_count": 6,
   "metadata": {},
   "outputs": [
    {
     "name": "stdout",
     "output_type": "stream",
     "text": [
      "Epoch 1/10\n",
      "100/100 [==============================] - 161s 2s/step - loss: 0.7111 - accuracy: 0.5325 - val_loss: 0.6748 - val_accuracy: 0.6130\n",
      "Epoch 2/10\n",
      "100/100 [==============================] - 163s 2s/step - loss: 0.6550 - accuracy: 0.6305 - val_loss: 0.6651 - val_accuracy: 0.5930\n",
      "Epoch 3/10\n",
      "100/100 [==============================] - 160s 2s/step - loss: 0.6100 - accuracy: 0.6840 - val_loss: 0.6142 - val_accuracy: 0.6560\n",
      "Epoch 4/10\n",
      "100/100 [==============================] - 165s 2s/step - loss: 0.5384 - accuracy: 0.7175 - val_loss: 0.5973 - val_accuracy: 0.6850\n",
      "Epoch 5/10\n",
      "100/100 [==============================] - 168s 2s/step - loss: 0.4758 - accuracy: 0.7620 - val_loss: 0.6455 - val_accuracy: 0.6860\n",
      "Epoch 6/10\n",
      "100/100 [==============================] - 162s 2s/step - loss: 0.3976 - accuracy: 0.8170 - val_loss: 0.7768 - val_accuracy: 0.6530\n",
      "Epoch 7/10\n",
      "100/100 [==============================] - 163s 2s/step - loss: 0.3147 - accuracy: 0.8630 - val_loss: 0.9189 - val_accuracy: 0.6770\n",
      "Epoch 8/10\n",
      "100/100 [==============================] - 163s 2s/step - loss: 0.2173 - accuracy: 0.9080 - val_loss: 0.8284 - val_accuracy: 0.6760\n",
      "Epoch 9/10\n",
      "100/100 [==============================] - 165s 2s/step - loss: 0.1247 - accuracy: 0.9555 - val_loss: 1.2866 - val_accuracy: 0.6960\n",
      "Epoch 10/10\n",
      "100/100 [==============================] - 162s 2s/step - loss: 0.0841 - accuracy: 0.9700 - val_loss: 1.3008 - val_accuracy: 0.6760\n"
     ]
    }
   ],
   "source": [
    "# 3. model training : image제너레이터 이용 모델 훈련 \n",
    "model_fit = model.fit_generator(\n",
    "          train_generator, \n",
    "          steps_per_epoch=100,\n",
    "          epochs=10, \n",
    "          validation_data=validation_generator,\n",
    "          validation_steps=50) "
   ]
  },
  {
   "cell_type": "code",
   "execution_count": 7,
   "metadata": {},
   "outputs": [
    {
     "name": "stdout",
     "output_type": "stream",
     "text": [
      "dict_keys(['loss', 'accuracy', 'val_loss', 'val_accuracy'])\n"
     ]
    }
   ],
   "source": [
    "# 4. model history graph\n",
    "import matplotlib.pyplot as plt\n",
    " \n",
    "print(model_fit.history.keys())\n",
    "\n",
    "loss = model_fit.history['loss'] # train\n",
    "acc = model_fit.history['accuracy']\n",
    "val_loss = model_fit.history['val_loss'] # validation\n",
    "val_acc = model_fit.history['val_accuracy']\n",
    "\n",
    "epochs = range(1, len(acc) + 1)"
   ]
  },
  {
   "cell_type": "code",
   "execution_count": 9,
   "metadata": {},
   "outputs": [
    {
     "data": {
      "image/png": "[encoded data removed]",
      "text/plain": [
       "<Figure size 432x288 with 1 Axes>"
      ]
     },
     "metadata": {
      "needs_background": "light"
     },
     "output_type": "display_data"
    }
   ],
   "source": [
    "# acc vs val_acc   \n",
    "plt.plot(epochs, acc, 'b', label='train acc')\n",
    "plt.plot(epochs, val_acc, 'r', label='val acc')\n",
    "plt.title('Training vs validation accuracy')\n",
    "plt.xlabel('epoch')\n",
    "plt.ylabel('accuray')\n",
    "plt.legend(loc='best')\n",
    "plt.show()"
   ]
  },
  {
   "cell_type": "code",
   "execution_count": 10,
   "metadata": {},
   "outputs": [
    {
     "data": {
      "image/png": "[encoded data removed]",
      "text/plain": [
       "<Figure size 432x288 with 1 Axes>"
      ]
     },
     "metadata": {
      "needs_background": "light"
     },
     "output_type": "display_data"
    }
   ],
   "source": [
    "# loss vs val_loss \n",
    "plt.plot(epochs, loss, 'b', label='train loss')\n",
    "plt.plot(epochs, val_loss, 'r', label='val loss')\n",
    "plt.title('Training vs validation loss')\n",
    "plt.xlabel('epoch')\n",
    "plt.ylabel('loss')\n",
    "plt.legend(loc='best')\n",
    "plt.show()"
   ]
  },
  {
   "cell_type": "code",
   "execution_count": 11,
   "metadata": {},
   "outputs": [
    {
     "name": "stdout",
     "output_type": "stream",
     "text": [
      "model create\n"
     ]
    }
   ],
   "source": [
    "# 1. CNN Model layer \n",
    "model = Sequential()\n",
    "\n",
    "# Convolution layer1 : kernel[3,3,3,32]\n",
    "model.add(Conv2D(32, kernel_size=(3, 3), activation='relu', input_shape = input_shape))\n",
    "model.add(MaxPool2D(pool_size=(2,2)))\n",
    "\n",
    "# Convolution layer2 : kernel[3,3,32,64]\n",
    "model.add(Conv2D(64,kernel_size=(3, 3), activation='relu'))\n",
    "model.add(MaxPool2D(pool_size=(2,2)))\n",
    "\n",
    "# Convolution layer3 : kernel[5,5,64,128], maxpooling() 제외 \n",
    "model.add(Conv2D(128, kernel_size=(3, 3), activation='relu'))\n",
    "model.add(MaxPool2D(pool_size=(2,2)))\n",
    "\n",
    "# Flatten layer :4d -> 2d\n",
    "model.add(Flatten()) \n",
    "# 2차 적용 : 드롭아웃 - 과적합 해결 \n",
    "model.add(Dropout(0.5)) # fully connected 층 이전에 배치 \n",
    "\n",
    "# Affine layer(Fully connected layer1) : [n, 256]\n",
    "model.add(Dense(256, activation = 'relu'))\n",
    "\n",
    "# Output layer(Fully connected layer2) : [256, 1]\n",
    "model.add(Dense(1, activation = 'sigmoid'))"
   ]
  },
  {
   "cell_type": "code",
   "execution_count": 12,
   "metadata": {},
   "outputs": [],
   "source": [
    "# model training set : Adam or RMSprop \n",
    "model.compile(optimizer = 'adam',\n",
    "              loss = 'binary_crossentropy', # one hot encoding\n",
    "              metrics = ['accuracy'])"
   ]
  },
  {
   "cell_type": "code",
   "execution_count": 13,
   "metadata": {},
   "outputs": [
    {
     "name": "stdout",
     "output_type": "stream",
     "text": [
      "image preprocessing\n",
      "Found 2000 images belonging to 2 classes.\n",
      "Found 1000 images belonging to 2 classes.\n"
     ]
    }
   ],
   "source": [
    "# 2. image file preprocessing : 이미지 제너레이터 이용  \n",
    "from tensorflow.keras.preprocessing.image import ImageDataGenerator\n",
    "\n",
    "# 1차 적용 \n",
    "#train_data = ImageDataGenerator(rescale=1./255)\n",
    "\n",
    "# 2차 적용 : image 증식 - 과적합 해결\n",
    "train_data = ImageDataGenerator(\n",
    "        rescale=1./255,\n",
    "        rotation_range = 40, # image 회전 각도 범위(+, - 범위)\n",
    "        width_shift_range = 0.2, # image 수평 이동 범위\n",
    "        height_shift_range = 0.2, # image 수직 이용 범위  \n",
    "        shear_range = 0.2, # image 전단 각도 범위\n",
    "        zoom_range=0.2, # image 확대 범위\n",
    "        horizontal_flip=True,) # image 수평 뒤집기 범위 \n",
    "\n",
    "# 검증 데이터에는 증식 적용 안함 \n",
    "validation_data = ImageDataGenerator(rescale=1./255)\n",
    "\n",
    "\n",
    "train_generator = train_data.flow_from_directory(\n",
    "        train_dir,\n",
    "        target_size=(150,150),\n",
    "        batch_size=35, \n",
    "        class_mode='binary') # binary label\n",
    "# Found 2000 images belonging to 2 classes.\n",
    "\n",
    "validation_generator = validation_data.flow_from_directory(\n",
    "        validation_dir,\n",
    "        target_size=(150,150),\n",
    "        batch_size=35, # [수정] batch size 올림 \n",
    "        class_mode='binary')\n",
    "# Found 1000 images belonging to 2 classes."
   ]
  },
  {
   "cell_type": "code",
   "execution_count": 15,
   "metadata": {},
   "outputs": [
    {
     "name": "stdout",
     "output_type": "stream",
     "text": [
      "Epoch 1/10\n",
      "100/100 [==============================] - 295s 3s/step - loss: 0.6807 - accuracy: 0.5427 - val_loss: 0.6897 - val_accuracy: 0.5066\n",
      "Epoch 2/10\n",
      "100/100 [==============================] - 291s 3s/step - loss: 0.6673 - accuracy: 0.5902 - val_loss: 0.6512 - val_accuracy: 0.6052\n",
      "Epoch 3/10\n",
      "100/100 [==============================] - 290s 3s/step - loss: 0.6502 - accuracy: 0.6215 - val_loss: 0.6337 - val_accuracy: 0.6432\n",
      "Epoch 4/10\n",
      "100/100 [==============================] - 290s 3s/step - loss: 0.6284 - accuracy: 0.6369 - val_loss: 0.6089 - val_accuracy: 0.6611\n",
      "Epoch 5/10\n",
      "100/100 [==============================] - 287s 3s/step - loss: 0.6323 - accuracy: 0.6360 - val_loss: 0.6283 - val_accuracy: 0.6455\n",
      "Epoch 6/10\n",
      "100/100 [==============================] - 276s 3s/step - loss: 0.6248 - accuracy: 0.6494 - val_loss: 0.5883 - val_accuracy: 0.6715\n",
      "Epoch 7/10\n",
      "100/100 [==============================] - 279s 3s/step - loss: 0.5969 - accuracy: 0.6749 - val_loss: 0.5851 - val_accuracy: 0.6836\n",
      "Epoch 8/10\n",
      "100/100 [==============================] - 284s 3s/step - loss: 0.6024 - accuracy: 0.6727 - val_loss: 0.5862 - val_accuracy: 0.6818\n",
      "Epoch 9/10\n",
      "100/100 [==============================] - 279s 3s/step - loss: 0.5670 - accuracy: 0.7041 - val_loss: 0.5436 - val_accuracy: 0.7095\n",
      "Epoch 10/10\n",
      "100/100 [==============================] - 283s 3s/step - loss: 0.5722 - accuracy: 0.7000 - val_loss: 0.5248 - val_accuracy: 0.7349\n"
     ]
    }
   ],
   "source": [
    "model_fit = model.fit_generator(\n",
    "          train_generator, \n",
    "          steps_per_epoch=100, \n",
    "          epochs=10, # 30 epochs()\n",
    "          validation_data=validation_generator,\n",
    "          validation_steps=50)"
   ]
  },
  {
   "cell_type": "code",
   "execution_count": 16,
   "metadata": {},
   "outputs": [],
   "source": [
    "loss = model_fit.history['loss'] # train\n",
    "acc = model_fit.history['accuracy']\n",
    "val_loss = model_fit.history['val_loss'] # validation\n",
    "val_acc = model_fit.history['val_accuracy']\n",
    "\n",
    "epochs = range(1, len(acc) + 1)"
   ]
  },
  {
   "cell_type": "code",
   "execution_count": 18,
   "metadata": {},
   "outputs": [
    {
     "data": {
      "image/png": "[encoded data removed]",
      "text/plain": [
       "<Figure size 432x288 with 1 Axes>"
      ]
     },
     "metadata": {
      "needs_background": "light"
     },
     "output_type": "display_data"
    }
   ],
   "source": [
    "# acc vs val_acc   \n",
    "plt.plot(epochs, acc, 'b', label='train acc')\n",
    "plt.plot(epochs, val_acc, 'r', label='val acc')\n",
    "plt.title('Training vs validation accuracy')\n",
    "plt.xlabel('epoch')\n",
    "plt.ylabel('accuray')\n",
    "plt.legend(loc='best')\n",
    "plt.show()"
   ]
  },
  {
   "cell_type": "code",
   "execution_count": 19,
   "metadata": {},
   "outputs": [
    {
     "data": {
      "image/png": "[encoded data removed]",
      "text/plain": [
       "<Figure size 432x288 with 1 Axes>"
      ]
     },
     "metadata": {
      "needs_background": "light"
     },
     "output_type": "display_data"
    }
   ],
   "source": [
    "# loss vs val_loss \n",
    "plt.plot(epochs, loss, 'b', label='train loss')\n",
    "plt.plot(epochs, val_loss, 'r', label='val loss')\n",
    "plt.title('Training vs validation loss')\n",
    "plt.xlabel('epoch')\n",
    "plt.ylabel('loss')\n",
    "plt.legend(loc='best')\n",
    "plt.show()"
   ]
  }
 ],
 "metadata": {
  "kernelspec": {
   "display_name": "Python 3",
   "language": "python",
   "name": "python3"
  },
  "language_info": {
   "codemirror_mode": {
    "name": "ipython",
    "version": 3
   },
   "file_extension": ".py",
   "mimetype": "text/x-python",
   "name": "python",
   "nbconvert_exporter": "python",
   "pygments_lexer": "ipython3",
   "version": "3.7.6"
  }
 },
 "nbformat": 4,
 "nbformat_minor": 4
}