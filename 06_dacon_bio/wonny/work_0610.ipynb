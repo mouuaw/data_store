{
 "cells": [
  {
   "cell_type": "code",
   "execution_count": 1,
   "metadata": {},
   "outputs": [],
   "source": [
    "import numpy as np\n",
    "import pandas as pd\n",
    "import math\n",
    "\n",
    "import seaborn as sns\n",
    "from sklearn.model_selection import train_test_split\n",
    "from matplotlib import pyplot as plt\n",
    "from scipy.stats import chi2_contingency\n",
    "from sklearn.preprocessing import StandardScaler, MinMaxScaler\n",
    "\n",
    "import warnings\n",
    "warnings.filterwarnings('ignore')\n",
    "\n",
    "%matplotlib inline\n",
    "\n",
    "from sklearn.metrics import mean_squared_error, mean_absolute_error\n",
    "\n",
    "def df_preview(df):\n",
    "    for col in df.columns:\n",
    "        print(col, \"null count ::\", df[col].isnull().sum(), \"// mean ::\", df[col].mean())\n",
    "\n",
    "def df_col_distplot(df):\n",
    "    for col in df.columns:\n",
    "        print(col, \"plot\")\n",
    "        sns.distplot(df.loc[df[col].notnull(), col])\n",
    "        plt.title(col)\n",
    "        plt.show()\n",
    "\n",
    "def rmse_expm1(pred, true):\n",
    "    return -np.sqrt(np.mean((np.expm1(pred)-np.expm1(true))**2))\n",
    "\n",
    "def rmsle(y, pred):\n",
    "    log_y = np.log1p(y)\n",
    "    log_pred = np.log1p(pred)\n",
    "    squared_error = (log_y - log_pred) ** 2\n",
    "    rmsle = np.sqrt(np.mean(squared_error))\n",
    "    return rmsle\n",
    "\n",
    "def rmse(y, pred):\n",
    "    return np.sqrt(mean_squared_error(y, pred))\n",
    "\n",
    "train = pd.read_csv('../data/train.csv', index_col='id')\n",
    "test = pd.read_csv('../data/test.csv', index_col='id')\n",
    "submission = pd.read_csv('../data/sample_submission.csv', index_col='id')"
   ]
  },
  {
   "cell_type": "code",
   "execution_count": 2,
   "metadata": {},
   "outputs": [],
   "source": [
    "## concat_df: train, test 를 합친 dataframe\n",
    "\n",
    "concat_df = pd.concat([train, test])\n",
    "concat_df.shape\n",
    "\n",
    "## feature_df: target 을 제외한 dataframe\n",
    "\n",
    "target_cols = ['hhb', 'hbo2', 'ca', 'na']\n",
    "feature_df = concat_df.drop(target_cols, axis=1)"
   ]
  },
  {
   "cell_type": "code",
   "execution_count": 3,
   "metadata": {},
   "outputs": [],
   "source": [
    "feature_dst = feature_df.filter(regex='_dst$', axis=1)\n",
    "feature_src = feature_df.filter(regex='_src$', axis=1)"
   ]
  },
  {
   "cell_type": "code",
   "execution_count": 4,
   "metadata": {},
   "outputs": [],
   "source": [
    "## KNNImputer 를 사용함\n",
    "\n",
    "from sklearn.impute import KNNImputer\n",
    "\n",
    "imputer_n30 = KNNImputer(n_neighbors=30)"
   ]
  },
  {
   "cell_type": "code",
   "execution_count": 5,
   "metadata": {},
   "outputs": [],
   "source": [
    "imputed_30_df = imputer_n30.fit_transform(feature_dst)\n",
    "\n",
    "## impute 결과가 list 로 나오기 때문에 dataframe 으로 바꿔주는 작업\n",
    "imputed_30_df = pd.DataFrame(imputed_30_df, columns=feature_dst.columns, index=list(feature_dst.index.values))"
   ]
  },
  {
   "cell_type": "code",
   "execution_count": 6,
   "metadata": {},
   "outputs": [
    {
     "output_type": "execute_result",
     "data": {
      "text/plain": "<matplotlib.axes._subplots.AxesSubplot at 0x1419c24f948>"
     },
     "metadata": {},
     "execution_count": 6
    },
    {
     "output_type": "display_data",
     "data": {
      "text/plain": "<Figure size 432x288 with 1 Axes>",
      "image/svg+xml": "<?xml version=\"1.0\" encoding=\"utf-8\" standalone=\"no\"?>\r\n<!DOCTYPE svg PUBLIC \"-//W3C//DTD SVG 1.1//EN\"\r\n  \"http://www.w3.org/Graphics/SVG/1.1/DTD/svg11.dtd\">\r\n<!-- Created with matplotlib (https://matplotlib.org/) -->\r\n<svg height=\"259.394687pt\" version=\"1.1\" viewBox=\"0 0 372.103125 259.394687\" width=\"372.103125pt\" xmlns=\"http://www.w3.org/2000/svg\" xmlns:xlink=\"http://www.w3.org/1999/xlink\">\r\n <defs>\r\n  <style type=\"text/css\">\r\n*{stroke-linecap:butt;stroke-linejoin:round;}\r\n  </style>\r\n </defs>\r\n <g id=\"figure_1\">\r\n  <g id=\"patch_1\">\r\n   <path d=\"M 0 259.394687 \r\nL 372.103125 259.394687 \r\nL 372.103125 0 \r\nL 0 0 \r\nz\r\n\" style=\"fill:none;\"/>\r\n  </g>\r\n  <g id=\"axes_1\">\r\n   <g id=\"patch_2\">\r\n    <path d=\"M 30.103125 235.238437 \r\nL 364.903125 235.238437 \r\nL 364.903125 17.798437 \r\nL 30.103125 17.798437 \r\nz\r\n\" style=\"fill:#ffffff;\"/>\r\n   </g>\r\n   <g id=\"matplotlib.axis_1\">\r\n    <g id=\"xtick_1\">\r\n     <g id=\"line2d_1\">\r\n      <defs>\r\n       <path d=\"M 0 0 \r\nL 0 3.5 \r\n\" id=\"mc4c2e526c5\" style=\"stroke:#000000;stroke-width:0.8;\"/>\r\n      </defs>\r\n      <g>\r\n       <use style=\"stroke:#000000;stroke-width:0.8;\" x=\"45.321307\" xlink:href=\"#mc4c2e526c5\" y=\"235.238437\"/>\r\n      </g>\r\n     </g>\r\n     <g id=\"text_1\">\r\n      <!-- 650_dst -->\r\n      <defs>\r\n       <path d=\"M 33.015625 40.375 \r\nQ 26.375 40.375 22.484375 35.828125 \r\nQ 18.609375 31.296875 18.609375 23.390625 \r\nQ 18.609375 15.53125 22.484375 10.953125 \r\nQ 26.375 6.390625 33.015625 6.390625 \r\nQ 39.65625 6.390625 43.53125 10.953125 \r\nQ 47.40625 15.53125 47.40625 23.390625 \r\nQ 47.40625 31.296875 43.53125 35.828125 \r\nQ 39.65625 40.375 33.015625 40.375 \r\nz\r\nM 52.59375 71.296875 \r\nL 52.59375 62.3125 \r\nQ 48.875 64.0625 45.09375 64.984375 \r\nQ 41.3125 65.921875 37.59375 65.921875 \r\nQ 27.828125 65.921875 22.671875 59.328125 \r\nQ 17.53125 52.734375 16.796875 39.40625 \r\nQ 19.671875 43.65625 24.015625 45.921875 \r\nQ 28.375 48.1875 33.59375 48.1875 \r\nQ 44.578125 48.1875 50.953125 41.515625 \r\nQ 57.328125 34.859375 57.328125 23.390625 \r\nQ 57.328125 12.15625 50.6875 5.359375 \r\nQ 44.046875 -1.421875 33.015625 -1.421875 \r\nQ 20.359375 -1.421875 13.671875 8.265625 \r\nQ 6.984375 17.96875 6.984375 36.375 \r\nQ 6.984375 53.65625 15.1875 63.9375 \r\nQ 23.390625 74.21875 37.203125 74.21875 \r\nQ 40.921875 74.21875 44.703125 73.484375 \r\nQ 48.484375 72.75 52.59375 71.296875 \r\nz\r\n\" id=\"DejaVuSans-54\"/>\r\n       <path d=\"M 10.796875 72.90625 \r\nL 49.515625 72.90625 \r\nL 49.515625 64.59375 \r\nL 19.828125 64.59375 \r\nL 19.828125 46.734375 \r\nQ 21.96875 47.46875 24.109375 47.828125 \r\nQ 26.265625 48.1875 28.421875 48.1875 \r\nQ 40.625 48.1875 47.75 41.5 \r\nQ 54.890625 34.8125 54.890625 23.390625 \r\nQ 54.890625 11.625 47.5625 5.09375 \r\nQ 40.234375 -1.421875 26.90625 -1.421875 \r\nQ 22.3125 -1.421875 17.546875 -0.640625 \r\nQ 12.796875 0.140625 7.71875 1.703125 \r\nL 7.71875 11.625 \r\nQ 12.109375 9.234375 16.796875 8.0625 \r\nQ 21.484375 6.890625 26.703125 6.890625 \r\nQ 35.15625 6.890625 40.078125 11.328125 \r\nQ 45.015625 15.765625 45.015625 23.390625 \r\nQ 45.015625 31 40.078125 35.4375 \r\nQ 35.15625 39.890625 26.703125 39.890625 \r\nQ 22.75 39.890625 18.8125 39.015625 \r\nQ 14.890625 38.140625 10.796875 36.28125 \r\nz\r\n\" id=\"DejaVuSans-53\"/>\r\n       <path d=\"M 31.78125 66.40625 \r\nQ 24.171875 66.40625 20.328125 58.90625 \r\nQ 16.5 51.421875 16.5 36.375 \r\nQ 16.5 21.390625 20.328125 13.890625 \r\nQ 24.171875 6.390625 31.78125 6.390625 \r\nQ 39.453125 6.390625 43.28125 13.890625 \r\nQ 47.125 21.390625 47.125 36.375 \r\nQ 47.125 51.421875 43.28125 58.90625 \r\nQ 39.453125 66.40625 31.78125 66.40625 \r\nz\r\nM 31.78125 74.21875 \r\nQ 44.046875 74.21875 50.515625 64.515625 \r\nQ 56.984375 54.828125 56.984375 36.375 \r\nQ 56.984375 17.96875 50.515625 8.265625 \r\nQ 44.046875 -1.421875 31.78125 -1.421875 \r\nQ 19.53125 -1.421875 13.0625 8.265625 \r\nQ 6.59375 17.96875 6.59375 36.375 \r\nQ 6.59375 54.828125 13.0625 64.515625 \r\nQ 19.53125 74.21875 31.78125 74.21875 \r\nz\r\n\" id=\"DejaVuSans-48\"/>\r\n       <path d=\"M 50.984375 -16.609375 \r\nL 50.984375 -23.578125 \r\nL -0.984375 -23.578125 \r\nL -0.984375 -16.609375 \r\nz\r\n\" id=\"DejaVuSans-95\"/>\r\n       <path d=\"M 45.40625 46.390625 \r\nL 45.40625 75.984375 \r\nL 54.390625 75.984375 \r\nL 54.390625 0 \r\nL 45.40625 0 \r\nL 45.40625 8.203125 \r\nQ 42.578125 3.328125 38.25 0.953125 \r\nQ 33.9375 -1.421875 27.875 -1.421875 \r\nQ 17.96875 -1.421875 11.734375 6.484375 \r\nQ 5.515625 14.40625 5.515625 27.296875 \r\nQ 5.515625 40.1875 11.734375 48.09375 \r\nQ 17.96875 56 27.875 56 \r\nQ 33.9375 56 38.25 53.625 \r\nQ 42.578125 51.265625 45.40625 46.390625 \r\nz\r\nM 14.796875 27.296875 \r\nQ 14.796875 17.390625 18.875 11.75 \r\nQ 22.953125 6.109375 30.078125 6.109375 \r\nQ 37.203125 6.109375 41.296875 11.75 \r\nQ 45.40625 17.390625 45.40625 27.296875 \r\nQ 45.40625 37.203125 41.296875 42.84375 \r\nQ 37.203125 48.484375 30.078125 48.484375 \r\nQ 22.953125 48.484375 18.875 42.84375 \r\nQ 14.796875 37.203125 14.796875 27.296875 \r\nz\r\n\" id=\"DejaVuSans-100\"/>\r\n       <path d=\"M 44.28125 53.078125 \r\nL 44.28125 44.578125 \r\nQ 40.484375 46.53125 36.375 47.5 \r\nQ 32.28125 48.484375 27.875 48.484375 \r\nQ 21.1875 48.484375 17.84375 46.4375 \r\nQ 14.5 44.390625 14.5 40.28125 \r\nQ 14.5 37.15625 16.890625 35.375 \r\nQ 19.28125 33.59375 26.515625 31.984375 \r\nL 29.59375 31.296875 \r\nQ 39.15625 29.25 43.1875 25.515625 \r\nQ 47.21875 21.78125 47.21875 15.09375 \r\nQ 47.21875 7.46875 41.1875 3.015625 \r\nQ 35.15625 -1.421875 24.609375 -1.421875 \r\nQ 20.21875 -1.421875 15.453125 -0.5625 \r\nQ 10.6875 0.296875 5.421875 2 \r\nL 5.421875 11.28125 \r\nQ 10.40625 8.6875 15.234375 7.390625 \r\nQ 20.0625 6.109375 24.8125 6.109375 \r\nQ 31.15625 6.109375 34.5625 8.28125 \r\nQ 37.984375 10.453125 37.984375 14.40625 \r\nQ 37.984375 18.0625 35.515625 20.015625 \r\nQ 33.0625 21.96875 24.703125 23.78125 \r\nL 21.578125 24.515625 \r\nQ 13.234375 26.265625 9.515625 29.90625 \r\nQ 5.8125 33.546875 5.8125 39.890625 \r\nQ 5.8125 47.609375 11.28125 51.796875 \r\nQ 16.75 56 26.8125 56 \r\nQ 31.78125 56 36.171875 55.265625 \r\nQ 40.578125 54.546875 44.28125 53.078125 \r\nz\r\n\" id=\"DejaVuSans-115\"/>\r\n       <path d=\"M 18.3125 70.21875 \r\nL 18.3125 54.6875 \r\nL 36.8125 54.6875 \r\nL 36.8125 47.703125 \r\nL 18.3125 47.703125 \r\nL 18.3125 18.015625 \r\nQ 18.3125 11.328125 20.140625 9.421875 \r\nQ 21.96875 7.515625 27.59375 7.515625 \r\nL 36.8125 7.515625 \r\nL 36.8125 0 \r\nL 27.59375 0 \r\nQ 17.1875 0 13.234375 3.875 \r\nQ 9.28125 7.765625 9.28125 18.015625 \r\nL 9.28125 47.703125 \r\nL 2.6875 47.703125 \r\nL 2.6875 54.6875 \r\nL 9.28125 54.6875 \r\nL 9.28125 70.21875 \r\nz\r\n\" id=\"DejaVuSans-116\"/>\r\n      </defs>\r\n      <g transform=\"translate(25.538494 249.836875)scale(0.1 -0.1)\">\r\n       <use xlink:href=\"#DejaVuSans-54\"/>\r\n       <use x=\"63.623047\" xlink:href=\"#DejaVuSans-53\"/>\r\n       <use x=\"127.246094\" xlink:href=\"#DejaVuSans-48\"/>\r\n       <use x=\"190.869141\" xlink:href=\"#DejaVuSans-95\"/>\r\n       <use x=\"240.869141\" xlink:href=\"#DejaVuSans-100\"/>\r\n       <use x=\"304.345703\" xlink:href=\"#DejaVuSans-115\"/>\r\n       <use x=\"356.445312\" xlink:href=\"#DejaVuSans-116\"/>\r\n      </g>\r\n     </g>\r\n    </g>\r\n    <g id=\"xtick_2\">\r\n     <g id=\"line2d_2\">\r\n      <g>\r\n       <use style=\"stroke:#000000;stroke-width:0.8;\" x=\"90.080665\" xlink:href=\"#mc4c2e526c5\" y=\"235.238437\"/>\r\n      </g>\r\n     </g>\r\n     <g id=\"text_2\">\r\n      <!-- 700_dst -->\r\n      <defs>\r\n       <path d=\"M 8.203125 72.90625 \r\nL 55.078125 72.90625 \r\nL 55.078125 68.703125 \r\nL 28.609375 0 \r\nL 18.3125 0 \r\nL 43.21875 64.59375 \r\nL 8.203125 64.59375 \r\nz\r\n\" id=\"DejaVuSans-55\"/>\r\n      </defs>\r\n      <g transform=\"translate(70.297853 249.836875)scale(0.1 -0.1)\">\r\n       <use xlink:href=\"#DejaVuSans-55\"/>\r\n       <use x=\"63.623047\" xlink:href=\"#DejaVuSans-48\"/>\r\n       <use x=\"127.246094\" xlink:href=\"#DejaVuSans-48\"/>\r\n       <use x=\"190.869141\" xlink:href=\"#DejaVuSans-95\"/>\r\n       <use x=\"240.869141\" xlink:href=\"#DejaVuSans-100\"/>\r\n       <use x=\"304.345703\" xlink:href=\"#DejaVuSans-115\"/>\r\n       <use x=\"356.445312\" xlink:href=\"#DejaVuSans-116\"/>\r\n      </g>\r\n     </g>\r\n    </g>\r\n    <g id=\"xtick_3\">\r\n     <g id=\"line2d_3\">\r\n      <g>\r\n       <use style=\"stroke:#000000;stroke-width:0.8;\" x=\"134.840023\" xlink:href=\"#mc4c2e526c5\" y=\"235.238437\"/>\r\n      </g>\r\n     </g>\r\n     <g id=\"text_3\">\r\n      <!-- 750_dst -->\r\n      <g transform=\"translate(115.057211 249.836875)scale(0.1 -0.1)\">\r\n       <use xlink:href=\"#DejaVuSans-55\"/>\r\n       <use x=\"63.623047\" xlink:href=\"#DejaVuSans-53\"/>\r\n       <use x=\"127.246094\" xlink:href=\"#DejaVuSans-48\"/>\r\n       <use x=\"190.869141\" xlink:href=\"#DejaVuSans-95\"/>\r\n       <use x=\"240.869141\" xlink:href=\"#DejaVuSans-100\"/>\r\n       <use x=\"304.345703\" xlink:href=\"#DejaVuSans-115\"/>\r\n       <use x=\"356.445312\" xlink:href=\"#DejaVuSans-116\"/>\r\n      </g>\r\n     </g>\r\n    </g>\r\n    <g id=\"xtick_4\">\r\n     <g id=\"line2d_4\">\r\n      <g>\r\n       <use style=\"stroke:#000000;stroke-width:0.8;\" x=\"179.599382\" xlink:href=\"#mc4c2e526c5\" y=\"235.238437\"/>\r\n      </g>\r\n     </g>\r\n     <g id=\"text_4\">\r\n      <!-- 800_dst -->\r\n      <defs>\r\n       <path d=\"M 31.78125 34.625 \r\nQ 24.75 34.625 20.71875 30.859375 \r\nQ 16.703125 27.09375 16.703125 20.515625 \r\nQ 16.703125 13.921875 20.71875 10.15625 \r\nQ 24.75 6.390625 31.78125 6.390625 \r\nQ 38.8125 6.390625 42.859375 10.171875 \r\nQ 46.921875 13.96875 46.921875 20.515625 \r\nQ 46.921875 27.09375 42.890625 30.859375 \r\nQ 38.875 34.625 31.78125 34.625 \r\nz\r\nM 21.921875 38.8125 \r\nQ 15.578125 40.375 12.03125 44.71875 \r\nQ 8.5 49.078125 8.5 55.328125 \r\nQ 8.5 64.0625 14.71875 69.140625 \r\nQ 20.953125 74.21875 31.78125 74.21875 \r\nQ 42.671875 74.21875 48.875 69.140625 \r\nQ 55.078125 64.0625 55.078125 55.328125 \r\nQ 55.078125 49.078125 51.53125 44.71875 \r\nQ 48 40.375 41.703125 38.8125 \r\nQ 48.828125 37.15625 52.796875 32.3125 \r\nQ 56.78125 27.484375 56.78125 20.515625 \r\nQ 56.78125 9.90625 50.3125 4.234375 \r\nQ 43.84375 -1.421875 31.78125 -1.421875 \r\nQ 19.734375 -1.421875 13.25 4.234375 \r\nQ 6.78125 9.90625 6.78125 20.515625 \r\nQ 6.78125 27.484375 10.78125 32.3125 \r\nQ 14.796875 37.15625 21.921875 38.8125 \r\nz\r\nM 18.3125 54.390625 \r\nQ 18.3125 48.734375 21.84375 45.5625 \r\nQ 25.390625 42.390625 31.78125 42.390625 \r\nQ 38.140625 42.390625 41.71875 45.5625 \r\nQ 45.3125 48.734375 45.3125 54.390625 \r\nQ 45.3125 60.0625 41.71875 63.234375 \r\nQ 38.140625 66.40625 31.78125 66.40625 \r\nQ 25.390625 66.40625 21.84375 63.234375 \r\nQ 18.3125 60.0625 18.3125 54.390625 \r\nz\r\n\" id=\"DejaVuSans-56\"/>\r\n      </defs>\r\n      <g transform=\"translate(159.816569 249.836875)scale(0.1 -0.1)\">\r\n       <use xlink:href=\"#DejaVuSans-56\"/>\r\n       <use x=\"63.623047\" xlink:href=\"#DejaVuSans-48\"/>\r\n       <use x=\"127.246094\" xlink:href=\"#DejaVuSans-48\"/>\r\n       <use x=\"190.869141\" xlink:href=\"#DejaVuSans-95\"/>\r\n       <use x=\"240.869141\" xlink:href=\"#DejaVuSans-100\"/>\r\n       <use x=\"304.345703\" xlink:href=\"#DejaVuSans-115\"/>\r\n       <use x=\"356.445312\" xlink:href=\"#DejaVuSans-116\"/>\r\n      </g>\r\n     </g>\r\n    </g>\r\n    <g id=\"xtick_5\">\r\n     <g id=\"line2d_5\">\r\n      <g>\r\n       <use style=\"stroke:#000000;stroke-width:0.8;\" x=\"224.35874\" xlink:href=\"#mc4c2e526c5\" y=\"235.238437\"/>\r\n      </g>\r\n     </g>\r\n     <g id=\"text_5\">\r\n      <!-- 850_dst -->\r\n      <g transform=\"translate(204.575927 249.836875)scale(0.1 -0.1)\">\r\n       <use xlink:href=\"#DejaVuSans-56\"/>\r\n       <use x=\"63.623047\" xlink:href=\"#DejaVuSans-53\"/>\r\n       <use x=\"127.246094\" xlink:href=\"#DejaVuSans-48\"/>\r\n       <use x=\"190.869141\" xlink:href=\"#DejaVuSans-95\"/>\r\n       <use x=\"240.869141\" xlink:href=\"#DejaVuSans-100\"/>\r\n       <use x=\"304.345703\" xlink:href=\"#DejaVuSans-115\"/>\r\n       <use x=\"356.445312\" xlink:href=\"#DejaVuSans-116\"/>\r\n      </g>\r\n     </g>\r\n    </g>\r\n    <g id=\"xtick_6\">\r\n     <g id=\"line2d_6\">\r\n      <g>\r\n       <use style=\"stroke:#000000;stroke-width:0.8;\" x=\"269.118098\" xlink:href=\"#mc4c2e526c5\" y=\"235.238437\"/>\r\n      </g>\r\n     </g>\r\n     <g id=\"text_6\">\r\n      <!-- 900_dst -->\r\n      <defs>\r\n       <path d=\"M 10.984375 1.515625 \r\nL 10.984375 10.5 \r\nQ 14.703125 8.734375 18.5 7.8125 \r\nQ 22.3125 6.890625 25.984375 6.890625 \r\nQ 35.75 6.890625 40.890625 13.453125 \r\nQ 46.046875 20.015625 46.78125 33.40625 \r\nQ 43.953125 29.203125 39.59375 26.953125 \r\nQ 35.25 24.703125 29.984375 24.703125 \r\nQ 19.046875 24.703125 12.671875 31.3125 \r\nQ 6.296875 37.9375 6.296875 49.421875 \r\nQ 6.296875 60.640625 12.9375 67.421875 \r\nQ 19.578125 74.21875 30.609375 74.21875 \r\nQ 43.265625 74.21875 49.921875 64.515625 \r\nQ 56.59375 54.828125 56.59375 36.375 \r\nQ 56.59375 19.140625 48.40625 8.859375 \r\nQ 40.234375 -1.421875 26.421875 -1.421875 \r\nQ 22.703125 -1.421875 18.890625 -0.6875 \r\nQ 15.09375 0.046875 10.984375 1.515625 \r\nz\r\nM 30.609375 32.421875 \r\nQ 37.25 32.421875 41.125 36.953125 \r\nQ 45.015625 41.5 45.015625 49.421875 \r\nQ 45.015625 57.28125 41.125 61.84375 \r\nQ 37.25 66.40625 30.609375 66.40625 \r\nQ 23.96875 66.40625 20.09375 61.84375 \r\nQ 16.21875 57.28125 16.21875 49.421875 \r\nQ 16.21875 41.5 20.09375 36.953125 \r\nQ 23.96875 32.421875 30.609375 32.421875 \r\nz\r\n\" id=\"DejaVuSans-57\"/>\r\n      </defs>\r\n      <g transform=\"translate(249.335286 249.836875)scale(0.1 -0.1)\">\r\n       <use xlink:href=\"#DejaVuSans-57\"/>\r\n       <use x=\"63.623047\" xlink:href=\"#DejaVuSans-48\"/>\r\n       <use x=\"127.246094\" xlink:href=\"#DejaVuSans-48\"/>\r\n       <use x=\"190.869141\" xlink:href=\"#DejaVuSans-95\"/>\r\n       <use x=\"240.869141\" xlink:href=\"#DejaVuSans-100\"/>\r\n       <use x=\"304.345703\" xlink:href=\"#DejaVuSans-115\"/>\r\n       <use x=\"356.445312\" xlink:href=\"#DejaVuSans-116\"/>\r\n      </g>\r\n     </g>\r\n    </g>\r\n    <g id=\"xtick_7\">\r\n     <g id=\"line2d_7\">\r\n      <g>\r\n       <use style=\"stroke:#000000;stroke-width:0.8;\" x=\"313.877457\" xlink:href=\"#mc4c2e526c5\" y=\"235.238437\"/>\r\n      </g>\r\n     </g>\r\n     <g id=\"text_7\">\r\n      <!-- 950_dst -->\r\n      <g transform=\"translate(294.094644 249.836875)scale(0.1 -0.1)\">\r\n       <use xlink:href=\"#DejaVuSans-57\"/>\r\n       <use x=\"63.623047\" xlink:href=\"#DejaVuSans-53\"/>\r\n       <use x=\"127.246094\" xlink:href=\"#DejaVuSans-48\"/>\r\n       <use x=\"190.869141\" xlink:href=\"#DejaVuSans-95\"/>\r\n       <use x=\"240.869141\" xlink:href=\"#DejaVuSans-100\"/>\r\n       <use x=\"304.345703\" xlink:href=\"#DejaVuSans-115\"/>\r\n       <use x=\"356.445312\" xlink:href=\"#DejaVuSans-116\"/>\r\n      </g>\r\n     </g>\r\n    </g>\r\n    <g id=\"xtick_8\">\r\n     <g id=\"line2d_8\">\r\n      <g>\r\n       <use style=\"stroke:#000000;stroke-width:0.8;\" x=\"358.636815\" xlink:href=\"#mc4c2e526c5\" y=\"235.238437\"/>\r\n      </g>\r\n     </g>\r\n    </g>\r\n   </g>\r\n   <g id=\"matplotlib.axis_2\">\r\n    <g id=\"ytick_1\">\r\n     <g id=\"line2d_9\">\r\n      <defs>\r\n       <path d=\"M 0 0 \r\nL -3.5 0 \r\n\" id=\"md8bac436ba\" style=\"stroke:#000000;stroke-width:0.8;\"/>\r\n      </defs>\r\n      <g>\r\n       <use style=\"stroke:#000000;stroke-width:0.8;\" x=\"30.103125\" xlink:href=\"#md8bac436ba\" y=\"225.354801\"/>\r\n      </g>\r\n     </g>\r\n     <g id=\"text_8\">\r\n      <!-- 0.0 -->\r\n      <defs>\r\n       <path d=\"M 10.6875 12.40625 \r\nL 21 12.40625 \r\nL 21 0 \r\nL 10.6875 0 \r\nz\r\n\" id=\"DejaVuSans-46\"/>\r\n      </defs>\r\n      <g transform=\"translate(7.2 229.15402)scale(0.1 -0.1)\">\r\n       <use xlink:href=\"#DejaVuSans-48\"/>\r\n       <use x=\"63.623047\" xlink:href=\"#DejaVuSans-46\"/>\r\n       <use x=\"95.410156\" xlink:href=\"#DejaVuSans-48\"/>\r\n      </g>\r\n     </g>\r\n    </g>\r\n    <g id=\"ytick_2\">\r\n     <g id=\"line2d_10\">\r\n      <g>\r\n       <use style=\"stroke:#000000;stroke-width:0.8;\" x=\"30.103125\" xlink:href=\"#md8bac436ba\" y=\"200.921054\"/>\r\n      </g>\r\n     </g>\r\n     <g id=\"text_9\">\r\n      <!-- 0.5 -->\r\n      <g transform=\"translate(7.2 204.720272)scale(0.1 -0.1)\">\r\n       <use xlink:href=\"#DejaVuSans-48\"/>\r\n       <use x=\"63.623047\" xlink:href=\"#DejaVuSans-46\"/>\r\n       <use x=\"95.410156\" xlink:href=\"#DejaVuSans-53\"/>\r\n      </g>\r\n     </g>\r\n    </g>\r\n    <g id=\"ytick_3\">\r\n     <g id=\"line2d_11\">\r\n      <g>\r\n       <use style=\"stroke:#000000;stroke-width:0.8;\" x=\"30.103125\" xlink:href=\"#md8bac436ba\" y=\"176.487306\"/>\r\n      </g>\r\n     </g>\r\n     <g id=\"text_10\">\r\n      <!-- 1.0 -->\r\n      <defs>\r\n       <path d=\"M 12.40625 8.296875 \r\nL 28.515625 8.296875 \r\nL 28.515625 63.921875 \r\nL 10.984375 60.40625 \r\nL 10.984375 69.390625 \r\nL 28.421875 72.90625 \r\nL 38.28125 72.90625 \r\nL 38.28125 8.296875 \r\nL 54.390625 8.296875 \r\nL 54.390625 0 \r\nL 12.40625 0 \r\nz\r\n\" id=\"DejaVuSans-49\"/>\r\n      </defs>\r\n      <g transform=\"translate(7.2 180.286525)scale(0.1 -0.1)\">\r\n       <use xlink:href=\"#DejaVuSans-49\"/>\r\n       <use x=\"63.623047\" xlink:href=\"#DejaVuSans-46\"/>\r\n       <use x=\"95.410156\" xlink:href=\"#DejaVuSans-48\"/>\r\n      </g>\r\n     </g>\r\n    </g>\r\n    <g id=\"ytick_4\">\r\n     <g id=\"line2d_12\">\r\n      <g>\r\n       <use style=\"stroke:#000000;stroke-width:0.8;\" x=\"30.103125\" xlink:href=\"#md8bac436ba\" y=\"152.053559\"/>\r\n      </g>\r\n     </g>\r\n     <g id=\"text_11\">\r\n      <!-- 1.5 -->\r\n      <g transform=\"translate(7.2 155.852778)scale(0.1 -0.1)\">\r\n       <use xlink:href=\"#DejaVuSans-49\"/>\r\n       <use x=\"63.623047\" xlink:href=\"#DejaVuSans-46\"/>\r\n       <use x=\"95.410156\" xlink:href=\"#DejaVuSans-53\"/>\r\n      </g>\r\n     </g>\r\n    </g>\r\n    <g id=\"ytick_5\">\r\n     <g id=\"line2d_13\">\r\n      <g>\r\n       <use style=\"stroke:#000000;stroke-width:0.8;\" x=\"30.103125\" xlink:href=\"#md8bac436ba\" y=\"127.619811\"/>\r\n      </g>\r\n     </g>\r\n     <g id=\"text_12\">\r\n      <!-- 2.0 -->\r\n      <defs>\r\n       <path d=\"M 19.1875 8.296875 \r\nL 53.609375 8.296875 \r\nL 53.609375 0 \r\nL 7.328125 0 \r\nL 7.328125 8.296875 \r\nQ 12.9375 14.109375 22.625 23.890625 \r\nQ 32.328125 33.6875 34.8125 36.53125 \r\nQ 39.546875 41.84375 41.421875 45.53125 \r\nQ 43.3125 49.21875 43.3125 52.78125 \r\nQ 43.3125 58.59375 39.234375 62.25 \r\nQ 35.15625 65.921875 28.609375 65.921875 \r\nQ 23.96875 65.921875 18.8125 64.3125 \r\nQ 13.671875 62.703125 7.8125 59.421875 \r\nL 7.8125 69.390625 \r\nQ 13.765625 71.78125 18.9375 73 \r\nQ 24.125 74.21875 28.421875 74.21875 \r\nQ 39.75 74.21875 46.484375 68.546875 \r\nQ 53.21875 62.890625 53.21875 53.421875 \r\nQ 53.21875 48.921875 51.53125 44.890625 \r\nQ 49.859375 40.875 45.40625 35.40625 \r\nQ 44.1875 33.984375 37.640625 27.21875 \r\nQ 31.109375 20.453125 19.1875 8.296875 \r\nz\r\n\" id=\"DejaVuSans-50\"/>\r\n      </defs>\r\n      <g transform=\"translate(7.2 131.41903)scale(0.1 -0.1)\">\r\n       <use xlink:href=\"#DejaVuSans-50\"/>\r\n       <use x=\"63.623047\" xlink:href=\"#DejaVuSans-46\"/>\r\n       <use x=\"95.410156\" xlink:href=\"#DejaVuSans-48\"/>\r\n      </g>\r\n     </g>\r\n    </g>\r\n    <g id=\"ytick_6\">\r\n     <g id=\"line2d_14\">\r\n      <g>\r\n       <use style=\"stroke:#000000;stroke-width:0.8;\" x=\"30.103125\" xlink:href=\"#md8bac436ba\" y=\"103.186064\"/>\r\n      </g>\r\n     </g>\r\n     <g id=\"text_13\">\r\n      <!-- 2.5 -->\r\n      <g transform=\"translate(7.2 106.985283)scale(0.1 -0.1)\">\r\n       <use xlink:href=\"#DejaVuSans-50\"/>\r\n       <use x=\"63.623047\" xlink:href=\"#DejaVuSans-46\"/>\r\n       <use x=\"95.410156\" xlink:href=\"#DejaVuSans-53\"/>\r\n      </g>\r\n     </g>\r\n    </g>\r\n    <g id=\"ytick_7\">\r\n     <g id=\"line2d_15\">\r\n      <g>\r\n       <use style=\"stroke:#000000;stroke-width:0.8;\" x=\"30.103125\" xlink:href=\"#md8bac436ba\" y=\"78.752317\"/>\r\n      </g>\r\n     </g>\r\n     <g id=\"text_14\">\r\n      <!-- 3.0 -->\r\n      <defs>\r\n       <path d=\"M 40.578125 39.3125 \r\nQ 47.65625 37.796875 51.625 33 \r\nQ 55.609375 28.21875 55.609375 21.1875 \r\nQ 55.609375 10.40625 48.1875 4.484375 \r\nQ 40.765625 -1.421875 27.09375 -1.421875 \r\nQ 22.515625 -1.421875 17.65625 -0.515625 \r\nQ 12.796875 0.390625 7.625 2.203125 \r\nL 7.625 11.71875 \r\nQ 11.71875 9.328125 16.59375 8.109375 \r\nQ 21.484375 6.890625 26.8125 6.890625 \r\nQ 36.078125 6.890625 40.9375 10.546875 \r\nQ 45.796875 14.203125 45.796875 21.1875 \r\nQ 45.796875 27.640625 41.28125 31.265625 \r\nQ 36.765625 34.90625 28.71875 34.90625 \r\nL 20.21875 34.90625 \r\nL 20.21875 43.015625 \r\nL 29.109375 43.015625 \r\nQ 36.375 43.015625 40.234375 45.921875 \r\nQ 44.09375 48.828125 44.09375 54.296875 \r\nQ 44.09375 59.90625 40.109375 62.90625 \r\nQ 36.140625 65.921875 28.71875 65.921875 \r\nQ 24.65625 65.921875 20.015625 65.03125 \r\nQ 15.375 64.15625 9.8125 62.3125 \r\nL 9.8125 71.09375 \r\nQ 15.4375 72.65625 20.34375 73.4375 \r\nQ 25.25 74.21875 29.59375 74.21875 \r\nQ 40.828125 74.21875 47.359375 69.109375 \r\nQ 53.90625 64.015625 53.90625 55.328125 \r\nQ 53.90625 49.265625 50.4375 45.09375 \r\nQ 46.96875 40.921875 40.578125 39.3125 \r\nz\r\n\" id=\"DejaVuSans-51\"/>\r\n      </defs>\r\n      <g transform=\"translate(7.2 82.551535)scale(0.1 -0.1)\">\r\n       <use xlink:href=\"#DejaVuSans-51\"/>\r\n       <use x=\"63.623047\" xlink:href=\"#DejaVuSans-46\"/>\r\n       <use x=\"95.410156\" xlink:href=\"#DejaVuSans-48\"/>\r\n      </g>\r\n     </g>\r\n    </g>\r\n    <g id=\"ytick_8\">\r\n     <g id=\"line2d_16\">\r\n      <g>\r\n       <use style=\"stroke:#000000;stroke-width:0.8;\" x=\"30.103125\" xlink:href=\"#md8bac436ba\" y=\"54.318569\"/>\r\n      </g>\r\n     </g>\r\n     <g id=\"text_15\">\r\n      <!-- 3.5 -->\r\n      <g transform=\"translate(7.2 58.117788)scale(0.1 -0.1)\">\r\n       <use xlink:href=\"#DejaVuSans-51\"/>\r\n       <use x=\"63.623047\" xlink:href=\"#DejaVuSans-46\"/>\r\n       <use x=\"95.410156\" xlink:href=\"#DejaVuSans-53\"/>\r\n      </g>\r\n     </g>\r\n    </g>\r\n    <g id=\"ytick_9\">\r\n     <g id=\"line2d_17\">\r\n      <g>\r\n       <use style=\"stroke:#000000;stroke-width:0.8;\" x=\"30.103125\" xlink:href=\"#md8bac436ba\" y=\"29.884822\"/>\r\n      </g>\r\n     </g>\r\n     <g id=\"text_16\">\r\n      <!-- 4.0 -->\r\n      <defs>\r\n       <path d=\"M 37.796875 64.3125 \r\nL 12.890625 25.390625 \r\nL 37.796875 25.390625 \r\nz\r\nM 35.203125 72.90625 \r\nL 47.609375 72.90625 \r\nL 47.609375 25.390625 \r\nL 58.015625 25.390625 \r\nL 58.015625 17.1875 \r\nL 47.609375 17.1875 \r\nL 47.609375 0 \r\nL 37.796875 0 \r\nL 37.796875 17.1875 \r\nL 4.890625 17.1875 \r\nL 4.890625 26.703125 \r\nz\r\n\" id=\"DejaVuSans-52\"/>\r\n      </defs>\r\n      <g transform=\"translate(7.2 33.684041)scale(0.1 -0.1)\">\r\n       <use xlink:href=\"#DejaVuSans-52\"/>\r\n       <use x=\"63.623047\" xlink:href=\"#DejaVuSans-46\"/>\r\n       <use x=\"95.410156\" xlink:href=\"#DejaVuSans-48\"/>\r\n      </g>\r\n     </g>\r\n    </g>\r\n    <g id=\"text_17\">\r\n     <!-- 1e−10 -->\r\n     <defs>\r\n      <path d=\"M 56.203125 29.59375 \r\nL 56.203125 25.203125 \r\nL 14.890625 25.203125 \r\nQ 15.484375 15.921875 20.484375 11.0625 \r\nQ 25.484375 6.203125 34.421875 6.203125 \r\nQ 39.59375 6.203125 44.453125 7.46875 \r\nQ 49.3125 8.734375 54.109375 11.28125 \r\nL 54.109375 2.78125 \r\nQ 49.265625 0.734375 44.1875 -0.34375 \r\nQ 39.109375 -1.421875 33.890625 -1.421875 \r\nQ 20.796875 -1.421875 13.15625 6.1875 \r\nQ 5.515625 13.8125 5.515625 26.8125 \r\nQ 5.515625 40.234375 12.765625 48.109375 \r\nQ 20.015625 56 32.328125 56 \r\nQ 43.359375 56 49.78125 48.890625 \r\nQ 56.203125 41.796875 56.203125 29.59375 \r\nz\r\nM 47.21875 32.234375 \r\nQ 47.125 39.59375 43.09375 43.984375 \r\nQ 39.0625 48.390625 32.421875 48.390625 \r\nQ 24.90625 48.390625 20.390625 44.140625 \r\nQ 15.875 39.890625 15.1875 32.171875 \r\nz\r\n\" id=\"DejaVuSans-101\"/>\r\n      <path d=\"M 10.59375 35.5 \r\nL 73.1875 35.5 \r\nL 73.1875 27.203125 \r\nL 10.59375 27.203125 \r\nz\r\n\" id=\"DejaVuSans-8722\"/>\r\n     </defs>\r\n     <g transform=\"translate(30.103125 14.798437)scale(0.1 -0.1)\">\r\n      <use xlink:href=\"#DejaVuSans-49\"/>\r\n      <use x=\"63.623047\" xlink:href=\"#DejaVuSans-101\"/>\r\n      <use x=\"125.146484\" xlink:href=\"#DejaVuSans-8722\"/>\r\n      <use x=\"208.935547\" xlink:href=\"#DejaVuSans-49\"/>\r\n      <use x=\"272.558594\" xlink:href=\"#DejaVuSans-48\"/>\r\n     </g>\r\n    </g>\r\n   </g>\r\n   <g id=\"line2d_18\">\r\n    <path clip-path=\"url(#p592e439504)\" d=\"M 45.321307 225.354801 \r\nL 54.273178 225.352212 \r\nL 63.22505 225.351367 \r\nL 72.176922 225.351764 \r\nL 81.128793 225.34633 \r\nL 90.080665 225.344093 \r\nL 99.032537 225.344026 \r\nL 107.984408 225.354801 \r\nL 116.93628 225.354801 \r\nL 125.888152 225.354163 \r\nL 134.840023 225.343943 \r\nL 143.791895 225.320278 \r\nL 152.743767 225.306136 \r\nL 161.695638 225.232061 \r\nL 170.64751 224.956741 \r\nL 179.599382 225.01634 \r\nL 188.551253 225.044329 \r\nL 197.503125 224.965284 \r\nL 206.454997 225.204002 \r\nL 215.406868 225.217814 \r\nL 224.35874 225.28314 \r\nL 233.310612 225.305711 \r\nL 242.262483 225.325835 \r\nL 251.214355 225.344121 \r\nL 260.166227 225.348945 \r\nL 269.118098 225.354801 \r\nL 278.06997 225.354801 \r\nL 287.021842 225.347802 \r\nL 295.973713 225.354801 \r\nL 304.925585 225.354801 \r\nL 313.877457 225.351707 \r\nL 322.829328 225.347813 \r\nL 331.7812 225.354801 \r\nL 340.733072 225.347811 \r\nL 349.684943 225.319029 \r\n\" style=\"fill:none;stroke:#1f77b4;stroke-linecap:square;stroke-width:1.5;\"/>\r\n   </g>\r\n   <g id=\"line2d_19\">\r\n    <path clip-path=\"url(#p592e439504)\" d=\"M 45.321307 225.329475 \r\nL 54.273178 225.171802 \r\nL 63.22505 225.348984 \r\nL 72.176922 224.908567 \r\nL 81.128793 225.346021 \r\nL 90.080665 225.349516 \r\nL 99.032537 225.354801 \r\nL 107.984408 225.354801 \r\nL 116.93628 225.298022 \r\nL 125.888152 225.345951 \r\nL 134.840023 224.959514 \r\nL 143.791895 224.658205 \r\nL 152.743767 225.250046 \r\nL 161.695638 224.495859 \r\nL 170.64751 224.46705 \r\nL 179.599382 223.099554 \r\nL 188.551253 223.410001 \r\nL 197.503125 224.334889 \r\nL 206.454997 224.699028 \r\nL 215.406868 224.822426 \r\nL 224.35874 225.043189 \r\nL 233.310612 225.117837 \r\nL 242.262483 225.208033 \r\nL 251.214355 225.336314 \r\nL 260.166227 225.338028 \r\nL 269.118098 225.304174 \r\nL 278.06997 225.327827 \r\nL 287.021842 225.340967 \r\nL 295.973713 225.300346 \r\nL 304.925585 225.331219 \r\nL 313.877457 225.340707 \r\nL 322.829328 225.343647 \r\nL 331.7812 225.318891 \r\nL 340.733072 225.293274 \r\nL 349.684943 225.239969 \r\n\" style=\"fill:none;stroke:#ff7f0e;stroke-linecap:square;stroke-width:1.5;\"/>\r\n   </g>\r\n   <g id=\"line2d_20\">\r\n    <path clip-path=\"url(#p592e439504)\" d=\"M 45.321307 224.508317 \r\nL 54.273178 216.424936 \r\nL 63.22505 218.841402 \r\nL 72.176922 224.063877 \r\nL 81.128793 223.645093 \r\nL 90.080665 218.187606 \r\nL 99.032537 210.786174 \r\nL 107.984408 211.847489 \r\nL 116.93628 225.354801 \r\nL 125.888152 223.68199 \r\nL 134.840023 203.995257 \r\nL 143.791895 216.810054 \r\nL 152.743767 208.716397 \r\nL 161.695638 182.967638 \r\nL 170.64751 133.711776 \r\nL 179.599382 111.10479 \r\nL 188.551253 123.971084 \r\nL 197.503125 140.224213 \r\nL 206.454997 162.893015 \r\nL 215.406868 177.390233 \r\nL 224.35874 187.612395 \r\nL 233.310612 194.454263 \r\nL 242.262483 198.456979 \r\nL 251.214355 208.137818 \r\nL 260.166227 219.17376 \r\nL 269.118098 219.303338 \r\nL 278.06997 220.589448 \r\nL 287.021842 220.962339 \r\nL 295.973713 219.20757 \r\nL 304.925585 217.686473 \r\nL 313.877457 222.304307 \r\nL 322.829328 223.641954 \r\nL 331.7812 219.397803 \r\nL 340.733072 213.142907 \r\nL 349.684943 203.694952 \r\n\" style=\"fill:none;stroke:#2ca02c;stroke-linecap:square;stroke-width:1.5;\"/>\r\n   </g>\r\n   <g id=\"line2d_21\">\r\n    <path clip-path=\"url(#p592e439504)\" d=\"M 45.321307 225.354801 \r\nL 54.273178 223.119378 \r\nL 63.22505 225.354801 \r\nL 72.176922 224.028796 \r\nL 81.128793 222.145318 \r\nL 90.080665 224.343707 \r\nL 99.032537 223.66043 \r\nL 107.984408 225.354801 \r\nL 116.93628 219.122827 \r\nL 125.888152 210.790315 \r\nL 134.840023 219.208234 \r\nL 143.791895 219.589806 \r\nL 152.743767 166.360585 \r\nL 161.695638 125.186509 \r\nL 170.64751 33.277079 \r\nL 179.599382 27.682074 \r\nL 188.551253 84.121613 \r\nL 197.503125 107.577383 \r\nL 206.454997 149.225576 \r\nL 215.406868 177.969768 \r\nL 224.35874 186.375265 \r\nL 233.310612 192.514913 \r\nL 242.262483 200.655229 \r\nL 251.214355 210.261933 \r\nL 260.166227 221.748882 \r\nL 269.118098 217.285915 \r\nL 278.06997 221.795905 \r\nL 287.021842 222.90611 \r\nL 295.973713 220.776805 \r\nL 304.925585 217.677608 \r\nL 313.877457 225.354801 \r\nL 322.829328 225.354801 \r\nL 331.7812 223.740098 \r\nL 340.733072 205.289154 \r\nL 349.684943 201.997422 \r\n\" style=\"fill:none;stroke:#d62728;stroke-linecap:square;stroke-width:1.5;\"/>\r\n   </g>\r\n   <g id=\"line2d_22\">\r\n    <path clip-path=\"url(#p592e439504)\" d=\"M 45.321307 225.354801 \r\nL 54.273178 225.354781 \r\nL 63.22505 225.354801 \r\nL 72.176922 225.354789 \r\nL 81.128793 225.354801 \r\nL 90.080665 225.354801 \r\nL 99.032537 225.354801 \r\nL 107.984408 225.354782 \r\nL 116.93628 225.3548 \r\nL 125.888152 225.354798 \r\nL 134.840023 225.354796 \r\nL 143.791895 225.354793 \r\nL 152.743767 225.354792 \r\nL 161.695638 225.35479 \r\nL 170.64751 225.3548 \r\nL 179.599382 225.354789 \r\nL 188.551253 225.354801 \r\nL 197.503125 225.354792 \r\nL 206.454997 225.354801 \r\nL 215.406868 225.354794 \r\nL 224.35874 225.354792 \r\nL 233.310612 225.354798 \r\nL 242.262483 225.354773 \r\nL 251.214355 225.354779 \r\nL 260.166227 225.354781 \r\nL 269.118098 225.354801 \r\nL 278.06997 225.354801 \r\nL 287.021842 225.354801 \r\nL 295.973713 225.354801 \r\nL 304.925585 225.354783 \r\nL 313.877457 225.354781 \r\nL 322.829328 225.354801 \r\nL 331.7812 225.354801 \r\nL 340.733072 225.354708 \r\nL 349.684943 225.353718 \r\n\" style=\"fill:none;stroke:#9467bd;stroke-linecap:square;stroke-width:1.5;\"/>\r\n   </g>\r\n   <g id=\"patch_3\">\r\n    <path d=\"M 30.103125 235.238437 \r\nL 30.103125 17.798437 \r\n\" style=\"fill:none;stroke:#000000;stroke-linecap:square;stroke-linejoin:miter;stroke-width:0.8;\"/>\r\n   </g>\r\n   <g id=\"patch_4\">\r\n    <path d=\"M 364.903125 235.238437 \r\nL 364.903125 17.798437 \r\n\" style=\"fill:none;stroke:#000000;stroke-linecap:square;stroke-linejoin:miter;stroke-width:0.8;\"/>\r\n   </g>\r\n   <g id=\"patch_5\">\r\n    <path d=\"M 30.103125 235.238437 \r\nL 364.903125 235.238437 \r\n\" style=\"fill:none;stroke:#000000;stroke-linecap:square;stroke-linejoin:miter;stroke-width:0.8;\"/>\r\n   </g>\r\n   <g id=\"patch_6\">\r\n    <path d=\"M 30.103125 17.798437 \r\nL 364.903125 17.798437 \r\n\" style=\"fill:none;stroke:#000000;stroke-linecap:square;stroke-linejoin:miter;stroke-width:0.8;\"/>\r\n   </g>\r\n   <g id=\"legend_1\">\r\n    <g id=\"patch_7\">\r\n     <path d=\"M 294.090625 99.189062 \r\nL 357.903125 99.189062 \r\nQ 359.903125 99.189062 359.903125 97.189062 \r\nL 359.903125 24.798437 \r\nQ 359.903125 22.798437 357.903125 22.798437 \r\nL 294.090625 22.798437 \r\nQ 292.090625 22.798437 292.090625 24.798437 \r\nL 292.090625 97.189062 \r\nQ 292.090625 99.189062 294.090625 99.189062 \r\nz\r\n\" style=\"fill:#ffffff;opacity:0.8;stroke:#cccccc;stroke-linejoin:miter;\"/>\r\n    </g>\r\n    <g id=\"line2d_23\">\r\n     <path d=\"M 296.090625 30.896875 \r\nL 316.090625 30.896875 \r\n\" style=\"fill:none;stroke:#1f77b4;stroke-linecap:square;stroke-width:1.5;\"/>\r\n    </g>\r\n    <g id=\"line2d_24\"/>\r\n    <g id=\"text_18\">\r\n     <!-- 10000 -->\r\n     <g transform=\"translate(324.090625 34.396875)scale(0.1 -0.1)\">\r\n      <use xlink:href=\"#DejaVuSans-49\"/>\r\n      <use x=\"63.623047\" xlink:href=\"#DejaVuSans-48\"/>\r\n      <use x=\"127.246094\" xlink:href=\"#DejaVuSans-48\"/>\r\n      <use x=\"190.869141\" xlink:href=\"#DejaVuSans-48\"/>\r\n      <use x=\"254.492188\" xlink:href=\"#DejaVuSans-48\"/>\r\n     </g>\r\n    </g>\r\n    <g id=\"line2d_25\">\r\n     <path d=\"M 296.090625 45.575 \r\nL 316.090625 45.575 \r\n\" style=\"fill:none;stroke:#ff7f0e;stroke-linecap:square;stroke-width:1.5;\"/>\r\n    </g>\r\n    <g id=\"line2d_26\"/>\r\n    <g id=\"text_19\">\r\n     <!-- 10001 -->\r\n     <g transform=\"translate(324.090625 49.075)scale(0.1 -0.1)\">\r\n      <use xlink:href=\"#DejaVuSans-49\"/>\r\n      <use x=\"63.623047\" xlink:href=\"#DejaVuSans-48\"/>\r\n      <use x=\"127.246094\" xlink:href=\"#DejaVuSans-48\"/>\r\n      <use x=\"190.869141\" xlink:href=\"#DejaVuSans-48\"/>\r\n      <use x=\"254.492188\" xlink:href=\"#DejaVuSans-49\"/>\r\n     </g>\r\n    </g>\r\n    <g id=\"line2d_27\">\r\n     <path d=\"M 296.090625 60.253125 \r\nL 316.090625 60.253125 \r\n\" style=\"fill:none;stroke:#2ca02c;stroke-linecap:square;stroke-width:1.5;\"/>\r\n    </g>\r\n    <g id=\"line2d_28\"/>\r\n    <g id=\"text_20\">\r\n     <!-- 10002 -->\r\n     <g transform=\"translate(324.090625 63.753125)scale(0.1 -0.1)\">\r\n      <use xlink:href=\"#DejaVuSans-49\"/>\r\n      <use x=\"63.623047\" xlink:href=\"#DejaVuSans-48\"/>\r\n      <use x=\"127.246094\" xlink:href=\"#DejaVuSans-48\"/>\r\n      <use x=\"190.869141\" xlink:href=\"#DejaVuSans-48\"/>\r\n      <use x=\"254.492188\" xlink:href=\"#DejaVuSans-50\"/>\r\n     </g>\r\n    </g>\r\n    <g id=\"line2d_29\">\r\n     <path d=\"M 296.090625 74.93125 \r\nL 316.090625 74.93125 \r\n\" style=\"fill:none;stroke:#d62728;stroke-linecap:square;stroke-width:1.5;\"/>\r\n    </g>\r\n    <g id=\"line2d_30\"/>\r\n    <g id=\"text_21\">\r\n     <!-- 10003 -->\r\n     <g transform=\"translate(324.090625 78.43125)scale(0.1 -0.1)\">\r\n      <use xlink:href=\"#DejaVuSans-49\"/>\r\n      <use x=\"63.623047\" xlink:href=\"#DejaVuSans-48\"/>\r\n      <use x=\"127.246094\" xlink:href=\"#DejaVuSans-48\"/>\r\n      <use x=\"190.869141\" xlink:href=\"#DejaVuSans-48\"/>\r\n      <use x=\"254.492188\" xlink:href=\"#DejaVuSans-51\"/>\r\n     </g>\r\n    </g>\r\n    <g id=\"line2d_31\">\r\n     <path d=\"M 296.090625 89.609375 \r\nL 316.090625 89.609375 \r\n\" style=\"fill:none;stroke:#9467bd;stroke-linecap:square;stroke-width:1.5;\"/>\r\n    </g>\r\n    <g id=\"line2d_32\"/>\r\n    <g id=\"text_22\">\r\n     <!-- 10004 -->\r\n     <g transform=\"translate(324.090625 93.109375)scale(0.1 -0.1)\">\r\n      <use xlink:href=\"#DejaVuSans-49\"/>\r\n      <use x=\"63.623047\" xlink:href=\"#DejaVuSans-48\"/>\r\n      <use x=\"127.246094\" xlink:href=\"#DejaVuSans-48\"/>\r\n      <use x=\"190.869141\" xlink:href=\"#DejaVuSans-48\"/>\r\n      <use x=\"254.492188\" xlink:href=\"#DejaVuSans-52\"/>\r\n     </g>\r\n    </g>\r\n   </g>\r\n  </g>\r\n </g>\r\n <defs>\r\n  <clipPath id=\"p592e439504\">\r\n   <rect height=\"217.44\" width=\"334.8\" x=\"30.103125\" y=\"17.798437\"/>\r\n  </clipPath>\r\n </defs>\r\n</svg>\r\n",
      "image/png": "[encoded data removed]"
     },
     "metadata": {
      "needs_background": "light"
     }
    }
   ],
   "source": [
    "target_cols = ['hhb', 'hbo2', 'ca', 'na']\n",
    "\n",
    "for col_name in target_cols:\n",
    "    imputed_30_df[col_name] = concat_df[col_name]\n",
    "\n",
    "imputed_train_30 = imputed_30_df[imputed_30_df['hhb'].notnull()]\n",
    "imputed_test_30 = imputed_30_df[imputed_30_df['hhb'].isnull()]\n",
    "\n",
    "imputed_test_30.filter(regex='_dst$', axis=1).head().T.plot()"
   ]
  },
  {
   "cell_type": "code",
   "execution_count": 7,
   "metadata": {},
   "outputs": [
    {
     "output_type": "execute_result",
     "data": {
      "text/plain": "       rho  650_src  660_src  670_src  680_src  690_src  700_src  710_src  \\\nid                                                                          \n0       25  0.37950  0.42993  0.52076  0.57166  0.67818  0.75476  0.83580   \n1       10  0.00000  0.00000  0.01813  0.00000  0.00000  0.01974  0.00321   \n2       25  0.00000  0.03289  0.02416  0.03610  0.05843  0.09015  0.14944   \n3       10  0.27503  0.31281  0.32898  0.41041  0.46587  0.52769  0.64369   \n4       15  1.01521  1.00872  0.98930  0.98874  1.01773  1.01632  1.00009   \n...    ...      ...      ...      ...      ...      ...      ...      ...   \n19995   15  0.04334  0.03279  0.05853  0.04070  0.07704  0.07859  0.06168   \n19996   25  0.00020  0.02009  0.01726  0.03816  0.08300  0.08681  0.15300   \n19997   15  0.00000  0.00000  0.00120  0.00000  0.04347  0.14882  0.40883   \n19998   20  0.08390  0.05690  0.08343  0.12324  0.12720  0.16732  0.18149   \n19999   15  0.11016  0.11505  0.13086  0.12352  0.14200  0.15434  0.18970   \n\n       720_src  730_src  ...       900_dst       910_dst       920_dst  \\\nid                       ...                                             \n0      0.93623  0.96333  ...  9.727870e-19  3.527371e-18  1.130983e-18   \n1      0.00000  0.00000  ...  2.647633e-09  1.682896e-10  5.233480e-09   \n2      0.18578  0.25584  ...  4.629125e-18  1.409413e-18  3.237480e-18   \n3      0.73562  0.79865  ...  1.274876e-10  6.118947e-11  9.433465e-11   \n4      0.98217  1.01564  ...  0.000000e+00  2.555342e-14  1.537619e-14   \n...        ...      ...  ...           ...           ...           ...   \n19995  0.08903  0.08833  ...  7.889599e-13  5.487817e-13  4.903209e-13   \n19996  0.18099  0.24377  ...  1.240848e-17  6.258180e-18  8.693704e-20   \n19997  0.80365  1.01179  ...  0.000000e+00  2.078241e-15  0.000000e+00   \n19998  0.23766  0.31407  ...  0.000000e+00  7.084232e-18  4.209541e-18   \n19999  0.19676  0.25002  ...  7.524188e-13  3.672244e-13  4.847909e-13   \n\n            930_dst       940_dst       950_dst       960_dst       970_dst  \\\nid                                                                            \n0      6.455564e-19  9.663751e-19  0.000000e+00  7.425205e-19  1.067504e-18   \n1      1.264238e-08  1.343132e-08  6.112685e-09  2.130547e-09  2.799156e-10   \n2      0.000000e+00  0.000000e+00  0.000000e+00  0.000000e+00  0.000000e+00   \n3      1.663888e-10  2.245998e-10  1.299511e-10  7.782625e-11  7.685807e-11   \n4      4.996522e-14  1.457955e-13  8.769053e-14  2.004864e-14  1.330237e-13   \n...             ...           ...           ...           ...           ...   \n19995  1.365078e-12  7.929664e-13  0.000000e+00  0.000000e+00  1.472213e-13   \n19996  1.259932e-18  4.514449e-18  5.133327e-19  9.128300e-19  5.952527e-19   \n19997  2.610282e-14  7.789652e-15  7.917686e-16  1.271388e-15  1.436617e-15   \n19998  0.000000e+00  2.669004e-18  8.586549e-18  0.000000e+00  4.489194e-18   \n19999  3.944395e-13  3.177592e-13  3.678863e-15  1.223018e-13  1.152641e-13   \n\n            980_dst       990_dst  \nid                                 \n0      5.998949e-18  4.378513e-17  \n1      9.710091e-09  9.192786e-11  \n2      1.329725e-18  1.290044e-17  \n3      4.088921e-10  3.029613e-10  \n4      2.683695e-13  1.069513e-12  \n...             ...           ...  \n19995  1.479745e-12  5.391520e-12  \n19996  3.928314e-18  2.586781e-17  \n19997  0.000000e+00  1.743751e-13  \n19998  2.892986e-17  1.171880e-16  \n19999  5.594120e-13  1.763446e-12  \n\n[20000 rows x 71 columns]",
      "text/html": "<div>\n<style scoped>\n    .dataframe tbody tr th:only-of-type {\n        vertical-align: middle;\n    }\n\n    .dataframe tbody tr th {\n        vertical-align: top;\n    }\n\n    .dataframe thead th {\n        text-align: right;\n    }\n</style>\n<table border=\"1\" class=\"dataframe\">\n  <thead>\n    <tr style=\"text-align: right;\">\n      <th></th>\n      <th>rho</th>\n      <th>650_src</th>\n      <th>660_src</th>\n      <th>670_src</th>\n      <th>680_src</th>\n      <th>690_src</th>\n      <th>700_src</th>\n      <th>710_src</th>\n      <th>720_src</th>\n      <th>730_src</th>\n      <th>...</th>\n      <th>900_dst</th>\n      <th>910_dst</th>\n      <th>920_dst</th>\n      <th>930_dst</th>\n      <th>940_dst</th>\n      <th>950_dst</th>\n      <th>960_dst</th>\n      <th>970_dst</th>\n      <th>980_dst</th>\n      <th>990_dst</th>\n    </tr>\n    <tr>\n      <th>id</th>\n      <th></th>\n      <th></th>\n      <th></th>\n      <th></th>\n      <th></th>\n      <th></th>\n      <th></th>\n      <th></th>\n      <th></th>\n      <th></th>\n      <th></th>\n      <th></th>\n      <th></th>\n      <th></th>\n      <th></th>\n      <th></th>\n      <th></th>\n      <th></th>\n      <th></th>\n      <th></th>\n      <th></th>\n    </tr>\n  </thead>\n  <tbody>\n    <tr>\n      <th>0</th>\n      <td>25</td>\n      <td>0.37950</td>\n      <td>0.42993</td>\n      <td>0.52076</td>\n      <td>0.57166</td>\n      <td>0.67818</td>\n      <td>0.75476</td>\n      <td>0.83580</td>\n      <td>0.93623</td>\n      <td>0.96333</td>\n      <td>...</td>\n      <td>9.727870e-19</td>\n      <td>3.527371e-18</td>\n      <td>1.130983e-18</td>\n      <td>6.455564e-19</td>\n      <td>9.663751e-19</td>\n      <td>0.000000e+00</td>\n      <td>7.425205e-19</td>\n      <td>1.067504e-18</td>\n      <td>5.998949e-18</td>\n      <td>4.378513e-17</td>\n    </tr>\n    <tr>\n      <th>1</th>\n      <td>10</td>\n      <td>0.00000</td>\n      <td>0.00000</td>\n      <td>0.01813</td>\n      <td>0.00000</td>\n      <td>0.00000</td>\n      <td>0.01974</td>\n      <td>0.00321</td>\n      <td>0.00000</td>\n      <td>0.00000</td>\n      <td>...</td>\n      <td>2.647633e-09</td>\n      <td>1.682896e-10</td>\n      <td>5.233480e-09</td>\n      <td>1.264238e-08</td>\n      <td>1.343132e-08</td>\n      <td>6.112685e-09</td>\n      <td>2.130547e-09</td>\n      <td>2.799156e-10</td>\n      <td>9.710091e-09</td>\n      <td>9.192786e-11</td>\n    </tr>\n    <tr>\n      <th>2</th>\n      <td>25</td>\n      <td>0.00000</td>\n      <td>0.03289</td>\n      <td>0.02416</td>\n      <td>0.03610</td>\n      <td>0.05843</td>\n      <td>0.09015</td>\n      <td>0.14944</td>\n      <td>0.18578</td>\n      <td>0.25584</td>\n      <td>...</td>\n      <td>4.629125e-18</td>\n      <td>1.409413e-18</td>\n      <td>3.237480e-18</td>\n      <td>0.000000e+00</td>\n      <td>0.000000e+00</td>\n      <td>0.000000e+00</td>\n      <td>0.000000e+00</td>\n      <td>0.000000e+00</td>\n      <td>1.329725e-18</td>\n      <td>1.290044e-17</td>\n    </tr>\n    <tr>\n      <th>3</th>\n      <td>10</td>\n      <td>0.27503</td>\n      <td>0.31281</td>\n      <td>0.32898</td>\n      <td>0.41041</td>\n      <td>0.46587</td>\n      <td>0.52769</td>\n      <td>0.64369</td>\n      <td>0.73562</td>\n      <td>0.79865</td>\n      <td>...</td>\n      <td>1.274876e-10</td>\n      <td>6.118947e-11</td>\n      <td>9.433465e-11</td>\n      <td>1.663888e-10</td>\n      <td>2.245998e-10</td>\n      <td>1.299511e-10</td>\n      <td>7.782625e-11</td>\n      <td>7.685807e-11</td>\n      <td>4.088921e-10</td>\n      <td>3.029613e-10</td>\n    </tr>\n    <tr>\n      <th>4</th>\n      <td>15</td>\n      <td>1.01521</td>\n      <td>1.00872</td>\n      <td>0.98930</td>\n      <td>0.98874</td>\n      <td>1.01773</td>\n      <td>1.01632</td>\n      <td>1.00009</td>\n      <td>0.98217</td>\n      <td>1.01564</td>\n      <td>...</td>\n      <td>0.000000e+00</td>\n      <td>2.555342e-14</td>\n      <td>1.537619e-14</td>\n      <td>4.996522e-14</td>\n      <td>1.457955e-13</td>\n      <td>8.769053e-14</td>\n      <td>2.004864e-14</td>\n      <td>1.330237e-13</td>\n      <td>2.683695e-13</td>\n      <td>1.069513e-12</td>\n    </tr>\n    <tr>\n      <th>...</th>\n      <td>...</td>\n      <td>...</td>\n      <td>...</td>\n      <td>...</td>\n      <td>...</td>\n      <td>...</td>\n      <td>...</td>\n      <td>...</td>\n      <td>...</td>\n      <td>...</td>\n      <td>...</td>\n      <td>...</td>\n      <td>...</td>\n      <td>...</td>\n      <td>...</td>\n      <td>...</td>\n      <td>...</td>\n      <td>...</td>\n      <td>...</td>\n      <td>...</td>\n      <td>...</td>\n    </tr>\n    <tr>\n      <th>19995</th>\n      <td>15</td>\n      <td>0.04334</td>\n      <td>0.03279</td>\n      <td>0.05853</td>\n      <td>0.04070</td>\n      <td>0.07704</td>\n      <td>0.07859</td>\n      <td>0.06168</td>\n      <td>0.08903</td>\n      <td>0.08833</td>\n      <td>...</td>\n      <td>7.889599e-13</td>\n      <td>5.487817e-13</td>\n      <td>4.903209e-13</td>\n      <td>1.365078e-12</td>\n      <td>7.929664e-13</td>\n      <td>0.000000e+00</td>\n      <td>0.000000e+00</td>\n      <td>1.472213e-13</td>\n      <td>1.479745e-12</td>\n      <td>5.391520e-12</td>\n    </tr>\n    <tr>\n      <th>19996</th>\n      <td>25</td>\n      <td>0.00020</td>\n      <td>0.02009</td>\n      <td>0.01726</td>\n      <td>0.03816</td>\n      <td>0.08300</td>\n      <td>0.08681</td>\n      <td>0.15300</td>\n      <td>0.18099</td>\n      <td>0.24377</td>\n      <td>...</td>\n      <td>1.240848e-17</td>\n      <td>6.258180e-18</td>\n      <td>8.693704e-20</td>\n      <td>1.259932e-18</td>\n      <td>4.514449e-18</td>\n      <td>5.133327e-19</td>\n      <td>9.128300e-19</td>\n      <td>5.952527e-19</td>\n      <td>3.928314e-18</td>\n      <td>2.586781e-17</td>\n    </tr>\n    <tr>\n      <th>19997</th>\n      <td>15</td>\n      <td>0.00000</td>\n      <td>0.00000</td>\n      <td>0.00120</td>\n      <td>0.00000</td>\n      <td>0.04347</td>\n      <td>0.14882</td>\n      <td>0.40883</td>\n      <td>0.80365</td>\n      <td>1.01179</td>\n      <td>...</td>\n      <td>0.000000e+00</td>\n      <td>2.078241e-15</td>\n      <td>0.000000e+00</td>\n      <td>2.610282e-14</td>\n      <td>7.789652e-15</td>\n      <td>7.917686e-16</td>\n      <td>1.271388e-15</td>\n      <td>1.436617e-15</td>\n      <td>0.000000e+00</td>\n      <td>1.743751e-13</td>\n    </tr>\n    <tr>\n      <th>19998</th>\n      <td>20</td>\n      <td>0.08390</td>\n      <td>0.05690</td>\n      <td>0.08343</td>\n      <td>0.12324</td>\n      <td>0.12720</td>\n      <td>0.16732</td>\n      <td>0.18149</td>\n      <td>0.23766</td>\n      <td>0.31407</td>\n      <td>...</td>\n      <td>0.000000e+00</td>\n      <td>7.084232e-18</td>\n      <td>4.209541e-18</td>\n      <td>0.000000e+00</td>\n      <td>2.669004e-18</td>\n      <td>8.586549e-18</td>\n      <td>0.000000e+00</td>\n      <td>4.489194e-18</td>\n      <td>2.892986e-17</td>\n      <td>1.171880e-16</td>\n    </tr>\n    <tr>\n      <th>19999</th>\n      <td>15</td>\n      <td>0.11016</td>\n      <td>0.11505</td>\n      <td>0.13086</td>\n      <td>0.12352</td>\n      <td>0.14200</td>\n      <td>0.15434</td>\n      <td>0.18970</td>\n      <td>0.19676</td>\n      <td>0.25002</td>\n      <td>...</td>\n      <td>7.524188e-13</td>\n      <td>3.672244e-13</td>\n      <td>4.847909e-13</td>\n      <td>3.944395e-13</td>\n      <td>3.177592e-13</td>\n      <td>3.678863e-15</td>\n      <td>1.223018e-13</td>\n      <td>1.152641e-13</td>\n      <td>5.594120e-13</td>\n      <td>1.763446e-12</td>\n    </tr>\n  </tbody>\n</table>\n<p>20000 rows × 71 columns</p>\n</div>"
     },
     "metadata": {},
     "execution_count": 7
    }
   ],
   "source": [
    "feature_df.update(imputed_30_df)\n",
    "feature_df"
   ]
  },
  {
   "cell_type": "code",
   "execution_count": 8,
   "metadata": {},
   "outputs": [],
   "source": [
    "# feature_df\n",
    "for col in feature_dst.columns:\n",
    "    feature_df[col] = feature_df[col] * (feature_df['rho'] ** 2)"
   ]
  },
  {
   "cell_type": "code",
   "execution_count": 9,
   "metadata": {},
   "outputs": [],
   "source": [
    "gap_feature_names=[]\n",
    "for i in range(650, 1000, 10):\n",
    "    gap_feature_names.append(str(i) + '_gap')"
   ]
  },
  {
   "cell_type": "code",
   "execution_count": 10,
   "metadata": {},
   "outputs": [],
   "source": [
    "## src - dst gap 추가\n",
    "\n",
    "dst_list = feature_dst.columns\n",
    "src_list = feature_src.columns\n",
    "\n",
    "gap_df=pd.DataFrame(np.array(feature_df[src_list]) - np.array(feature_df[dst_list]), columns=gap_feature_names, index=feature_df.index)\n",
    "\n",
    "feature_df=pd.concat((feature_df, gap_df), axis=1)"
   ]
  },
  {
   "cell_type": "code",
   "execution_count": 11,
   "metadata": {},
   "outputs": [],
   "source": [
    "epsilon=1e-10\n",
    "\n",
    "for dst_col, src_col in zip(dst_list, src_list):\n",
    "    dst_val=feature_df[dst_col]\n",
    "    src_val=feature_df[src_col] + epsilon\n",
    "    delta_ratio = dst_val / src_val\n",
    "    feature_df[dst_col + '_' + src_col + '_ratio'] = delta_ratio"
   ]
  },
  {
   "cell_type": "code",
   "execution_count": 12,
   "metadata": {},
   "outputs": [
    {
     "output_type": "stream",
     "name": "stderr",
     "text": "100%|██████████| 20000/20000 [00:45<00:00, 439.77it/s]\n"
    }
   ],
   "source": [
    "from tqdm import tqdm\n",
    "alpha_real=feature_df[dst_list]\n",
    "alpha_imag=feature_df[dst_list]\n",
    "\n",
    "for i in tqdm(alpha_real.index):\n",
    "    alpha_real.loc[i]=alpha_real.loc[i] - alpha_real.loc[i].mean()\n",
    "    alpha_imag.loc[i]=alpha_imag.loc[i] - alpha_real.loc[i].mean()\n",
    "    \n",
    "    alpha_real.loc[i] = np.fft.fft(alpha_real.loc[i], norm='ortho').real\n",
    "    alpha_imag.loc[i] = np.fft.fft(alpha_imag.loc[i], norm='ortho').imag\n",
    "    \n",
    "real_part=[]\n",
    "imag_part=[]\n",
    "\n",
    "for col in dst_list:\n",
    "    real_part.append(col + '_fft_real')\n",
    "    imag_part.append(col + '_fft_imag')\n",
    "    \n",
    "alpha_real.columns=real_part\n",
    "alpha_imag.columns=imag_part\n",
    "alpha = pd.concat((alpha_real, alpha_imag), axis=1)"
   ]
  },
  {
   "cell_type": "code",
   "execution_count": 13,
   "metadata": {},
   "outputs": [],
   "source": [
    "feature_df=pd.concat((feature_df, alpha), axis=1)"
   ]
  },
  {
   "cell_type": "code",
   "execution_count": 14,
   "metadata": {},
   "outputs": [],
   "source": [
    "no_src_df = feature_df.drop(columns=src_list)"
   ]
  },
  {
   "cell_type": "code",
   "execution_count": 15,
   "metadata": {},
   "outputs": [],
   "source": [
    "target_cols = ['hhb', 'hbo2', 'ca', 'na']\n",
    "\n",
    "for col_name in target_cols:\n",
    "    no_src_df[col_name] = concat_df[col_name]\n",
    "\n",
    "no_src_df_train = no_src_df[no_src_df['hhb'].notnull()]\n",
    "no_src_df_test = no_src_df[no_src_df['hhb'].isnull()]"
   ]
  },
  {
   "cell_type": "code",
   "execution_count": 16,
   "metadata": {},
   "outputs": [],
   "source": [
    "dont_need_scale_cols = ['rho', 'hhb', 'hbo2', 'ca', 'na']\n",
    "droped_df = no_src_df.drop(dont_need_scale_cols, axis=1)"
   ]
  },
  {
   "cell_type": "code",
   "execution_count": 17,
   "metadata": {},
   "outputs": [],
   "source": [
    "std_scaler = StandardScaler()\n",
    "std_scaler.fit(droped_df)\n",
    "scaled_feature = std_scaler.transform(droped_df)\n",
    "scaled_feature = pd.DataFrame(scaled_feature, columns=droped_df.columns, index=list(droped_df.index.values))"
   ]
  },
  {
   "cell_type": "code",
   "execution_count": 18,
   "metadata": {},
   "outputs": [],
   "source": [
    "for col_name in dont_need_scale_cols:\n",
    "    scaled_feature[col_name] = concat_df[col_name]\n",
    "\n",
    "scaled_train = scaled_feature[scaled_feature['hhb'].notnull()]\n",
    "scaled_test = scaled_feature[scaled_feature['hhb'].isnull()]"
   ]
  },
  {
   "cell_type": "code",
   "execution_count": 19,
   "metadata": {},
   "outputs": [],
   "source": [
    "from sklearn.model_selection import KFold\n",
    "fold_num = 10\n",
    "folds = KFold(n_splits = fold_num, shuffle = True, random_state = 551)"
   ]
  },
  {
   "cell_type": "code",
   "execution_count": 20,
   "metadata": {},
   "outputs": [
    {
     "output_type": "execute_result",
     "data": {
      "text/plain": "       650_dst   660_dst   670_dst   680_dst   690_dst   700_dst   710_dst  \\\n0    -0.029544 -0.032011 -0.045944 -0.069772 -0.128891 -0.076268 -0.090149   \n1    -0.029544 -0.032011 -0.045944  2.785190  2.527859 -0.076268 -0.090150   \n2    -0.029544 -0.032011 -0.045944 -0.069773 -0.128893 -0.076268 -0.090149   \n3     0.091805  0.059657  0.412409  0.060517  0.358649  0.286229 -0.084300   \n4    -0.029221 -0.031961 -0.045944 -0.066061 -0.128893 -0.076268 -0.088391   \n...        ...       ...       ...       ...       ...       ...       ...   \n9995 -0.029526 -0.031883 -0.045944 -0.069773 -0.128796 -0.075393 -0.089965   \n9996 -0.029544 -0.032010 -0.045944 -0.069771 -0.128893 -0.076268 -0.090149   \n9997 -0.007799 -0.032011  0.136334  0.125374  0.135047 -0.076268 -0.090150   \n9998 -0.028445 -0.031664 -0.045649 -0.067097 -0.109617 -0.076268 -0.090150   \n9999  0.036105 -0.032011  0.188806 -0.069773 -0.128893  0.006074 -0.038892   \n\n       720_dst   730_dst   740_dst  ...  950_dst_fft_imag  960_dst_fft_imag  \\\n0    -0.124483 -0.103840 -0.122510  ...         -0.022948          0.239254   \n1    -0.124483  0.073747 -0.122510  ...          4.195279          7.026418   \n2    -0.124483 -0.103840 -0.122510  ...         -0.022949          0.239254   \n3     0.710096  0.856579  0.480018  ...          1.294231         -1.482777   \n4    -0.124483 -0.103840 -0.122126  ...         -0.023646          0.237759   \n...        ...       ...       ...  ...               ...               ...   \n9995 -0.123634 -0.103840 -0.122307  ...         -0.022747          0.238930   \n9996 -0.124481 -0.103840 -0.122510  ...         -0.022958          0.239249   \n9997 -0.071045 -0.042133 -0.095482  ...          0.179868         -0.295161   \n9998 -0.122240 -0.103840 -0.121227  ...         -0.033869          0.219569   \n9999 -0.124483 -0.033858 -0.063698  ...          0.456496         -0.190114   \n\n      970_dst_fft_imag  980_dst_fft_imag  990_dst_fft_imag  rho    hhb  hbo2  \\\n0            -0.035308          0.118846          0.108163   25   5.59  4.32   \n1             1.015247        -10.064543        -11.702443   10   0.00  2.83   \n2            -0.035308          0.118846          0.108163   25  10.64  3.00   \n3             1.306798         -1.501726          0.696193   10   5.67  4.01   \n4            -0.035648          0.118178          0.107902   15  11.97  4.41   \n...                ...               ...               ...  ...    ...   ...   \n9995         -0.035126          0.118691          0.108320   15  12.68  4.11   \n9996         -0.035314          0.118846          0.108160   20   8.46  4.11   \n9997          0.156187         -0.168894          0.100969   10   9.84  3.20   \n9998         -0.038321          0.111799          0.106024   15   6.38  4.06   \n9999          0.300214         -0.118597          0.215001   10   9.35  4.34   \n\n         ca    na  \n0      8.92  4.29  \n1      7.25  4.64  \n2      8.40  5.16  \n3      5.05  4.35  \n4     10.78  2.42  \n...     ...   ...  \n9995  12.31  0.10  \n9996  10.46  3.12  \n9997  10.45  2.06  \n9998  11.28  4.03  \n9999   9.73  3.54  \n\n[10000 rows x 180 columns]",
      "text/html": "<div>\n<style scoped>\n    .dataframe tbody tr th:only-of-type {\n        vertical-align: middle;\n    }\n\n    .dataframe tbody tr th {\n        vertical-align: top;\n    }\n\n    .dataframe thead th {\n        text-align: right;\n    }\n</style>\n<table border=\"1\" class=\"dataframe\">\n  <thead>\n    <tr style=\"text-align: right;\">\n      <th></th>\n      <th>650_dst</th>\n      <th>660_dst</th>\n      <th>670_dst</th>\n      <th>680_dst</th>\n      <th>690_dst</th>\n      <th>700_dst</th>\n      <th>710_dst</th>\n      <th>720_dst</th>\n      <th>730_dst</th>\n      <th>740_dst</th>\n      <th>...</th>\n      <th>950_dst_fft_imag</th>\n      <th>960_dst_fft_imag</th>\n      <th>970_dst_fft_imag</th>\n      <th>980_dst_fft_imag</th>\n      <th>990_dst_fft_imag</th>\n      <th>rho</th>\n      <th>hhb</th>\n      <th>hbo2</th>\n      <th>ca</th>\n      <th>na</th>\n    </tr>\n  </thead>\n  <tbody>\n    <tr>\n      <th>0</th>\n      <td>-0.029544</td>\n      <td>-0.032011</td>\n      <td>-0.045944</td>\n      <td>-0.069772</td>\n      <td>-0.128891</td>\n      <td>-0.076268</td>\n      <td>-0.090149</td>\n      <td>-0.124483</td>\n      <td>-0.103840</td>\n      <td>-0.122510</td>\n      <td>...</td>\n      <td>-0.022948</td>\n      <td>0.239254</td>\n      <td>-0.035308</td>\n      <td>0.118846</td>\n      <td>0.108163</td>\n      <td>25</td>\n      <td>5.59</td>\n      <td>4.32</td>\n      <td>8.92</td>\n      <td>4.29</td>\n    </tr>\n    <tr>\n      <th>1</th>\n      <td>-0.029544</td>\n      <td>-0.032011</td>\n      <td>-0.045944</td>\n      <td>2.785190</td>\n      <td>2.527859</td>\n      <td>-0.076268</td>\n      <td>-0.090150</td>\n      <td>-0.124483</td>\n      <td>0.073747</td>\n      <td>-0.122510</td>\n      <td>...</td>\n      <td>4.195279</td>\n      <td>7.026418</td>\n      <td>1.015247</td>\n      <td>-10.064543</td>\n      <td>-11.702443</td>\n      <td>10</td>\n      <td>0.00</td>\n      <td>2.83</td>\n      <td>7.25</td>\n      <td>4.64</td>\n    </tr>\n    <tr>\n      <th>2</th>\n      <td>-0.029544</td>\n      <td>-0.032011</td>\n      <td>-0.045944</td>\n      <td>-0.069773</td>\n      <td>-0.128893</td>\n      <td>-0.076268</td>\n      <td>-0.090149</td>\n      <td>-0.124483</td>\n      <td>-0.103840</td>\n      <td>-0.122510</td>\n      <td>...</td>\n      <td>-0.022949</td>\n      <td>0.239254</td>\n      <td>-0.035308</td>\n      <td>0.118846</td>\n      <td>0.108163</td>\n      <td>25</td>\n      <td>10.64</td>\n      <td>3.00</td>\n      <td>8.40</td>\n      <td>5.16</td>\n    </tr>\n    <tr>\n      <th>3</th>\n      <td>0.091805</td>\n      <td>0.059657</td>\n      <td>0.412409</td>\n      <td>0.060517</td>\n      <td>0.358649</td>\n      <td>0.286229</td>\n      <td>-0.084300</td>\n      <td>0.710096</td>\n      <td>0.856579</td>\n      <td>0.480018</td>\n      <td>...</td>\n      <td>1.294231</td>\n      <td>-1.482777</td>\n      <td>1.306798</td>\n      <td>-1.501726</td>\n      <td>0.696193</td>\n      <td>10</td>\n      <td>5.67</td>\n      <td>4.01</td>\n      <td>5.05</td>\n      <td>4.35</td>\n    </tr>\n    <tr>\n      <th>4</th>\n      <td>-0.029221</td>\n      <td>-0.031961</td>\n      <td>-0.045944</td>\n      <td>-0.066061</td>\n      <td>-0.128893</td>\n      <td>-0.076268</td>\n      <td>-0.088391</td>\n      <td>-0.124483</td>\n      <td>-0.103840</td>\n      <td>-0.122126</td>\n      <td>...</td>\n      <td>-0.023646</td>\n      <td>0.237759</td>\n      <td>-0.035648</td>\n      <td>0.118178</td>\n      <td>0.107902</td>\n      <td>15</td>\n      <td>11.97</td>\n      <td>4.41</td>\n      <td>10.78</td>\n      <td>2.42</td>\n    </tr>\n    <tr>\n      <th>...</th>\n      <td>...</td>\n      <td>...</td>\n      <td>...</td>\n      <td>...</td>\n      <td>...</td>\n      <td>...</td>\n      <td>...</td>\n      <td>...</td>\n      <td>...</td>\n      <td>...</td>\n      <td>...</td>\n      <td>...</td>\n      <td>...</td>\n      <td>...</td>\n      <td>...</td>\n      <td>...</td>\n      <td>...</td>\n      <td>...</td>\n      <td>...</td>\n      <td>...</td>\n      <td>...</td>\n    </tr>\n    <tr>\n      <th>9995</th>\n      <td>-0.029526</td>\n      <td>-0.031883</td>\n      <td>-0.045944</td>\n      <td>-0.069773</td>\n      <td>-0.128796</td>\n      <td>-0.075393</td>\n      <td>-0.089965</td>\n      <td>-0.123634</td>\n      <td>-0.103840</td>\n      <td>-0.122307</td>\n      <td>...</td>\n      <td>-0.022747</td>\n      <td>0.238930</td>\n      <td>-0.035126</td>\n      <td>0.118691</td>\n      <td>0.108320</td>\n      <td>15</td>\n      <td>12.68</td>\n      <td>4.11</td>\n      <td>12.31</td>\n      <td>0.10</td>\n    </tr>\n    <tr>\n      <th>9996</th>\n      <td>-0.029544</td>\n      <td>-0.032010</td>\n      <td>-0.045944</td>\n      <td>-0.069771</td>\n      <td>-0.128893</td>\n      <td>-0.076268</td>\n      <td>-0.090149</td>\n      <td>-0.124481</td>\n      <td>-0.103840</td>\n      <td>-0.122510</td>\n      <td>...</td>\n      <td>-0.022958</td>\n      <td>0.239249</td>\n      <td>-0.035314</td>\n      <td>0.118846</td>\n      <td>0.108160</td>\n      <td>20</td>\n      <td>8.46</td>\n      <td>4.11</td>\n      <td>10.46</td>\n      <td>3.12</td>\n    </tr>\n    <tr>\n      <th>9997</th>\n      <td>-0.007799</td>\n      <td>-0.032011</td>\n      <td>0.136334</td>\n      <td>0.125374</td>\n      <td>0.135047</td>\n      <td>-0.076268</td>\n      <td>-0.090150</td>\n      <td>-0.071045</td>\n      <td>-0.042133</td>\n      <td>-0.095482</td>\n      <td>...</td>\n      <td>0.179868</td>\n      <td>-0.295161</td>\n      <td>0.156187</td>\n      <td>-0.168894</td>\n      <td>0.100969</td>\n      <td>10</td>\n      <td>9.84</td>\n      <td>3.20</td>\n      <td>10.45</td>\n      <td>2.06</td>\n    </tr>\n    <tr>\n      <th>9998</th>\n      <td>-0.028445</td>\n      <td>-0.031664</td>\n      <td>-0.045649</td>\n      <td>-0.067097</td>\n      <td>-0.109617</td>\n      <td>-0.076268</td>\n      <td>-0.090150</td>\n      <td>-0.122240</td>\n      <td>-0.103840</td>\n      <td>-0.121227</td>\n      <td>...</td>\n      <td>-0.033869</td>\n      <td>0.219569</td>\n      <td>-0.038321</td>\n      <td>0.111799</td>\n      <td>0.106024</td>\n      <td>15</td>\n      <td>6.38</td>\n      <td>4.06</td>\n      <td>11.28</td>\n      <td>4.03</td>\n    </tr>\n    <tr>\n      <th>9999</th>\n      <td>0.036105</td>\n      <td>-0.032011</td>\n      <td>0.188806</td>\n      <td>-0.069773</td>\n      <td>-0.128893</td>\n      <td>0.006074</td>\n      <td>-0.038892</td>\n      <td>-0.124483</td>\n      <td>-0.033858</td>\n      <td>-0.063698</td>\n      <td>...</td>\n      <td>0.456496</td>\n      <td>-0.190114</td>\n      <td>0.300214</td>\n      <td>-0.118597</td>\n      <td>0.215001</td>\n      <td>10</td>\n      <td>9.35</td>\n      <td>4.34</td>\n      <td>9.73</td>\n      <td>3.54</td>\n    </tr>\n  </tbody>\n</table>\n<p>10000 rows × 180 columns</p>\n</div>"
     },
     "metadata": {},
     "execution_count": 20
    }
   ],
   "source": [
    "scaled_train"
   ]
  },
  {
   "cell_type": "code",
   "execution_count": 21,
   "metadata": {},
   "outputs": [
    {
     "output_type": "stream",
     "name": "stdout",
     "text": "target_col ::  hhb\n[10000]\tvalid_0's l1: 0.711009\n[10000]\tvalid_0's l1: 0.688838\n[10000]\tvalid_0's l1: 0.686485\n[10000]\tvalid_0's l1: 0.711272\n[10000]\tvalid_0's l1: 0.715887\n[10000]\tvalid_0's l1: 0.714529\n[10000]\tvalid_0's l1: 0.679139\n[10000]\tvalid_0's l1: 0.698361\n[10000]\tvalid_0's l1: 0.698291\n[10000]\tvalid_0's l1: 0.704664\ntarget_col ::  hbo2\n[10000]\tvalid_0's l1: 0.525814\n[10000]\tvalid_0's l1: 0.549003\n[10000]\tvalid_0's l1: 0.532294\n[10000]\tvalid_0's l1: 0.539032\n[10000]\tvalid_0's l1: 0.553565\n[10000]\tvalid_0's l1: 0.525736\n[10000]\tvalid_0's l1: 0.519912\n[10000]\tvalid_0's l1: 0.531041\n[10000]\tvalid_0's l1: 0.519794\n[10000]\tvalid_0's l1: 0.53017\ntarget_col ::  ca\n[10000]\tvalid_0's l1: 1.6991\n[10000]\tvalid_0's l1: 1.67497\n[10000]\tvalid_0's l1: 1.76013\n[10000]\tvalid_0's l1: 1.76801\n[10000]\tvalid_0's l1: 1.71406\n[10000]\tvalid_0's l1: 1.69157\n[10000]\tvalid_0's l1: 1.75491\n[10000]\tvalid_0's l1: 1.69803\n[10000]\tvalid_0's l1: 1.65475\n[10000]\tvalid_0's l1: 1.6284\ntarget_col ::  na\n[10000]\tvalid_0's l1: 1.15195\n[10000]\tvalid_0's l1: 1.20539\n[10000]\tvalid_0's l1: 1.22237\n[10000]\tvalid_0's l1: 1.20723\n[10000]\tvalid_0's l1: 1.19213\n[10000]\tvalid_0's l1: 1.20643\n[10000]\tvalid_0's l1: 1.19541\n[10000]\tvalid_0's l1: 1.15384\n[10000]\tvalid_0's l1: 1.13244\n[10000]\tvalid_0's l1: 1.17231\n"
    }
   ],
   "source": [
    "import lightgbm as lgb\n",
    "\n",
    "feature_col = scaled_train.drop(['hhb', 'hbo2', 'ca', 'na'], axis=1).columns\n",
    "target_col_list = ['hhb', 'hbo2', 'ca', 'na']\n",
    "submission = pd.read_csv('../data/sample_submission.csv', index_col='id')\n",
    "\n",
    "submission_stack_df = pd.read_csv('../data/sample_submission.csv', index_col='id')\n",
    "train_stack_df = pd.DataFrame(index=list(scaled_train[feature_col].index.values))\n",
    "\n",
    "train_check_df = pd.DataFrame(columns=target_col_list, index=list(scaled_train[feature_col].index.values))\n",
    "train_check_df = train_check_df.fillna(0)\n",
    "\n",
    "for target_col in target_col_list:\n",
    "    print(\"target_col :: \",target_col)\n",
    "    for n_fold, (trn_idx, val_idx) in enumerate(folds.split(scaled_train)):\n",
    "        x_data = scaled_train[feature_col]\n",
    "        y_data = scaled_train[target_col]\n",
    "\n",
    "        train_X, train_y = x_data.iloc[trn_idx], y_data.iloc[trn_idx] \n",
    "        valid_X, valid_y = x_data.iloc[val_idx], y_data.iloc[val_idx]\n",
    "\n",
    "        train_ds = lgb.Dataset(train_X, label=train_y)\n",
    "        valid_ds = lgb.Dataset(valid_X, label=valid_y)\n",
    "\n",
    "        params = {\n",
    "            'objective':'regression', \n",
    "            'n_estimators': 10000,\n",
    "            'metric': 'regression_l1',\n",
    "            'boosting': 'dart',\n",
    "            'learning_rate': 0.1\n",
    "        }\n",
    "\n",
    "        model = lgb.train(\n",
    "            params=params, \n",
    "            train_set=train_ds, \n",
    "            valid_sets=valid_ds, \n",
    "            verbose_eval=10000, \n",
    "            early_stopping_rounds=20 \n",
    "        )\n",
    "\n",
    "        test_x = scaled_test[feature_col]\n",
    "        test_pred = model.predict(test_x)\n",
    "\n",
    "        train_check_pred = model.predict(x_data)\n",
    "\n",
    "\n",
    "        submission[target_col] = submission[target_col] + test_pred\n",
    "        train_check_df[target_col] = train_check_df[target_col] + train_check_pred\n",
    "\n",
    "        submission_stack_df[target_col+\"_\"+str(n_fold)] = test_pred\n",
    "        train_stack_df[target_col+\"_\"+str(n_fold)] = train_check_pred"
   ]
  },
  {
   "cell_type": "code",
   "execution_count": 23,
   "metadata": {},
   "outputs": [],
   "source": [
    "save_train_check_df = train_check_df\n",
    "save_submission = submission\n",
    "\n",
    "train_check_df_output = train_check_df / fold_num\n",
    "submission_output = submission / fold_num"
   ]
  },
  {
   "cell_type": "code",
   "execution_count": 24,
   "metadata": {},
   "outputs": [
    {
     "output_type": "execute_result",
     "data": {
      "text/plain": "             hhb      hbo2         ca        na\nid                                             \n10000   9.227117  4.332003   8.781297  2.540571\n10001   6.938280  2.980425   9.233365  2.894403\n10002   8.864495  5.329897  10.678165  3.940262\n10003   7.922287  4.279020  10.368764  4.230413\n10004   6.514684  3.224960   9.093954  3.992723\n...          ...       ...        ...       ...\n19995   3.783306  4.402765  11.504505  3.769453\n19996  10.660814  3.114412   6.131124  2.324868\n19997   7.203789  3.964187   8.805434  3.767140\n19998  13.043051  4.386978  10.092791  3.611958\n19999   4.303527  5.001142  11.688647  2.080392\n\n[10000 rows x 4 columns]",
      "text/html": "<div>\n<style scoped>\n    .dataframe tbody tr th:only-of-type {\n        vertical-align: middle;\n    }\n\n    .dataframe tbody tr th {\n        vertical-align: top;\n    }\n\n    .dataframe thead th {\n        text-align: right;\n    }\n</style>\n<table border=\"1\" class=\"dataframe\">\n  <thead>\n    <tr style=\"text-align: right;\">\n      <th></th>\n      <th>hhb</th>\n      <th>hbo2</th>\n      <th>ca</th>\n      <th>na</th>\n    </tr>\n    <tr>\n      <th>id</th>\n      <th></th>\n      <th></th>\n      <th></th>\n      <th></th>\n    </tr>\n  </thead>\n  <tbody>\n    <tr>\n      <th>10000</th>\n      <td>9.227117</td>\n      <td>4.332003</td>\n      <td>8.781297</td>\n      <td>2.540571</td>\n    </tr>\n    <tr>\n      <th>10001</th>\n      <td>6.938280</td>\n      <td>2.980425</td>\n      <td>9.233365</td>\n      <td>2.894403</td>\n    </tr>\n    <tr>\n      <th>10002</th>\n      <td>8.864495</td>\n      <td>5.329897</td>\n      <td>10.678165</td>\n      <td>3.940262</td>\n    </tr>\n    <tr>\n      <th>10003</th>\n      <td>7.922287</td>\n      <td>4.279020</td>\n      <td>10.368764</td>\n      <td>4.230413</td>\n    </tr>\n    <tr>\n      <th>10004</th>\n      <td>6.514684</td>\n      <td>3.224960</td>\n      <td>9.093954</td>\n      <td>3.992723</td>\n    </tr>\n    <tr>\n      <th>...</th>\n      <td>...</td>\n      <td>...</td>\n      <td>...</td>\n      <td>...</td>\n    </tr>\n    <tr>\n      <th>19995</th>\n      <td>3.783306</td>\n      <td>4.402765</td>\n      <td>11.504505</td>\n      <td>3.769453</td>\n    </tr>\n    <tr>\n      <th>19996</th>\n      <td>10.660814</td>\n      <td>3.114412</td>\n      <td>6.131124</td>\n      <td>2.324868</td>\n    </tr>\n    <tr>\n      <th>19997</th>\n      <td>7.203789</td>\n      <td>3.964187</td>\n      <td>8.805434</td>\n      <td>3.767140</td>\n    </tr>\n    <tr>\n      <th>19998</th>\n      <td>13.043051</td>\n      <td>4.386978</td>\n      <td>10.092791</td>\n      <td>3.611958</td>\n    </tr>\n    <tr>\n      <th>19999</th>\n      <td>4.303527</td>\n      <td>5.001142</td>\n      <td>11.688647</td>\n      <td>2.080392</td>\n    </tr>\n  </tbody>\n</table>\n<p>10000 rows × 4 columns</p>\n</div>"
     },
     "metadata": {},
     "execution_count": 24
    }
   ],
   "source": [
    "submission_output"
   ]
  },
  {
   "cell_type": "code",
   "execution_count": 25,
   "metadata": {},
   "outputs": [
    {
     "output_type": "execute_result",
     "data": {
      "text/plain": "0.20527207774119344"
     },
     "metadata": {},
     "execution_count": 25
    }
   ],
   "source": [
    "target_col_list = ['hhb', 'hbo2', 'ca', 'na']\n",
    "\n",
    "res = rmse(train_check_df_output, scaled_train[target_col_list])\n",
    "res"
   ]
  },
  {
   "cell_type": "code",
   "execution_count": 26,
   "metadata": {},
   "outputs": [
    {
     "output_type": "stream",
     "name": "stdout",
     "text": "0.14052312717898782\n             hhb      hbo2         ca        na\nid                                             \n10000   9.273108  4.360039   8.770844  2.495794\n10001   6.932554  2.906339   9.248919  2.882471\n10002   8.871092  5.433783  10.822669  4.032055\n10003   7.933947  4.302852  10.491366  4.352173\n10004   6.471729  3.169484   9.108522  4.092610\n...          ...       ...        ...       ...\n19995   3.715076  4.437298  11.719377  3.844625\n19996  10.701616  3.045583   5.902224  2.258670\n19997   7.210135  3.964871   8.792209  3.845347\n19998  13.156402  4.416782  10.188668  3.669940\n19999   4.243064  5.076322  11.923902  1.984979\n\n[10000 rows x 4 columns]\n"
    }
   ],
   "source": [
    "from sklearn.linear_model import Lasso\n",
    "\n",
    "target_col_list = ['hhb', 'hbo2', 'ca', 'na']\n",
    "train_stack_df_output = pd.DataFrame(index=list(scaled_train[feature_col].index.values))\n",
    "\n",
    "for target_col in target_col_list:\n",
    "    x_data = train_stack_df.filter(regex=target_col, axis=1)\n",
    "    y_data = scaled_train[target_col]\n",
    "\n",
    "    meta_model_lasso = Lasso(alpha=0.0005)\n",
    "    meta_model_lasso.fit(x_data, y_data) \n",
    "\n",
    "    train_check_pred = meta_model_lasso.predict(x_data)\n",
    "    train_stack_df_output[target_col] = train_check_pred\n",
    "\n",
    "    submission_test_data = submission_stack_df.filter(regex=target_col+'_', axis=1)\n",
    "    submission[target_col] = meta_model_lasso.predict(submission_test_data)\n",
    "\n",
    "train_res = rmse(train_stack_df_output, scaled_train[target_col_list])\n",
    "print(train_res)\n",
    "print(submission)"
   ]
  },
  {
   "cell_type": "code",
   "execution_count": 27,
   "metadata": {},
   "outputs": [],
   "source": [
    "import time\n",
    "filename = time.strftime('%Y-%m-%d-%H_%M_%S')+'submission.csv'\n",
    "\n",
    "train_stack_df.to_csv(time.strftime('%Y-%m-%d-%H_%M_%S')+'train_stack_df.csv', index=True)\n",
    "train_stack_df_output.to_csv(time.strftime('%Y-%m-%d-%H_%M_%S')+'train_stack_df_output.csv', index=True)\n",
    "submission.to_csv(time.strftime('%Y-%m-%d-%H_%M_%S')+'submission.csv', index=True)\n",
    "submission_stack_df.to_csv(time.strftime('%Y-%m-%d-%H_%M_%S')+'submission_stack_df.csv', index=True)\n",
    "submission_output.to_csv(time.strftime('%Y-%m-%d-%H_%M_%S')+'submission_output.csv', index=True)"
   ]
  }
 ],
 "metadata": {
  "language_info": {
   "codemirror_mode": {
    "name": "ipython",
    "version": 3
   },
   "file_extension": ".py",
   "mimetype": "text/x-python",
   "name": "python",
   "nbconvert_exporter": "python",
   "pygments_lexer": "ipython3",
   "version": "3.7.6-final"
  },
  "orig_nbformat": 2,
  "kernelspec": {
   "name": "python3",
   "display_name": "Python 3"
  }
 },
 "nbformat": 4,
 "nbformat_minor": 2
}