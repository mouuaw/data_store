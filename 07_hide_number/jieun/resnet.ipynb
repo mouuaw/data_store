{
 "metadata": {
  "language_info": {
   "codemirror_mode": {
    "name": "ipython",
    "version": 3
   },
   "file_extension": ".py",
   "mimetype": "text/x-python",
   "name": "python",
   "nbconvert_exporter": "python",
   "pygments_lexer": "ipython3",
   "version": "3.7.6-final"
  },
  "orig_nbformat": 2,
  "kernelspec": {
   "name": "python_defaultSpec_1599334643770",
   "display_name": "Python 3"
  }
 },
 "nbformat": 4,
 "nbformat_minor": 2,
 "cells": [
  {
   "cell_type": "code",
   "execution_count": 5,
   "metadata": {},
   "outputs": [],
   "source": [
    "# Import Module\n",
    "\n",
    "import numpy as np\n",
    "import pandas as pd\n",
    "import matplotlib.pyplot as plt\n",
    "import seaborn as sns\n",
    "import tensorflow as tf\n",
    "from tensorflow import keras\n",
    "from tensorflow.keras import layers"
   ]
  },
  {
   "cell_type": "code",
   "execution_count": 6,
   "metadata": {},
   "outputs": [],
   "source": [
    "train = pd.read_csv('C:/dataset/dacon5_mnist/train.csv')\n",
    "test = pd.read_csv('C:/dataset/dacon5_mnist/test.csv')"
   ]
  },
  {
   "cell_type": "code",
   "execution_count": 7,
   "metadata": {},
   "outputs": [],
   "source": [
    "train_img = train.iloc[:,3:].to_numpy().reshape(-1,28,28,1)\n",
    "train_digit = train['digit']\n",
    "train_letter = train['letter']\n",
    "test_img = test.iloc[:,2:].to_numpy().reshape(-1,28,28,1)\n",
    "test_letter = test['letter']"
   ]
  },
  {
   "cell_type": "code",
   "execution_count": 8,
   "metadata": {},
   "outputs": [],
   "source": [
    "train_img_norm = train_img / 255.0\n",
    "test_img_norm = test_img / 255.0"
   ]
  },
  {
   "cell_type": "code",
   "execution_count": 9,
   "metadata": {},
   "outputs": [],
   "source": [
    "features = train_img_norm\n",
    "labels = train_digit.to_numpy()\n",
    "\n",
    "X_test = test_img_norm"
   ]
  },
  {
   "cell_type": "code",
   "execution_count": 10,
   "metadata": {},
   "outputs": [],
   "source": [
    "from sklearn.model_selection import train_test_split\n",
    "\n",
    "validation_split = 0.2\n",
    "\n",
    "X_train, X_val, y_train, y_val = train_test_split(features, labels, test_size = validation_split, random_state = 1004)\n"
   ]
  },
  {
   "cell_type": "code",
   "execution_count": 11,
   "metadata": {},
   "outputs": [],
   "source": [
    "def createFolder(directory):\n",
    "    \n",
    "    import os\n",
    "    \n",
    "    try:\n",
    "        if not os.path.exists(directory):\n",
    "            os.makedirs(directory)\n",
    "    except:\n",
    "        print(\"Error: Falied creating directory\" + directory)"
   ]
  },
  {
   "cell_type": "code",
   "execution_count": 12,
   "metadata": {},
   "outputs": [],
   "source": [
    "def plot_curve(epochs, hist, list_of_metrics):\n",
    "    \n",
    "    fig, ax = plt.subplots(1,2,figsize = (12, 8))\n",
    "    \n",
    "    for i in range(len(ax)):\n",
    "        ax[i].set_xlabel('Epochs')\n",
    "        ax[i].set_ylabel('Value')\n",
    "        \n",
    "        for n in range(len(list_of_metrics)):\n",
    "            if i == 0:\n",
    "                y = hist[list_of_metrics[n]]\n",
    "                ax[i].plot(epochs, y)\n",
    "                ax[i].set_title('Loss')\n",
    "                if n == 1:\n",
    "                    break\n",
    "            else:\n",
    "                if n >= 2:\n",
    "                    y = hist[list_of_metrics[n]]\n",
    "                    ax[i].plot(epochs, y)\n",
    "                    ax[i].set_title('Accuracy')\n",
    "                    \n",
    "    plt.show()"
   ]
  },
  {
   "cell_type": "code",
   "execution_count": 13,
   "metadata": {},
   "outputs": [],
   "source": [
    "def create_cnn(learning_rate):\n",
    "    \n",
    "    # Remove the previous model.\n",
    "    model = None\n",
    "    \n",
    "    # Input layer\n",
    "    img_input = layers.Input(shape = (28,28,1))\n",
    "    \n",
    "    # CNN\n",
    "    # Identity mapping shortcut을 위한 conv_1 layer\n",
    "    conv_1 = layers.Conv2D(128, kernel_size = 3, padding = 'same', activation = 'relu')(img_input) \n",
    "    \n",
    "    conv_2_1 = layers.Conv2D(128, kernel_size = 3, padding = 'same', activation = 'relu')(conv_1)\n",
    "    conv_2_1 = layers.Conv2D(128, kernel_size = 3, padding = 'same')(conv_2_1)\n",
    "    \n",
    "    # ShortCut connection\n",
    "    add_2_1 = layers.add([conv_1, conv_2_1])\n",
    "    out_2_1 = layers.Activation('relu')(add_2_1)\n",
    "    \n",
    "    conv_2_2 = layers.Conv2D(128, kernel_size = 3, padding = 'same', activation = 'relu')(out_2_1)\n",
    "    conv_2_2 = layers.Conv2D(128, kernel_size = 3, padding = 'same')(conv_2_2)\n",
    "    \n",
    "    # ShortCut connection\n",
    "    add_2_2 = layers.add([out_2_1, conv_2_2])\n",
    "    out_2_2 = layers.Activation('relu')(add_2_1)\n",
    "    \n",
    "    pool_2 = layers.MaxPool2D((2,2), strides = 2)(out_2_2)\n",
    "    \n",
    "    conv_3_0 = layers.Conv2D(256, kernel_size = 1, strides = 1)(pool_2)\n",
    "    \n",
    "    conv_3_1 = layers.Conv2D(256, kernel_size = 3, padding = 'same', activation = 'relu')(conv_3_0)\n",
    "    conv_3_1 = layers.Conv2D(256, kernel_size = 3, padding = 'same')(conv_3_1)\n",
    "    \n",
    "    # ShortCut connection\n",
    "    add_3_1 = layers.add([conv_3_0, conv_3_1])\n",
    "    out_3_1 = layers.Activation('relu')(add_3_1)\n",
    "    \n",
    "    conv_3_2 = layers.Conv2D(256, kernel_size = 3, padding = 'same', activation = 'relu')(out_3_1)\n",
    "    conv_3_2 = layers.Conv2D(256, kernel_size = 3, padding = 'same')(conv_3_2)\n",
    "    \n",
    "    # ShortCut connection\n",
    "    add_3_2 = layers.add([out_3_1, conv_3_2])\n",
    "    out_3_2 = layers.Activation('relu')(add_3_2)\n",
    "    \n",
    "    pool_3 = layers.MaxPool2D((2,2), strides = 2)(out_3_2)\n",
    "    \n",
    "    conv_4_0 = layers.Conv2D(256, kernel_size = 1, strides = 1)(pool_3)\n",
    "    \n",
    "    conv_4_1 = layers.Conv2D(256, kernel_size = 3, padding = 'same', activation = 'relu')(conv_4_0)\n",
    "    conv_4_1 = layers.Conv2D(256, kernel_size = 3, padding = 'same')(conv_4_1)\n",
    "    \n",
    "    # ShortCut connection\n",
    "    add_4_1 = layers.add([conv_4_0, conv_4_1])\n",
    "    out_4_1 = layers.Activation('relu')(add_4_1)\n",
    "    \n",
    "    pool_4 = layers.MaxPool2D((2,2), strides = 2)(out_4_1)\n",
    "    \n",
    "    # FC layers\n",
    "    img_features = layers.Flatten()(pool_4)\n",
    "    img_features = layers.Dense(512, activation = 'relu')(img_features)\n",
    "    img_features = layers.Dropout(rate = 0.5)(img_features)\n",
    "    img_features = layers.Dense(512, activation = 'relu')(img_features)\n",
    "    img_features = layers.Dropout(rate = 0.5)(img_features)\n",
    "    \n",
    "    # Output layer\n",
    "    digit_pred = layers.Dense(10, activation = 'softmax')(img_features)\n",
    "    \n",
    "    model = keras.Model(inputs = img_input, outputs = digit_pred)\n",
    "    \n",
    "    model.compile(optimizer = tf.keras.optimizers.Adam(lr = learning_rate),\n",
    "                 loss = 'sparse_categorical_crossentropy',\n",
    "                 metrics = ['accuracy'])\n",
    "                    \n",
    "    return model"
   ]
  },
  {
   "cell_type": "code",
   "execution_count": 14,
   "metadata": {},
   "outputs": [],
   "source": [
    "def train_model_v1(model, X_train, y_train, X_val, y_val, epochs, batch_size = None, validation_split = 0.1):\n",
    "    \n",
    "    callback = tf.keras.callbacks.EarlyStopping(monitor = 'val_accuracy', patience = 10, restore_best_weights = True)\n",
    "    \n",
    "    history = model.fit(x = X_train, y = y_train, epochs = epochs, batch_size = batch_size,\n",
    "                       shuffle = True, validation_data = [X_val, y_val], callbacks = [callback])\n",
    "    \n",
    "    epochs = history.epoch\n",
    "    hist = pd.DataFrame(history.history)\n",
    "    \n",
    "    return epochs, hist\n",
    "\n",
    "def train_model_v2(model, X_train, y_train, X_val, y_val, epochs, batch_size = None, validation_split = 0.1):\n",
    "    \n",
    "    callback = tf.keras.callbacks.EarlyStopping(monitor = 'val_loss', patience = 10, restore_best_weights = True)\n",
    "    \n",
    "    history = model.fit(x = X_train, y = y_train, epochs = epochs, batch_size = batch_size,\n",
    "                       shuffle = True, validation_data = [X_val, y_val], callbacks = [callback])\n",
    "    \n",
    "    epochs = history.epoch\n",
    "    hist = pd.DataFrame(history.history)\n",
    "    \n",
    "    return epochs, hist"
   ]
  },
  {
   "cell_type": "code",
   "execution_count": 16,
   "metadata": {
    "tags": [
     "outputPrepend"
    ]
   },
   "outputs": [
    {
     "output_type": "stream",
     "name": "stdout",
     "text": "rainable params: 0\n__________________________________________________________________________________________________\nModel: \"model_8\"\n__________________________________________________________________________________________________\nLayer (type)                    Output Shape         Param #     Connected to                     \n==================================================================================================\ninput_10 (InputLayer)           [(None, 28, 28, 1)]  0                                            \n__________________________________________________________________________________________________\nconv2d_104 (Conv2D)             (None, 28, 28, 128)  1280        input_10[0][0]                   \n__________________________________________________________________________________________________\nconv2d_105 (Conv2D)             (None, 28, 28, 128)  147584      conv2d_104[0][0]                 \n__________________________________________________________________________________________________\nconv2d_106 (Conv2D)             (None, 28, 28, 128)  147584      conv2d_105[0][0]                 \n__________________________________________________________________________________________________\nadd_40 (Add)                    (None, 28, 28, 128)  0           conv2d_104[0][0]                 \n                                                                 conv2d_106[0][0]                 \n__________________________________________________________________________________________________\nactivation_41 (Activation)      (None, 28, 28, 128)  0           add_40[0][0]                     \n__________________________________________________________________________________________________\nmax_pooling2d_24 (MaxPooling2D) (None, 14, 14, 128)  0           activation_41[0][0]              \n__________________________________________________________________________________________________\nconv2d_109 (Conv2D)             (None, 14, 14, 256)  33024       max_pooling2d_24[0][0]           \n__________________________________________________________________________________________________\nconv2d_110 (Conv2D)             (None, 14, 14, 256)  590080      conv2d_109[0][0]                 \n__________________________________________________________________________________________________\nconv2d_111 (Conv2D)             (None, 14, 14, 256)  590080      conv2d_110[0][0]                 \n__________________________________________________________________________________________________\nadd_42 (Add)                    (None, 14, 14, 256)  0           conv2d_109[0][0]                 \n                                                                 conv2d_111[0][0]                 \n__________________________________________________________________________________________________\nactivation_42 (Activation)      (None, 14, 14, 256)  0           add_42[0][0]                     \n__________________________________________________________________________________________________\nconv2d_112 (Conv2D)             (None, 14, 14, 256)  590080      activation_42[0][0]              \n__________________________________________________________________________________________________\nconv2d_113 (Conv2D)             (None, 14, 14, 256)  590080      conv2d_112[0][0]                 \n__________________________________________________________________________________________________\nadd_43 (Add)                    (None, 14, 14, 256)  0           activation_42[0][0]              \n                                                                 conv2d_113[0][0]                 \n__________________________________________________________________________________________________\nactivation_43 (Activation)      (None, 14, 14, 256)  0           add_43[0][0]                     \n__________________________________________________________________________________________________\nmax_pooling2d_25 (MaxPooling2D) (None, 7, 7, 256)    0           activation_43[0][0]              \n__________________________________________________________________________________________________\nconv2d_114 (Conv2D)             (None, 7, 7, 256)    65792       max_pooling2d_25[0][0]           \n__________________________________________________________________________________________________\nconv2d_115 (Conv2D)             (None, 7, 7, 256)    590080      conv2d_114[0][0]                 \n__________________________________________________________________________________________________\nconv2d_116 (Conv2D)             (None, 7, 7, 256)    590080      conv2d_115[0][0]                 \n__________________________________________________________________________________________________\nadd_44 (Add)                    (None, 7, 7, 256)    0           conv2d_114[0][0]                 \n                                                                 conv2d_116[0][0]                 \n__________________________________________________________________________________________________\nactivation_44 (Activation)      (None, 7, 7, 256)    0           add_44[0][0]                     \n__________________________________________________________________________________________________\nmax_pooling2d_26 (MaxPooling2D) (None, 3, 3, 256)    0           activation_44[0][0]              \n__________________________________________________________________________________________________\nflatten_8 (Flatten)             (None, 2304)         0           max_pooling2d_26[0][0]           \n__________________________________________________________________________________________________\ndense_24 (Dense)                (None, 512)          1180160     flatten_8[0][0]                  \n__________________________________________________________________________________________________\ndropout_16 (Dropout)            (None, 512)          0           dense_24[0][0]                   \n__________________________________________________________________________________________________\ndense_25 (Dense)                (None, 512)          262656      dropout_16[0][0]                 \n__________________________________________________________________________________________________\ndropout_17 (Dropout)            (None, 512)          0           dense_25[0][0]                   \n__________________________________________________________________________________________________\ndense_26 (Dense)                (None, 10)           5130        dropout_17[0][0]                 \n==================================================================================================\nTotal params: 5,383,690\nTrainable params: 5,383,690\nNon-trainable params: 0\n__________________________________________________________________________________________________\nModel: \"model_9\"\n__________________________________________________________________________________________________\nLayer (type)                    Output Shape         Param #     Connected to                     \n==================================================================================================\ninput_11 (InputLayer)           [(None, 28, 28, 1)]  0                                            \n__________________________________________________________________________________________________\nconv2d_117 (Conv2D)             (None, 28, 28, 128)  1280        input_11[0][0]                   \n__________________________________________________________________________________________________\nconv2d_118 (Conv2D)             (None, 28, 28, 128)  147584      conv2d_117[0][0]                 \n__________________________________________________________________________________________________\nconv2d_119 (Conv2D)             (None, 28, 28, 128)  147584      conv2d_118[0][0]                 \n__________________________________________________________________________________________________\nadd_45 (Add)                    (None, 28, 28, 128)  0           conv2d_117[0][0]                 \n                                                                 conv2d_119[0][0]                 \n__________________________________________________________________________________________________\nactivation_46 (Activation)      (None, 28, 28, 128)  0           add_45[0][0]                     \n__________________________________________________________________________________________________\nmax_pooling2d_27 (MaxPooling2D) (None, 14, 14, 128)  0           activation_46[0][0]              \n__________________________________________________________________________________________________\nconv2d_122 (Conv2D)             (None, 14, 14, 256)  33024       max_pooling2d_27[0][0]           \n__________________________________________________________________________________________________\nconv2d_123 (Conv2D)             (None, 14, 14, 256)  590080      conv2d_122[0][0]                 \n__________________________________________________________________________________________________\nconv2d_124 (Conv2D)             (None, 14, 14, 256)  590080      conv2d_123[0][0]                 \n__________________________________________________________________________________________________\nadd_47 (Add)                    (None, 14, 14, 256)  0           conv2d_122[0][0]                 \n                                                                 conv2d_124[0][0]                 \n__________________________________________________________________________________________________\nactivation_47 (Activation)      (None, 14, 14, 256)  0           add_47[0][0]                     \n__________________________________________________________________________________________________\nconv2d_125 (Conv2D)             (None, 14, 14, 256)  590080      activation_47[0][0]              \n__________________________________________________________________________________________________\nconv2d_126 (Conv2D)             (None, 14, 14, 256)  590080      conv2d_125[0][0]                 \n__________________________________________________________________________________________________\nadd_48 (Add)                    (None, 14, 14, 256)  0           activation_47[0][0]              \n                                                                 conv2d_126[0][0]                 \n__________________________________________________________________________________________________\nactivation_48 (Activation)      (None, 14, 14, 256)  0           add_48[0][0]                     \n__________________________________________________________________________________________________\nmax_pooling2d_28 (MaxPooling2D) (None, 7, 7, 256)    0           activation_48[0][0]              \n__________________________________________________________________________________________________\nconv2d_127 (Conv2D)             (None, 7, 7, 256)    65792       max_pooling2d_28[0][0]           \n__________________________________________________________________________________________________\nconv2d_128 (Conv2D)             (None, 7, 7, 256)    590080      conv2d_127[0][0]                 \n__________________________________________________________________________________________________\nconv2d_129 (Conv2D)             (None, 7, 7, 256)    590080      conv2d_128[0][0]                 \n__________________________________________________________________________________________________\nadd_49 (Add)                    (None, 7, 7, 256)    0           conv2d_127[0][0]                 \n                                                                 conv2d_129[0][0]                 \n__________________________________________________________________________________________________\nactivation_49 (Activation)      (None, 7, 7, 256)    0           add_49[0][0]                     \n__________________________________________________________________________________________________\nmax_pooling2d_29 (MaxPooling2D) (None, 3, 3, 256)    0           activation_49[0][0]              \n__________________________________________________________________________________________________\nflatten_9 (Flatten)             (None, 2304)         0           max_pooling2d_29[0][0]           \n__________________________________________________________________________________________________\ndense_27 (Dense)                (None, 512)          1180160     flatten_9[0][0]                  \n__________________________________________________________________________________________________\ndropout_18 (Dropout)            (None, 512)          0           dense_27[0][0]                   \n__________________________________________________________________________________________________\ndense_28 (Dense)                (None, 512)          262656      dropout_18[0][0]                 \n__________________________________________________________________________________________________\ndropout_19 (Dropout)            (None, 512)          0           dense_28[0][0]                   \n__________________________________________________________________________________________________\ndense_29 (Dense)                (None, 10)           5130        dropout_19[0][0]                 \n==================================================================================================\nTotal params: 5,383,690\nTrainable params: 5,383,690\nNon-trainable params: 0\n__________________________________________________________________________________________________\nModel: \"model_10\"\n__________________________________________________________________________________________________\nLayer (type)                    Output Shape         Param #     Connected to                     \n==================================================================================================\ninput_12 (InputLayer)           [(None, 28, 28, 1)]  0                                            \n__________________________________________________________________________________________________\nconv2d_130 (Conv2D)             (None, 28, 28, 128)  1280        input_12[0][0]                   \n__________________________________________________________________________________________________\nconv2d_131 (Conv2D)             (None, 28, 28, 128)  147584      conv2d_130[0][0]                 \n__________________________________________________________________________________________________\nconv2d_132 (Conv2D)             (None, 28, 28, 128)  147584      conv2d_131[0][0]                 \n__________________________________________________________________________________________________\nadd_50 (Add)                    (None, 28, 28, 128)  0           conv2d_130[0][0]                 \n                                                                 conv2d_132[0][0]                 \n__________________________________________________________________________________________________\nactivation_51 (Activation)      (None, 28, 28, 128)  0           add_50[0][0]                     \n__________________________________________________________________________________________________\nmax_pooling2d_30 (MaxPooling2D) (None, 14, 14, 128)  0           activation_51[0][0]              \n__________________________________________________________________________________________________\nconv2d_135 (Conv2D)             (None, 14, 14, 256)  33024       max_pooling2d_30[0][0]           \n__________________________________________________________________________________________________\nconv2d_136 (Conv2D)             (None, 14, 14, 256)  590080      conv2d_135[0][0]                 \n__________________________________________________________________________________________________\nconv2d_137 (Conv2D)             (None, 14, 14, 256)  590080      conv2d_136[0][0]                 \n__________________________________________________________________________________________________\nadd_52 (Add)                    (None, 14, 14, 256)  0           conv2d_135[0][0]                 \n                                                                 conv2d_137[0][0]                 \n__________________________________________________________________________________________________\nactivation_52 (Activation)      (None, 14, 14, 256)  0           add_52[0][0]                     \n__________________________________________________________________________________________________\nconv2d_138 (Conv2D)             (None, 14, 14, 256)  590080      activation_52[0][0]              \n__________________________________________________________________________________________________\nconv2d_139 (Conv2D)             (None, 14, 14, 256)  590080      conv2d_138[0][0]                 \n__________________________________________________________________________________________________\nadd_53 (Add)                    (None, 14, 14, 256)  0           activation_52[0][0]              \n                                                                 conv2d_139[0][0]                 \n__________________________________________________________________________________________________\nactivation_53 (Activation)      (None, 14, 14, 256)  0           add_53[0][0]                     \n__________________________________________________________________________________________________\nmax_pooling2d_31 (MaxPooling2D) (None, 7, 7, 256)    0           activation_53[0][0]              \n__________________________________________________________________________________________________\nconv2d_140 (Conv2D)             (None, 7, 7, 256)    65792       max_pooling2d_31[0][0]           \n__________________________________________________________________________________________________\nconv2d_141 (Conv2D)             (None, 7, 7, 256)    590080      conv2d_140[0][0]                 \n__________________________________________________________________________________________________\nconv2d_142 (Conv2D)             (None, 7, 7, 256)    590080      conv2d_141[0][0]                 \n__________________________________________________________________________________________________\nadd_54 (Add)                    (None, 7, 7, 256)    0           conv2d_140[0][0]                 \n                                                                 conv2d_142[0][0]                 \n__________________________________________________________________________________________________\nactivation_54 (Activation)      (None, 7, 7, 256)    0           add_54[0][0]                     \n__________________________________________________________________________________________________\nmax_pooling2d_32 (MaxPooling2D) (None, 3, 3, 256)    0           activation_54[0][0]              \n__________________________________________________________________________________________________\nflatten_10 (Flatten)            (None, 2304)         0           max_pooling2d_32[0][0]           \n__________________________________________________________________________________________________\ndense_30 (Dense)                (None, 512)          1180160     flatten_10[0][0]                 \n__________________________________________________________________________________________________\ndropout_20 (Dropout)            (None, 512)          0           dense_30[0][0]                   \n__________________________________________________________________________________________________\ndense_31 (Dense)                (None, 512)          262656      dropout_20[0][0]                 \n__________________________________________________________________________________________________\ndropout_21 (Dropout)            (None, 512)          0           dense_31[0][0]                   \n__________________________________________________________________________________________________\ndense_32 (Dense)                (None, 10)           5130        dropout_21[0][0]                 \n==================================================================================================\nTotal params: 5,383,690\nTrainable params: 5,383,690\nNon-trainable params: 0\n__________________________________________________________________________________________________\n"
    }
   ],
   "source": [
    "model_list = []\n",
    "\n",
    "for i in range(10):\n",
    "    model = create_cnn(learning_rate = 0.0001)\n",
    "    model_list.append(model)\n",
    "    model.summary()"
   ]
  },
  {
   "cell_type": "code",
   "execution_count": null,
   "metadata": {},
   "outputs": [],
   "source": []
  }
 ]
}