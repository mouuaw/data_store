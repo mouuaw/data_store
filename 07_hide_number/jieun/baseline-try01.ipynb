{
 "metadata": {
  "language_info": {
   "codemirror_mode": {
    "name": "ipython",
    "version": 3
   },
   "file_extension": ".py",
   "mimetype": "text/x-python",
   "name": "python",
   "nbconvert_exporter": "python",
   "pygments_lexer": "ipython3",
   "version": "3.7.6-final"
  },
  "orig_nbformat": 2,
  "kernelspec": {
   "name": "python_defaultSpec_1598708848685",
   "display_name": "Python 3.7.6 64-bit ('base': conda)"
  }
 },
 "nbformat": 4,
 "nbformat_minor": 2,
 "cells": [
  {
   "cell_type": "code",
   "execution_count": 1,
   "metadata": {},
   "outputs": [],
   "source": [
    "import pandas as pd\n",
    "import numpy as np\n",
    "import matplotlib.pyplot as plt\n",
    "import warnings\n",
    "warnings.filterwarnings(\"ignore\")\n",
    "import tensorflow as tf"
   ]
  },
  {
   "cell_type": "code",
   "execution_count": 2,
   "metadata": {},
   "outputs": [],
   "source": [
    "from IPython.core.interactiveshell import InteractiveShell\n",
    "InteractiveShell.ast_node_interactivity = \"all\""
   ]
  },
  {
   "cell_type": "code",
   "execution_count": 3,
   "metadata": {},
   "outputs": [],
   "source": [
    "train = pd.read_csv('C:/dataset/dacon5_mnist/train.csv')\n",
    "test = pd.read_csv('C:/dataset/dacon5_mnist/test.csv')"
   ]
  },
  {
   "cell_type": "code",
   "execution_count": 6,
   "metadata": {},
   "outputs": [
    {
     "output_type": "execute_result",
     "data": {
      "text/plain": "(2048, 787)"
     },
     "metadata": {},
     "execution_count": 6
    },
    {
     "output_type": "execute_result",
     "data": {
      "text/plain": "(20480, 786)"
     },
     "metadata": {},
     "execution_count": 6
    }
   ],
   "source": [
    "train.shape\n",
    "test.shape"
   ]
  },
  {
   "cell_type": "code",
   "execution_count": 7,
   "metadata": {},
   "outputs": [
    {
     "output_type": "execute_result",
     "data": {
      "text/plain": "   id  digit letter  0  1  2  3  4  5  6  ...  774  775  776  777  778  779  \\\n0   1      5      L  1  1  1  4  3  0  0  ...    2    1    0    1    2    4   \n1   2      0      B  0  4  0  0  4  1  1  ...    0    3    0    1    4    1   \n2   3      4      L  1  1  2  2  1  1  1  ...    3    3    3    0    2    0   \n3   4      9      D  1  2  0  2  0  4  0  ...    3    3    2    0    1    4   \n4   5      6      A  3  0  2  4  0  3  0  ...    4    4    3    2    1    3   \n\n   780  781  782  783  \n0    4    4    3    4  \n1    4    2    1    2  \n2    3    0    2    2  \n3    0    0    1    1  \n4    4    3    1    2  \n\n[5 rows x 787 columns]",
      "text/html": "<div>\n<style scoped>\n    .dataframe tbody tr th:only-of-type {\n        vertical-align: middle;\n    }\n\n    .dataframe tbody tr th {\n        vertical-align: top;\n    }\n\n    .dataframe thead th {\n        text-align: right;\n    }\n</style>\n<table border=\"1\" class=\"dataframe\">\n  <thead>\n    <tr style=\"text-align: right;\">\n      <th></th>\n      <th>id</th>\n      <th>digit</th>\n      <th>letter</th>\n      <th>0</th>\n      <th>1</th>\n      <th>2</th>\n      <th>3</th>\n      <th>4</th>\n      <th>5</th>\n      <th>6</th>\n      <th>...</th>\n      <th>774</th>\n      <th>775</th>\n      <th>776</th>\n      <th>777</th>\n      <th>778</th>\n      <th>779</th>\n      <th>780</th>\n      <th>781</th>\n      <th>782</th>\n      <th>783</th>\n    </tr>\n  </thead>\n  <tbody>\n    <tr>\n      <th>0</th>\n      <td>1</td>\n      <td>5</td>\n      <td>L</td>\n      <td>1</td>\n      <td>1</td>\n      <td>1</td>\n      <td>4</td>\n      <td>3</td>\n      <td>0</td>\n      <td>0</td>\n      <td>...</td>\n      <td>2</td>\n      <td>1</td>\n      <td>0</td>\n      <td>1</td>\n      <td>2</td>\n      <td>4</td>\n      <td>4</td>\n      <td>4</td>\n      <td>3</td>\n      <td>4</td>\n    </tr>\n    <tr>\n      <th>1</th>\n      <td>2</td>\n      <td>0</td>\n      <td>B</td>\n      <td>0</td>\n      <td>4</td>\n      <td>0</td>\n      <td>0</td>\n      <td>4</td>\n      <td>1</td>\n      <td>1</td>\n      <td>...</td>\n      <td>0</td>\n      <td>3</td>\n      <td>0</td>\n      <td>1</td>\n      <td>4</td>\n      <td>1</td>\n      <td>4</td>\n      <td>2</td>\n      <td>1</td>\n      <td>2</td>\n    </tr>\n    <tr>\n      <th>2</th>\n      <td>3</td>\n      <td>4</td>\n      <td>L</td>\n      <td>1</td>\n      <td>1</td>\n      <td>2</td>\n      <td>2</td>\n      <td>1</td>\n      <td>1</td>\n      <td>1</td>\n      <td>...</td>\n      <td>3</td>\n      <td>3</td>\n      <td>3</td>\n      <td>0</td>\n      <td>2</td>\n      <td>0</td>\n      <td>3</td>\n      <td>0</td>\n      <td>2</td>\n      <td>2</td>\n    </tr>\n    <tr>\n      <th>3</th>\n      <td>4</td>\n      <td>9</td>\n      <td>D</td>\n      <td>1</td>\n      <td>2</td>\n      <td>0</td>\n      <td>2</td>\n      <td>0</td>\n      <td>4</td>\n      <td>0</td>\n      <td>...</td>\n      <td>3</td>\n      <td>3</td>\n      <td>2</td>\n      <td>0</td>\n      <td>1</td>\n      <td>4</td>\n      <td>0</td>\n      <td>0</td>\n      <td>1</td>\n      <td>1</td>\n    </tr>\n    <tr>\n      <th>4</th>\n      <td>5</td>\n      <td>6</td>\n      <td>A</td>\n      <td>3</td>\n      <td>0</td>\n      <td>2</td>\n      <td>4</td>\n      <td>0</td>\n      <td>3</td>\n      <td>0</td>\n      <td>...</td>\n      <td>4</td>\n      <td>4</td>\n      <td>3</td>\n      <td>2</td>\n      <td>1</td>\n      <td>3</td>\n      <td>4</td>\n      <td>3</td>\n      <td>1</td>\n      <td>2</td>\n    </tr>\n  </tbody>\n</table>\n<p>5 rows × 787 columns</p>\n</div>"
     },
     "metadata": {},
     "execution_count": 7
    }
   ],
   "source": [
    "train.head()"
   ]
  },
  {
   "cell_type": "code",
   "execution_count": 71,
   "metadata": {},
   "outputs": [
    {
     "output_type": "execute_result",
     "data": {
      "text/plain": "     id letter  0  1  2  3  4  5  6  7  ...  774  775  776  777  778  779  \\\n0  2049      L  0  4  0  2  4  2  3  1  ...    2    0    4    2    2    4   \n1  2050      C  4  1  4  0  1  1  0  2  ...    0    3    2    4    2    4   \n2  2051      S  0  4  0  1  3  2  3  0  ...    1    3    2    0    3    2   \n3  2052      K  2  1  3  3  3  4  3  0  ...    3    0    3    2    4    1   \n4  2053      W  1  0  1  1  2  2  1  4  ...    4    3    1    4    0    2   \n\n   780  781  782  783  \n0    3    4    1    4  \n1    2    2    1    2  \n2    3    0    1    4  \n3    0    4    4    4  \n4    1    2    3    4  \n\n[5 rows x 786 columns]",
      "text/html": "<div>\n<style scoped>\n    .dataframe tbody tr th:only-of-type {\n        vertical-align: middle;\n    }\n\n    .dataframe tbody tr th {\n        vertical-align: top;\n    }\n\n    .dataframe thead th {\n        text-align: right;\n    }\n</style>\n<table border=\"1\" class=\"dataframe\">\n  <thead>\n    <tr style=\"text-align: right;\">\n      <th></th>\n      <th>id</th>\n      <th>letter</th>\n      <th>0</th>\n      <th>1</th>\n      <th>2</th>\n      <th>3</th>\n      <th>4</th>\n      <th>5</th>\n      <th>6</th>\n      <th>7</th>\n      <th>...</th>\n      <th>774</th>\n      <th>775</th>\n      <th>776</th>\n      <th>777</th>\n      <th>778</th>\n      <th>779</th>\n      <th>780</th>\n      <th>781</th>\n      <th>782</th>\n      <th>783</th>\n    </tr>\n  </thead>\n  <tbody>\n    <tr>\n      <th>0</th>\n      <td>2049</td>\n      <td>L</td>\n      <td>0</td>\n      <td>4</td>\n      <td>0</td>\n      <td>2</td>\n      <td>4</td>\n      <td>2</td>\n      <td>3</td>\n      <td>1</td>\n      <td>...</td>\n      <td>2</td>\n      <td>0</td>\n      <td>4</td>\n      <td>2</td>\n      <td>2</td>\n      <td>4</td>\n      <td>3</td>\n      <td>4</td>\n      <td>1</td>\n      <td>4</td>\n    </tr>\n    <tr>\n      <th>1</th>\n      <td>2050</td>\n      <td>C</td>\n      <td>4</td>\n      <td>1</td>\n      <td>4</td>\n      <td>0</td>\n      <td>1</td>\n      <td>1</td>\n      <td>0</td>\n      <td>2</td>\n      <td>...</td>\n      <td>0</td>\n      <td>3</td>\n      <td>2</td>\n      <td>4</td>\n      <td>2</td>\n      <td>4</td>\n      <td>2</td>\n      <td>2</td>\n      <td>1</td>\n      <td>2</td>\n    </tr>\n    <tr>\n      <th>2</th>\n      <td>2051</td>\n      <td>S</td>\n      <td>0</td>\n      <td>4</td>\n      <td>0</td>\n      <td>1</td>\n      <td>3</td>\n      <td>2</td>\n      <td>3</td>\n      <td>0</td>\n      <td>...</td>\n      <td>1</td>\n      <td>3</td>\n      <td>2</td>\n      <td>0</td>\n      <td>3</td>\n      <td>2</td>\n      <td>3</td>\n      <td>0</td>\n      <td>1</td>\n      <td>4</td>\n    </tr>\n    <tr>\n      <th>3</th>\n      <td>2052</td>\n      <td>K</td>\n      <td>2</td>\n      <td>1</td>\n      <td>3</td>\n      <td>3</td>\n      <td>3</td>\n      <td>4</td>\n      <td>3</td>\n      <td>0</td>\n      <td>...</td>\n      <td>3</td>\n      <td>0</td>\n      <td>3</td>\n      <td>2</td>\n      <td>4</td>\n      <td>1</td>\n      <td>0</td>\n      <td>4</td>\n      <td>4</td>\n      <td>4</td>\n    </tr>\n    <tr>\n      <th>4</th>\n      <td>2053</td>\n      <td>W</td>\n      <td>1</td>\n      <td>0</td>\n      <td>1</td>\n      <td>1</td>\n      <td>2</td>\n      <td>2</td>\n      <td>1</td>\n      <td>4</td>\n      <td>...</td>\n      <td>4</td>\n      <td>3</td>\n      <td>1</td>\n      <td>4</td>\n      <td>0</td>\n      <td>2</td>\n      <td>1</td>\n      <td>2</td>\n      <td>3</td>\n      <td>4</td>\n    </tr>\n  </tbody>\n</table>\n<p>5 rows × 786 columns</p>\n</div>"
     },
     "metadata": {},
     "execution_count": 71
    }
   ],
   "source": [
    "test.head()"
   ]
  },
  {
   "cell_type": "markdown",
   "metadata": {},
   "source": [
    "## EDA"
   ]
  },
  {
   "cell_type": "code",
   "execution_count": 13,
   "metadata": {},
   "outputs": [
    {
     "output_type": "execute_result",
     "data": {
      "text/plain": "Text(0.5, 1.0, 'Index: 5, Digit: 8, Letter: C')"
     },
     "metadata": {},
     "execution_count": 13
    },
    {
     "output_type": "execute_result",
     "data": {
      "text/plain": "<matplotlib.image.AxesImage at 0x1f5bb260188>"
     },
     "metadata": {},
     "execution_count": 13
    },
    {
     "output_type": "display_data",
     "data": {
      "text/plain": "<Figure size 432x288 with 1 Axes>",
      "image/svg+xml": "<?xml version=\"1.0\" encoding=\"utf-8\" standalone=\"no\"?>\r\n<!DOCTYPE svg PUBLIC \"-//W3C//DTD SVG 1.1//EN\"\r\n  \"http://www.w3.org/Graphics/SVG/1.1/DTD/svg11.dtd\">\r\n<!-- Created with matplotlib (https://matplotlib.org/) -->\r\n<svg height=\"263.63625pt\" version=\"1.1\" viewBox=\"0 0 251.565 263.63625\" width=\"251.565pt\" xmlns=\"http://www.w3.org/2000/svg\" xmlns:xlink=\"http://www.w3.org/1999/xlink\">\r\n <defs>\r\n  <style type=\"text/css\">\r\n*{stroke-linecap:butt;stroke-linejoin:round;}\r\n  </style>\r\n </defs>\r\n <g id=\"figure_1\">\r\n  <g id=\"patch_1\">\r\n   <path d=\"M 0 263.63625 \r\nL 251.565 263.63625 \r\nL 251.565 0 \r\nL 0 0 \r\nz\r\n\" style=\"fill:none;\"/>\r\n  </g>\r\n  <g id=\"axes_1\">\r\n   <g id=\"patch_2\">\r\n    <path d=\"M 26.925 239.758125 \r\nL 244.365 239.758125 \r\nL 244.365 22.318125 \r\nL 26.925 22.318125 \r\nz\r\n\" style=\"fill:#ffffff;\"/>\r\n   </g>\r\n   <g clip-path=\"url(#p3da45a96ed)\">\r\n    <image height=\"218\" id=\"imaged71c12995e\" transform=\"scale(1 -1)translate(0 -218)\" width=\"218\" x=\"26.925\" xlink:href=\"data:image/png;base64,\r\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\" y=\"-21.758125\"/>\r\n   </g>\r\n   <g id=\"matplotlib.axis_1\">\r\n    <g id=\"xtick_1\">\r\n     <g id=\"line2d_1\">\r\n      <defs>\r\n       <path d=\"M 0 0 \r\nL 0 3.5 \r\n\" id=\"mf439693f38\" style=\"stroke:#000000;stroke-width:0.8;\"/>\r\n      </defs>\r\n      <g>\r\n       <use style=\"stroke:#000000;stroke-width:0.8;\" x=\"30.807857\" xlink:href=\"#mf439693f38\" y=\"239.758125\"/>\r\n      </g>\r\n     </g>\r\n     <g id=\"text_1\">\r\n      <!-- 0 -->\r\n      <defs>\r\n       <path d=\"M 31.78125 66.40625 \r\nQ 24.171875 66.40625 20.328125 58.90625 \r\nQ 16.5 51.421875 16.5 36.375 \r\nQ 16.5 21.390625 20.328125 13.890625 \r\nQ 24.171875 6.390625 31.78125 6.390625 \r\nQ 39.453125 6.390625 43.28125 13.890625 \r\nQ 47.125 21.390625 47.125 36.375 \r\nQ 47.125 51.421875 43.28125 58.90625 \r\nQ 39.453125 66.40625 31.78125 66.40625 \r\nz\r\nM 31.78125 74.21875 \r\nQ 44.046875 74.21875 50.515625 64.515625 \r\nQ 56.984375 54.828125 56.984375 36.375 \r\nQ 56.984375 17.96875 50.515625 8.265625 \r\nQ 44.046875 -1.421875 31.78125 -1.421875 \r\nQ 19.53125 -1.421875 13.0625 8.265625 \r\nQ 6.59375 17.96875 6.59375 36.375 \r\nQ 6.59375 54.828125 13.0625 64.515625 \r\nQ 19.53125 74.21875 31.78125 74.21875 \r\nz\r\n\" id=\"DejaVuSans-48\"/>\r\n      </defs>\r\n      <g transform=\"translate(27.626607 254.356563)scale(0.1 -0.1)\">\r\n       <use xlink:href=\"#DejaVuSans-48\"/>\r\n      </g>\r\n     </g>\r\n    </g>\r\n    <g id=\"xtick_2\">\r\n     <g id=\"line2d_2\">\r\n      <g>\r\n       <use style=\"stroke:#000000;stroke-width:0.8;\" x=\"69.636429\" xlink:href=\"#mf439693f38\" y=\"239.758125\"/>\r\n      </g>\r\n     </g>\r\n     <g id=\"text_2\">\r\n      <!-- 5 -->\r\n      <defs>\r\n       <path d=\"M 10.796875 72.90625 \r\nL 49.515625 72.90625 \r\nL 49.515625 64.59375 \r\nL 19.828125 64.59375 \r\nL 19.828125 46.734375 \r\nQ 21.96875 47.46875 24.109375 47.828125 \r\nQ 26.265625 48.1875 28.421875 48.1875 \r\nQ 40.625 48.1875 47.75 41.5 \r\nQ 54.890625 34.8125 54.890625 23.390625 \r\nQ 54.890625 11.625 47.5625 5.09375 \r\nQ 40.234375 -1.421875 26.90625 -1.421875 \r\nQ 22.3125 -1.421875 17.546875 -0.640625 \r\nQ 12.796875 0.140625 7.71875 1.703125 \r\nL 7.71875 11.625 \r\nQ 12.109375 9.234375 16.796875 8.0625 \r\nQ 21.484375 6.890625 26.703125 6.890625 \r\nQ 35.15625 6.890625 40.078125 11.328125 \r\nQ 45.015625 15.765625 45.015625 23.390625 \r\nQ 45.015625 31 40.078125 35.4375 \r\nQ 35.15625 39.890625 26.703125 39.890625 \r\nQ 22.75 39.890625 18.8125 39.015625 \r\nQ 14.890625 38.140625 10.796875 36.28125 \r\nz\r\n\" id=\"DejaVuSans-53\"/>\r\n      </defs>\r\n      <g transform=\"translate(66.455179 254.356563)scale(0.1 -0.1)\">\r\n       <use xlink:href=\"#DejaVuSans-53\"/>\r\n      </g>\r\n     </g>\r\n    </g>\r\n    <g id=\"xtick_3\">\r\n     <g id=\"line2d_3\">\r\n      <g>\r\n       <use style=\"stroke:#000000;stroke-width:0.8;\" x=\"108.465\" xlink:href=\"#mf439693f38\" y=\"239.758125\"/>\r\n      </g>\r\n     </g>\r\n     <g id=\"text_3\">\r\n      <!-- 10 -->\r\n      <defs>\r\n       <path d=\"M 12.40625 8.296875 \r\nL 28.515625 8.296875 \r\nL 28.515625 63.921875 \r\nL 10.984375 60.40625 \r\nL 10.984375 69.390625 \r\nL 28.421875 72.90625 \r\nL 38.28125 72.90625 \r\nL 38.28125 8.296875 \r\nL 54.390625 8.296875 \r\nL 54.390625 0 \r\nL 12.40625 0 \r\nz\r\n\" id=\"DejaVuSans-49\"/>\r\n      </defs>\r\n      <g transform=\"translate(102.1025 254.356563)scale(0.1 -0.1)\">\r\n       <use xlink:href=\"#DejaVuSans-49\"/>\r\n       <use x=\"63.623047\" xlink:href=\"#DejaVuSans-48\"/>\r\n      </g>\r\n     </g>\r\n    </g>\r\n    <g id=\"xtick_4\">\r\n     <g id=\"line2d_4\">\r\n      <g>\r\n       <use style=\"stroke:#000000;stroke-width:0.8;\" x=\"147.293571\" xlink:href=\"#mf439693f38\" y=\"239.758125\"/>\r\n      </g>\r\n     </g>\r\n     <g id=\"text_4\">\r\n      <!-- 15 -->\r\n      <g transform=\"translate(140.931071 254.356563)scale(0.1 -0.1)\">\r\n       <use xlink:href=\"#DejaVuSans-49\"/>\r\n       <use x=\"63.623047\" xlink:href=\"#DejaVuSans-53\"/>\r\n      </g>\r\n     </g>\r\n    </g>\r\n    <g id=\"xtick_5\">\r\n     <g id=\"line2d_5\">\r\n      <g>\r\n       <use style=\"stroke:#000000;stroke-width:0.8;\" x=\"186.122143\" xlink:href=\"#mf439693f38\" y=\"239.758125\"/>\r\n      </g>\r\n     </g>\r\n     <g id=\"text_5\">\r\n      <!-- 20 -->\r\n      <defs>\r\n       <path d=\"M 19.1875 8.296875 \r\nL 53.609375 8.296875 \r\nL 53.609375 0 \r\nL 7.328125 0 \r\nL 7.328125 8.296875 \r\nQ 12.9375 14.109375 22.625 23.890625 \r\nQ 32.328125 33.6875 34.8125 36.53125 \r\nQ 39.546875 41.84375 41.421875 45.53125 \r\nQ 43.3125 49.21875 43.3125 52.78125 \r\nQ 43.3125 58.59375 39.234375 62.25 \r\nQ 35.15625 65.921875 28.609375 65.921875 \r\nQ 23.96875 65.921875 18.8125 64.3125 \r\nQ 13.671875 62.703125 7.8125 59.421875 \r\nL 7.8125 69.390625 \r\nQ 13.765625 71.78125 18.9375 73 \r\nQ 24.125 74.21875 28.421875 74.21875 \r\nQ 39.75 74.21875 46.484375 68.546875 \r\nQ 53.21875 62.890625 53.21875 53.421875 \r\nQ 53.21875 48.921875 51.53125 44.890625 \r\nQ 49.859375 40.875 45.40625 35.40625 \r\nQ 44.1875 33.984375 37.640625 27.21875 \r\nQ 31.109375 20.453125 19.1875 8.296875 \r\nz\r\n\" id=\"DejaVuSans-50\"/>\r\n      </defs>\r\n      <g transform=\"translate(179.759643 254.356563)scale(0.1 -0.1)\">\r\n       <use xlink:href=\"#DejaVuSans-50\"/>\r\n       <use x=\"63.623047\" xlink:href=\"#DejaVuSans-48\"/>\r\n      </g>\r\n     </g>\r\n    </g>\r\n    <g id=\"xtick_6\">\r\n     <g id=\"line2d_6\">\r\n      <g>\r\n       <use style=\"stroke:#000000;stroke-width:0.8;\" x=\"224.950714\" xlink:href=\"#mf439693f38\" y=\"239.758125\"/>\r\n      </g>\r\n     </g>\r\n     <g id=\"text_6\">\r\n      <!-- 25 -->\r\n      <g transform=\"translate(218.588214 254.356563)scale(0.1 -0.1)\">\r\n       <use xlink:href=\"#DejaVuSans-50\"/>\r\n       <use x=\"63.623047\" xlink:href=\"#DejaVuSans-53\"/>\r\n      </g>\r\n     </g>\r\n    </g>\r\n   </g>\r\n   <g id=\"matplotlib.axis_2\">\r\n    <g id=\"ytick_1\">\r\n     <g id=\"line2d_7\">\r\n      <defs>\r\n       <path d=\"M 0 0 \r\nL -3.5 0 \r\n\" id=\"m247412ea63\" style=\"stroke:#000000;stroke-width:0.8;\"/>\r\n      </defs>\r\n      <g>\r\n       <use style=\"stroke:#000000;stroke-width:0.8;\" x=\"26.925\" xlink:href=\"#m247412ea63\" y=\"26.200982\"/>\r\n      </g>\r\n     </g>\r\n     <g id=\"text_7\">\r\n      <!-- 0 -->\r\n      <g transform=\"translate(13.5625 30.000201)scale(0.1 -0.1)\">\r\n       <use xlink:href=\"#DejaVuSans-48\"/>\r\n      </g>\r\n     </g>\r\n    </g>\r\n    <g id=\"ytick_2\">\r\n     <g id=\"line2d_8\">\r\n      <g>\r\n       <use style=\"stroke:#000000;stroke-width:0.8;\" x=\"26.925\" xlink:href=\"#m247412ea63\" y=\"65.029554\"/>\r\n      </g>\r\n     </g>\r\n     <g id=\"text_8\">\r\n      <!-- 5 -->\r\n      <g transform=\"translate(13.5625 68.828772)scale(0.1 -0.1)\">\r\n       <use xlink:href=\"#DejaVuSans-53\"/>\r\n      </g>\r\n     </g>\r\n    </g>\r\n    <g id=\"ytick_3\">\r\n     <g id=\"line2d_9\">\r\n      <g>\r\n       <use style=\"stroke:#000000;stroke-width:0.8;\" x=\"26.925\" xlink:href=\"#m247412ea63\" y=\"103.858125\"/>\r\n      </g>\r\n     </g>\r\n     <g id=\"text_9\">\r\n      <!-- 10 -->\r\n      <g transform=\"translate(7.2 107.657344)scale(0.1 -0.1)\">\r\n       <use xlink:href=\"#DejaVuSans-49\"/>\r\n       <use x=\"63.623047\" xlink:href=\"#DejaVuSans-48\"/>\r\n      </g>\r\n     </g>\r\n    </g>\r\n    <g id=\"ytick_4\">\r\n     <g id=\"line2d_10\">\r\n      <g>\r\n       <use style=\"stroke:#000000;stroke-width:0.8;\" x=\"26.925\" xlink:href=\"#m247412ea63\" y=\"142.686696\"/>\r\n      </g>\r\n     </g>\r\n     <g id=\"text_10\">\r\n      <!-- 15 -->\r\n      <g transform=\"translate(7.2 146.485915)scale(0.1 -0.1)\">\r\n       <use xlink:href=\"#DejaVuSans-49\"/>\r\n       <use x=\"63.623047\" xlink:href=\"#DejaVuSans-53\"/>\r\n      </g>\r\n     </g>\r\n    </g>\r\n    <g id=\"ytick_5\">\r\n     <g id=\"line2d_11\">\r\n      <g>\r\n       <use style=\"stroke:#000000;stroke-width:0.8;\" x=\"26.925\" xlink:href=\"#m247412ea63\" y=\"181.515268\"/>\r\n      </g>\r\n     </g>\r\n     <g id=\"text_11\">\r\n      <!-- 20 -->\r\n      <g transform=\"translate(7.2 185.314487)scale(0.1 -0.1)\">\r\n       <use xlink:href=\"#DejaVuSans-50\"/>\r\n       <use x=\"63.623047\" xlink:href=\"#DejaVuSans-48\"/>\r\n      </g>\r\n     </g>\r\n    </g>\r\n    <g id=\"ytick_6\">\r\n     <g id=\"line2d_12\">\r\n      <g>\r\n       <use style=\"stroke:#000000;stroke-width:0.8;\" x=\"26.925\" xlink:href=\"#m247412ea63\" y=\"220.343839\"/>\r\n      </g>\r\n     </g>\r\n     <g id=\"text_12\">\r\n      <!-- 25 -->\r\n      <g transform=\"translate(7.2 224.143058)scale(0.1 -0.1)\">\r\n       <use xlink:href=\"#DejaVuSans-50\"/>\r\n       <use x=\"63.623047\" xlink:href=\"#DejaVuSans-53\"/>\r\n      </g>\r\n     </g>\r\n    </g>\r\n   </g>\r\n   <g id=\"patch_3\">\r\n    <path d=\"M 26.925 239.758125 \r\nL 26.925 22.318125 \r\n\" style=\"fill:none;stroke:#000000;stroke-linecap:square;stroke-linejoin:miter;stroke-width:0.8;\"/>\r\n   </g>\r\n   <g id=\"patch_4\">\r\n    <path d=\"M 244.365 239.758125 \r\nL 244.365 22.318125 \r\n\" style=\"fill:none;stroke:#000000;stroke-linecap:square;stroke-linejoin:miter;stroke-width:0.8;\"/>\r\n   </g>\r\n   <g id=\"patch_5\">\r\n    <path d=\"M 26.925 239.758125 \r\nL 244.365 239.758125 \r\n\" style=\"fill:none;stroke:#000000;stroke-linecap:square;stroke-linejoin:miter;stroke-width:0.8;\"/>\r\n   </g>\r\n   <g id=\"patch_6\">\r\n    <path d=\"M 26.925 22.318125 \r\nL 244.365 22.318125 \r\n\" style=\"fill:none;stroke:#000000;stroke-linecap:square;stroke-linejoin:miter;stroke-width:0.8;\"/>\r\n   </g>\r\n   <g id=\"text_13\">\r\n    <!-- Index: 5, Digit: 8, Letter: C -->\r\n    <defs>\r\n     <path d=\"M 9.8125 72.90625 \r\nL 19.671875 72.90625 \r\nL 19.671875 0 \r\nL 9.8125 0 \r\nz\r\n\" id=\"DejaVuSans-73\"/>\r\n     <path d=\"M 54.890625 33.015625 \r\nL 54.890625 0 \r\nL 45.90625 0 \r\nL 45.90625 32.71875 \r\nQ 45.90625 40.484375 42.875 44.328125 \r\nQ 39.84375 48.1875 33.796875 48.1875 \r\nQ 26.515625 48.1875 22.3125 43.546875 \r\nQ 18.109375 38.921875 18.109375 30.90625 \r\nL 18.109375 0 \r\nL 9.078125 0 \r\nL 9.078125 54.6875 \r\nL 18.109375 54.6875 \r\nL 18.109375 46.1875 \r\nQ 21.34375 51.125 25.703125 53.5625 \r\nQ 30.078125 56 35.796875 56 \r\nQ 45.21875 56 50.046875 50.171875 \r\nQ 54.890625 44.34375 54.890625 33.015625 \r\nz\r\n\" id=\"DejaVuSans-110\"/>\r\n     <path d=\"M 45.40625 46.390625 \r\nL 45.40625 75.984375 \r\nL 54.390625 75.984375 \r\nL 54.390625 0 \r\nL 45.40625 0 \r\nL 45.40625 8.203125 \r\nQ 42.578125 3.328125 38.25 0.953125 \r\nQ 33.9375 -1.421875 27.875 -1.421875 \r\nQ 17.96875 -1.421875 11.734375 6.484375 \r\nQ 5.515625 14.40625 5.515625 27.296875 \r\nQ 5.515625 40.1875 11.734375 48.09375 \r\nQ 17.96875 56 27.875 56 \r\nQ 33.9375 56 38.25 53.625 \r\nQ 42.578125 51.265625 45.40625 46.390625 \r\nz\r\nM 14.796875 27.296875 \r\nQ 14.796875 17.390625 18.875 11.75 \r\nQ 22.953125 6.109375 30.078125 6.109375 \r\nQ 37.203125 6.109375 41.296875 11.75 \r\nQ 45.40625 17.390625 45.40625 27.296875 \r\nQ 45.40625 37.203125 41.296875 42.84375 \r\nQ 37.203125 48.484375 30.078125 48.484375 \r\nQ 22.953125 48.484375 18.875 42.84375 \r\nQ 14.796875 37.203125 14.796875 27.296875 \r\nz\r\n\" id=\"DejaVuSans-100\"/>\r\n     <path d=\"M 56.203125 29.59375 \r\nL 56.203125 25.203125 \r\nL 14.890625 25.203125 \r\nQ 15.484375 15.921875 20.484375 11.0625 \r\nQ 25.484375 6.203125 34.421875 6.203125 \r\nQ 39.59375 6.203125 44.453125 7.46875 \r\nQ 49.3125 8.734375 54.109375 11.28125 \r\nL 54.109375 2.78125 \r\nQ 49.265625 0.734375 44.1875 -0.34375 \r\nQ 39.109375 -1.421875 33.890625 -1.421875 \r\nQ 20.796875 -1.421875 13.15625 6.1875 \r\nQ 5.515625 13.8125 5.515625 26.8125 \r\nQ 5.515625 40.234375 12.765625 48.109375 \r\nQ 20.015625 56 32.328125 56 \r\nQ 43.359375 56 49.78125 48.890625 \r\nQ 56.203125 41.796875 56.203125 29.59375 \r\nz\r\nM 47.21875 32.234375 \r\nQ 47.125 39.59375 43.09375 43.984375 \r\nQ 39.0625 48.390625 32.421875 48.390625 \r\nQ 24.90625 48.390625 20.390625 44.140625 \r\nQ 15.875 39.890625 15.1875 32.171875 \r\nz\r\n\" id=\"DejaVuSans-101\"/>\r\n     <path d=\"M 54.890625 54.6875 \r\nL 35.109375 28.078125 \r\nL 55.90625 0 \r\nL 45.3125 0 \r\nL 29.390625 21.484375 \r\nL 13.484375 0 \r\nL 2.875 0 \r\nL 24.125 28.609375 \r\nL 4.6875 54.6875 \r\nL 15.28125 54.6875 \r\nL 29.78125 35.203125 \r\nL 44.28125 54.6875 \r\nz\r\n\" id=\"DejaVuSans-120\"/>\r\n     <path d=\"M 11.71875 12.40625 \r\nL 22.015625 12.40625 \r\nL 22.015625 0 \r\nL 11.71875 0 \r\nz\r\nM 11.71875 51.703125 \r\nL 22.015625 51.703125 \r\nL 22.015625 39.3125 \r\nL 11.71875 39.3125 \r\nz\r\n\" id=\"DejaVuSans-58\"/>\r\n     <path id=\"DejaVuSans-32\"/>\r\n     <path d=\"M 11.71875 12.40625 \r\nL 22.015625 12.40625 \r\nL 22.015625 4 \r\nL 14.015625 -11.625 \r\nL 7.71875 -11.625 \r\nL 11.71875 4 \r\nz\r\n\" id=\"DejaVuSans-44\"/>\r\n     <path d=\"M 19.671875 64.796875 \r\nL 19.671875 8.109375 \r\nL 31.59375 8.109375 \r\nQ 46.6875 8.109375 53.6875 14.9375 \r\nQ 60.6875 21.78125 60.6875 36.53125 \r\nQ 60.6875 51.171875 53.6875 57.984375 \r\nQ 46.6875 64.796875 31.59375 64.796875 \r\nz\r\nM 9.8125 72.90625 \r\nL 30.078125 72.90625 \r\nQ 51.265625 72.90625 61.171875 64.09375 \r\nQ 71.09375 55.28125 71.09375 36.53125 \r\nQ 71.09375 17.671875 61.125 8.828125 \r\nQ 51.171875 0 30.078125 0 \r\nL 9.8125 0 \r\nz\r\n\" id=\"DejaVuSans-68\"/>\r\n     <path d=\"M 9.421875 54.6875 \r\nL 18.40625 54.6875 \r\nL 18.40625 0 \r\nL 9.421875 0 \r\nz\r\nM 9.421875 75.984375 \r\nL 18.40625 75.984375 \r\nL 18.40625 64.59375 \r\nL 9.421875 64.59375 \r\nz\r\n\" id=\"DejaVuSans-105\"/>\r\n     <path d=\"M 45.40625 27.984375 \r\nQ 45.40625 37.75 41.375 43.109375 \r\nQ 37.359375 48.484375 30.078125 48.484375 \r\nQ 22.859375 48.484375 18.828125 43.109375 \r\nQ 14.796875 37.75 14.796875 27.984375 \r\nQ 14.796875 18.265625 18.828125 12.890625 \r\nQ 22.859375 7.515625 30.078125 7.515625 \r\nQ 37.359375 7.515625 41.375 12.890625 \r\nQ 45.40625 18.265625 45.40625 27.984375 \r\nz\r\nM 54.390625 6.78125 \r\nQ 54.390625 -7.171875 48.1875 -13.984375 \r\nQ 42 -20.796875 29.203125 -20.796875 \r\nQ 24.46875 -20.796875 20.265625 -20.09375 \r\nQ 16.0625 -19.390625 12.109375 -17.921875 \r\nL 12.109375 -9.1875 \r\nQ 16.0625 -11.328125 19.921875 -12.34375 \r\nQ 23.78125 -13.375 27.78125 -13.375 \r\nQ 36.625 -13.375 41.015625 -8.765625 \r\nQ 45.40625 -4.15625 45.40625 5.171875 \r\nL 45.40625 9.625 \r\nQ 42.625 4.78125 38.28125 2.390625 \r\nQ 33.9375 0 27.875 0 \r\nQ 17.828125 0 11.671875 7.65625 \r\nQ 5.515625 15.328125 5.515625 27.984375 \r\nQ 5.515625 40.671875 11.671875 48.328125 \r\nQ 17.828125 56 27.875 56 \r\nQ 33.9375 56 38.28125 53.609375 \r\nQ 42.625 51.21875 45.40625 46.390625 \r\nL 45.40625 54.6875 \r\nL 54.390625 54.6875 \r\nz\r\n\" id=\"DejaVuSans-103\"/>\r\n     <path d=\"M 18.3125 70.21875 \r\nL 18.3125 54.6875 \r\nL 36.8125 54.6875 \r\nL 36.8125 47.703125 \r\nL 18.3125 47.703125 \r\nL 18.3125 18.015625 \r\nQ 18.3125 11.328125 20.140625 9.421875 \r\nQ 21.96875 7.515625 27.59375 7.515625 \r\nL 36.8125 7.515625 \r\nL 36.8125 0 \r\nL 27.59375 0 \r\nQ 17.1875 0 13.234375 3.875 \r\nQ 9.28125 7.765625 9.28125 18.015625 \r\nL 9.28125 47.703125 \r\nL 2.6875 47.703125 \r\nL 2.6875 54.6875 \r\nL 9.28125 54.6875 \r\nL 9.28125 70.21875 \r\nz\r\n\" id=\"DejaVuSans-116\"/>\r\n     <path d=\"M 31.78125 34.625 \r\nQ 24.75 34.625 20.71875 30.859375 \r\nQ 16.703125 27.09375 16.703125 20.515625 \r\nQ 16.703125 13.921875 20.71875 10.15625 \r\nQ 24.75 6.390625 31.78125 6.390625 \r\nQ 38.8125 6.390625 42.859375 10.171875 \r\nQ 46.921875 13.96875 46.921875 20.515625 \r\nQ 46.921875 27.09375 42.890625 30.859375 \r\nQ 38.875 34.625 31.78125 34.625 \r\nz\r\nM 21.921875 38.8125 \r\nQ 15.578125 40.375 12.03125 44.71875 \r\nQ 8.5 49.078125 8.5 55.328125 \r\nQ 8.5 64.0625 14.71875 69.140625 \r\nQ 20.953125 74.21875 31.78125 74.21875 \r\nQ 42.671875 74.21875 48.875 69.140625 \r\nQ 55.078125 64.0625 55.078125 55.328125 \r\nQ 55.078125 49.078125 51.53125 44.71875 \r\nQ 48 40.375 41.703125 38.8125 \r\nQ 48.828125 37.15625 52.796875 32.3125 \r\nQ 56.78125 27.484375 56.78125 20.515625 \r\nQ 56.78125 9.90625 50.3125 4.234375 \r\nQ 43.84375 -1.421875 31.78125 -1.421875 \r\nQ 19.734375 -1.421875 13.25 4.234375 \r\nQ 6.78125 9.90625 6.78125 20.515625 \r\nQ 6.78125 27.484375 10.78125 32.3125 \r\nQ 14.796875 37.15625 21.921875 38.8125 \r\nz\r\nM 18.3125 54.390625 \r\nQ 18.3125 48.734375 21.84375 45.5625 \r\nQ 25.390625 42.390625 31.78125 42.390625 \r\nQ 38.140625 42.390625 41.71875 45.5625 \r\nQ 45.3125 48.734375 45.3125 54.390625 \r\nQ 45.3125 60.0625 41.71875 63.234375 \r\nQ 38.140625 66.40625 31.78125 66.40625 \r\nQ 25.390625 66.40625 21.84375 63.234375 \r\nQ 18.3125 60.0625 18.3125 54.390625 \r\nz\r\n\" id=\"DejaVuSans-56\"/>\r\n     <path d=\"M 9.8125 72.90625 \r\nL 19.671875 72.90625 \r\nL 19.671875 8.296875 \r\nL 55.171875 8.296875 \r\nL 55.171875 0 \r\nL 9.8125 0 \r\nz\r\n\" id=\"DejaVuSans-76\"/>\r\n     <path d=\"M 41.109375 46.296875 \r\nQ 39.59375 47.171875 37.8125 47.578125 \r\nQ 36.03125 48 33.890625 48 \r\nQ 26.265625 48 22.1875 43.046875 \r\nQ 18.109375 38.09375 18.109375 28.8125 \r\nL 18.109375 0 \r\nL 9.078125 0 \r\nL 9.078125 54.6875 \r\nL 18.109375 54.6875 \r\nL 18.109375 46.1875 \r\nQ 20.953125 51.171875 25.484375 53.578125 \r\nQ 30.03125 56 36.53125 56 \r\nQ 37.453125 56 38.578125 55.875 \r\nQ 39.703125 55.765625 41.0625 55.515625 \r\nz\r\n\" id=\"DejaVuSans-114\"/>\r\n     <path d=\"M 64.40625 67.28125 \r\nL 64.40625 56.890625 \r\nQ 59.421875 61.53125 53.78125 63.8125 \r\nQ 48.140625 66.109375 41.796875 66.109375 \r\nQ 29.296875 66.109375 22.65625 58.46875 \r\nQ 16.015625 50.828125 16.015625 36.375 \r\nQ 16.015625 21.96875 22.65625 14.328125 \r\nQ 29.296875 6.6875 41.796875 6.6875 \r\nQ 48.140625 6.6875 53.78125 8.984375 \r\nQ 59.421875 11.28125 64.40625 15.921875 \r\nL 64.40625 5.609375 \r\nQ 59.234375 2.09375 53.4375 0.328125 \r\nQ 47.65625 -1.421875 41.21875 -1.421875 \r\nQ 24.65625 -1.421875 15.125 8.703125 \r\nQ 5.609375 18.84375 5.609375 36.375 \r\nQ 5.609375 53.953125 15.125 64.078125 \r\nQ 24.65625 74.21875 41.21875 74.21875 \r\nQ 47.75 74.21875 53.53125 72.484375 \r\nQ 59.328125 70.75 64.40625 67.28125 \r\nz\r\n\" id=\"DejaVuSans-67\"/>\r\n    </defs>\r\n    <g transform=\"translate(56.085937 16.318125)scale(0.12 -0.12)\">\r\n     <use xlink:href=\"#DejaVuSans-73\"/>\r\n     <use x=\"29.492188\" xlink:href=\"#DejaVuSans-110\"/>\r\n     <use x=\"92.871094\" xlink:href=\"#DejaVuSans-100\"/>\r\n     <use x=\"156.347656\" xlink:href=\"#DejaVuSans-101\"/>\r\n     <use x=\"216.121094\" xlink:href=\"#DejaVuSans-120\"/>\r\n     <use x=\"275.300781\" xlink:href=\"#DejaVuSans-58\"/>\r\n     <use x=\"308.992188\" xlink:href=\"#DejaVuSans-32\"/>\r\n     <use x=\"340.779297\" xlink:href=\"#DejaVuSans-53\"/>\r\n     <use x=\"404.402344\" xlink:href=\"#DejaVuSans-44\"/>\r\n     <use x=\"436.189453\" xlink:href=\"#DejaVuSans-32\"/>\r\n     <use x=\"467.976562\" xlink:href=\"#DejaVuSans-68\"/>\r\n     <use x=\"544.978516\" xlink:href=\"#DejaVuSans-105\"/>\r\n     <use x=\"572.761719\" xlink:href=\"#DejaVuSans-103\"/>\r\n     <use x=\"636.238281\" xlink:href=\"#DejaVuSans-105\"/>\r\n     <use x=\"664.021484\" xlink:href=\"#DejaVuSans-116\"/>\r\n     <use x=\"703.230469\" xlink:href=\"#DejaVuSans-58\"/>\r\n     <use x=\"736.921875\" xlink:href=\"#DejaVuSans-32\"/>\r\n     <use x=\"768.708984\" xlink:href=\"#DejaVuSans-56\"/>\r\n     <use x=\"832.332031\" xlink:href=\"#DejaVuSans-44\"/>\r\n     <use x=\"864.119141\" xlink:href=\"#DejaVuSans-32\"/>\r\n     <use x=\"895.90625\" xlink:href=\"#DejaVuSans-76\"/>\r\n     <use x=\"949.869141\" xlink:href=\"#DejaVuSans-101\"/>\r\n     <use x=\"1011.392578\" xlink:href=\"#DejaVuSans-116\"/>\r\n     <use x=\"1050.601562\" xlink:href=\"#DejaVuSans-116\"/>\r\n     <use x=\"1089.810547\" xlink:href=\"#DejaVuSans-101\"/>\r\n     <use x=\"1151.333984\" xlink:href=\"#DejaVuSans-114\"/>\r\n     <use x=\"1190.697266\" xlink:href=\"#DejaVuSans-58\"/>\r\n     <use x=\"1224.388672\" xlink:href=\"#DejaVuSans-32\"/>\r\n     <use x=\"1256.175781\" xlink:href=\"#DejaVuSans-67\"/>\r\n    </g>\r\n   </g>\r\n  </g>\r\n </g>\r\n <defs>\r\n  <clipPath id=\"p3da45a96ed\">\r\n   <rect height=\"217.44\" width=\"217.44\" x=\"26.925\" y=\"22.318125\"/>\r\n  </clipPath>\r\n </defs>\r\n</svg>\r\n",
      "image/png": "[encoded data removed]"
     },
     "metadata": {
      "needs_background": "light"
     }
    }
   ],
   "source": [
    "idx = 5\n",
    "img = train.loc[idx, '0':].values.reshape(28, 28).astype(int)\n",
    "digit = train.loc[idx, 'digit']\n",
    "letter = train.loc[idx, 'letter']\n",
    "\n",
    "plt.title('Index: %i, Digit: %s, Letter: %s'%(idx, digit, letter))\n",
    "plt.imshow(img)\n",
    "plt.show()"
   ]
  },
  {
   "cell_type": "markdown",
   "metadata": {},
   "source": [
    "## Train model"
   ]
  },
  {
   "cell_type": "code",
   "execution_count": 36,
   "metadata": {},
   "outputs": [
    {
     "output_type": "execute_result",
     "data": {
      "text/plain": "array([[1, 1, 1, ..., 4, 3, 4],\n       [0, 4, 0, ..., 2, 1, 2],\n       [1, 1, 2, ..., 0, 2, 2],\n       ...,\n       [4, 0, 4, ..., 2, 0, 0],\n       [2, 3, 3, ..., 4, 3, 1],\n       [4, 2, 2, ..., 4, 3, 4]], dtype=int64)"
     },
     "metadata": {},
     "execution_count": 36
    }
   ],
   "source": [
    "x_train = train.drop(['id', 'digit', 'letter'], axis=1).values\n",
    "x_train"
   ]
  },
  {
   "cell_type": "code",
   "execution_count": 37,
   "metadata": {},
   "outputs": [],
   "source": [
    "x_train = x_train.reshape(-1, 28, 28, 1)/255"
   ]
  },
  {
   "cell_type": "code",
   "execution_count": 38,
   "metadata": {},
   "outputs": [],
   "source": [
    "y = train['digit']\n",
    "y_train = np.zeros((len(y), len(y.unique())))  ## 2048*10\n",
    "for i, digit in enumerate(y):\n",
    "    y_train[i, digit] = 1"
   ]
  },
  {
   "cell_type": "code",
   "execution_count": 39,
   "metadata": {},
   "outputs": [
    {
     "output_type": "execute_result",
     "data": {
      "text/plain": "array([[0., 0., 0., ..., 0., 0., 0.],\n       [1., 0., 0., ..., 0., 0., 0.],\n       [0., 0., 0., ..., 0., 0., 0.],\n       ...,\n       [0., 0., 0., ..., 0., 0., 1.],\n       [1., 0., 0., ..., 0., 0., 0.],\n       [0., 0., 0., ..., 0., 0., 0.]])"
     },
     "metadata": {},
     "execution_count": 39
    }
   ],
   "source": [
    "y_train"
   ]
  },
  {
   "cell_type": "code",
   "execution_count": 63,
   "metadata": {},
   "outputs": [
    {
     "output_type": "execute_result",
     "data": {
      "text/plain": "OneHotEncoder()"
     },
     "metadata": {},
     "execution_count": 63
    },
    {
     "output_type": "execute_result",
     "data": {
      "text/plain": "array([[0., 0., 0., ..., 0., 0., 0.],\n       [1., 0., 0., ..., 0., 0., 0.],\n       [0., 0., 0., ..., 0., 0., 0.],\n       ...,\n       [0., 0., 0., ..., 0., 0., 1.],\n       [1., 0., 0., ..., 0., 0., 0.],\n       [0., 0., 0., ..., 0., 0., 0.]])"
     },
     "metadata": {},
     "execution_count": 63
    }
   ],
   "source": [
    "'''\n",
    "yy = y.values.reshape(-1, 1)\n",
    "\n",
    "from sklearn.preprocessing import OneHotEncoder\n",
    "e = OneHotEncoder()\n",
    "e.fit(yy)\n",
    "\n",
    "y_class = e.transform(yy).toarray()\n",
    "y_class\n",
    "'''"
   ]
  },
  {
   "cell_type": "code",
   "execution_count": 40,
   "metadata": {},
   "outputs": [],
   "source": [
    "from keras.models import Sequential\n",
    "from keras.layers import Dense, Dropout, Flatten, Conv2D, MaxPooling2D, BatchNormalization\n",
    "from keras.callbacks import ModelCheckpoint,EarlyStopping"
   ]
  },
  {
   "cell_type": "code",
   "execution_count": 41,
   "metadata": {},
   "outputs": [],
   "source": [
    "model = Sequential()\n",
    "model.add(Conv2D(128, kernel_size=5, input_shape=(28, 28, 1), strides=1, padding='same',activation='relu'))\n",
    "model.add(BatchNormalization())\n",
    "model.add(Conv2D(128, 2, strides=1, padding='same', activation='relu'))\n",
    "model.add(MaxPooling2D(pool_size=2))\n",
    "model.add(BatchNormalization())\n",
    "model.add(Conv2D(256, 2, strides=1, padding='same', activation='relu'))\n",
    "model.add(BatchNormalization())\n",
    "model.add(Conv2D(256, 2, strides=1, padding='same', activation='relu'))\n",
    "model.add(MaxPooling2D(pool_size=2))\n",
    "model.add(Flatten())\n",
    "model.add(BatchNormalization())\n",
    "model.add(Dense(1000,  activation='relu'))\n",
    "model.add(BatchNormalization())\n",
    "model.add(Dense(10, activation='softmax'))\n",
    "\n",
    "\n",
    "model.compile(loss='categorical_crossentropy',\n",
    "              optimizer='adam',\n",
    "              metrics=['accuracy'])"
   ]
  },
  {
   "cell_type": "code",
   "execution_count": 42,
   "metadata": {
    "tags": []
   },
   "outputs": [
    {
     "output_type": "stream",
     "name": "stdout",
     "text": "Epoch 1/20\n64/64 [==============================] - 39s 609ms/step - loss: 2.7002 - accuracy: 0.4067\nEpoch 2/20\n64/64 [==============================] - 42s 663ms/step - loss: 0.9646 - accuracy: 0.6807\nEpoch 3/20\n64/64 [==============================] - 40s 629ms/step - loss: 0.5452 - accuracy: 0.8081\nEpoch 4/20\n64/64 [==============================] - 38s 595ms/step - loss: 0.3473 - accuracy: 0.8853\nEpoch 5/20\n64/64 [==============================] - 37s 579ms/step - loss: 0.2755 - accuracy: 0.9004\nEpoch 6/20\n64/64 [==============================] - 39s 616ms/step - loss: 0.1392 - accuracy: 0.9609\nEpoch 7/20\n64/64 [==============================] - 40s 628ms/step - loss: 0.1177 - accuracy: 0.9619\nEpoch 8/20\n64/64 [==============================] - 41s 635ms/step - loss: 0.0913 - accuracy: 0.9722\nEpoch 9/20\n64/64 [==============================] - 39s 603ms/step - loss: 0.0535 - accuracy: 0.9829\nEpoch 10/20\n64/64 [==============================] - 40s 624ms/step - loss: 0.0478 - accuracy: 0.9868\nEpoch 11/20\n64/64 [==============================] - 40s 628ms/step - loss: 0.0375 - accuracy: 0.9902\nEpoch 12/20\n64/64 [==============================] - 39s 615ms/step - loss: 0.0553 - accuracy: 0.9849\nEpoch 13/20\n64/64 [==============================] - 40s 624ms/step - loss: 0.0818 - accuracy: 0.9766\nEpoch 14/20\n64/64 [==============================] - 38s 590ms/step - loss: 0.0773 - accuracy: 0.9766\nEpoch 15/20\n64/64 [==============================] - 37s 570ms/step - loss: 0.0709 - accuracy: 0.9780\nEpoch 16/20\n64/64 [==============================] - 38s 589ms/step - loss: 0.0639 - accuracy: 0.9790\nEpoch 17/20\n64/64 [==============================] - 39s 612ms/step - loss: 0.0415 - accuracy: 0.9858\nEpoch 18/20\n64/64 [==============================] - 39s 612ms/step - loss: 0.0464 - accuracy: 0.9800\nEpoch 19/20\n64/64 [==============================] - 41s 635ms/step - loss: 0.0441 - accuracy: 0.9858\nEpoch 20/20\n64/64 [==============================] - 41s 640ms/step - loss: 0.0396 - accuracy: 0.9893\n"
    },
    {
     "output_type": "execute_result",
     "data": {
      "text/plain": "<tensorflow.python.keras.callbacks.History at 0x1dbf251c8c8>"
     },
     "metadata": {},
     "execution_count": 42
    }
   ],
   "source": [
    "# 모델의 실행\n",
    "model.fit(x_train, y_train, epochs=20, verbose=1)"
   ]
  },
  {
   "cell_type": "code",
   "execution_count": 46,
   "metadata": {},
   "outputs": [],
   "source": [
    "from keras.models import load_model\n",
    "\n",
    "model.save('./model/baseline_model.h5')  # 모델을 컴퓨터에 저장"
   ]
  },
  {
   "cell_type": "markdown",
   "metadata": {},
   "source": [
    "## Predict"
   ]
  },
  {
   "cell_type": "code",
   "execution_count": 47,
   "metadata": {},
   "outputs": [],
   "source": [
    "x_test = test.drop(['id', 'letter'], axis=1).values\n",
    "x_test = x_test.reshape(-1, 28, 28, 1)\n",
    "x_test = x_test/255"
   ]
  },
  {
   "cell_type": "code",
   "execution_count": 48,
   "metadata": {},
   "outputs": [
    {
     "output_type": "execute_result",
     "data": {
      "text/plain": "     id  digit\n0  2049      6\n1  2050      9\n2  2051      6\n3  2052      0\n4  2053      3",
      "text/html": "<div>\n<style scoped>\n    .dataframe tbody tr th:only-of-type {\n        vertical-align: middle;\n    }\n\n    .dataframe tbody tr th {\n        vertical-align: top;\n    }\n\n    .dataframe thead th {\n        text-align: right;\n    }\n</style>\n<table border=\"1\" class=\"dataframe\">\n  <thead>\n    <tr style=\"text-align: right;\">\n      <th></th>\n      <th>id</th>\n      <th>digit</th>\n    </tr>\n  </thead>\n  <tbody>\n    <tr>\n      <th>0</th>\n      <td>2049</td>\n      <td>6</td>\n    </tr>\n    <tr>\n      <th>1</th>\n      <td>2050</td>\n      <td>9</td>\n    </tr>\n    <tr>\n      <th>2</th>\n      <td>2051</td>\n      <td>6</td>\n    </tr>\n    <tr>\n      <th>3</th>\n      <td>2052</td>\n      <td>0</td>\n    </tr>\n    <tr>\n      <th>4</th>\n      <td>2053</td>\n      <td>3</td>\n    </tr>\n  </tbody>\n</table>\n</div>"
     },
     "metadata": {},
     "execution_count": 48
    }
   ],
   "source": [
    "submission = pd.read_csv('C:/dataset/dacon5_mnist/submission.csv')\n",
    "submission['digit'] = np.argmax(model.predict(x_test), axis=1)\n",
    "submission.head()"
   ]
  },
  {
   "cell_type": "code",
   "execution_count": 49,
   "metadata": {},
   "outputs": [],
   "source": [
    "submission.to_csv('baseline.csv', index=False)"
   ]
  },
  {
   "cell_type": "code",
   "execution_count": null,
   "metadata": {},
   "outputs": [],
   "source": [
    "## 제출 점수 : 0.7598"
   ]
  },
  {
   "cell_type": "code",
   "execution_count": null,
   "metadata": {},
   "outputs": [],
   "source": []
  },
  {
   "cell_type": "markdown",
   "metadata": {},
   "source": [
    "## try"
   ]
  },
  {
   "cell_type": "code",
   "execution_count": 57,
   "metadata": {},
   "outputs": [],
   "source": [
    "from sklearn.model_selection import train_test_split\n",
    "from keras.utils.np_utils import to_categorical\n",
    "from tensorflow.keras.preprocessing.image import ImageDataGenerator\n",
    "from tensorflow.keras.callbacks import LearningRateScheduler"
   ]
  },
  {
   "cell_type": "code",
   "execution_count": 50,
   "metadata": {},
   "outputs": [],
   "source": [
    "train = pd.read_csv('C:/dataset/dacon5_mnist/train.csv')\n",
    "test = pd.read_csv('C:/dataset/dacon5_mnist/test.csv')"
   ]
  },
  {
   "cell_type": "code",
   "execution_count": 51,
   "metadata": {},
   "outputs": [],
   "source": [
    "x_train = train.drop(['id', 'digit', 'letter'], axis=1).values.reshape(-1, 28, 28, 1)/255"
   ]
  },
  {
   "cell_type": "code",
   "execution_count": 55,
   "metadata": {},
   "outputs": [
    {
     "output_type": "execute_result",
     "data": {
      "text/plain": "array([[0., 0., 0., ..., 0., 0., 0.],\n       [1., 0., 0., ..., 0., 0., 0.],\n       [0., 0., 0., ..., 0., 0., 0.],\n       ...,\n       [0., 0., 0., ..., 0., 0., 1.],\n       [1., 0., 0., ..., 0., 0., 0.],\n       [0., 0., 0., ..., 0., 0., 0.]], dtype=float32)"
     },
     "metadata": {},
     "execution_count": 55
    }
   ],
   "source": [
    "y_train = to_categorical(train['digit'].values)\n",
    "y_train"
   ]
  },
  {
   "cell_type": "code",
   "execution_count": 58,
   "metadata": {},
   "outputs": [],
   "source": [
    "# 데이터 증강\n",
    "datagen = ImageDataGenerator(\n",
    "        rotation_range=10,  \n",
    "        zoom_range = 0.10,  \n",
    "        width_shift_range=0.1, \n",
    "        height_shift_range=0.1)"
   ]
  },
  {
   "cell_type": "code",
   "execution_count": 59,
   "metadata": {},
   "outputs": [],
   "source": [
    "model = Sequential()\n",
    "model.add(Conv2D(128, kernel_size=5, input_shape=(28, 28, 1), strides=1, padding='same',activation='relu'))\n",
    "model.add(BatchNormalization())\n",
    "model.add(Conv2D(128, 2, strides=1, padding='same', activation='relu'))\n",
    "model.add(MaxPooling2D(pool_size=2))\n",
    "model.add(BatchNormalization())\n",
    "model.add(Conv2D(256, 2, strides=1, padding='same', activation='relu'))\n",
    "model.add(BatchNormalization())\n",
    "model.add(Conv2D(256, 2, strides=1, padding='same', activation='relu'))\n",
    "model.add(MaxPooling2D(pool_size=2))\n",
    "model.add(Flatten())\n",
    "model.add(BatchNormalization())\n",
    "model.add(Dense(1000,  activation='relu'))\n",
    "model.add(BatchNormalization())\n",
    "model.add(Dense(10, activation='softmax'))\n",
    "\n",
    "\n",
    "model.compile(loss='categorical_crossentropy',\n",
    "              optimizer='adam',\n",
    "              metrics=['accuracy'])"
   ]
  },
  {
   "cell_type": "code",
   "execution_count": 60,
   "metadata": {},
   "outputs": [],
   "source": [
    "# learning rate 조정\n",
    "annealer = LearningRateScheduler(lambda x: 1e-3 * 0.95 ** x)\n",
    "\n",
    "## learning rate를 직접 설정하기 보다 epoch의 정도나 epoch의 조건에 따라 learning rate를 자동으로 조절하여 학습시키는 방법"
   ]
  },
  {
   "cell_type": "code",
   "execution_count": 62,
   "metadata": {
    "tags": []
   },
   "outputs": [
    {
     "output_type": "stream",
     "name": "stdout",
     "text": "WARNING:tensorflow:From <ipython-input-62-cd1bd345a7af>:12: Model.fit_generator (from tensorflow.python.keras.engine.training) is deprecated and will be removed in a future version.\nInstructions for updating:\nPlease use Model.fit, which supports generators.\nEpoch 1/45\n57/57 [==============================] - 36s 637ms/step - loss: 3.3321 - accuracy: 0.2634 - val_loss: 4.5641 - val_accuracy: 0.1024 - lr: 0.0010\nEpoch 2/45\n57/57 [==============================] - 36s 634ms/step - loss: 1.9005 - accuracy: 0.4025 - val_loss: 7.5602 - val_accuracy: 0.1024 - lr: 9.5000e-04\nEpoch 3/45\n57/57 [==============================] - 36s 636ms/step - loss: 1.6319 - accuracy: 0.4583 - val_loss: 10.5743 - val_accuracy: 0.1024 - lr: 9.0250e-04\nEpoch 4/45\n57/57 [==============================] - 34s 602ms/step - loss: 1.4616 - accuracy: 0.5202 - val_loss: 12.4324 - val_accuracy: 0.1024 - lr: 8.5737e-04\nEpoch 5/45\n57/57 [==============================] - 36s 640ms/step - loss: 1.3365 - accuracy: 0.5422 - val_loss: 11.6917 - val_accuracy: 0.1024 - lr: 8.1451e-04\nEpoch 6/45\n57/57 [==============================] - 37s 646ms/step - loss: 1.2370 - accuracy: 0.5969 - val_loss: 10.8340 - val_accuracy: 0.1024 - lr: 7.7378e-04\nEpoch 7/45\n57/57 [==============================] - 36s 630ms/step - loss: 1.0924 - accuracy: 0.6273 - val_loss: 10.2677 - val_accuracy: 0.1024 - lr: 7.3509e-04\nEpoch 8/45\n57/57 [==============================] - 35s 620ms/step - loss: 1.0187 - accuracy: 0.6444 - val_loss: 8.2478 - val_accuracy: 0.1024 - lr: 6.9834e-04\nEpoch 9/45\n57/57 [==============================] - 36s 635ms/step - loss: 1.0006 - accuracy: 0.6665 - val_loss: 8.4086 - val_accuracy: 0.1024 - lr: 6.6342e-04\nEpoch 10/45\n57/57 [==============================] - 37s 643ms/step - loss: 0.8924 - accuracy: 0.6880 - val_loss: 6.0897 - val_accuracy: 0.1024 - lr: 6.3025e-04\nEpoch 11/45\n57/57 [==============================] - 40s 697ms/step - loss: 0.7828 - accuracy: 0.7256 - val_loss: 2.7699 - val_accuracy: 0.2488 - lr: 5.9874e-04\nEpoch 12/45\n57/57 [==============================] - 36s 637ms/step - loss: 0.7735 - accuracy: 0.7388 - val_loss: 1.4407 - val_accuracy: 0.5659 - lr: 5.6880e-04\nEpoch 13/45\n57/57 [==============================] - 39s 686ms/step - loss: 0.6830 - accuracy: 0.7725 - val_loss: 0.7030 - val_accuracy: 0.7463 - lr: 5.4036e-04\nEpoch 14/45\n57/57 [==============================] - 39s 689ms/step - loss: 0.6583 - accuracy: 0.7786 - val_loss: 0.6220 - val_accuracy: 0.7756 - lr: 5.1334e-04\nEpoch 15/45\n57/57 [==============================] - 40s 705ms/step - loss: 0.5790 - accuracy: 0.8001 - val_loss: 0.7371 - val_accuracy: 0.7659 - lr: 4.8767e-04\nEpoch 16/45\n57/57 [==============================] - 38s 672ms/step - loss: 0.5716 - accuracy: 0.7973 - val_loss: 1.0079 - val_accuracy: 0.6732 - lr: 4.6329e-04\nEpoch 17/45\n57/57 [==============================] - 36s 623ms/step - loss: 0.5043 - accuracy: 0.8327 - val_loss: 0.7934 - val_accuracy: 0.7073 - lr: 4.4013e-04\nEpoch 18/45\n57/57 [==============================] - 35s 610ms/step - loss: 0.4826 - accuracy: 0.8349 - val_loss: 1.1702 - val_accuracy: 0.6488 - lr: 4.1812e-04\nEpoch 19/45\n57/57 [==============================] - 35s 614ms/step - loss: 0.4085 - accuracy: 0.8559 - val_loss: 0.9121 - val_accuracy: 0.7073 - lr: 3.9721e-04\nEpoch 20/45\n57/57 [==============================] - 35s 608ms/step - loss: 0.4199 - accuracy: 0.8664 - val_loss: 0.7954 - val_accuracy: 0.7268 - lr: 3.7735e-04\nEpoch 21/45\n57/57 [==============================] - 39s 684ms/step - loss: 0.4190 - accuracy: 0.8597 - val_loss: 1.0031 - val_accuracy: 0.6634 - lr: 3.5849e-04\nEpoch 22/45\n57/57 [==============================] - 37s 643ms/step - loss: 0.3798 - accuracy: 0.8736 - val_loss: 0.7150 - val_accuracy: 0.7512 - lr: 3.4056e-04\nEpoch 23/45\n57/57 [==============================] - 36s 639ms/step - loss: 0.3894 - accuracy: 0.8702 - val_loss: 0.8533 - val_accuracy: 0.7317 - lr: 3.2353e-04\nEpoch 24/45\n57/57 [==============================] - 37s 642ms/step - loss: 0.3168 - accuracy: 0.8874 - val_loss: 0.8837 - val_accuracy: 0.6780 - lr: 3.0736e-04\nEpoch 25/45\n57/57 [==============================] - 37s 641ms/step - loss: 0.3066 - accuracy: 0.9017 - val_loss: 0.7929 - val_accuracy: 0.7268 - lr: 2.9199e-04\nEpoch 26/45\n57/57 [==============================] - 35s 611ms/step - loss: 0.2876 - accuracy: 0.9056 - val_loss: 0.8307 - val_accuracy: 0.7317 - lr: 2.7739e-04\nEpoch 27/45\n57/57 [==============================] - 35s 610ms/step - loss: 0.2812 - accuracy: 0.9122 - val_loss: 0.7512 - val_accuracy: 0.7512 - lr: 2.6352e-04\nEpoch 28/45\n57/57 [==============================] - 35s 609ms/step - loss: 0.2672 - accuracy: 0.9199 - val_loss: 0.7476 - val_accuracy: 0.7463 - lr: 2.5034e-04\nEpoch 29/45\n57/57 [==============================] - 35s 609ms/step - loss: 0.2403 - accuracy: 0.9199 - val_loss: 0.8736 - val_accuracy: 0.7415 - lr: 2.3783e-04\nEpoch 30/45\n57/57 [==============================] - 35s 609ms/step - loss: 0.2417 - accuracy: 0.9210 - val_loss: 0.7628 - val_accuracy: 0.7366 - lr: 2.2594e-04\nEpoch 31/45\n57/57 [==============================] - 35s 606ms/step - loss: 0.2317 - accuracy: 0.9293 - val_loss: 0.9442 - val_accuracy: 0.6780 - lr: 2.1464e-04\nEpoch 32/45\n57/57 [==============================] - 35s 611ms/step - loss: 0.2158 - accuracy: 0.9260 - val_loss: 1.0737 - val_accuracy: 0.6976 - lr: 2.0391e-04\nEpoch 33/45\n57/57 [==============================] - 35s 620ms/step - loss: 0.2034 - accuracy: 0.9387 - val_loss: 0.8355 - val_accuracy: 0.7220 - lr: 1.9371e-04\nEpoch 34/45\n57/57 [==============================] - 35s 610ms/step - loss: 0.2015 - accuracy: 0.9382 - val_loss: 0.7906 - val_accuracy: 0.7317 - lr: 1.8403e-04\nEpoch 35/45\n57/57 [==============================] - 35s 612ms/step - loss: 0.1874 - accuracy: 0.9354 - val_loss: 0.8846 - val_accuracy: 0.7171 - lr: 1.7482e-04\nEpoch 36/45\n57/57 [==============================] - 37s 650ms/step - loss: 0.1744 - accuracy: 0.9509 - val_loss: 0.8978 - val_accuracy: 0.7317 - lr: 1.6608e-04\nEpoch 37/45\n57/57 [==============================] - 36s 634ms/step - loss: 0.1585 - accuracy: 0.9514 - val_loss: 0.8662 - val_accuracy: 0.7317 - lr: 1.5778e-04\nEpoch 38/45\n57/57 [==============================] - 32s 557ms/step - loss: 0.1572 - accuracy: 0.9498 - val_loss: 0.8952 - val_accuracy: 0.7220 - lr: 1.4989e-04\nEpoch 39/45\n57/57 [==============================] - 33s 578ms/step - loss: 0.1578 - accuracy: 0.9525 - val_loss: 0.9246 - val_accuracy: 0.7366 - lr: 1.4240e-04\nEpoch 40/45\n57/57 [==============================] - 32s 562ms/step - loss: 0.1515 - accuracy: 0.9525 - val_loss: 0.7512 - val_accuracy: 0.7756 - lr: 1.3528e-04\nEpoch 41/45\n57/57 [==============================] - 33s 571ms/step - loss: 0.1380 - accuracy: 0.9597 - val_loss: 0.7542 - val_accuracy: 0.7659 - lr: 1.2851e-04\nEpoch 42/45\n57/57 [==============================] - 32s 565ms/step - loss: 0.1240 - accuracy: 0.9641 - val_loss: 0.8528 - val_accuracy: 0.7415 - lr: 1.2209e-04\nEpoch 43/45\n57/57 [==============================] - 32s 553ms/step - loss: 0.1382 - accuracy: 0.9547 - val_loss: 0.8703 - val_accuracy: 0.7463 - lr: 1.1598e-04\nEpoch 44/45\n57/57 [==============================] - 33s 578ms/step - loss: 0.1084 - accuracy: 0.9669 - val_loss: 0.8563 - val_accuracy: 0.7268 - lr: 1.1018e-04\nEpoch 45/45\n57/57 [==============================] - 33s 586ms/step - loss: 0.1244 - accuracy: 0.9625 - val_loss: 0.7982 - val_accuracy: 0.7512 - lr: 1.0467e-04\n"
    },
    {
     "output_type": "error",
     "ename": "KeyError",
     "evalue": "'acc'",
     "traceback": [
      "\u001b[1;31m---------------------------------------------------------------------------\u001b[0m",
      "\u001b[1;31mKeyError\u001b[0m                                  Traceback (most recent call last)",
      "\u001b[1;32m<ipython-input-62-cd1bd345a7af>\u001b[0m in \u001b[0;36m<module>\u001b[1;34m\u001b[0m\n\u001b[0;32m     14\u001b[0m print(\n\u001b[0;32m     15\u001b[0m     \u001b[1;34mf\"CNN: Epochs={epochs:d}, \"\u001b[0m \u001b[1;33m+\u001b[0m\u001b[1;33m\u001b[0m\u001b[1;33m\u001b[0m\u001b[0m\n\u001b[1;32m---> 16\u001b[1;33m     \u001b[1;34mf\"Train accuracy={max(history.history['acc']):.5f}, \"\u001b[0m \u001b[1;33m+\u001b[0m\u001b[1;33m\u001b[0m\u001b[1;33m\u001b[0m\u001b[0m\n\u001b[0m\u001b[0;32m     17\u001b[0m     \u001b[1;34mf\"Validation accuracy={max(history.history['val_acc']):.5f}\"\u001b[0m\u001b[1;33m\u001b[0m\u001b[1;33m\u001b[0m\u001b[0m\n\u001b[0;32m     18\u001b[0m )\n",
      "\u001b[1;31mKeyError\u001b[0m: 'acc'"
     ]
    }
   ],
   "source": [
    "epochs = 45\n",
    "# Train-Test를 9:1로 분리\n",
    "X_train2, X_val2, y_train2, y_val2 = train_test_split(\n",
    "    x_train, y_train, test_size = 0.1)\n",
    "\n",
    "history = model.fit_generator(\n",
    "    datagen.flow(X_train2, y_train2, batch_size=32),\n",
    "    epochs=epochs, \n",
    "    steps_per_epoch=X_train2.shape[0]//32,\n",
    "    validation_data=(X_val2, y_val2), \n",
    "    callbacks=[annealer], \n",
    "    verbose=1\n",
    ")\n",
    "print(\n",
    "    f\"CNN: Epochs={epochs:d}, \" +\n",
    "    f\"Train accuracy={max(history.history['acc']):.5f}, \" +\n",
    "    f\"Validation accuracy={max(history.history['val_acc']):.5f}\"\n",
    ")"
   ]
  },
  {
   "cell_type": "code",
   "execution_count": 63,
   "metadata": {},
   "outputs": [],
   "source": [
    "model.save('./model/baseline_mymodel.h5')  # 모델을 컴퓨터에 저장"
   ]
  },
  {
   "cell_type": "code",
   "execution_count": 64,
   "metadata": {},
   "outputs": [],
   "source": [
    "x_test = test.drop(['id', 'letter'], axis=1).values\n",
    "x_test = x_test.reshape(-1, 28, 28, 1)\n",
    "x_test = x_test/255"
   ]
  },
  {
   "cell_type": "code",
   "execution_count": 65,
   "metadata": {},
   "outputs": [
    {
     "output_type": "execute_result",
     "data": {
      "text/plain": "     id  digit\n0  2049      6\n1  2050      9\n2  2051      2\n3  2052      0\n4  2053      3",
      "text/html": "<div>\n<style scoped>\n    .dataframe tbody tr th:only-of-type {\n        vertical-align: middle;\n    }\n\n    .dataframe tbody tr th {\n        vertical-align: top;\n    }\n\n    .dataframe thead th {\n        text-align: right;\n    }\n</style>\n<table border=\"1\" class=\"dataframe\">\n  <thead>\n    <tr style=\"text-align: right;\">\n      <th></th>\n      <th>id</th>\n      <th>digit</th>\n    </tr>\n  </thead>\n  <tbody>\n    <tr>\n      <th>0</th>\n      <td>2049</td>\n      <td>6</td>\n    </tr>\n    <tr>\n      <th>1</th>\n      <td>2050</td>\n      <td>9</td>\n    </tr>\n    <tr>\n      <th>2</th>\n      <td>2051</td>\n      <td>2</td>\n    </tr>\n    <tr>\n      <th>3</th>\n      <td>2052</td>\n      <td>0</td>\n    </tr>\n    <tr>\n      <th>4</th>\n      <td>2053</td>\n      <td>3</td>\n    </tr>\n  </tbody>\n</table>\n</div>"
     },
     "metadata": {},
     "execution_count": 65
    }
   ],
   "source": [
    "submission = pd.read_csv('C:/dataset/dacon5_mnist/submission.csv')\n",
    "submission['digit'] = np.argmax(model.predict(x_test), axis=1)\n",
    "submission.head()"
   ]
  },
  {
   "cell_type": "code",
   "execution_count": 66,
   "metadata": {},
   "outputs": [],
   "source": [
    "submission.to_csv('baseline_try01.csv', index=False)"
   ]
  },
  {
   "cell_type": "code",
   "execution_count": null,
   "metadata": {},
   "outputs": [],
   "source": [
    "## 0.7745"
   ]
  }
 ]
}