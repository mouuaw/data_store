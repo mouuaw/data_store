{
 "nbformat": 4,
 "nbformat_minor": 2,
 "metadata": {
  "language_info": {
   "name": "python",
   "codemirror_mode": {
    "name": "ipython",
    "version": 3
   },
   "version": "3.7.3-final"
  },
  "orig_nbformat": 2,
  "file_extension": ".py",
  "mimetype": "text/x-python",
  "name": "python",
  "npconvert_exporter": "python",
  "pygments_lexer": "ipython3",
  "version": 3,
  "kernelspec": {
   "name": "python37364bitbaseconda3e8d1efd23e942ffb39a1c2f774bdc3f",
   "display_name": "Python 3.7.3 64-bit ('base': conda)"
  }
 },
 "cells": [
  {
   "cell_type": "code",
   "execution_count": 1,
   "metadata": {},
   "outputs": [],
   "source": [
    "import numpy as np\n",
    "import pandas as pd\n",
    "import math\n",
    "\n",
    "import seaborn as sns\n",
    "from sklearn.model_selection import train_test_split\n",
    "from matplotlib import pyplot as plt\n",
    "from scipy.stats import chi2_contingency\n",
    "from sklearn.preprocessing import StandardScaler\n",
    "\n",
    "import warnings\n",
    "warnings.filterwarnings('ignore')\n",
    "\n",
    "%matplotlib inline"
   ]
  },
  {
   "cell_type": "code",
   "execution_count": 10,
   "metadata": {},
   "outputs": [],
   "source": [
    "train = pd.read_csv('./data/train.csv', index_col='id')\n",
    "test = pd.read_csv('./data/test.csv', index_col='id')\n",
    "submission = pd.read_csv('./data/sample_submission.csv', index_col='id')"
   ]
  },
  {
   "cell_type": "code",
   "execution_count": 11,
   "metadata": {},
   "outputs": [
    {
     "data": {
      "text/plain": "Index(['X00', 'X01', 'X02', 'X03', 'X04', 'X05', 'X06', 'X07', 'X08', 'X09',\n       'X10', 'X11', 'X12', 'X13', 'X14', 'X15', 'X16', 'X17', 'X18', 'X19',\n       'X20', 'X21', 'X22', 'X23', 'X24', 'X25', 'X26', 'X27', 'X28', 'X29',\n       'X30', 'X31', 'X32', 'X33', 'X34', 'X35', 'X36', 'X37', 'X38', 'X39',\n       'Y00', 'Y01', 'Y02', 'Y03', 'Y04', 'Y05', 'Y06', 'Y07', 'Y08', 'Y09',\n       'Y10', 'Y11', 'Y12', 'Y13', 'Y14', 'Y15', 'Y16', 'Y17', 'Y18'],\n      dtype='object')"
     },
     "execution_count": 11,
     "metadata": {},
     "output_type": "execute_result"
    }
   ],
   "source": [
    "train.columns"
   ]
  },
  {
   "cell_type": "code",
   "execution_count": 17,
   "metadata": {},
   "outputs": [
    {
     "data": {
      "text/html": "<div>\n<style scoped>\n    .dataframe tbody tr th:only-of-type {\n        vertical-align: middle;\n    }\n\n    .dataframe tbody tr th {\n        vertical-align: top;\n    }\n\n    .dataframe thead th {\n        text-align: right;\n    }\n</style>\n<table border=\"1\" class=\"dataframe\">\n  <thead>\n    <tr style=\"text-align: right;\">\n      <th></th>\n      <th>X00</th>\n      <th>X01</th>\n      <th>X02</th>\n      <th>X03</th>\n      <th>X04</th>\n      <th>X05</th>\n      <th>X06</th>\n      <th>X07</th>\n      <th>X08</th>\n      <th>X09</th>\n      <th>...</th>\n      <th>X31</th>\n      <th>X32</th>\n      <th>X33</th>\n      <th>X34</th>\n      <th>X35</th>\n      <th>X36</th>\n      <th>X37</th>\n      <th>X38</th>\n      <th>X39</th>\n      <th>Y18</th>\n    </tr>\n    <tr>\n      <th>id</th>\n      <th></th>\n      <th></th>\n      <th></th>\n      <th></th>\n      <th></th>\n      <th></th>\n      <th></th>\n      <th></th>\n      <th></th>\n      <th></th>\n      <th></th>\n      <th></th>\n      <th></th>\n      <th></th>\n      <th></th>\n      <th></th>\n      <th></th>\n      <th></th>\n      <th></th>\n      <th></th>\n      <th></th>\n    </tr>\n  </thead>\n  <tbody>\n    <tr>\n      <th>4320</th>\n      <td>19.3</td>\n      <td>987.7</td>\n      <td>0.9</td>\n      <td>2.2</td>\n      <td>0.0</td>\n      <td>1007.7</td>\n      <td>988.0</td>\n      <td>20.8</td>\n      <td>1007.8</td>\n      <td>1007.4</td>\n      <td>...</td>\n      <td>18.0</td>\n      <td>18.7</td>\n      <td>1008.3</td>\n      <td>0.0</td>\n      <td>353.5</td>\n      <td>0.0</td>\n      <td>84.0</td>\n      <td>77.6</td>\n      <td>0.0</td>\n      <td>20.5</td>\n    </tr>\n    <tr>\n      <th>4321</th>\n      <td>19.0</td>\n      <td>987.6</td>\n      <td>1.9</td>\n      <td>2.2</td>\n      <td>0.0</td>\n      <td>1007.7</td>\n      <td>988.0</td>\n      <td>20.6</td>\n      <td>1007.8</td>\n      <td>1007.4</td>\n      <td>...</td>\n      <td>17.7</td>\n      <td>19.0</td>\n      <td>1008.3</td>\n      <td>0.0</td>\n      <td>303.1</td>\n      <td>0.0</td>\n      <td>84.4</td>\n      <td>79.2</td>\n      <td>0.0</td>\n      <td>20.5</td>\n    </tr>\n    <tr>\n      <th>4322</th>\n      <td>19.1</td>\n      <td>987.6</td>\n      <td>2.0</td>\n      <td>1.4</td>\n      <td>0.0</td>\n      <td>1007.8</td>\n      <td>988.1</td>\n      <td>20.5</td>\n      <td>1007.9</td>\n      <td>1007.4</td>\n      <td>...</td>\n      <td>17.4</td>\n      <td>19.2</td>\n      <td>1008.3</td>\n      <td>0.0</td>\n      <td>307.3</td>\n      <td>0.0</td>\n      <td>84.9</td>\n      <td>79.9</td>\n      <td>0.0</td>\n      <td>20.5</td>\n    </tr>\n    <tr>\n      <th>4323</th>\n      <td>19.2</td>\n      <td>987.7</td>\n      <td>1.8</td>\n      <td>1.5</td>\n      <td>0.0</td>\n      <td>1007.9</td>\n      <td>988.1</td>\n      <td>20.5</td>\n      <td>1007.9</td>\n      <td>1007.5</td>\n      <td>...</td>\n      <td>17.5</td>\n      <td>19.3</td>\n      <td>1008.4</td>\n      <td>0.0</td>\n      <td>315.6</td>\n      <td>0.0</td>\n      <td>84.9</td>\n      <td>80.7</td>\n      <td>0.0</td>\n      <td>20.5</td>\n    </tr>\n    <tr>\n      <th>4324</th>\n      <td>19.2</td>\n      <td>987.8</td>\n      <td>1.4</td>\n      <td>1.4</td>\n      <td>0.0</td>\n      <td>1007.9</td>\n      <td>988.1</td>\n      <td>20.5</td>\n      <td>1007.8</td>\n      <td>1007.6</td>\n      <td>...</td>\n      <td>17.4</td>\n      <td>19.5</td>\n      <td>1008.4</td>\n      <td>0.0</td>\n      <td>321.2</td>\n      <td>0.0</td>\n      <td>84.9</td>\n      <td>80.9</td>\n      <td>0.0</td>\n      <td>20.5</td>\n    </tr>\n  </tbody>\n</table>\n<p>5 rows × 41 columns</p>\n</div>",
      "text/plain": "       X00    X01  X02  X03  X04     X05    X06   X07     X08     X09  ...  \\\nid                                                                     ...   \n4320  19.3  987.7  0.9  2.2  0.0  1007.7  988.0  20.8  1007.8  1007.4  ...   \n4321  19.0  987.6  1.9  2.2  0.0  1007.7  988.0  20.6  1007.8  1007.4  ...   \n4322  19.1  987.6  2.0  1.4  0.0  1007.8  988.1  20.5  1007.9  1007.4  ...   \n4323  19.2  987.7  1.8  1.5  0.0  1007.9  988.1  20.5  1007.9  1007.5  ...   \n4324  19.2  987.8  1.4  1.4  0.0  1007.9  988.1  20.5  1007.8  1007.6  ...   \n\n       X31   X32     X33  X34    X35  X36   X37   X38  X39   Y18  \nid                                                                \n4320  18.0  18.7  1008.3  0.0  353.5  0.0  84.0  77.6  0.0  20.5  \n4321  17.7  19.0  1008.3  0.0  303.1  0.0  84.4  79.2  0.0  20.5  \n4322  17.4  19.2  1008.3  0.0  307.3  0.0  84.9  79.9  0.0  20.5  \n4323  17.5  19.3  1008.4  0.0  315.6  0.0  84.9  80.7  0.0  20.5  \n4324  17.4  19.5  1008.4  0.0  321.2  0.0  84.9  80.9  0.0  20.5  \n\n[5 rows x 41 columns]"
     },
     "execution_count": 17,
     "metadata": {},
     "output_type": "execute_result"
    }
   ],
   "source": [
    "trainNotNull = train[train['Y18'].notnull()]\n",
    "trainNotNull = trainNotNull.drop(['Y00', 'Y01', 'Y02', 'Y03', 'Y04', 'Y05', 'Y06', 'Y07', 'Y08', 'Y09', 'Y10', 'Y11', 'Y12', 'Y13', 'Y14', 'Y15', 'Y16', 'Y17'], axis=1)\n",
    "trainNotNull.head()"
   ]
  },
  {
   "cell_type": "code",
   "execution_count": 18,
   "metadata": {},
   "outputs": [],
   "source": [
    "columnList = trainNotNull.columns\n",
    "target_var = ['Y18']\n",
    "input_var = list(filter(lambda x:x != 'Y18', columnList))"
   ]
  },
  {
   "cell_type": "code",
   "execution_count": 19,
   "metadata": {},
   "outputs": [],
   "source": [
    "X_train = trainNotNull[input_var]\n",
    "y_train = trainNotNull[target_var]"
   ]
  },
  {
   "cell_type": "code",
   "execution_count": 20,
   "metadata": {},
   "outputs": [
    {
     "name": "stdout",
     "output_type": "stream",
     "text": "[13:58:21] WARNING: C:/Jenkins/workspace/xgboost-win64_release_0.90/src/objective/regression_obj.cu:152: reg:linear is now deprecated in favor of reg:squarederror.\n{'colsample_bylevel': 1, 'colsample_bytree': 1, 'max_depth': 3, 'n_estimators': 650}\nXGBRegressor(base_score=0.5, booster='gbtree', colsample_bylevel=1,\n             colsample_bynode=1, colsample_bytree=1, gamma=0,\n             importance_type='gain', learning_rate=0.1, max_delta_step=0,\n             max_depth=3, min_child_weight=1, missing=None, n_estimators=650,\n             n_jobs=1, nthread=None, objective='reg:linear', random_state=0,\n             reg_alpha=0, reg_lambda=1, scale_pos_weight=1, seed=None,\n             silent=None, subsample=1, verbosity=1)\n"
    }
   ],
   "source": [
    "from sklearn.model_selection import GridSearchCV\n",
    "import xgboost as xgb\n",
    "\n",
    "param = {\n",
    "    'max_depth':[2,3,4],\n",
    "    'n_estimators':range(550,700,50),\n",
    "    'colsample_bytree':[0.5,0.7,1],\n",
    "    'colsample_bylevel':[0.5,0.7,1],\n",
    "}\n",
    "model = xgb.XGBRegressor()\n",
    "grid_search = GridSearchCV(estimator=model, param_grid=param, cv=5, \n",
    "                           scoring='neg_mean_squared_error',\n",
    "                           n_jobs=-1)\n",
    "\n",
    "grid_search.fit(X_train, y_train)\n",
    "print(grid_search.best_params_)\n",
    "print(grid_search.best_estimator_)"
   ]
  },
  {
   "cell_type": "code",
   "execution_count": 26,
   "metadata": {},
   "outputs": [
    {
     "name": "stdout",
     "output_type": "stream",
     "text": "rmse:0.176885\n[392]\tvalidation_0-rmse:0.176085\n[393]\tvalidation_0-rmse:0.175379\n[394]\tvalidation_0-rmse:0.175273\n[395]\tvalidation_0-rmse:0.17445\n[396]\tvalidation_0-rmse:0.17396\n[397]\tvalidation_0-rmse:0.173617\n[398]\tvalidation_0-rmse:0.173323\n[399]\tvalidation_0-rmse:0.172784\n[400]\tvalidation_0-rmse:0.17258\n[401]\tvalidation_0-rmse:0.17238\n[402]\tvalidation_0-rmse:0.171726\n[403]\tvalidation_0-rmse:0.171007\n[404]\tvalidation_0-rmse:0.170281\n[405]\tvalidation_0-rmse:0.169871\n[406]\tvalidation_0-rmse:0.16964\n[407]\tvalidation_0-rmse:0.169397\n[408]\tvalidation_0-rmse:0.169007\n[409]\tvalidation_0-rmse:0.168396\n[410]\tvalidation_0-rmse:0.16783\n[411]\tvalidation_0-rmse:0.167715\n[412]\tvalidation_0-rmse:0.167245\n[413]\tvalidation_0-rmse:0.167066\n[414]\tvalidation_0-rmse:0.166057\n[415]\tvalidation_0-rmse:0.16542\n[416]\tvalidation_0-rmse:0.16504\n[417]\tvalidation_0-rmse:0.164929\n[418]\tvalidation_0-rmse:0.16473\n[419]\tvalidation_0-rmse:0.164007\n[420]\tvalidation_0-rmse:0.163869\n[421]\tvalidation_0-rmse:0.163659\n[422]\tvalidation_0-rmse:0.163553\n[423]\tvalidation_0-rmse:0.16346\n[424]\tvalidation_0-rmse:0.162903\n[425]\tvalidation_0-rmse:0.162367\n[426]\tvalidation_0-rmse:0.162156\n[427]\tvalidation_0-rmse:0.161615\n[428]\tvalidation_0-rmse:0.161517\n[429]\tvalidation_0-rmse:0.161169\n[430]\tvalidation_0-rmse:0.161042\n[431]\tvalidation_0-rmse:0.160798\n[432]\tvalidation_0-rmse:0.160544\n[433]\tvalidation_0-rmse:0.160329\n[434]\tvalidation_0-rmse:0.15946\n[435]\tvalidation_0-rmse:0.159366\n[436]\tvalidation_0-rmse:0.15906\n[437]\tvalidation_0-rmse:0.158642\n[438]\tvalidation_0-rmse:0.158464\n[439]\tvalidation_0-rmse:0.158339\n[440]\tvalidation_0-rmse:0.158197\n[441]\tvalidation_0-rmse:0.157893\n[442]\tvalidation_0-rmse:0.157201\n[443]\tvalidation_0-rmse:0.156775\n[444]\tvalidation_0-rmse:0.156614\n[445]\tvalidation_0-rmse:0.156417\n[446]\tvalidation_0-rmse:0.156234\n[447]\tvalidation_0-rmse:0.156041\n[448]\tvalidation_0-rmse:0.155291\n[449]\tvalidation_0-rmse:0.155032\n[450]\tvalidation_0-rmse:0.154873\n[451]\tvalidation_0-rmse:0.154682\n[452]\tvalidation_0-rmse:0.154606\n[453]\tvalidation_0-rmse:0.15415\n[454]\tvalidation_0-rmse:0.153741\n[455]\tvalidation_0-rmse:0.153496\n[456]\tvalidation_0-rmse:0.153116\n[457]\tvalidation_0-rmse:0.152491\n[458]\tvalidation_0-rmse:0.152347\n[459]\tvalidation_0-rmse:0.152128\n[460]\tvalidation_0-rmse:0.151925\n[461]\tvalidation_0-rmse:0.15111\n[462]\tvalidation_0-rmse:0.150866\n[463]\tvalidation_0-rmse:0.150703\n[464]\tvalidation_0-rmse:0.150475\n[465]\tvalidation_0-rmse:0.150289\n[466]\tvalidation_0-rmse:0.14966\n[467]\tvalidation_0-rmse:0.149436\n[468]\tvalidation_0-rmse:0.149275\n[469]\tvalidation_0-rmse:0.148707\n[470]\tvalidation_0-rmse:0.148528\n[471]\tvalidation_0-rmse:0.148379\n[472]\tvalidation_0-rmse:0.147853\n[473]\tvalidation_0-rmse:0.147513\n[474]\tvalidation_0-rmse:0.147344\n[475]\tvalidation_0-rmse:0.147135\n[476]\tvalidation_0-rmse:0.147028\n[477]\tvalidation_0-rmse:0.146711\n[478]\tvalidation_0-rmse:0.146158\n[479]\tvalidation_0-rmse:0.14566\n[480]\tvalidation_0-rmse:0.145491\n[481]\tvalidation_0-rmse:0.145355\n[482]\tvalidation_0-rmse:0.145211\n[483]\tvalidation_0-rmse:0.145009\n[484]\tvalidation_0-rmse:0.144489\n[485]\tvalidation_0-rmse:0.144013\n[486]\tvalidation_0-rmse:0.143894\n[487]\tvalidation_0-rmse:0.14371\n[488]\tvalidation_0-rmse:0.143036\n[489]\tvalidation_0-rmse:0.142893\n[490]\tvalidation_0-rmse:0.142421\n[491]\tvalidation_0-rmse:0.141902\n[492]\tvalidation_0-rmse:0.14153\n[493]\tvalidation_0-rmse:0.141275\n[494]\tvalidation_0-rmse:0.140847\n[495]\tvalidation_0-rmse:0.140679\n[496]\tvalidation_0-rmse:0.140024\n[497]\tvalidation_0-rmse:0.139623\n[498]\tvalidation_0-rmse:0.139538\n[499]\tvalidation_0-rmse:0.13908\n[500]\tvalidation_0-rmse:0.138902\n[501]\tvalidation_0-rmse:0.138747\n[502]\tvalidation_0-rmse:0.138279\n[503]\tvalidation_0-rmse:0.137794\n[504]\tvalidation_0-rmse:0.13734\n[505]\tvalidation_0-rmse:0.136759\n[506]\tvalidation_0-rmse:0.13653\n[507]\tvalidation_0-rmse:0.136466\n[508]\tvalidation_0-rmse:0.136233\n[509]\tvalidation_0-rmse:0.13612\n[510]\tvalidation_0-rmse:0.135663\n[511]\tvalidation_0-rmse:0.135502\n[512]\tvalidation_0-rmse:0.135081\n[513]\tvalidation_0-rmse:0.134664\n[514]\tvalidation_0-rmse:0.134533\n[515]\tvalidation_0-rmse:0.134421\n[516]\tvalidation_0-rmse:0.13401\n[517]\tvalidation_0-rmse:0.133481\n[518]\tvalidation_0-rmse:0.133282\n[519]\tvalidation_0-rmse:0.133075\n[520]\tvalidation_0-rmse:0.13286\n[521]\tvalidation_0-rmse:0.132756\n[522]\tvalidation_0-rmse:0.132672\n[523]\tvalidation_0-rmse:0.132173\n[524]\tvalidation_0-rmse:0.13202\n[525]\tvalidation_0-rmse:0.131597\n[526]\tvalidation_0-rmse:0.131161\n[527]\tvalidation_0-rmse:0.131084\n[528]\tvalidation_0-rmse:0.13069\n[529]\tvalidation_0-rmse:0.130613\n[530]\tvalidation_0-rmse:0.130509\n[531]\tvalidation_0-rmse:0.130075\n[532]\tvalidation_0-rmse:0.129957\n[533]\tvalidation_0-rmse:0.129409\n[534]\tvalidation_0-rmse:0.12904\n[535]\tvalidation_0-rmse:0.128586\n[536]\tvalidation_0-rmse:0.12844\n[537]\tvalidation_0-rmse:0.127995\n[538]\tvalidation_0-rmse:0.127281\n[539]\tvalidation_0-rmse:0.126884\n[540]\tvalidation_0-rmse:0.126747\n[541]\tvalidation_0-rmse:0.126475\n[542]\tvalidation_0-rmse:0.126004\n[543]\tvalidation_0-rmse:0.125852\n[544]\tvalidation_0-rmse:0.125496\n[545]\tvalidation_0-rmse:0.124853\n[546]\tvalidation_0-rmse:0.124769\n[547]\tvalidation_0-rmse:0.124497\n[548]\tvalidation_0-rmse:0.12438\n[549]\tvalidation_0-rmse:0.124053\n[550]\tvalidation_0-rmse:0.123618\n[551]\tvalidation_0-rmse:0.123485\n[552]\tvalidation_0-rmse:0.123368\n[553]\tvalidation_0-rmse:0.123297\n[554]\tvalidation_0-rmse:0.123041\n[555]\tvalidation_0-rmse:0.122915\n[556]\tvalidation_0-rmse:0.12266\n[557]\tvalidation_0-rmse:0.122588\n[558]\tvalidation_0-rmse:0.122437\n[559]\tvalidation_0-rmse:0.122025\n[560]\tvalidation_0-rmse:0.121775\n[561]\tvalidation_0-rmse:0.121536\n[562]\tvalidation_0-rmse:0.121414\n[563]\tvalidation_0-rmse:0.121083\n[564]\tvalidation_0-rmse:0.120859\n[565]\tvalidation_0-rmse:0.120763\n[566]\tvalidation_0-rmse:0.120657\n[567]\tvalidation_0-rmse:0.120589\n[568]\tvalidation_0-rmse:0.120348\n[569]\tvalidation_0-rmse:0.120213\n[570]\tvalidation_0-rmse:0.119955\n[571]\tvalidation_0-rmse:0.119718\n[572]\tvalidation_0-rmse:0.119318\n[573]\tvalidation_0-rmse:0.119244\n[574]\tvalidation_0-rmse:0.119035\n[575]\tvalidation_0-rmse:0.11892\n[576]\tvalidation_0-rmse:0.118557\n[577]\tvalidation_0-rmse:0.118228\n[578]\tvalidation_0-rmse:0.118032\n[579]\tvalidation_0-rmse:0.117964\n[580]\tvalidation_0-rmse:0.117844\n[581]\tvalidation_0-rmse:0.1175\n[582]\tvalidation_0-rmse:0.117411\n[583]\tvalidation_0-rmse:0.117295\n[584]\tvalidation_0-rmse:0.117228\n[585]\tvalidation_0-rmse:0.116907\n[586]\tvalidation_0-rmse:0.116658\n[587]\tvalidation_0-rmse:0.116321\n[588]\tvalidation_0-rmse:0.116254\n[589]\tvalidation_0-rmse:0.116167\n[590]\tvalidation_0-rmse:0.11594\n[591]\tvalidation_0-rmse:0.115572\n[592]\tvalidation_0-rmse:0.115463\n[593]\tvalidation_0-rmse:0.115348\n[594]\tvalidation_0-rmse:0.115121\n[595]\tvalidation_0-rmse:0.115051\n[596]\tvalidation_0-rmse:0.114938\n[597]\tvalidation_0-rmse:0.114873\n[598]\tvalidation_0-rmse:0.114496\n[599]\tvalidation_0-rmse:0.114371\n[600]\tvalidation_0-rmse:0.114069\n[601]\tvalidation_0-rmse:0.113878\n[602]\tvalidation_0-rmse:0.113566\n[603]\tvalidation_0-rmse:0.11329\n[604]\tvalidation_0-rmse:0.113049\n[605]\tvalidation_0-rmse:0.112911\n[606]\tvalidation_0-rmse:0.112815\n[607]\tvalidation_0-rmse:0.112464\n[608]\tvalidation_0-rmse:0.112315\n[609]\tvalidation_0-rmse:0.11204\n[610]\tvalidation_0-rmse:0.11197\n[611]\tvalidation_0-rmse:0.111456\n[612]\tvalidation_0-rmse:0.111132\n[613]\tvalidation_0-rmse:0.11093\n[614]\tvalidation_0-rmse:0.1107\n[615]\tvalidation_0-rmse:0.110084\n[616]\tvalidation_0-rmse:0.10999\n[617]\tvalidation_0-rmse:0.10983\n[618]\tvalidation_0-rmse:0.109721\n[619]\tvalidation_0-rmse:0.109639\n[620]\tvalidation_0-rmse:0.109303\n[621]\tvalidation_0-rmse:0.108982\n[622]\tvalidation_0-rmse:0.10855\n[623]\tvalidation_0-rmse:0.108451\n[624]\tvalidation_0-rmse:0.108201\n[625]\tvalidation_0-rmse:0.10809\n[626]\tvalidation_0-rmse:0.107525\n[627]\tvalidation_0-rmse:0.107384\n[628]\tvalidation_0-rmse:0.107266\n[629]\tvalidation_0-rmse:0.106967\n[630]\tvalidation_0-rmse:0.106446\n[631]\tvalidation_0-rmse:0.106374\n[632]\tvalidation_0-rmse:0.106149\n[633]\tvalidation_0-rmse:0.106087\n[634]\tvalidation_0-rmse:0.105998\n[635]\tvalidation_0-rmse:0.105702\n[636]\tvalidation_0-rmse:0.105425\n[637]\tvalidation_0-rmse:0.104983\n[638]\tvalidation_0-rmse:0.104878\n[639]\tvalidation_0-rmse:0.104808\n[640]\tvalidation_0-rmse:0.104686\n[641]\tvalidation_0-rmse:0.104356\n[642]\tvalidation_0-rmse:0.104255\n[643]\tvalidation_0-rmse:0.104172\n[644]\tvalidation_0-rmse:0.104089\n[645]\tvalidation_0-rmse:0.10401\n[646]\tvalidation_0-rmse:0.103896\n[647]\tvalidation_0-rmse:0.103676\n[648]\tvalidation_0-rmse:0.103267\n[649]\tvalidation_0-rmse:0.103181\n[650]\tvalidation_0-rmse:0.102933\n[651]\tvalidation_0-rmse:0.102553\n[652]\tvalidation_0-rmse:0.10245\n[653]\tvalidation_0-rmse:0.102356\n[654]\tvalidation_0-rmse:0.102293\n[655]\tvalidation_0-rmse:0.101964\n[656]\tvalidation_0-rmse:0.101909\n[657]\tvalidation_0-rmse:0.101814\n[658]\tvalidation_0-rmse:0.101716\n[659]\tvalidation_0-rmse:0.101597\n[660]\tvalidation_0-rmse:0.10141\n[661]\tvalidation_0-rmse:0.101207\n[662]\tvalidation_0-rmse:0.100716\n[663]\tvalidation_0-rmse:0.100509\n[664]\tvalidation_0-rmse:0.100171\n[665]\tvalidation_0-rmse:0.099717\n[666]\tvalidation_0-rmse:0.099506\n[667]\tvalidation_0-rmse:0.099086\n[668]\tvalidation_0-rmse:0.098955\n[669]\tvalidation_0-rmse:0.098866\n[670]\tvalidation_0-rmse:0.098693\n[671]\tvalidation_0-rmse:0.098616\n[672]\tvalidation_0-rmse:0.098383\n[673]\tvalidation_0-rmse:0.098058\n[674]\tvalidation_0-rmse:0.097722\n[675]\tvalidation_0-rmse:0.097426\n[676]\tvalidation_0-rmse:0.097345\n[677]\tvalidation_0-rmse:0.097271\n[678]\tvalidation_0-rmse:0.097179\n[679]\tvalidation_0-rmse:0.096792\n[680]\tvalidation_0-rmse:0.096557\n[681]\tvalidation_0-rmse:0.096496\n[682]\tvalidation_0-rmse:0.096423\n[683]\tvalidation_0-rmse:0.096313\n[684]\tvalidation_0-rmse:0.096258\n[685]\tvalidation_0-rmse:0.096138\n[686]\tvalidation_0-rmse:0.09606\n[687]\tvalidation_0-rmse:0.095974\n[688]\tvalidation_0-rmse:0.095862\n[689]\tvalidation_0-rmse:0.095794\n[690]\tvalidation_0-rmse:0.095713\n[691]\tvalidation_0-rmse:0.095618\n[692]\tvalidation_0-rmse:0.095566\n[693]\tvalidation_0-rmse:0.095257\n[694]\tvalidation_0-rmse:0.095183\n[695]\tvalidation_0-rmse:0.095105\n[696]\tvalidation_0-rmse:0.094999\n[697]\tvalidation_0-rmse:0.094954\n[698]\tvalidation_0-rmse:0.094597\n[699]\tvalidation_0-rmse:0.094311\n[700]\tvalidation_0-rmse:0.094013\n[701]\tvalidation_0-rmse:0.093916\n[702]\tvalidation_0-rmse:0.093843\n[703]\tvalidation_0-rmse:0.093744\n[704]\tvalidation_0-rmse:0.093697\n[705]\tvalidation_0-rmse:0.093367\n[706]\tvalidation_0-rmse:0.093227\n[707]\tvalidation_0-rmse:0.093143\n[708]\tvalidation_0-rmse:0.092889\n[709]\tvalidation_0-rmse:0.09284\n[710]\tvalidation_0-rmse:0.092766\n[711]\tvalidation_0-rmse:0.092635\n[712]\tvalidation_0-rmse:0.092323\n[713]\tvalidation_0-rmse:0.092283\n[714]\tvalidation_0-rmse:0.092104\n[715]\tvalidation_0-rmse:0.091844\n[716]\tvalidation_0-rmse:0.091757\n[717]\tvalidation_0-rmse:0.091665\n[718]\tvalidation_0-rmse:0.091442\n[719]\tvalidation_0-rmse:0.090903\n[720]\tvalidation_0-rmse:0.090716\n[721]\tvalidation_0-rmse:0.090647\n[722]\tvalidation_0-rmse:0.090325\n[723]\tvalidation_0-rmse:0.090262\n[724]\tvalidation_0-rmse:0.090186\n[725]\tvalidation_0-rmse:0.089845\n[726]\tvalidation_0-rmse:0.089779\n[727]\tvalidation_0-rmse:0.089697\n[728]\tvalidation_0-rmse:0.089602\n[729]\tvalidation_0-rmse:0.089311\n[730]\tvalidation_0-rmse:0.089234\n[731]\tvalidation_0-rmse:0.089164\n[732]\tvalidation_0-rmse:0.088978\n[733]\tvalidation_0-rmse:0.088754\n[734]\tvalidation_0-rmse:0.088579\n[735]\tvalidation_0-rmse:0.088277\n[736]\tvalidation_0-rmse:0.088217\n[737]\tvalidation_0-rmse:0.08795\n[738]\tvalidation_0-rmse:0.087638\n[739]\tvalidation_0-rmse:0.087589\n[740]\tvalidation_0-rmse:0.087267\n[741]\tvalidation_0-rmse:0.087198\n[742]\tvalidation_0-rmse:0.086842\n[743]\tvalidation_0-rmse:0.086604\n[744]\tvalidation_0-rmse:0.086384\n[745]\tvalidation_0-rmse:0.086199\n[746]\tvalidation_0-rmse:0.085915\n[747]\tvalidation_0-rmse:0.085663\n[748]\tvalidation_0-rmse:0.085339\n[749]\tvalidation_0-rmse:0.085146\n[750]\tvalidation_0-rmse:0.084773\n[751]\tvalidation_0-rmse:0.084701\n[752]\tvalidation_0-rmse:0.084525\n[753]\tvalidation_0-rmse:0.084459\n[754]\tvalidation_0-rmse:0.084245\n[755]\tvalidation_0-rmse:0.084011\n[756]\tvalidation_0-rmse:0.083716\n[757]\tvalidation_0-rmse:0.083267\n[758]\tvalidation_0-rmse:0.083059\n[759]\tvalidation_0-rmse:0.082941\n[760]\tvalidation_0-rmse:0.082722\n[761]\tvalidation_0-rmse:0.082528\n[762]\tvalidation_0-rmse:0.082413\n[763]\tvalidation_0-rmse:0.082152\n[764]\tvalidation_0-rmse:0.081832\n[765]\tvalidation_0-rmse:0.081633\n[766]\tvalidation_0-rmse:0.081339\n[767]\tvalidation_0-rmse:0.081169\n[768]\tvalidation_0-rmse:0.081142\n[769]\tvalidation_0-rmse:0.08098\n[770]\tvalidation_0-rmse:0.080761\n[771]\tvalidation_0-rmse:0.080499\n[772]\tvalidation_0-rmse:0.080465\n[773]\tvalidation_0-rmse:0.080252\n[774]\tvalidation_0-rmse:0.079972\n[775]\tvalidation_0-rmse:0.079665\n[776]\tvalidation_0-rmse:0.079402\n[777]\tvalidation_0-rmse:0.079141\n[778]\tvalidation_0-rmse:0.079046\n[779]\tvalidation_0-rmse:0.078891\n[780]\tvalidation_0-rmse:0.078844\n[781]\tvalidation_0-rmse:0.078772\n[782]\tvalidation_0-rmse:0.078532\n[783]\tvalidation_0-rmse:0.078282\n[784]\tvalidation_0-rmse:0.078259\n[785]\tvalidation_0-rmse:0.078145\n[786]\tvalidation_0-rmse:0.078066\n[787]\tvalidation_0-rmse:0.077997\n[788]\tvalidation_0-rmse:0.077797\n[789]\tvalidation_0-rmse:0.077498\n[790]\tvalidation_0-rmse:0.077265\n[791]\tvalidation_0-rmse:0.077011\n[792]\tvalidation_0-rmse:0.076835\n[793]\tvalidation_0-rmse:0.076733\n[794]\tvalidation_0-rmse:0.076688\n[795]\tvalidation_0-rmse:0.076628\n[796]\tvalidation_0-rmse:0.076395\n[797]\tvalidation_0-rmse:0.076146\n[798]\tvalidation_0-rmse:0.075861\n[799]\tvalidation_0-rmse:0.075725\n[800]\tvalidation_0-rmse:0.075635\n[801]\tvalidation_0-rmse:0.075434\n[802]\tvalidation_0-rmse:0.075335\n[803]\tvalidation_0-rmse:0.075293\n[804]\tvalidation_0-rmse:0.075212\n[805]\tvalidation_0-rmse:0.07509\n[806]\tvalidation_0-rmse:0.07495\n[807]\tvalidation_0-rmse:0.074851\n[808]\tvalidation_0-rmse:0.074782\n[809]\tvalidation_0-rmse:0.074744\n[810]\tvalidation_0-rmse:0.074669\n[811]\tvalidation_0-rmse:0.07459\n[812]\tvalidation_0-rmse:0.074502\n[813]\tvalidation_0-rmse:0.074299\n[814]\tvalidation_0-rmse:0.074025\n[815]\tvalidation_0-rmse:0.073961\n[816]\tvalidation_0-rmse:0.073726\n[817]\tvalidation_0-rmse:0.073566\n[818]\tvalidation_0-rmse:0.073311\n[819]\tvalidation_0-rmse:0.073094\n[820]\tvalidation_0-rmse:0.073041\n[821]\tvalidation_0-rmse:0.072928\n[822]\tvalidation_0-rmse:0.072673\n[823]\tvalidation_0-rmse:0.072435\n[824]\tvalidation_0-rmse:0.072201\n[825]\tvalidation_0-rmse:0.072007\n[826]\tvalidation_0-rmse:0.07185\n[827]\tvalidation_0-rmse:0.071635\n[828]\tvalidation_0-rmse:0.071576\n[829]\tvalidation_0-rmse:0.071412\n[830]\tvalidation_0-rmse:0.07135\n[831]\tvalidation_0-rmse:0.071244\n[832]\tvalidation_0-rmse:0.071136\n[833]\tvalidation_0-rmse:0.071062\n[834]\tvalidation_0-rmse:0.070975\n[835]\tvalidation_0-rmse:0.070844\n[836]\tvalidation_0-rmse:0.070773\n[837]\tvalidation_0-rmse:0.070573\n[838]\tvalidation_0-rmse:0.070411\n[839]\tvalidation_0-rmse:0.070291\n[840]\tvalidation_0-rmse:0.070179\n[841]\tvalidation_0-rmse:0.069956\n[842]\tvalidation_0-rmse:0.06984\n[843]\tvalidation_0-rmse:0.069565\n[844]\tvalidation_0-rmse:0.0694\n[845]\tvalidation_0-rmse:0.069214\n[846]\tvalidation_0-rmse:0.069113\n[847]\tvalidation_0-rmse:0.069019\n[848]\tvalidation_0-rmse:0.068835\n[849]\tvalidation_0-rmse:0.068675\n[850]\tvalidation_0-rmse:0.068499\n[851]\tvalidation_0-rmse:0.068457\n[852]\tvalidation_0-rmse:0.06828\n[853]\tvalidation_0-rmse:0.068242\n[854]\tvalidation_0-rmse:0.068173\n[855]\tvalidation_0-rmse:0.068067\n[856]\tvalidation_0-rmse:0.067962\n[857]\tvalidation_0-rmse:0.06785\n[858]\tvalidation_0-rmse:0.067675\n[859]\tvalidation_0-rmse:0.067514\n[860]\tvalidation_0-rmse:0.067478\n[861]\tvalidation_0-rmse:0.067292\n[862]\tvalidation_0-rmse:0.067194\n[863]\tvalidation_0-rmse:0.067042\n[864]\tvalidation_0-rmse:0.066731\n[865]\tvalidation_0-rmse:0.066696\n[866]\tvalidation_0-rmse:0.066608\n[867]\tvalidation_0-rmse:0.066434\n[868]\tvalidation_0-rmse:0.066375\n[869]\tvalidation_0-rmse:0.066328\n[870]\tvalidation_0-rmse:0.066138\n[871]\tvalidation_0-rmse:0.065969\n[872]\tvalidation_0-rmse:0.065844\n[873]\tvalidation_0-rmse:0.06579\n[874]\tvalidation_0-rmse:0.065736\n[875]\tvalidation_0-rmse:0.065692\n[876]\tvalidation_0-rmse:0.065602\n[877]\tvalidation_0-rmse:0.065359\n[878]\tvalidation_0-rmse:0.065162\n[879]\tvalidation_0-rmse:0.06512\n[880]\tvalidation_0-rmse:0.065058\n[881]\tvalidation_0-rmse:0.065001\n[882]\tvalidation_0-rmse:0.064949\n[883]\tvalidation_0-rmse:0.064812\n[884]\tvalidation_0-rmse:0.064761\n[885]\tvalidation_0-rmse:0.064714\n[886]\tvalidation_0-rmse:0.064531\n[887]\tvalidation_0-rmse:0.064415\n[888]\tvalidation_0-rmse:0.064206\n[889]\tvalidation_0-rmse:0.064172\n[890]\tvalidation_0-rmse:0.064064\n[891]\tvalidation_0-rmse:0.064028\n[892]\tvalidation_0-rmse:0.063957\n[893]\tvalidation_0-rmse:0.063899\n[894]\tvalidation_0-rmse:0.063565\n[895]\tvalidation_0-rmse:0.06351\n[896]\tvalidation_0-rmse:0.063383\n[897]\tvalidation_0-rmse:0.063137\n[898]\tvalidation_0-rmse:0.063094\n[899]\tvalidation_0-rmse:0.062977\n[900]\tvalidation_0-rmse:0.062918\n[901]\tvalidation_0-rmse:0.062866\n[902]\tvalidation_0-rmse:0.062704\n[903]\tvalidation_0-rmse:0.062652\n[904]\tvalidation_0-rmse:0.062602\n[905]\tvalidation_0-rmse:0.06248\n[906]\tvalidation_0-rmse:0.062389\n[907]\tvalidation_0-rmse:0.062351\n[908]\tvalidation_0-rmse:0.062301\n[909]\tvalidation_0-rmse:0.06215\n[910]\tvalidation_0-rmse:0.062102\n[911]\tvalidation_0-rmse:0.062054\n[912]\tvalidation_0-rmse:0.06198\n[913]\tvalidation_0-rmse:0.061837\n[914]\tvalidation_0-rmse:0.061611\n[915]\tvalidation_0-rmse:0.061468\n[916]\tvalidation_0-rmse:0.061276\n[917]\tvalidation_0-rmse:0.061239\n[918]\tvalidation_0-rmse:0.061169\n[919]\tvalidation_0-rmse:0.061124\n[920]\tvalidation_0-rmse:0.060991\n[921]\tvalidation_0-rmse:0.060799\n[922]\tvalidation_0-rmse:0.060756\n[923]\tvalidation_0-rmse:0.0607\n[924]\tvalidation_0-rmse:0.060527\n[925]\tvalidation_0-rmse:0.06045\n[926]\tvalidation_0-rmse:0.060348\n[927]\tvalidation_0-rmse:0.060172\n[928]\tvalidation_0-rmse:0.060132\n[929]\tvalidation_0-rmse:0.060093\n[930]\tvalidation_0-rmse:0.060038\n[931]\tvalidation_0-rmse:0.059977\n[932]\tvalidation_0-rmse:0.05992\n[933]\tvalidation_0-rmse:0.059725\n[934]\tvalidation_0-rmse:0.059662\n[935]\tvalidation_0-rmse:0.059564\n[936]\tvalidation_0-rmse:0.059511\n[937]\tvalidation_0-rmse:0.059357\n[938]\tvalidation_0-rmse:0.059322\n[939]\tvalidation_0-rmse:0.059205\n[940]\tvalidation_0-rmse:0.059084\n[941]\tvalidation_0-rmse:0.058933\n[942]\tvalidation_0-rmse:0.058898\n[943]\tvalidation_0-rmse:0.058751\n[944]\tvalidation_0-rmse:0.058661\n[945]\tvalidation_0-rmse:0.05841\n[946]\tvalidation_0-rmse:0.058373\n[947]\tvalidation_0-rmse:0.058282\n[948]\tvalidation_0-rmse:0.058142\n[949]\tvalidation_0-rmse:0.058059\n[950]\tvalidation_0-rmse:0.057946\n[951]\tvalidation_0-rmse:0.057873\n[952]\tvalidation_0-rmse:0.05783\n[953]\tvalidation_0-rmse:0.057725\n[954]\tvalidation_0-rmse:0.057529\n[955]\tvalidation_0-rmse:0.057378\n[956]\tvalidation_0-rmse:0.057302\n[957]\tvalidation_0-rmse:0.057251\n[958]\tvalidation_0-rmse:0.057184\n[959]\tvalidation_0-rmse:0.05703\n[960]\tvalidation_0-rmse:0.056964\n[961]\tvalidation_0-rmse:0.056838\n[962]\tvalidation_0-rmse:0.056825\n[963]\tvalidation_0-rmse:0.056648\n[964]\tvalidation_0-rmse:0.056614\n[965]\tvalidation_0-rmse:0.056385\n[966]\tvalidation_0-rmse:0.056373\n[967]\tvalidation_0-rmse:0.056322\n[968]\tvalidation_0-rmse:0.056175\n[969]\tvalidation_0-rmse:0.056163\n[970]\tvalidation_0-rmse:0.055989\n[971]\tvalidation_0-rmse:0.055956\n[972]\tvalidation_0-rmse:0.055937\n[973]\tvalidation_0-rmse:0.055894\n[974]\tvalidation_0-rmse:0.055804\n[975]\tvalidation_0-rmse:0.055713\n[976]\tvalidation_0-rmse:0.055576\n[977]\tvalidation_0-rmse:0.055363\n[978]\tvalidation_0-rmse:0.0552\n[979]\tvalidation_0-rmse:0.055169\n[980]\tvalidation_0-rmse:0.055053\n[981]\tvalidation_0-rmse:0.054857\n[982]\tvalidation_0-rmse:0.054763\n[983]\tvalidation_0-rmse:0.054581\n[984]\tvalidation_0-rmse:0.054511\n[985]\tvalidation_0-rmse:0.054293\n[986]\tvalidation_0-rmse:0.054073\n[987]\tvalidation_0-rmse:0.054008\n[988]\tvalidation_0-rmse:0.053805\n[989]\tvalidation_0-rmse:0.053708\n[990]\tvalidation_0-rmse:0.05349\n[991]\tvalidation_0-rmse:0.05324\n[992]\tvalidation_0-rmse:0.053122\n[993]\tvalidation_0-rmse:0.053089\n[994]\tvalidation_0-rmse:0.053015\n[995]\tvalidation_0-rmse:0.052869\n[996]\tvalidation_0-rmse:0.052687\n[997]\tvalidation_0-rmse:0.052658\n[998]\tvalidation_0-rmse:0.052611\n[999]\tvalidation_0-rmse:0.052462\n"
    },
    {
     "data": {
      "text/plain": "XGBRegressor(base_score=0.5, booster='gbtree', colsample_bylevel=1,\n             colsample_bynode=1, colsample_bytree=1, gamma=0,\n             importance_type='gain', learning_rate=0.05, max_delta_step=0,\n             max_depth=3, min_child_weight=1, missing=None, n_estimators=1000,\n             n_jobs=1, nthread=None, objective='reg:linear', random_state=0,\n             reg_alpha=0, reg_lambda=1, scale_pos_weight=1, seed=None,\n             silent=None, subsample=1, verbosity=1)"
     },
     "execution_count": 26,
     "metadata": {},
     "output_type": "execute_result"
    }
   ],
   "source": [
    "xgbr = xgb.XGBRegressor(n_estimators=1000, learning_rate=0.05)\n",
    "xgbr.fit(X_train, y_train, eval_set=[(X_train, y_train)], verbose=True, early_stopping_rounds=5)"
   ]
  },
  {
   "cell_type": "code",
   "execution_count": 28,
   "metadata": {},
   "outputs": [],
   "source": [
    "testPred = xgbr.predict(test)"
   ]
  },
  {
   "cell_type": "code",
   "execution_count": 29,
   "metadata": {},
   "outputs": [
    {
     "data": {
      "text/plain": "array([20.748215, 20.720142, 20.782335, ..., 27.94317 , 27.43327 ,\n       27.281336], dtype=float32)"
     },
     "execution_count": 29,
     "metadata": {},
     "output_type": "execute_result"
    }
   ],
   "source": [
    "testPred"
   ]
  },
  {
   "cell_type": "code",
   "execution_count": 30,
   "metadata": {},
   "outputs": [],
   "source": [
    "outputDf = pd.DataFrame()\n",
    "outputDf['id'] = test.index\n",
    "outputDf['Y18'] = testPred"
   ]
  },
  {
   "cell_type": "code",
   "execution_count": 31,
   "metadata": {},
   "outputs": [],
   "source": [
    "outputDf.to_csv('submission.csv', index=False)"
   ]
  }
 ]
}