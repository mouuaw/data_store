{
 "nbformat": 4,
 "nbformat_minor": 2,
 "metadata": {
  "language_info": {
   "name": "python",
   "codemirror_mode": {
    "name": "ipython",
    "version": 3
   },
   "version": "3.7.3-final"
  },
  "orig_nbformat": 2,
  "file_extension": ".py",
  "mimetype": "text/x-python",
  "name": "python",
  "npconvert_exporter": "python",
  "pygments_lexer": "ipython3",
  "version": 3,
  "kernelspec": {
   "name": "python37364bitbaseconda3e8d1efd23e942ffb39a1c2f774bdc3f",
   "display_name": "Python 3.7.3 64-bit ('base': conda)"
  }
 },
 "cells": [
  {
   "cell_type": "code",
   "execution_count": 1,
   "metadata": {},
   "outputs": [],
   "source": [
    "import numpy as np\n",
    "import pandas as pd\n",
    "import math\n",
    "\n",
    "import seaborn as sns\n",
    "from sklearn.model_selection import train_test_split\n",
    "from matplotlib import pyplot as plt\n",
    "from scipy.stats import chi2_contingency\n",
    "from sklearn.preprocessing import StandardScaler\n",
    "\n",
    "import warnings\n",
    "warnings.filterwarnings('ignore')\n",
    "\n",
    "%matplotlib inline"
   ]
  },
  {
   "cell_type": "code",
   "execution_count": 3,
   "metadata": {},
   "outputs": [],
   "source": [
    "train = pd.read_csv('../data/train.csv', index_col='id')\n",
    "test = pd.read_csv('../data/test.csv', index_col='id')\n",
    "submission = pd.read_csv('../data/sample_submission.csv', index_col='id')"
   ]
  },
  {
   "cell_type": "code",
   "execution_count": 4,
   "metadata": {},
   "outputs": [
    {
     "data": {
      "text/plain": "Index(['X00', 'X01', 'X02', 'X03', 'X04', 'X05', 'X06', 'X07', 'X08', 'X09',\n       'X10', 'X11', 'X12', 'X13', 'X14', 'X15', 'X16', 'X17', 'X18', 'X19',\n       'X20', 'X21', 'X22', 'X23', 'X24', 'X25', 'X26', 'X27', 'X28', 'X29',\n       'X30', 'X31', 'X32', 'X33', 'X34', 'X35', 'X36', 'X37', 'X38', 'X39',\n       'Y00', 'Y01', 'Y02', 'Y03', 'Y04', 'Y05', 'Y06', 'Y07', 'Y08', 'Y09',\n       'Y10', 'Y11', 'Y12', 'Y13', 'Y14', 'Y15', 'Y16', 'Y17', 'Y18'],\n      dtype='object')"
     },
     "execution_count": 4,
     "metadata": {},
     "output_type": "execute_result"
    }
   ],
   "source": [
    "train.columns"
   ]
  },
  {
   "cell_type": "code",
   "execution_count": 5,
   "metadata": {},
   "outputs": [
    {
     "data": {
      "text/html": "<div>\n<style scoped>\n    .dataframe tbody tr th:only-of-type {\n        vertical-align: middle;\n    }\n\n    .dataframe tbody tr th {\n        vertical-align: top;\n    }\n\n    .dataframe thead th {\n        text-align: right;\n    }\n</style>\n<table border=\"1\" class=\"dataframe\">\n  <thead>\n    <tr style=\"text-align: right;\">\n      <th></th>\n      <th>X00</th>\n      <th>X01</th>\n      <th>X02</th>\n      <th>X03</th>\n      <th>X04</th>\n      <th>X05</th>\n      <th>X06</th>\n      <th>X07</th>\n      <th>X08</th>\n      <th>X09</th>\n      <th>...</th>\n      <th>X31</th>\n      <th>X32</th>\n      <th>X33</th>\n      <th>X34</th>\n      <th>X35</th>\n      <th>X36</th>\n      <th>X37</th>\n      <th>X38</th>\n      <th>X39</th>\n      <th>Y18</th>\n    </tr>\n    <tr>\n      <th>id</th>\n      <th></th>\n      <th></th>\n      <th></th>\n      <th></th>\n      <th></th>\n      <th></th>\n      <th></th>\n      <th></th>\n      <th></th>\n      <th></th>\n      <th></th>\n      <th></th>\n      <th></th>\n      <th></th>\n      <th></th>\n      <th></th>\n      <th></th>\n      <th></th>\n      <th></th>\n      <th></th>\n      <th></th>\n    </tr>\n  </thead>\n  <tbody>\n    <tr>\n      <th>4320</th>\n      <td>19.3</td>\n      <td>987.7</td>\n      <td>0.9</td>\n      <td>2.2</td>\n      <td>0.0</td>\n      <td>1007.7</td>\n      <td>988.0</td>\n      <td>20.8</td>\n      <td>1007.8</td>\n      <td>1007.4</td>\n      <td>...</td>\n      <td>18.0</td>\n      <td>18.7</td>\n      <td>1008.3</td>\n      <td>0.0</td>\n      <td>353.5</td>\n      <td>0.0</td>\n      <td>84.0</td>\n      <td>77.6</td>\n      <td>0.0</td>\n      <td>20.5</td>\n    </tr>\n    <tr>\n      <th>4321</th>\n      <td>19.0</td>\n      <td>987.6</td>\n      <td>1.9</td>\n      <td>2.2</td>\n      <td>0.0</td>\n      <td>1007.7</td>\n      <td>988.0</td>\n      <td>20.6</td>\n      <td>1007.8</td>\n      <td>1007.4</td>\n      <td>...</td>\n      <td>17.7</td>\n      <td>19.0</td>\n      <td>1008.3</td>\n      <td>0.0</td>\n      <td>303.1</td>\n      <td>0.0</td>\n      <td>84.4</td>\n      <td>79.2</td>\n      <td>0.0</td>\n      <td>20.5</td>\n    </tr>\n    <tr>\n      <th>4322</th>\n      <td>19.1</td>\n      <td>987.6</td>\n      <td>2.0</td>\n      <td>1.4</td>\n      <td>0.0</td>\n      <td>1007.8</td>\n      <td>988.1</td>\n      <td>20.5</td>\n      <td>1007.9</td>\n      <td>1007.4</td>\n      <td>...</td>\n      <td>17.4</td>\n      <td>19.2</td>\n      <td>1008.3</td>\n      <td>0.0</td>\n      <td>307.3</td>\n      <td>0.0</td>\n      <td>84.9</td>\n      <td>79.9</td>\n      <td>0.0</td>\n      <td>20.5</td>\n    </tr>\n    <tr>\n      <th>4323</th>\n      <td>19.2</td>\n      <td>987.7</td>\n      <td>1.8</td>\n      <td>1.5</td>\n      <td>0.0</td>\n      <td>1007.9</td>\n      <td>988.1</td>\n      <td>20.5</td>\n      <td>1007.9</td>\n      <td>1007.5</td>\n      <td>...</td>\n      <td>17.5</td>\n      <td>19.3</td>\n      <td>1008.4</td>\n      <td>0.0</td>\n      <td>315.6</td>\n      <td>0.0</td>\n      <td>84.9</td>\n      <td>80.7</td>\n      <td>0.0</td>\n      <td>20.5</td>\n    </tr>\n    <tr>\n      <th>4324</th>\n      <td>19.2</td>\n      <td>987.8</td>\n      <td>1.4</td>\n      <td>1.4</td>\n      <td>0.0</td>\n      <td>1007.9</td>\n      <td>988.1</td>\n      <td>20.5</td>\n      <td>1007.8</td>\n      <td>1007.6</td>\n      <td>...</td>\n      <td>17.4</td>\n      <td>19.5</td>\n      <td>1008.4</td>\n      <td>0.0</td>\n      <td>321.2</td>\n      <td>0.0</td>\n      <td>84.9</td>\n      <td>80.9</td>\n      <td>0.0</td>\n      <td>20.5</td>\n    </tr>\n  </tbody>\n</table>\n<p>5 rows × 41 columns</p>\n</div>",
      "text/plain": "       X00    X01  X02  X03  X04     X05    X06   X07     X08     X09  ...  \\\nid                                                                     ...   \n4320  19.3  987.7  0.9  2.2  0.0  1007.7  988.0  20.8  1007.8  1007.4  ...   \n4321  19.0  987.6  1.9  2.2  0.0  1007.7  988.0  20.6  1007.8  1007.4  ...   \n4322  19.1  987.6  2.0  1.4  0.0  1007.8  988.1  20.5  1007.9  1007.4  ...   \n4323  19.2  987.7  1.8  1.5  0.0  1007.9  988.1  20.5  1007.9  1007.5  ...   \n4324  19.2  987.8  1.4  1.4  0.0  1007.9  988.1  20.5  1007.8  1007.6  ...   \n\n       X31   X32     X33  X34    X35  X36   X37   X38  X39   Y18  \nid                                                                \n4320  18.0  18.7  1008.3  0.0  353.5  0.0  84.0  77.6  0.0  20.5  \n4321  17.7  19.0  1008.3  0.0  303.1  0.0  84.4  79.2  0.0  20.5  \n4322  17.4  19.2  1008.3  0.0  307.3  0.0  84.9  79.9  0.0  20.5  \n4323  17.5  19.3  1008.4  0.0  315.6  0.0  84.9  80.7  0.0  20.5  \n4324  17.4  19.5  1008.4  0.0  321.2  0.0  84.9  80.9  0.0  20.5  \n\n[5 rows x 41 columns]"
     },
     "execution_count": 5,
     "metadata": {},
     "output_type": "execute_result"
    }
   ],
   "source": [
    "trainNotNull = train[train['Y18'].notnull()]\n",
    "trainNotNull = trainNotNull.drop(['Y00', 'Y01', 'Y02', 'Y03', 'Y04', 'Y05', 'Y06', 'Y07', 'Y08', 'Y09', 'Y10', 'Y11', 'Y12', 'Y13', 'Y14', 'Y15', 'Y16', 'Y17'], axis=1)\n",
    "trainNotNull.head()"
   ]
  },
  {
   "cell_type": "code",
   "execution_count": 6,
   "metadata": {},
   "outputs": [],
   "source": [
    "columnList = trainNotNull.columns\n",
    "target_var = ['Y18']\n",
    "input_var = list(filter(lambda x:x != 'Y18', columnList))"
   ]
  },
  {
   "cell_type": "code",
   "execution_count": 7,
   "metadata": {},
   "outputs": [],
   "source": [
    "X_train = trainNotNull[input_var]\n",
    "y_train = trainNotNull[target_var]"
   ]
  },
  {
   "cell_type": "code",
   "execution_count": 9,
   "metadata": {},
   "outputs": [
    {
     "name": "stdout",
     "output_type": "stream",
     "text": "[17:29:46] WARNING: C:/Jenkins/workspace/xgboost-win64_release_0.90/src/objective/regression_obj.cu:152: reg:linear is now deprecated in favor of reg:squarederror.\n{'colsample_bylevel': 1, 'colsample_bytree': 1, 'max_depth': 3, 'n_estimators': 1000}\nXGBRegressor(base_score=0.5, booster='gbtree', colsample_bylevel=1,\n             colsample_bynode=1, colsample_bytree=1, gamma=0,\n             importance_type='gain', learning_rate=0.1, max_delta_step=0,\n             max_depth=3, min_child_weight=1, missing=None, n_estimators=1000,\n             n_jobs=1, nthread=None, objective='reg:linear', random_state=0,\n             reg_alpha=0, reg_lambda=1, scale_pos_weight=1, seed=None,\n             silent=None, subsample=1, verbosity=1)\n"
    }
   ],
   "source": [
    "from sklearn.model_selection import GridSearchCV\n",
    "import xgboost as XGBRegressor\n",
    "\n",
    "param = {\n",
    "    'max_depth':[2,3,4],\n",
    "    'n_estimators':range(1000,2000,500),\n",
    "    'colsample_bytree':[0.5,0.7,1],\n",
    "    'colsample_bylevel':[0.5,0.7,1],\n",
    "}\n",
    "model = xgb.XGBRegressor()\n",
    "grid_search = GridSearchCV(estimator=model, param_grid=param, cv=5, \n",
    "                           scoring='neg_mean_squared_error',\n",
    "                           n_jobs=-1)\n",
    "\n",
    "grid_search.fit(X_train, y_train)\n",
    "print(grid_search.best_params_)\n",
    "print(grid_search.best_estimator_)"
   ]
  },
  {
   "cell_type": "code",
   "execution_count": 19,
   "metadata": {},
   "outputs": [
    {
     "name": "stdout",
     "output_type": "stream",
     "text": "[18:55:14] WARNING: C:/Jenkins/workspace/xgboost-win64_release_0.90/src/objective/regression_obj.cu:152: reg:linear is now deprecated in favor of reg:squarederror.\n[0]\tvalidation_0-rmse:25.6059\nWill train until validation_0-rmse hasn't improved in 5 rounds.\n[1]\tvalidation_0-rmse:24.3493\n[2]\tvalidation_0-rmse:23.1536\n[3]\tvalidation_0-rmse:22.0171\n[4]\tvalidation_0-rmse:20.9375\n[5]\tvalidation_0-rmse:19.9121\n[6]\tvalidation_0-rmse:18.9366\n[7]\tvalidation_0-rmse:18.0096\n[8]\tvalidation_0-rmse:17.1294\n[9]\tvalidation_0-rmse:16.2917\n[10]\tvalidation_0-rmse:15.496\n[11]\tvalidation_0-rmse:14.7392\n[12]\tvalidation_0-rmse:14.0201\n[13]\tvalidation_0-rmse:13.336\n[14]\tvalidation_0-rmse:12.6846\n[15]\tvalidation_0-rmse:12.0658\n[16]\tvalidation_0-rmse:11.4779\n[17]\tvalidation_0-rmse:10.9205\n[18]\tvalidation_0-rmse:10.3887\n[19]\tvalidation_0-rmse:9.88364\n[20]\tvalidation_0-rmse:9.40311\n[21]\tvalidation_0-rmse:8.94813\n[22]\tvalidation_0-rmse:8.51415\n[23]\tvalidation_0-rmse:8.1019\n[24]\tvalidation_0-rmse:7.7096\n[25]\tvalidation_0-rmse:7.33668\n[26]\tvalidation_0-rmse:6.98303\n[27]\tvalidation_0-rmse:6.64599\n[28]\tvalidation_0-rmse:6.32548\n[29]\tvalidation_0-rmse:6.02033\n[30]\tvalidation_0-rmse:5.73075\n[31]\tvalidation_0-rmse:5.45505\n[32]\tvalidation_0-rmse:5.19381\n[33]\tvalidation_0-rmse:4.94475\n[34]\tvalidation_0-rmse:4.70805\n[35]\tvalidation_0-rmse:4.48374\n[36]\tvalidation_0-rmse:4.26914\n[37]\tvalidation_0-rmse:4.06524\n[38]\tvalidation_0-rmse:3.87201\n[39]\tvalidation_0-rmse:3.6881\n[40]\tvalidation_0-rmse:3.51351\n[41]\tvalidation_0-rmse:3.34724\n[42]\tvalidation_0-rmse:3.1894\n[43]\tvalidation_0-rmse:3.03937\n[44]\tvalidation_0-rmse:2.89665\n[45]\tvalidation_0-rmse:2.76109\n[46]\tvalidation_0-rmse:2.63273\n[47]\tvalidation_0-rmse:2.51036\n[48]\tvalidation_0-rmse:2.39438\n[49]\tvalidation_0-rmse:2.28407\n[50]\tvalidation_0-rmse:2.17975\n[51]\tvalidation_0-rmse:2.08048\n[52]\tvalidation_0-rmse:1.98638\n[53]\tvalidation_0-rmse:1.89731\n[54]\tvalidation_0-rmse:1.81219\n[55]\tvalidation_0-rmse:1.73114\n[56]\tvalidation_0-rmse:1.6551\n[57]\tvalidation_0-rmse:1.58248\n[58]\tvalidation_0-rmse:1.51426\n[59]\tvalidation_0-rmse:1.44912\n[60]\tvalidation_0-rmse:1.38709\n[61]\tvalidation_0-rmse:1.32803\n[62]\tvalidation_0-rmse:1.27307\n[63]\tvalidation_0-rmse:1.22151\n[64]\tvalidation_0-rmse:1.17149\n[65]\tvalidation_0-rmse:1.1242\n[66]\tvalidation_0-rmse:1.07909\n[67]\tvalidation_0-rmse:1.03792\n[68]\tvalidation_0-rmse:0.997845\n[69]\tvalidation_0-rmse:0.961295\n[70]\tvalidation_0-rmse:0.924997\n[71]\tvalidation_0-rmse:0.890795\n[72]\tvalidation_0-rmse:0.860025\n[73]\tvalidation_0-rmse:0.831134\n[74]\tvalidation_0-rmse:0.802277\n[75]\tvalidation_0-rmse:0.775163\n[76]\tvalidation_0-rmse:0.751057\n[77]\tvalidation_0-rmse:0.726943\n[78]\tvalidation_0-rmse:0.704212\n[79]\tvalidation_0-rmse:0.682969\n[80]\tvalidation_0-rmse:0.664213\n[81]\tvalidation_0-rmse:0.645274\n[82]\tvalidation_0-rmse:0.627587\n[83]\tvalidation_0-rmse:0.612135\n[84]\tvalidation_0-rmse:0.596506\n[85]\tvalidation_0-rmse:0.581222\n[86]\tvalidation_0-rmse:0.567417\n[87]\tvalidation_0-rmse:0.554221\n[88]\tvalidation_0-rmse:0.542163\n[89]\tvalidation_0-rmse:0.531493\n[90]\tvalidation_0-rmse:0.520102\n[91]\tvalidation_0-rmse:0.509244\n[92]\tvalidation_0-rmse:0.499905\n[93]\tvalidation_0-rmse:0.49033\n[94]\tvalidation_0-rmse:0.482868\n[95]\tvalidation_0-rmse:0.474048\n[96]\tvalidation_0-rmse:0.466064\n[97]\tvalidation_0-rmse:0.459427\n[98]\tvalidation_0-rmse:0.453283\n[99]\tvalidation_0-rmse:0.447602\n"
    },
    {
     "data": {
      "text/plain": "XGBRegressor(base_score=0.5, booster='gbtree', colsample_bylevel=1,\n             colsample_bynode=1, colsample_bytree=1, gamma=0,\n             importance_type='gain', learning_rate=0.05, max_delta_step=0,\n             max_depth=3, min_child_weight=1, missing=None, n_estimators=100,\n             n_jobs=1, nthread=None, objective='reg:linear', random_state=0,\n             reg_alpha=0, reg_lambda=1, scale_pos_weight=1, seed=None,\n             silent=None, subsample=1, verbosity=1)"
     },
     "execution_count": 19,
     "metadata": {},
     "output_type": "execute_result"
    }
   ],
   "source": [
    "xgbr = xgb.XGBRegressor(n_estimators=2000, learning_rate=0.05, colsample_bylevel=1,  colsample_bytree=1, max_depth=3)\n",
    "xgbr.fit(X_train, y_train, eval_set=[(X_train, y_train)], verbose=True, early_stopping_rounds=5)"
   ]
  },
  {
   "cell_type": "code",
   "execution_count": 27,
   "metadata": {},
   "outputs": [
    {
     "name": "stdout",
     "output_type": "stream",
     "text": "{'max_depth': 10, 'min_child_samples': 100, 'num_leaves': 10}\nLGBMRegressor(boosting_type='gbdt', class_weight=None, colsample_bytree=1.0,\n              importance_type='split', learning_rate=0.1, max_depth=10,\n              min_child_samples=100, min_child_weight=0.001, min_split_gain=0.0,\n              n_estimators=100, n_jobs=-1, num_leaves=10, objective=None,\n              random_state=None, reg_alpha=0.0, reg_lambda=0.0, silent=True,\n              subsample=1.0, subsample_for_bin=200000, subsample_freq=0)\n"
    }
   ],
   "source": [
    "from lightgbm import LGBMRegressor\n",
    "\n",
    "param = {\n",
    "    'max_depth':[10,50,200],\n",
    "    'num_leaves': [10, 128, 160],\n",
    "    'min_child_samples': [60, 100, 200]\n",
    "    \n",
    "}\n",
    "lgbm_model = LGBMRegressor()\n",
    "lgbm_grid_search = GridSearchCV(estimator=lgbm_model, param_grid=param, cv=5, \n",
    "                           scoring='neg_mean_squared_error',\n",
    "                           n_jobs=-1)\n",
    "\n",
    "lgbm_grid_search.fit(X_train, y_train)\n",
    "print(lgbm_grid_search.best_params_)\n",
    "print(lgbm_grid_search.best_estimator_)"
   ]
  },
  {
   "cell_type": "code",
   "execution_count": 21,
   "metadata": {},
   "outputs": [
    {
     "data": {
      "text/plain": "LGBMRegressor(boosting_type='gbdt', class_weight=None, colsample_bylevel=0.5,\n              colsample_bytree=0.7, importance_type='split', learning_rate=0.1,\n              max_depth=3, min_child_samples=20, min_child_weight=0.001,\n              min_split_gain=0.0, n_estimators=1500, n_jobs=-1, num_leaves=31,\n              objective=None, random_state=None, reg_alpha=0.0, reg_lambda=0.0,\n              silent=True, subsample=1.0, subsample_for_bin=200000,\n              subsample_freq=0)"
     },
     "execution_count": 21,
     "metadata": {},
     "output_type": "execute_result"
    }
   ],
   "source": [
    "lgbmr = LGBMRegressor(colsample_bylevel= 0.5, colsample_bytree= 0.7, max_depth= 3, n_estimators= 1500)\n",
    "lgbmr.fit(X_train, y_train)"
   ]
  },
  {
   "cell_type": "code",
   "execution_count": 28,
   "metadata": {},
   "outputs": [],
   "source": [
    "xgbrPred = xgbr.predict(test)"
   ]
  },
  {
   "cell_type": "code",
   "execution_count": 29,
   "metadata": {},
   "outputs": [
    {
     "data": {
      "text/plain": "array([20.87361 , 20.848234, 20.91702 , ..., 26.66345 , 26.54755 ,\n       26.66345 ], dtype=float32)"
     },
     "execution_count": 29,
     "metadata": {},
     "output_type": "execute_result"
    }
   ],
   "source": [
    "xgbrPred"
   ]
  },
  {
   "cell_type": "code",
   "execution_count": 22,
   "metadata": {},
   "outputs": [],
   "source": [
    "lgbmrPred = lgbmr.predict(test)"
   ]
  },
  {
   "cell_type": "code",
   "execution_count": 30,
   "metadata": {},
   "outputs": [
    {
     "data": {
      "text/plain": "array([20.56786152, 20.63438558, 20.44054575, ..., 26.56063923,\n       26.23965685, 26.41305126])"
     },
     "execution_count": 30,
     "metadata": {},
     "output_type": "execute_result"
    }
   ],
   "source": [
    "lgbmrPred"
   ]
  },
  {
   "cell_type": "code",
   "execution_count": 31,
   "metadata": {},
   "outputs": [],
   "source": [
    "sumPred = (xgbrPred + lgbmrPred) * 0.5"
   ]
  },
  {
   "cell_type": "code",
   "execution_count": 32,
   "metadata": {},
   "outputs": [
    {
     "data": {
      "text/plain": "array([20.72073553, 20.74130988, 20.67878328, ..., 26.61204474,\n       26.39360353, 26.53825075])"
     },
     "execution_count": 32,
     "metadata": {},
     "output_type": "execute_result"
    }
   ],
   "source": [
    "sumPred"
   ]
  },
  {
   "cell_type": "code",
   "execution_count": 33,
   "metadata": {},
   "outputs": [],
   "source": [
    "outputDf = pd.DataFrame()\n",
    "outputDf['id'] = test.index\n",
    "outputDf['Y18'] = sumPred"
   ]
  },
  {
   "cell_type": "code",
   "execution_count": 34,
   "metadata": {},
   "outputs": [],
   "source": [
    "outputDf.to_csv('submission.csv', index=False)"
   ]
  },
  {
   "cell_type": "code",
   "execution_count": null,
   "metadata": {},
   "outputs": [],
   "source": []
  }
 ]
}