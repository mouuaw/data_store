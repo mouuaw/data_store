{
 "nbformat": 4,
 "nbformat_minor": 2,
 "metadata": {
  "language_info": {
   "name": "python",
   "codemirror_mode": {
    "name": "ipython",
    "version": 3
   },
   "version": "3.7.3-final"
  },
  "orig_nbformat": 2,
  "file_extension": ".py",
  "mimetype": "text/x-python",
  "name": "python",
  "npconvert_exporter": "python",
  "pygments_lexer": "ipython3",
  "version": 3,
  "kernelspec": {
   "name": "python37364bitbaseconda3e8d1efd23e942ffb39a1c2f774bdc3f",
   "display_name": "Python 3.7.3 64-bit ('base': conda)"
  }
 },
 "cells": [
  {
   "cell_type": "code",
   "execution_count": 1,
   "metadata": {},
   "outputs": [],
   "source": [
    "import numpy as np\n",
    "import pandas as pd\n",
    "import math\n",
    "\n",
    "import seaborn as sns\n",
    "from sklearn.model_selection import train_test_split\n",
    "from matplotlib import pyplot as plt\n",
    "from scipy.stats import chi2_contingency\n",
    "from sklearn.preprocessing import StandardScaler\n",
    "\n",
    "import warnings\n",
    "warnings.filterwarnings('ignore')\n",
    "\n",
    "%matplotlib inline"
   ]
  },
  {
   "cell_type": "code",
   "execution_count": 2,
   "metadata": {},
   "outputs": [],
   "source": [
    "train = pd.read_csv('../data/train.csv', index_col='id')\n",
    "test = pd.read_csv('../data/test.csv', index_col='id')\n",
    "submission = pd.read_csv('../data/sample_submission.csv', index_col='id')"
   ]
  },
  {
   "cell_type": "code",
   "execution_count": 3,
   "metadata": {},
   "outputs": [],
   "source": [
    "train_upper = train[train['Y18'].isnull()]\n",
    "train_upper = train_upper.drop(['X04', 'X14', 'X16', 'X19', 'X36', 'Y18'], axis=1)"
   ]
  },
  {
   "cell_type": "code",
   "execution_count": 4,
   "metadata": {},
   "outputs": [],
   "source": [
    "from xgboost import XGBRegressor\n",
    "from lightgbm import LGBMRegressor\n",
    "from sklearn.linear_model import Lasso\n",
    "\n",
    "xgbr = XGBRegressor(base_score=0.5, booster='gbtree', colsample_bylevel=1,\n",
    "             colsample_bynode=1, colsample_bytree=0.7, gamma=0,\n",
    "             importance_type='gain', learning_rate=0.1, max_delta_step=0,\n",
    "             max_depth=3, min_child_weight=1, missing=None, n_estimators=1500,\n",
    "             n_jobs=1, nthread=None, objective='reg:linear', random_state=0,\n",
    "             reg_alpha=0, reg_lambda=1, scale_pos_weight=1, seed=None,\n",
    "             silent=None, subsample=1, verbosity=1)\n",
    "\n",
    "lgbmr = LGBMRegressor(colsample_bylevel= 0.5, colsample_bytree= 0.7, max_depth= 3, n_estimators= 1500)\n",
    "\n",
    "lasso_reg = Lasso(alpha= 0.001)"
   ]
  },
  {
   "cell_type": "code",
   "execution_count": 5,
   "metadata": {},
   "outputs": [],
   "source": [
    "columnList = train_upper.columns\n",
    "target_var_list = ['Y00', 'Y01', 'Y02', 'Y03', 'Y04', 'Y05', 'Y06', 'Y07', 'Y08', 'Y09', 'Y10', 'Y11', 'Y12', 'Y13', 'Y14', 'Y15', 'Y16', 'Y17']\n",
    "\n",
    "input_var = list(filter(lambda x: target_var_list.count(x) == 0, columnList))"
   ]
  },
  {
   "cell_type": "code",
   "execution_count": 6,
   "metadata": {},
   "outputs": [],
   "source": [
    "X_features = train_upper[input_var]\n",
    "X_target = train_upper['Y00']"
   ]
  },
  {
   "cell_type": "code",
   "execution_count": 7,
   "metadata": {},
   "outputs": [],
   "source": [
    "from sklearn.metrics import mean_squared_error\n",
    "\n",
    "def model_auto(model, features, target, test):\n",
    "    model.fit(features, target)\n",
    "    pred = model.predict(test)\n",
    "    \n",
    "    return pred\n",
    "\n",
    "def model_list_auto(models, features, target, test):\n",
    "    print(\"model_list_auto working\")\n",
    "    predList = []\n",
    "    testPredList = []\n",
    "    for model in models:\n",
    "        model.fit(features, target)\n",
    "        pred = model.predict(features)\n",
    "        testPred = model.predict(test)\n",
    "        predList.append(pred)\n",
    "        testPredList.append(testPred)\n",
    "\n",
    "    transposed = np.array(predList).T.tolist()\n",
    "    testTransposed = np.array(testPredList).T.tolist()\n",
    "    df = pd.DataFrame(transposed) \n",
    "    testDf = pd.DataFrame(testTransposed) \n",
    "\n",
    "    return df, testDf\n",
    "\n",
    "def stack_model_pred(model, new_features, target, test):\n",
    "    model.fit(new_features, target)\n",
    "    testPred = model.predict(new_features)\n",
    "\n",
    "    mse = mean_squared_error(target, testPred)\n",
    "    rmse = np.sqrt(mse)\n",
    "\n",
    "    print('스태킹 회귀 모델 최종 MSE :: ',mse)\n",
    "    print('스태킹 회귀 모델 최종 RMSE :: ',rmse)\n",
    "\n",
    "    pred = model.predict(test)\n",
    "    \n",
    "    return model, pred\n",
    ""
   ]
  },
  {
   "cell_type": "code",
   "execution_count": 8,
   "metadata": {},
   "outputs": [
    {
     "output_type": "stream",
     "name": "stdout",
     "text": "Y00\nmodel_list_auto working\n[14:55:50] WARNING: C:/Jenkins/workspace/xgboost-win64_release_0.90/src/objective/regression_obj.cu:152: reg:linear is now deprecated in favor of reg:squarederror.\n스태킹 회귀 모델 최종 MSE ::  0.00706108807218099\n스태킹 회귀 모델 최종 RMSE ::  0.08403028068607762\npred ::  [22.00443911 21.97700646 22.02244313 ... 26.76287981 26.70915937\n 26.68748062]\nY01\nmodel_list_auto working\n[14:56:07] WARNING: C:/Jenkins/workspace/xgboost-win64_release_0.90/src/objective/regression_obj.cu:152: reg:linear is now deprecated in favor of reg:squarederror.\n스태킹 회귀 모델 최종 MSE ::  0.0323480521479486\n스태킹 회귀 모델 최종 RMSE ::  0.17985564252463307\npred ::  [21.00159679 20.94890849 20.59378287 ... 29.91451393 29.47359784\n 29.53539374]\nY02\nmodel_list_auto working\n[14:56:23] WARNING: C:/Jenkins/workspace/xgboost-win64_release_0.90/src/objective/regression_obj.cu:152: reg:linear is now deprecated in favor of reg:squarederror.\n스태킹 회귀 모델 최종 MSE ::  0.030797651626318267\n스태킹 회귀 모델 최종 RMSE ::  0.175492597069843\npred ::  [21.00944098 21.11095363 21.01047573 ... 29.64048289 29.59694748\n 29.62760473]\nY03\nmodel_list_auto working\n[14:56:40] WARNING: C:/Jenkins/workspace/xgboost-win64_release_0.90/src/objective/regression_obj.cu:152: reg:linear is now deprecated in favor of reg:squarederror.\n스태킹 회귀 모델 최종 MSE ::  0.01157121600628213\n스태킹 회귀 모델 최종 RMSE ::  0.10756958680910757\npred ::  [24.47054264 24.48290912 24.4926577  ... 28.51954787 28.77436748\n 28.65263328]\nY04\nmodel_list_auto working\n[14:56:56] WARNING: C:/Jenkins/workspace/xgboost-win64_release_0.90/src/objective/regression_obj.cu:152: reg:linear is now deprecated in favor of reg:squarederror.\n스태킹 회귀 모델 최종 MSE ::  0.012751248141837035\n스태킹 회귀 모델 최종 RMSE ::  0.11292142463605848\npred ::  [24.47551425 24.63788826 24.46165656 ... 28.59583784 28.69620366\n 28.68406602]\nY05\nmodel_list_auto working\n[14:57:12] WARNING: C:/Jenkins/workspace/xgboost-win64_release_0.90/src/objective/regression_obj.cu:152: reg:linear is now deprecated in favor of reg:squarederror.\n스태킹 회귀 모델 최종 MSE ::  0.08638978148346194\n스태킹 회귀 모델 최종 RMSE ::  0.29392138657039224\npred ::  [20.06323217 20.11602408 19.91577746 ... 29.91381378 28.03050982\n 27.75380423]\nY06\nmodel_list_auto working\n[14:57:27] WARNING: C:/Jenkins/workspace/xgboost-win64_release_0.90/src/objective/regression_obj.cu:152: reg:linear is now deprecated in favor of reg:squarederror.\n스태킹 회귀 모델 최종 MSE ::  0.07122170327286462\n스태킹 회귀 모델 최종 RMSE ::  0.2668739464107814\npred ::  [19.40695583 19.36204131 19.24404068 ... 22.72444851 23.61897584\n 23.97906437]\nY07\nmodel_list_auto working\n[14:57:42] WARNING: C:/Jenkins/workspace/xgboost-win64_release_0.90/src/objective/regression_obj.cu:152: reg:linear is now deprecated in favor of reg:squarederror.\n스태킹 회귀 모델 최종 MSE ::  0.1345467194505063\n스태킹 회귀 모델 최종 RMSE ::  0.36680610607036834\npred ::  [18.89541341 18.88490773 18.78747547 ... 18.7689465  20.1205598\n 20.87364583]\nY08\nmodel_list_auto working\n[14:57:58] WARNING: C:/Jenkins/workspace/xgboost-win64_release_0.90/src/objective/regression_obj.cu:152: reg:linear is now deprecated in favor of reg:squarederror.\n스태킹 회귀 모델 최종 MSE ::  0.12216340240039769\n스태킹 회귀 모델 최종 RMSE ::  0.34951881551698716\npred ::  [19.32560218 19.42825384 19.44488755 ... 32.37012375 29.51519449\n 30.37310231]\nY09\nmodel_list_auto working\n[14:58:13] WARNING: C:/Jenkins/workspace/xgboost-win64_release_0.90/src/objective/regression_obj.cu:152: reg:linear is now deprecated in favor of reg:squarederror.\n스태킹 회귀 모델 최종 MSE ::  0.06710990294928261\n스태킹 회귀 모델 최종 RMSE ::  0.25905579119039707\npred ::  [18.74208077 18.78122866 18.99679758 ... 26.35130851 25.78539714\n 26.14498762]\nY10\nmodel_list_auto working\n[14:58:29] WARNING: C:/Jenkins/workspace/xgboost-win64_release_0.90/src/objective/regression_obj.cu:152: reg:linear is now deprecated in favor of reg:squarederror.\n스태킹 회귀 모델 최종 MSE ::  0.06861459747229517\n스태킹 회귀 모델 최종 RMSE ::  0.26194388229598947\npred ::  [18.58371804 18.7538138  19.07729385 ... 28.8649648  28.77679751\n 29.99935047]\nY11\nmodel_list_auto working\n[14:58:44] WARNING: C:/Jenkins/workspace/xgboost-win64_release_0.90/src/objective/regression_obj.cu:152: reg:linear is now deprecated in favor of reg:squarederror.\n스태킹 회귀 모델 최종 MSE ::  0.08127133363625008\n스태킹 회귀 모델 최종 RMSE ::  0.28508127549218326\npred ::  [18.4460021  18.34806835 18.54724923 ... 29.57649383 30.17568251\n 30.21917624]\nY12\nmodel_list_auto working\n[14:58:59] WARNING: C:/Jenkins/workspace/xgboost-win64_release_0.90/src/objective/regression_obj.cu:152: reg:linear is now deprecated in favor of reg:squarederror.\n스태킹 회귀 모델 최종 MSE ::  0.10880263961558259\n스태킹 회귀 모델 최종 RMSE ::  0.3298524512802392\npred ::  [18.53900826 18.66522013 17.99533935 ... 16.62306324 18.54841041\n 19.01333119]\nY13\nmodel_list_auto working\n[14:59:15] WARNING: C:/Jenkins/workspace/xgboost-win64_release_0.90/src/objective/regression_obj.cu:152: reg:linear is now deprecated in favor of reg:squarederror.\n스태킹 회귀 모델 최종 MSE ::  0.041194022862208836\n스태킹 회귀 모델 최종 RMSE ::  0.20296310714563087\npred ::  [19.46516324 19.55361574 19.52410935 ... 27.98127652 27.01740288\n 28.06609706]\nY14\nmodel_list_auto working\n[14:59:30] WARNING: C:/Jenkins/workspace/xgboost-win64_release_0.90/src/objective/regression_obj.cu:152: reg:linear is now deprecated in favor of reg:squarederror.\n스태킹 회귀 모델 최종 MSE ::  0.04956368355094009\n스태킹 회귀 모델 최종 RMSE ::  0.22262902674840065\npred ::  [19.46117758 19.84635524 19.39339469 ... 27.6398298  26.47967955\n 27.14606531]\nY15\nmodel_list_auto working\n[14:59:46] WARNING: C:/Jenkins/workspace/xgboost-win64_release_0.90/src/objective/regression_obj.cu:152: reg:linear is now deprecated in favor of reg:squarederror.\n스태킹 회귀 모델 최종 MSE ::  0.05020387290126828\n스태킹 회귀 모델 최종 RMSE ::  0.22406220765954324\npred ::  [18.5500335  18.82932695 18.80692071 ... 22.74597056 23.51980381\n 23.4041175 ]\nY16\nmodel_list_auto working\n[15:00:02] WARNING: C:/Jenkins/workspace/xgboost-win64_release_0.90/src/objective/regression_obj.cu:152: reg:linear is now deprecated in favor of reg:squarederror.\n스태킹 회귀 모델 최종 MSE ::  0.07725853144750126\n스태킹 회귀 모델 최종 RMSE ::  0.2779541894764338\npred ::  [18.82275301 19.02768913 18.61309974 ... 24.67268547 24.29986979\n 24.80884687]\nY17\nmodel_list_auto working\n[15:00:18] WARNING: C:/Jenkins/workspace/xgboost-win64_release_0.90/src/objective/regression_obj.cu:152: reg:linear is now deprecated in favor of reg:squarederror.\n스태킹 회귀 모델 최종 MSE ::  0.10678015102042461\n스태킹 회귀 모델 최종 RMSE ::  0.32677232291065383\npred ::  [18.12962199 18.83720709 19.40229283 ... 22.85142483 23.04689759\n 23.84470711]\n"
    }
   ],
   "source": [
    "models = [xgbr, lgbmr, lasso_reg]\n",
    "\n",
    "X_features = train_upper[input_var]\n",
    "\n",
    "X_test = test[input_var]\n",
    "\n",
    "target_var_list = ['Y00', 'Y01', 'Y02', 'Y03', 'Y04', 'Y05', 'Y06', 'Y07', 'Y08', 'Y09', 'Y10', 'Y11', 'Y12', 'Y13', 'Y14', 'Y15', 'Y16', 'Y17']\n",
    "# target_var_list = ['Y00']\n",
    "\n",
    "for target_col in target_var_list:\n",
    "    print(target_col)\n",
    "    X_target = train_upper[target_col]\n",
    "    df, testDf = model_list_auto(models, X_features, X_target, X_test)\n",
    "    new_model, pred = stack_model_pred(lgbmr, df, X_target, testDf)\n",
    "\n",
    "    print(\"pred :: \", pred)\n",
    "    test[target_col] = pred"
   ]
  },
  {
   "cell_type": "code",
   "execution_count": null,
   "metadata": {},
   "outputs": [],
   "source": [
    "trainY18 = train[train['Y18'].notnull()]\n",
    "trainY18 = trainY18.drop(['X04', 'X14', 'X16', 'X19', 'X36', 'Y18'], axis=1)"
   ]
  },
  {
   "cell_type": "code",
   "execution_count": null,
   "metadata": {},
   "outputs": [],
   "source": []
  }
 ]
}