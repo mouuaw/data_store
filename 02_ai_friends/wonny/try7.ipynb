{
 "nbformat": 4,
 "nbformat_minor": 2,
 "metadata": {
  "language_info": {
   "name": "python",
   "codemirror_mode": {
    "name": "ipython",
    "version": 3
   },
   "version": "3.7.3-final"
  },
  "orig_nbformat": 2,
  "file_extension": ".py",
  "mimetype": "text/x-python",
  "name": "python",
  "npconvert_exporter": "python",
  "pygments_lexer": "ipython3",
  "version": 3,
  "kernelspec": {
   "name": "python37364bitbaseconda3e8d1efd23e942ffb39a1c2f774bdc3f",
   "display_name": "Python 3.7.3 64-bit ('base': conda)"
  }
 },
 "cells": [
  {
   "cell_type": "code",
   "execution_count": 1,
   "metadata": {},
   "outputs": [],
   "source": [
    "import numpy as np\n",
    "import pandas as pd\n",
    "import math\n",
    "\n",
    "import seaborn as sns\n",
    "from sklearn.model_selection import train_test_split\n",
    "from matplotlib import pyplot as plt\n",
    "from scipy.stats import chi2_contingency\n",
    "from sklearn.preprocessing import StandardScaler\n",
    "\n",
    "import warnings\n",
    "warnings.filterwarnings('ignore')\n",
    "\n",
    "%matplotlib inline"
   ]
  },
  {
   "cell_type": "code",
   "execution_count": 2,
   "metadata": {},
   "outputs": [],
   "source": [
    "train = pd.read_csv('../data/train.csv', index_col='id')\n",
    "test = pd.read_csv('../data/test.csv', index_col='id')\n",
    "submission = pd.read_csv('../data/sample_submission.csv', index_col='id')"
   ]
  },
  {
   "cell_type": "code",
   "execution_count": 3,
   "metadata": {},
   "outputs": [],
   "source": [
    "train_upper = train[train['Y18'].isnull()]\n",
    "train_upper = train_upper.drop(['X04', 'X14', 'X16', 'X19', 'X36', 'Y18'], axis=1)"
   ]
  },
  {
   "cell_type": "code",
   "execution_count": 4,
   "metadata": {},
   "outputs": [],
   "source": [
    "from xgboost import XGBRegressor\n",
    "from lightgbm import LGBMRegressor\n",
    "from sklearn.linear_model import Lasso\n",
    "\n",
    "xgbr = XGBRegressor(base_score=0.5, booster='gbtree', colsample_bylevel=1,\n",
    "             colsample_bynode=1, colsample_bytree=0.7, gamma=0,\n",
    "             importance_type='gain', learning_rate=0.1, max_delta_step=0,\n",
    "             max_depth=3, min_child_weight=1, missing=None, n_estimators=1500,\n",
    "             n_jobs=1, nthread=None, objective='reg:linear', random_state=0,\n",
    "             reg_alpha=0, reg_lambda=1, scale_pos_weight=1, seed=None,\n",
    "             silent=None, subsample=1, verbosity=1)\n",
    "\n",
    "lgbmr = LGBMRegressor(colsample_bylevel= 0.5, colsample_bytree= 0.7, max_depth= 3, n_estimators= 1500)\n",
    "\n",
    "lasso_reg = Lasso(alpha= 0.001)"
   ]
  },
  {
   "cell_type": "code",
   "execution_count": 5,
   "metadata": {},
   "outputs": [],
   "source": [
    "columnList = train_upper.columns\n",
    "target_var_list = ['Y00', 'Y01', 'Y02', 'Y03', 'Y04', 'Y05', 'Y06', 'Y07', 'Y08', 'Y09', 'Y10', 'Y11', 'Y12', 'Y13', 'Y14', 'Y15', 'Y16', 'Y17']\n",
    "\n",
    "input_var = list(filter(lambda x: target_var_list.count(x) == 0, columnList))"
   ]
  },
  {
   "cell_type": "code",
   "execution_count": 6,
   "metadata": {},
   "outputs": [],
   "source": [
    "X_features = train_upper[input_var]\n",
    "X_target = train_upper['Y00']"
   ]
  },
  {
   "cell_type": "code",
   "execution_count": 33,
   "metadata": {},
   "outputs": [],
   "source": [
    "from sklearn.metrics import mean_squared_error\n",
    "\n",
    "def model_auto(model, features, target, test):\n",
    "    model.fit(features, target)\n",
    "    pred = model.predict(test)\n",
    "    \n",
    "    return pred\n",
    "\n",
    "def model_list_auto(models, features, target, input_test):\n",
    "    print(\"model_list_auto working\")\n",
    "\n",
    "    predList = []\n",
    "    testPredList = []\n",
    "    for model in models:\n",
    "        model.fit(features, target)\n",
    "\n",
    "        pred = model.predict(features)\n",
    "        testPred = model.predict(input_test)\n",
    "\n",
    "        predList.append(pred)\n",
    "        testPredList.append(testPred)\n",
    "\n",
    "    transposed = np.array(predList).T.tolist()\n",
    "    testTransposed = np.array(testPredList).T.tolist()\n",
    "\n",
    "    df = pd.DataFrame(transposed) \n",
    "    testDf = pd.DataFrame(testTransposed) \n",
    "\n",
    "    return df, testDf\n",
    "\n",
    "def stack_model_pred(model, new_features, target, input_test):\n",
    "    model.fit(new_features, target)\n",
    "    testPred = model.predict(new_features)\n",
    "\n",
    "    mse = mean_squared_error(target, testPred)\n",
    "    rmse = np.sqrt(mse)\n",
    "\n",
    "    print('스태킹 회귀 모델 최종 MSE :: ',mse)\n",
    "    print('스태킹 회귀 모델 최종 RMSE :: ',rmse)\n",
    "\n",
    "    pred = model.predict(input_test)\n",
    "    \n",
    "    return model, pred\n",
    ""
   ]
  },
  {
   "cell_type": "code",
   "execution_count": 16,
   "metadata": {},
   "outputs": [
    {
     "output_type": "execute_result",
     "data": {
      "text/plain": "       X00    X01  X02  X03     X05    X06   X07     X08     X09  X10  ...  \\\nid                                                                     ...   \n4320  19.3  987.7  0.9  2.2  1007.7  988.0  20.8  1007.8  1007.4  0.0  ...   \n4321  19.0  987.6  1.9  2.2  1007.7  988.0  20.6  1007.8  1007.4  0.0  ...   \n4322  19.1  987.6  2.0  1.4  1007.8  988.1  20.5  1007.9  1007.4  0.0  ...   \n4323  19.2  987.7  1.8  1.5  1007.9  988.1  20.5  1007.9  1007.5  0.0  ...   \n4324  19.2  987.8  1.4  1.4  1007.9  988.1  20.5  1007.8  1007.6  0.0  ...   \n\n      Y09  Y10  Y11  Y12  Y13  Y14  Y15  Y16  Y17   Y18  \nid                                                       \n4320  NaN  NaN  NaN  NaN  NaN  NaN  NaN  NaN  NaN  20.5  \n4321  NaN  NaN  NaN  NaN  NaN  NaN  NaN  NaN  NaN  20.5  \n4322  NaN  NaN  NaN  NaN  NaN  NaN  NaN  NaN  NaN  20.5  \n4323  NaN  NaN  NaN  NaN  NaN  NaN  NaN  NaN  NaN  20.5  \n4324  NaN  NaN  NaN  NaN  NaN  NaN  NaN  NaN  NaN  20.5  \n\n[5 rows x 54 columns]",
      "text/html": "<div>\n<style scoped>\n    .dataframe tbody tr th:only-of-type {\n        vertical-align: middle;\n    }\n\n    .dataframe tbody tr th {\n        vertical-align: top;\n    }\n\n    .dataframe thead th {\n        text-align: right;\n    }\n</style>\n<table border=\"1\" class=\"dataframe\">\n  <thead>\n    <tr style=\"text-align: right;\">\n      <th></th>\n      <th>X00</th>\n      <th>X01</th>\n      <th>X02</th>\n      <th>X03</th>\n      <th>X05</th>\n      <th>X06</th>\n      <th>X07</th>\n      <th>X08</th>\n      <th>X09</th>\n      <th>X10</th>\n      <th>...</th>\n      <th>Y09</th>\n      <th>Y10</th>\n      <th>Y11</th>\n      <th>Y12</th>\n      <th>Y13</th>\n      <th>Y14</th>\n      <th>Y15</th>\n      <th>Y16</th>\n      <th>Y17</th>\n      <th>Y18</th>\n    </tr>\n    <tr>\n      <th>id</th>\n      <th></th>\n      <th></th>\n      <th></th>\n      <th></th>\n      <th></th>\n      <th></th>\n      <th></th>\n      <th></th>\n      <th></th>\n      <th></th>\n      <th></th>\n      <th></th>\n      <th></th>\n      <th></th>\n      <th></th>\n      <th></th>\n      <th></th>\n      <th></th>\n      <th></th>\n      <th></th>\n      <th></th>\n    </tr>\n  </thead>\n  <tbody>\n    <tr>\n      <th>4320</th>\n      <td>19.3</td>\n      <td>987.7</td>\n      <td>0.9</td>\n      <td>2.2</td>\n      <td>1007.7</td>\n      <td>988.0</td>\n      <td>20.8</td>\n      <td>1007.8</td>\n      <td>1007.4</td>\n      <td>0.0</td>\n      <td>...</td>\n      <td>NaN</td>\n      <td>NaN</td>\n      <td>NaN</td>\n      <td>NaN</td>\n      <td>NaN</td>\n      <td>NaN</td>\n      <td>NaN</td>\n      <td>NaN</td>\n      <td>NaN</td>\n      <td>20.5</td>\n    </tr>\n    <tr>\n      <th>4321</th>\n      <td>19.0</td>\n      <td>987.6</td>\n      <td>1.9</td>\n      <td>2.2</td>\n      <td>1007.7</td>\n      <td>988.0</td>\n      <td>20.6</td>\n      <td>1007.8</td>\n      <td>1007.4</td>\n      <td>0.0</td>\n      <td>...</td>\n      <td>NaN</td>\n      <td>NaN</td>\n      <td>NaN</td>\n      <td>NaN</td>\n      <td>NaN</td>\n      <td>NaN</td>\n      <td>NaN</td>\n      <td>NaN</td>\n      <td>NaN</td>\n      <td>20.5</td>\n    </tr>\n    <tr>\n      <th>4322</th>\n      <td>19.1</td>\n      <td>987.6</td>\n      <td>2.0</td>\n      <td>1.4</td>\n      <td>1007.8</td>\n      <td>988.1</td>\n      <td>20.5</td>\n      <td>1007.9</td>\n      <td>1007.4</td>\n      <td>0.0</td>\n      <td>...</td>\n      <td>NaN</td>\n      <td>NaN</td>\n      <td>NaN</td>\n      <td>NaN</td>\n      <td>NaN</td>\n      <td>NaN</td>\n      <td>NaN</td>\n      <td>NaN</td>\n      <td>NaN</td>\n      <td>20.5</td>\n    </tr>\n    <tr>\n      <th>4323</th>\n      <td>19.2</td>\n      <td>987.7</td>\n      <td>1.8</td>\n      <td>1.5</td>\n      <td>1007.9</td>\n      <td>988.1</td>\n      <td>20.5</td>\n      <td>1007.9</td>\n      <td>1007.5</td>\n      <td>0.0</td>\n      <td>...</td>\n      <td>NaN</td>\n      <td>NaN</td>\n      <td>NaN</td>\n      <td>NaN</td>\n      <td>NaN</td>\n      <td>NaN</td>\n      <td>NaN</td>\n      <td>NaN</td>\n      <td>NaN</td>\n      <td>20.5</td>\n    </tr>\n    <tr>\n      <th>4324</th>\n      <td>19.2</td>\n      <td>987.8</td>\n      <td>1.4</td>\n      <td>1.4</td>\n      <td>1007.9</td>\n      <td>988.1</td>\n      <td>20.5</td>\n      <td>1007.8</td>\n      <td>1007.6</td>\n      <td>0.0</td>\n      <td>...</td>\n      <td>NaN</td>\n      <td>NaN</td>\n      <td>NaN</td>\n      <td>NaN</td>\n      <td>NaN</td>\n      <td>NaN</td>\n      <td>NaN</td>\n      <td>NaN</td>\n      <td>NaN</td>\n      <td>20.5</td>\n    </tr>\n  </tbody>\n</table>\n<p>5 rows × 54 columns</p>\n</div>"
     },
     "metadata": {},
     "execution_count": 16
    }
   ],
   "source": [
    "trainY18 = train[train['Y18'].notnull()]\n",
    "trainY18 = trainY18.drop(['X04', 'X14', 'X16', 'X19', 'X36'], axis=1)\n",
    "trainY18.head()"
   ]
  },
  {
   "cell_type": "code",
   "execution_count": 17,
   "metadata": {},
   "outputs": [
    {
     "output_type": "stream",
     "name": "stdout",
     "text": "Y15\nmodel_list_auto working\n[19:26:14] WARNING: C:/Jenkins/workspace/xgboost-win64_release_0.90/src/objective/regression_obj.cu:152: reg:linear is now deprecated in favor of reg:squarederror.\n스태킹 회귀 모델 최종 MSE ::  0.05020387290126828\n스태킹 회귀 모델 최종 RMSE ::  0.22406220765954324\nmodel_list_auto working\n[19:26:28] WARNING: C:/Jenkins/workspace/xgboost-win64_release_0.90/src/objective/regression_obj.cu:152: reg:linear is now deprecated in favor of reg:squarederror.\n스태킹 회귀 모델 최종 MSE ::  0.05020387290126828\n스태킹 회귀 모델 최종 RMSE ::  0.22406220765954324\nY16\nmodel_list_auto working\n[19:26:40] WARNING: C:/Jenkins/workspace/xgboost-win64_release_0.90/src/objective/regression_obj.cu:152: reg:linear is now deprecated in favor of reg:squarederror.\n스태킹 회귀 모델 최종 MSE ::  0.07725853144750126\n스태킹 회귀 모델 최종 RMSE ::  0.2779541894764338\nmodel_list_auto working\n[19:26:55] WARNING: C:/Jenkins/workspace/xgboost-win64_release_0.90/src/objective/regression_obj.cu:152: reg:linear is now deprecated in favor of reg:squarederror.\n스태킹 회귀 모델 최종 MSE ::  0.07725853144750126\n스태킹 회귀 모델 최종 RMSE ::  0.2779541894764338\n"
    }
   ],
   "source": [
    "models = [xgbr, lgbmr, lasso_reg]\n",
    "\n",
    "X_features = train_upper[input_var]\n",
    "X_test = test[input_var]\n",
    "\n",
    "trainY18_test = trainY18[input_var]\n",
    "\n",
    "# target_var_list = ['Y00', 'Y01', 'Y02', 'Y03', 'Y04', 'Y05', 'Y06', 'Y07', 'Y08', 'Y09', 'Y10', 'Y11', 'Y12', 'Y13', 'Y14', 'Y15', 'Y16', 'Y17']\n",
    "target_var_list = ['Y15', 'Y16']\n",
    "# target_var_list = ['Y00']\n",
    "\n",
    "for target_col in target_var_list:\n",
    "    print(target_col)\n",
    "    X_target = train_upper[target_col]\n",
    "    df, X_test_df = model_list_auto(models, X_features, X_target, X_test)\n",
    "    new_model, pred = stack_model_pred(lgbmr, df, X_target, X_test_df)\n",
    "\n",
    "    df, y18_df = model_list_auto(models, X_features, X_target, trainY18_test)\n",
    "    y18_new_model, y18_pred = stack_model_pred(lgbmr, df, X_target, y18_df)\n",
    "    # y18_pred = new_model.predict(y_18_df)\n",
    "\n",
    "    test[target_col] = pred\n",
    "    trainY18[target_col] = y18_pred"
   ]
  },
  {
   "cell_type": "code",
   "execution_count": 30,
   "metadata": {},
   "outputs": [
    {
     "output_type": "execute_result",
     "data": {
      "text/plain": "       X00    X01  X02  X03  X04     X05    X06   X07     X08     X09  ...  \\\nid                                                                     ...   \n4752  18.7  987.4  1.5  1.3  0.0  1006.8  987.7  21.1  1007.5  1007.2  ...   \n4753  18.8  987.4  1.1  1.2  0.0  1006.7  987.7  21.2  1007.5  1007.2  ...   \n4754  19.0  987.4  1.3  1.2  0.0  1006.6  987.6  21.2  1007.4  1007.2  ...   \n4755  18.7  987.4  2.3  0.8  0.0  1006.6  987.6  21.1  1007.4  1007.2  ...   \n4756  18.4  987.4  1.1  0.7  0.0  1006.7  987.7  20.9  1007.5  1007.2  ...   \n\n         X33  X34    X35  X36   X37   X38  X39        Y00        Y15  \\\nid                                                                     \n4752  1007.6  0.0  194.7  0.0  84.0  59.9  0.0  22.004439  18.550034   \n4753  1007.5  0.0  173.1  0.0  84.0  60.5  0.0  21.977006  18.829327   \n4754  1007.5  0.0  208.6  0.0  85.0  60.8  0.0  22.022443  18.806921   \n4755  1007.4  0.0  185.0  0.0  85.8  61.2  0.0  22.001407  18.412259   \n4756  1007.5  0.0  162.8  0.0  87.3  61.7  0.0  21.584307  18.655690   \n\n            Y16  \nid               \n4752  18.822753  \n4753  19.027689  \n4754  18.613100  \n4755  18.205663  \n4756  18.649193  \n\n[5 rows x 43 columns]",
      "text/html": "<div>\n<style scoped>\n    .dataframe tbody tr th:only-of-type {\n        vertical-align: middle;\n    }\n\n    .dataframe tbody tr th {\n        vertical-align: top;\n    }\n\n    .dataframe thead th {\n        text-align: right;\n    }\n</style>\n<table border=\"1\" class=\"dataframe\">\n  <thead>\n    <tr style=\"text-align: right;\">\n      <th></th>\n      <th>X00</th>\n      <th>X01</th>\n      <th>X02</th>\n      <th>X03</th>\n      <th>X04</th>\n      <th>X05</th>\n      <th>X06</th>\n      <th>X07</th>\n      <th>X08</th>\n      <th>X09</th>\n      <th>...</th>\n      <th>X33</th>\n      <th>X34</th>\n      <th>X35</th>\n      <th>X36</th>\n      <th>X37</th>\n      <th>X38</th>\n      <th>X39</th>\n      <th>Y00</th>\n      <th>Y15</th>\n      <th>Y16</th>\n    </tr>\n    <tr>\n      <th>id</th>\n      <th></th>\n      <th></th>\n      <th></th>\n      <th></th>\n      <th></th>\n      <th></th>\n      <th></th>\n      <th></th>\n      <th></th>\n      <th></th>\n      <th></th>\n      <th></th>\n      <th></th>\n      <th></th>\n      <th></th>\n      <th></th>\n      <th></th>\n      <th></th>\n      <th></th>\n      <th></th>\n      <th></th>\n    </tr>\n  </thead>\n  <tbody>\n    <tr>\n      <th>4752</th>\n      <td>18.7</td>\n      <td>987.4</td>\n      <td>1.5</td>\n      <td>1.3</td>\n      <td>0.0</td>\n      <td>1006.8</td>\n      <td>987.7</td>\n      <td>21.1</td>\n      <td>1007.5</td>\n      <td>1007.2</td>\n      <td>...</td>\n      <td>1007.6</td>\n      <td>0.0</td>\n      <td>194.7</td>\n      <td>0.0</td>\n      <td>84.0</td>\n      <td>59.9</td>\n      <td>0.0</td>\n      <td>22.004439</td>\n      <td>18.550034</td>\n      <td>18.822753</td>\n    </tr>\n    <tr>\n      <th>4753</th>\n      <td>18.8</td>\n      <td>987.4</td>\n      <td>1.1</td>\n      <td>1.2</td>\n      <td>0.0</td>\n      <td>1006.7</td>\n      <td>987.7</td>\n      <td>21.2</td>\n      <td>1007.5</td>\n      <td>1007.2</td>\n      <td>...</td>\n      <td>1007.5</td>\n      <td>0.0</td>\n      <td>173.1</td>\n      <td>0.0</td>\n      <td>84.0</td>\n      <td>60.5</td>\n      <td>0.0</td>\n      <td>21.977006</td>\n      <td>18.829327</td>\n      <td>19.027689</td>\n    </tr>\n    <tr>\n      <th>4754</th>\n      <td>19.0</td>\n      <td>987.4</td>\n      <td>1.3</td>\n      <td>1.2</td>\n      <td>0.0</td>\n      <td>1006.6</td>\n      <td>987.6</td>\n      <td>21.2</td>\n      <td>1007.4</td>\n      <td>1007.2</td>\n      <td>...</td>\n      <td>1007.5</td>\n      <td>0.0</td>\n      <td>208.6</td>\n      <td>0.0</td>\n      <td>85.0</td>\n      <td>60.8</td>\n      <td>0.0</td>\n      <td>22.022443</td>\n      <td>18.806921</td>\n      <td>18.613100</td>\n    </tr>\n    <tr>\n      <th>4755</th>\n      <td>18.7</td>\n      <td>987.4</td>\n      <td>2.3</td>\n      <td>0.8</td>\n      <td>0.0</td>\n      <td>1006.6</td>\n      <td>987.6</td>\n      <td>21.1</td>\n      <td>1007.4</td>\n      <td>1007.2</td>\n      <td>...</td>\n      <td>1007.4</td>\n      <td>0.0</td>\n      <td>185.0</td>\n      <td>0.0</td>\n      <td>85.8</td>\n      <td>61.2</td>\n      <td>0.0</td>\n      <td>22.001407</td>\n      <td>18.412259</td>\n      <td>18.205663</td>\n    </tr>\n    <tr>\n      <th>4756</th>\n      <td>18.4</td>\n      <td>987.4</td>\n      <td>1.1</td>\n      <td>0.7</td>\n      <td>0.0</td>\n      <td>1006.7</td>\n      <td>987.7</td>\n      <td>20.9</td>\n      <td>1007.5</td>\n      <td>1007.2</td>\n      <td>...</td>\n      <td>1007.5</td>\n      <td>0.0</td>\n      <td>162.8</td>\n      <td>0.0</td>\n      <td>87.3</td>\n      <td>61.7</td>\n      <td>0.0</td>\n      <td>21.584307</td>\n      <td>18.655690</td>\n      <td>18.649193</td>\n    </tr>\n  </tbody>\n</table>\n<p>5 rows × 43 columns</p>\n</div>"
     },
     "metadata": {},
     "execution_count": 30
    }
   ],
   "source": [
    "# trainY18.head()\n",
    "test.head()"
   ]
  },
  {
   "cell_type": "code",
   "execution_count": 35,
   "metadata": {},
   "outputs": [
    {
     "output_type": "stream",
     "name": "stdout",
     "text": "Y18\nmodel_list_auto working\n[19:48:30] WARNING: C:/Jenkins/workspace/xgboost-win64_release_0.90/src/objective/regression_obj.cu:152: reg:linear is now deprecated in favor of reg:squarederror.\n스태킹 회귀 모델 최종 MSE ::  0.03332872616376597\n스태킹 회귀 모델 최종 RMSE ::  0.18256156814556007\noutput res ::  [20.17712705 20.37246313 21.19021489 ... 24.44192943 23.4631205\n 23.76295941]\noutput res ::  11520\n"
    }
   ],
   "source": [
    "models = [xgbr, lgbmr, lasso_reg]\n",
    "final_input_var = ['Y15', 'Y16']\n",
    "final_target_var = ['Y18']\n",
    "\n",
    "final_test = test[final_input_var]\n",
    "final_features = trainY18[final_input_var]\n",
    "\n",
    "output = []\n",
    "for target_col in final_target_var:\n",
    "    print(target_col)\n",
    "    final_target = trainY18[target_col]\n",
    "    df, final_test_df = model_list_auto(models, final_features, final_target, final_test)\n",
    "    new_model, pred = stack_model_pred(lgbmr, df, final_target, final_test_df)\n",
    "\n",
    "    output = pred\n",
    "\n",
    "print('output res :: ', output)\n",
    "print('output res :: ', len(output))\n",
    ""
   ]
  },
  {
   "cell_type": "code",
   "execution_count": 36,
   "metadata": {},
   "outputs": [],
   "source": [
    "outputDf = pd.DataFrame()\n",
    "outputDf['id'] = test.index\n",
    "outputDf['Y18'] = output\n",
    "outputDf.to_csv('submission.csv', index=False)"
   ]
  }
 ]
}